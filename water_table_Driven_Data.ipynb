{
 "cells": [
  {
   "cell_type": "code",
   "execution_count": 1,
   "metadata": {
    "id": "Hu9ftMZ_ggoN"
   },
   "outputs": [],
   "source": [
    "import numpy as np\n",
    "import pandas as pd\n",
    "pd.set_option('display.max_columns', 100)  \n",
    "from joblib import dump, load\n",
    "import os\n",
    "import statsmodels.formula.api as smf\n",
    "import statsmodels.api as sm\n",
    "import string  # for data prep\n",
    "\n",
    "\n",
    "# visualizations\n",
    "import seaborn as sns\n",
    "import matplotlib.pyplot as plt\n",
    "%matplotlib inline\n",
    "plt.rcParams['figure.figsize'] = [6, 8]\n",
    "plt.rcParams['figure.dpi'] = 200\n",
    "from sklearn.metrics import plot_confusion_matrix\n",
    "\n",
    "# modeling helper functions\n",
    "from sklearn.model_selection import train_test_split\n",
    "from sklearn.model_selection import RandomizedSearchCV"
   ]
  },
  {
   "cell_type": "markdown",
   "metadata": {
    "id": "fRAMQmB6jIe_"
   },
   "source": [
    "#### Load Data"
   ]
  },
  {
   "cell_type": "code",
   "execution_count": 2,
   "metadata": {
    "colab": {
     "base_uri": "https://localhost:8080/"
    },
    "id": "O5MBE7tDhr29",
    "outputId": "272a5754-7766-4719-cda8-53aa638d4a84"
   },
   "outputs": [],
   "source": [
    "# Please Download Data from Repository\n",
    "raw_train_data_X = pd.read_csv('https://raw.githubusercontent.com/mvenouziou/Capstone_Projects/main/train_values_water_table.csv')\n",
    "raw_train_data_Y = pd.read_csv('https://raw.githubusercontent.com/mvenouziou/Capstone_Projects/main/train_labels_water_table.csv')"
   ]
  },
  {
   "cell_type": "code",
   "execution_count": 3,
   "metadata": {
    "id": "bqjAy1KJipkG"
   },
   "outputs": [
    {
     "data": {
      "text/plain": [
       "\"\\n# if using Google Drive to load dataset:\\n\\nfrom google.colab import drive\\ndrive.mount('/content/drive')\\n\\nwith open('/content/drive/My Drive/Colab Notebooks/datasets/train_values_water_table.csv', 'r') as f:\\n    raw_train_data_X = pd.read_csv(f)\\n\\nwith open('/content/drive/My Drive/Colab Notebooks/datasets/train_labels_water_table.csv', 'r') as f:\\n    raw_train_data_Y = pd.read_csv(f)\\n\""
      ]
     },
     "execution_count": 3,
     "metadata": {},
     "output_type": "execute_result"
    }
   ],
   "source": [
    "\"\"\"\n",
    "# if using Google Drive to load dataset:\n",
    "\n",
    "from google.colab import drive\n",
    "drive.mount('/content/drive')\n",
    "\n",
    "with open('/content/drive/My Drive/Colab Notebooks/datasets/train_values_water_table.csv', 'r') as f:\n",
    "    raw_train_data_X = pd.read_csv(f)\n",
    "\n",
    "with open('/content/drive/My Drive/Colab Notebooks/datasets/train_labels_water_table.csv', 'r') as f:\n",
    "    raw_train_data_Y = pd.read_csv(f)\n",
    "\"\"\""
   ]
  },
  {
   "cell_type": "code",
   "execution_count": 4,
   "metadata": {
    "scrolled": true
   },
   "outputs": [
    {
     "data": {
      "text/html": [
       "<div>\n",
       "<style scoped>\n",
       "    .dataframe tbody tr th:only-of-type {\n",
       "        vertical-align: middle;\n",
       "    }\n",
       "\n",
       "    .dataframe tbody tr th {\n",
       "        vertical-align: top;\n",
       "    }\n",
       "\n",
       "    .dataframe thead th {\n",
       "        text-align: right;\n",
       "    }\n",
       "</style>\n",
       "<table border=\"1\" class=\"dataframe\">\n",
       "  <thead>\n",
       "    <tr style=\"text-align: right;\">\n",
       "      <th></th>\n",
       "      <th>id</th>\n",
       "      <th>amount_tsh</th>\n",
       "      <th>date_recorded</th>\n",
       "      <th>funder</th>\n",
       "      <th>gps_height</th>\n",
       "      <th>installer</th>\n",
       "      <th>longitude</th>\n",
       "      <th>latitude</th>\n",
       "      <th>wpt_name</th>\n",
       "      <th>num_private</th>\n",
       "      <th>basin</th>\n",
       "      <th>subvillage</th>\n",
       "      <th>region</th>\n",
       "      <th>region_code</th>\n",
       "      <th>district_code</th>\n",
       "      <th>lga</th>\n",
       "      <th>ward</th>\n",
       "      <th>population</th>\n",
       "      <th>public_meeting</th>\n",
       "      <th>recorded_by</th>\n",
       "      <th>scheme_management</th>\n",
       "      <th>scheme_name</th>\n",
       "      <th>permit</th>\n",
       "      <th>construction_year</th>\n",
       "      <th>extraction_type</th>\n",
       "      <th>extraction_type_group</th>\n",
       "      <th>extraction_type_class</th>\n",
       "      <th>management</th>\n",
       "      <th>management_group</th>\n",
       "      <th>payment</th>\n",
       "      <th>payment_type</th>\n",
       "      <th>water_quality</th>\n",
       "      <th>quality_group</th>\n",
       "      <th>quantity</th>\n",
       "      <th>quantity_group</th>\n",
       "      <th>source</th>\n",
       "      <th>source_type</th>\n",
       "      <th>source_class</th>\n",
       "      <th>waterpoint_type</th>\n",
       "      <th>waterpoint_type_group</th>\n",
       "    </tr>\n",
       "  </thead>\n",
       "  <tbody>\n",
       "    <tr>\n",
       "      <th>0</th>\n",
       "      <td>69572</td>\n",
       "      <td>6000.0</td>\n",
       "      <td>2011-03-14</td>\n",
       "      <td>Roman</td>\n",
       "      <td>1390</td>\n",
       "      <td>Roman</td>\n",
       "      <td>34.938093</td>\n",
       "      <td>-9.856322</td>\n",
       "      <td>none</td>\n",
       "      <td>0</td>\n",
       "      <td>Lake Nyasa</td>\n",
       "      <td>Mnyusi B</td>\n",
       "      <td>Iringa</td>\n",
       "      <td>11</td>\n",
       "      <td>5</td>\n",
       "      <td>Ludewa</td>\n",
       "      <td>Mundindi</td>\n",
       "      <td>109</td>\n",
       "      <td>True</td>\n",
       "      <td>GeoData Consultants Ltd</td>\n",
       "      <td>VWC</td>\n",
       "      <td>Roman</td>\n",
       "      <td>False</td>\n",
       "      <td>1999</td>\n",
       "      <td>gravity</td>\n",
       "      <td>gravity</td>\n",
       "      <td>gravity</td>\n",
       "      <td>vwc</td>\n",
       "      <td>user-group</td>\n",
       "      <td>pay annually</td>\n",
       "      <td>annually</td>\n",
       "      <td>soft</td>\n",
       "      <td>good</td>\n",
       "      <td>enough</td>\n",
       "      <td>enough</td>\n",
       "      <td>spring</td>\n",
       "      <td>spring</td>\n",
       "      <td>groundwater</td>\n",
       "      <td>communal standpipe</td>\n",
       "      <td>communal standpipe</td>\n",
       "    </tr>\n",
       "  </tbody>\n",
       "</table>\n",
       "</div>"
      ],
      "text/plain": [
       "      id  amount_tsh date_recorded funder  gps_height installer  longitude  \\\n",
       "0  69572      6000.0    2011-03-14  Roman        1390     Roman  34.938093   \n",
       "\n",
       "   latitude wpt_name  num_private       basin subvillage  region  region_code  \\\n",
       "0 -9.856322     none            0  Lake Nyasa   Mnyusi B  Iringa           11   \n",
       "\n",
       "   district_code     lga      ward  population public_meeting  \\\n",
       "0              5  Ludewa  Mundindi         109           True   \n",
       "\n",
       "               recorded_by scheme_management scheme_name permit  \\\n",
       "0  GeoData Consultants Ltd               VWC       Roman  False   \n",
       "\n",
       "   construction_year extraction_type extraction_type_group  \\\n",
       "0               1999         gravity               gravity   \n",
       "\n",
       "  extraction_type_class management management_group       payment  \\\n",
       "0               gravity        vwc       user-group  pay annually   \n",
       "\n",
       "  payment_type water_quality quality_group quantity quantity_group  source  \\\n",
       "0     annually          soft          good   enough         enough  spring   \n",
       "\n",
       "  source_type source_class     waterpoint_type waterpoint_type_group  \n",
       "0      spring  groundwater  communal standpipe    communal standpipe  "
      ]
     },
     "execution_count": 4,
     "metadata": {},
     "output_type": "execute_result"
    }
   ],
   "source": [
    "raw_train_data_X.head(1)"
   ]
  },
  {
   "cell_type": "markdown",
   "metadata": {
    "id": "COedcQYAmhrv"
   },
   "source": [
    "### Define Data Prep Functions"
   ]
  },
  {
   "cell_type": "code",
   "execution_count": 5,
   "metadata": {},
   "outputs": [],
   "source": [
    "def data_shaper(df, test_data=False):\n",
    "    \"\"\"\n",
    "    Data processing step to prepare data features. \n",
    "    Makes updates that are independent of train / test/ valid split.\n",
    "    \"\"\"\n",
    "\n",
    "    dataframe = df.copy()\n",
    "   \n",
    "    # restrict to data from 2011 - 2013\n",
    "    if not test_data:\n",
    "        year_mask = restrict_year(dataframe) \n",
    "        dataframe = dataframe[year_mask]    \n",
    "    \n",
    "    # consolidate 'unknown' and NaN values\n",
    "    dataframe = dataframe.replace(['unknown'], np.nan)\n",
    "    \n",
    "    # Convert target labels to numerical encoding.\n",
    "    # not used with official DrivenData (unlabelled) training set\n",
    "    # functional = 2, needs repair = 1, non functional = 0\n",
    "    try:\n",
    "        dataframe['status_group'] = dataframe['status_group'].replace(\n",
    "            ['functional', 'functional needs repair', 'non functional'],\n",
    "            [2, 1, 0])\n",
    "    except:\n",
    "        pass\n",
    "\n",
    "    # Numerical Features: \n",
    "    # Extract observation year from 'date recorded'\n",
    "    dataframe['date_recorded_year'] = \\\n",
    "        pd.to_datetime(dataframe['date_recorded']).dt.year\n",
    "    \n",
    "    # Prepare numeric features and standardize missing values\n",
    "    for feat in ['amount_tsh', 'construction_year', 'date_recorded_year',\n",
    "                 'gps_height', 'population']:      \n",
    "        dataframe[feat] = pd.to_numeric(dataframe[feat])\n",
    "        dataframe[feat] = dataframe[feat].replace([0, None], np.nan)\n",
    "    dataframe = dataframe.rename(columns={'amount_tsh': 'water_pressure_amount_tsh'})\n",
    "    \n",
    "    # New features: 'pump age' and 'log(1 + pump age)'\n",
    "    # age, (exclude dates where pump construction later than recorded date)\n",
    "    dataframe['age'] = \\\n",
    "        np.where(dataframe['construction_year'] > dataframe['date_recorded_year'], np.nan,\n",
    "        dataframe['date_recorded_year'] - dataframe['construction_year'])\n",
    "    # log age\n",
    "    dataframe['age (log scaled)'] = np.log(1 + dataframe['age'])\n",
    "    \n",
    "    # Convert binary categorical data to numeric\n",
    "    for feat in ['public_meeting', 'permit']:\n",
    "        dataframe[feat] = dataframe[feat].replace([True, False, None],\n",
    "                                                      [1, 0, np.nan])\n",
    "        dataframe[feat] = pd.to_numeric(dataframe[feat])\n",
    "        \n",
    "        # Rename columns for clarity\n",
    "        dataframe = dataframe.rename(columns={feat: feat + ' (y/n)'})\n",
    "    \n",
    "    # Categorical Features:     \n",
    "    \n",
    "    # Specify as categorical type and replace nan with 'Other'\n",
    "    categs = list(dataframe.select_dtypes(exclude='number').columns)\n",
    "\n",
    "    for feat in categs:\n",
    "        dataframe[feat] = dataframe[feat].replace([np.nan, '0', None, 'unknown'], \n",
    "                                                  'other')#.astype('category')\n",
    "    \n",
    "    # Consolidate similar values such as 'comm' and 'community'\n",
    "    for feat in ['funder', 'installer']:\n",
    "        \n",
    "        # identify value names needing to be changed\n",
    "        changes_a = []\n",
    "        changes_b = []\n",
    "        for name in list(dataframe[feat].unique()):\n",
    "            if 'Comm' in str(name):  # all values including 'Comm'\n",
    "                changes_a.append(name)\n",
    "            elif 'gov' in str(name).lower():  # all values including 'gov'\n",
    "                changes_b.append(name)\n",
    "        \n",
    "        # implement name changes\n",
    "        dataframe[feat] = dataframe[feat].replace(changes_a,'Community')\n",
    "        dataframe[feat] = dataframe[feat].replace(changes_b,'Government')\n",
    "       \n",
    "    # rename values for clarity / consolidation\n",
    "    dataframe['payment'] = \\\n",
    "        dataframe['payment'].replace({'never pay': 'None', \n",
    "                                      'pay annually': 'per period', \n",
    "                                      'pay monthly': 'per period',\n",
    "                                      'pay per bucket': 'per use',\n",
    "                                      'pay when scheme fails': 'upon failure'})\n",
    "   \n",
    "    # Drop unneeded or duplicative features\n",
    "    # identify unwanted features\n",
    "    drop_columns = ['id', 'wpt_name', 'num_private', \n",
    "                    'date_recorded', 'date_recorded_year', \n",
    "                    'construction_year', 'longitude', 'latitude',\n",
    "                    'region_code', 'district_code', 'lga', \n",
    "                    'recorded_by', 'scheme_management', 'scheme_name', \n",
    "                    'extraction_type_group', 'extraction_type','management', \n",
    "                    'payment_type', 'quality_group', 'quantity_group', \n",
    "                    'source_type', 'source_class', 'waterpoint_type_group',\n",
    "                    'date_recorded_year', 'date_recorded_month', \n",
    "                    'date_recorded_day']\n",
    "\n",
    "                 # The 'optional' variables:\n",
    "                 # ['age', 'basin', 'gps_height', 'population', 'water_pressure_amount_tsh' \\\n",
    "                 # + 'region', 'management_group', 'funder', 'ward', \n",
    "                 # 'subvillage', 'installer', 'payment']\n",
    "    \n",
    "    # identify features to keep\n",
    "    keep_columns = set(dataframe.columns).difference(set(drop_columns))\n",
    "    \n",
    "    # restrict data to desires features\n",
    "    dataframe = dataframe[list(keep_columns)]                           \n",
    "    \n",
    "    return dataframe"
   ]
  },
  {
   "cell_type": "code",
   "execution_count": 6,
   "metadata": {
    "id": "FjV9SmsHk6xK"
   },
   "outputs": [],
   "source": [
    "def preproc_stage_1(X, y, target, random_state_seed, feature_values=None, \n",
    "                    known_means=None, fill_missing=True, drop_nan=False):\n",
    "    \"\"\"\n",
    "    Prepares data for model\n",
    "    \n",
    "    Parameters:\n",
    "    X: DataFrame of features\n",
    "    y: DataFrame containing target labels\n",
    "    target: string, name of target variable in y\n",
    "    random_state_seed: integer, required for consistent test/train/validation splits. \n",
    "                       Make sure this is consistent across entire program!\n",
    "    feature_values: dictionary, controls how some categorical variables are binned\n",
    "    known_means: DataFrame consisting of feature columns and only one row, \n",
    "                 containing training set means (or other value to be used for filling NaN)\n",
    "    fill_missing: boolean, determines if NaN values are filled\n",
    "    drop_nan: boolean, determines if NaN values are dropped\n",
    "    \"\"\"\n",
    "    \n",
    "    # merge features and target labels\n",
    "    try:\n",
    "        df = pd.concat([X, y[[target]]], axis='columns')\n",
    "    except:\n",
    "        df = X.copy()\n",
    "    \n",
    "    # drop NaN values (optional)\n",
    "    if drop_nan:\n",
    "        df = df.dropna()\n",
    "    \n",
    "    # Run first data prep function. Makes updates \n",
    "    # that are independent of train / test/ valid split\n",
    "    if y is None:\n",
    "        using_test_data = True\n",
    "    else:\n",
    "        using_test_data = False\n",
    "    df = data_shaper(df, using_test_data)\n",
    "\n",
    "    # Next: data prep that requires knowledge of the training set\n",
    "    # Extract training data\n",
    "    training_df, _ = split_data(df, random_state_seed)\n",
    "\n",
    "    # get values for filling missing data\n",
    "    # generate the data if values were not passed in via 'fill_means'\n",
    "    if known_means is None:\n",
    "        fill_means = training_df.mean()  # .median()\n",
    "    else:\n",
    "        fill_means = known_means\n",
    "    \n",
    "    # exclude target values to make sure they remain unaltered\n",
    "    # note: target may not be present (example: official unlabelled test set)\n",
    "    try:  \n",
    "        fill_means.pop(target)  \n",
    "    except:  \n",
    "        pass\n",
    "    \n",
    "    # fill missing data in full dataset using means generated from training data\n",
    "    if fill_missing:\n",
    "        df = fillnans(df, fill_means)\n",
    "    \n",
    "    # collapse categorical variables with too many unique values\n",
    "    # extract categorical features\n",
    "    categ_features_df = training_df.select_dtypes(exclude='number')\n",
    "    \n",
    "    # Set binning criteria if not already passed in via 'feature_values'\n",
    "    if feature_values is None:\n",
    "        # set criteria for how many unique values a feature needs for us to bin it\n",
    "        cutoff = 10\n",
    "        \n",
    "        # create container for holding bin sizes\n",
    "        feature_values = dict()\n",
    "        \n",
    "        for feat in categ_features_df.columns:\n",
    "            values = training_df[feat].value_counts().sort_values()\n",
    "            \n",
    "            # check that feature needs to be binned\n",
    "            if len(values) > cutoff:\n",
    "\n",
    "                # generate info for binning feature\n",
    "                feature_values[feat] = dict()\n",
    "\n",
    "                # define bin limits\n",
    "                arr = values.to_numpy()\n",
    "                cut_1 = np.percentile(arr, 100/6)\n",
    "                cut_2 = np.percentile(arr, 200/6) \n",
    "                cut_3 = np.percentile(arr, 300/6) \n",
    "                cut_4 = np.percentile(arr, 400/6) \n",
    "                cut_5 = np.percentile(arr, 500/6) \n",
    "                               \n",
    "                # save info                                  \n",
    "                feature_values[feat]['cut_1'] = cut_1\n",
    "                feature_values[feat]['cut_2'] = cut_2\n",
    "                feature_values[feat]['cut_3'] = cut_3\n",
    "                feature_values[feat]['cut_4'] = cut_4          \n",
    "                feature_values[feat]['cut_5'] = cut_5   \n",
    "    \n",
    "    # Bin data from full dataset as specified by 'feature_values'\n",
    "    for feat in feature_values.keys():\n",
    "        values = df[feat].value_counts().sort_values()\n",
    "        \n",
    "        # unpack bin limits\n",
    "        cut_1 = feature_values[feat]['cut_1']\n",
    "        cut_2 = feature_values[feat]['cut_2']\n",
    "        cut_3 = feature_values[feat]['cut_3']\n",
    "        cut_4 = feature_values[feat]['cut_4']\n",
    "        cut_5 = feature_values[feat]['cut_5']\n",
    "\n",
    "        # create bins\n",
    "        bin_0 = values[values <= cut_1].index\n",
    "        bin_1 = values[(values > cut_1) & (values <= cut_2)].index\n",
    "        bin_2 = values[(values > cut_2) & (values <= cut_3)].index\n",
    "        bin_3 = values[(values > cut_3) & (values <= cut_4)].index\n",
    "        bin_4 = values[(values > cut_4) & (values <= cut_5)].index\n",
    "        bin_5 = values[values > cut_5].index\n",
    "\n",
    "        # group values into bins by replacing values with bin number\n",
    "        replace_val = 0\n",
    "        for bin in [bin_0, bin_1, bin_2, bin_3, bin_4, bin_5]:\n",
    "            \n",
    "            df[feat] = df[feat].replace(to_replace=list(bin), \n",
    "                                        value=replace_val)\n",
    "            # advance replacement value for next bin \n",
    "            replace_val += 1\n",
    "\n",
    "        # declare as an (ordered) categorical variable\n",
    "        df[feat] = df[feat].astype('category')\n",
    "   \n",
    "    # Next we create one-hot-columns based on training set values\n",
    "    # Make sure target values are not affected! \n",
    "    # Split off target values (and add them back in at end)\n",
    "    try:\n",
    "        target_df = df.pop(target)\n",
    "    except:\n",
    "        pass\n",
    "    \n",
    "    # Propogate previous changes to the training set\n",
    "    training_df, _ = split_data(df, random_state_seed)\n",
    "    \n",
    "    # generate one-hot-columns on training set\n",
    "    training_df_hot = pd.get_dummies(training_df, dummy_na=True)\n",
    "    features = training_df_hot.columns\n",
    "    \n",
    "    # apply one-hot-columns to the full data set\n",
    "    # Match features to training set. (Needed for use in model)\n",
    "    df_hot = pd.get_dummies(df, dummy_na=True)\n",
    "    # add any missing features\n",
    "    for feat in features:\n",
    "        if feat not in df_hot.columns:\n",
    "            df_hot[feat] = 0\n",
    "    # remove any extra features\n",
    "    df_hot = df_hot[features]  \n",
    "     \n",
    "   \n",
    "    # add back in the target labels and convert names for clarity\n",
    "    try:\n",
    "        df = pd.concat([df, target_df], axis='columns') \n",
    "        df_hot = pd.concat([df_hot, target_df], axis='columns')\n",
    "        \n",
    "        df['status_group'] = df['status_group'].replace(\n",
    "            [2, 1, 0], ['functional', 'needs repair', 'non functional'])     \n",
    "        df_hot['status_group'] = df_hot['status_group'].replace(\n",
    "            [2, 1, 0], ['functional', 'needs repair', 'non functional'])\n",
    "        \n",
    "    except:\n",
    "        pass\n",
    "    \n",
    "    # Propogate changes to training sets\n",
    "    training_df_hot, _ = split_data(df_hot, random_state_seed)\n",
    "    training_df, _ = split_data(df, random_state_seed)                     \n",
    "            \n",
    "    return df_hot, feature_values, fill_means, training_df_hot, training_df"
   ]
  },
  {
   "cell_type": "code",
   "execution_count": 7,
   "metadata": {
    "id": "bcaNT_XBi_rW"
   },
   "outputs": [],
   "source": [
    "# Test / Train / Valid Split\n",
    "def split_data(df, random_state_seed=None):\n",
    "    train, valid = train_test_split(df, test_size=0.2, \n",
    "                                    random_state=random_state_seed)\n",
    "        \n",
    "    return train, valid"
   ]
  },
  {
   "cell_type": "code",
   "execution_count": 8,
   "metadata": {
    "id": "fyExhngai__H"
   },
   "outputs": [],
   "source": [
    "# Helper functions \n",
    "def fillnans(df, fill_values):\n",
    "    \"\"\"\n",
    "    Fills NaN with specified values\n",
    "    \"\"\"   \n",
    "    dataset = df.copy()\n",
    "    \n",
    "    for feat in fill_values.index:\n",
    "        filler = fill_values[feat]\n",
    "        dataset[feat] = dataset[feat].fillna(filler)\n",
    "        \n",
    "    return dataset\n",
    "\n",
    "\n",
    "def restrict_year(df, drop_missing_years=False):\n",
    "    \"\"\"\n",
    "    # Restricts dataset by observation year\n",
    "    \"\"\"\n",
    "        \n",
    "    # extract year recorded\n",
    "    temp_df = pd.to_datetime(df['date_recorded']).dt.year\n",
    "    \n",
    "    # restrict year\n",
    "    mask_1 = (temp_df >= 2011)\n",
    "    mask = mask_1\n",
    "    \n",
    "    if drop_missing_years:\n",
    "        mask_2 = (df['construction_year']!= 0)\n",
    "        mask = mask_1 & mask_2\n",
    "        \n",
    "    return mask"
   ]
  },
  {
   "cell_type": "code",
   "execution_count": 9,
   "metadata": {},
   "outputs": [],
   "source": [
    "#### Preprocessing Submission Data\n",
    "def prepare_submission_set(features_values, means, chosen_features, random_state_seed):\n",
    "    data = pd.read_csv('datasets/test_set_water_table.csv')\n",
    "    \n",
    "    # shape features / one-hot-encoding\n",
    "    data_hot, _, _, _, _ = \\\n",
    "        preproc_stage_1(X=data,y=None, target='status_group', random_state_seed=random_state_seed,\n",
    "                        feature_values=features_values, known_means = means,\n",
    "                        fill_missing=True, drop_nan=False)       \n",
    "        \n",
    "    # correct for any missing one-hot-features\n",
    "    current_feat = set(data_hot.columns)\n",
    "    missing_feat = set(chosen_features).difference(current_feat)\n",
    "    \n",
    "    for feat in missing_feat:\n",
    "        data_hot[feat] = 0\n",
    "    data_hot = data_hot[chosen_features]\n",
    "    \n",
    "    return data_hot\n"
   ]
  },
  {
   "cell_type": "code",
   "execution_count": 10,
   "metadata": {},
   "outputs": [],
   "source": [
    "def create_submission(filename, model):\n",
    "    predictions = model.predict(official_test_set_hot)\n",
    "    predictions_df = pd.concat([official_test_set_unprocessed['id'], \n",
    "                                pd.DataFrame({'status_group':predictions})], \n",
    "                               axis = 'columns')\n",
    "    predictions_df['status_group'] = \\\n",
    "        predictions_df['status_group'].replace([2, 1, 0, 'needs repair'], \n",
    "                                               ['functional', 'functional needs repair', \n",
    "                                                'non functional', 'functional needs repair'])\n",
    "\n",
    "    model_dict = dict()\n",
    "    model_dict['model'] = model\n",
    "    model_dict['train_X'] = train_X\n",
    "    model_dict['train_y'] = train_y\n",
    "    model_dict['valid_X'] = train_X\n",
    "    model_dict['valid_y'] = train_y\n",
    "    model_dict['test_X'] = train_X\n",
    "    model_dict['test_y'] = train_y\n",
    "    model_dict['official_test_set_hot'] = official_test_set_hot\n",
    "    model_dict['train_set_not_hot'] = training_df\n",
    "\n",
    "    # save model\n",
    "    name = 'submission_' + filename\n",
    "    dump(model_dict, name + '.joblib') \n",
    "    predictions_df.to_csv(name + '.csv' ,index=False)"
   ]
  },
  {
   "cell_type": "markdown",
   "metadata": {},
   "source": [
    "### Create / Load Dataset"
   ]
  },
  {
   "cell_type": "code",
   "execution_count": 11,
   "metadata": {},
   "outputs": [
    {
     "name": "stdout",
     "output_type": "stream",
     "text": [
      "Stage 1 Completed\n",
      "Stage 2 Completed\n"
     ]
    }
   ],
   "source": [
    "# To create dataset from scratch\n",
    "# \"\"\"\n",
    "\n",
    "# set random seed for consistent test/train splits\n",
    "random_state_seed = np.random.randint(10e6)\n",
    "\n",
    "# load data\n",   
    "raw_train_data_X = \\\n",
    "    pd.read_csv('https://raw.githubusercontent.com/mvenouziou/Capstone_Projects/main/train_values_water_table.csv')\n",
    "raw_train_data_Y = \\\n",
    "    pd.read_csv('https://raw.githubusercontent.com/mvenouziou/Capstone_Projects/main/train_labels_water_table.csv')\n",
    "\n",
    "#### PREPROCESSING STAGE 1\n",
    "# Prepare training dataframe\n",
    "\n",
    "df_hot, feature_values_dict, means_dict, train_df_hot, training_df  = \\\n",
    "     preproc_stage_1(raw_train_data_X, \n",
    "                     raw_train_data_Y, \n",
    "                     target='status_group', \n",
    "                     random_state_seed=random_state_seed,\n",
    "                     feature_values=None,\n",
    "                     known_means=None,\n",
    "                     fill_missing=True,\n",
    "                     drop_nan=True\n",
    "                    )\n",
    "print('Stage 1 Completed')\n",
    "\n",
    "#### PREPROCESSING STAGE 2\n",
    "# Create all datasets\n",
    "train_X, valid_X = split_data(df_hot, random_state_seed)\n",
    "train_y = train_X.pop('status_group')\n",
    "valid_y = valid_X.pop('status_group')\n",
    "\n",
    "print('Stage 2 Completed')\n",
    "\n",
    "# \"\"\""
   ]
  },
  {
   "cell_type": "code",
   "execution_count": 12,
   "metadata": {},
   "outputs": [
    {
     "name": "stdout",
     "output_type": "stream",
     "text": [
      "Stage 3 Completed\n"
     ]
    }
   ],
   "source": [
    "'''\n"
    "#### STAGE 3: Prepare Test Set (official for generating submission)\n",
    "official_test_set_unprocessed = pd.read_csv('datasets/test_set_water_table.csv')\n",
    "official_test_set_hot = \\\n",
    "  prepare_submission_set(feature_values_dict, means_dict, \n",
    "                         train_X.columns, random_state_seed)\n",
    "\n",
    "print('Stage 3 Completed')\n"
    "'''\n"
   ]
  },
  {
   "cell_type": "code",
   "execution_count": 13,
   "metadata": {},
   "outputs": [
    {
     "data": {
      "text/plain": [
       "\"\\nmodel_dict = load('datasets/prepared_data_2.joblib')\\n\\n#model_dict['model'] = model\\ntraining_df = model_dict['train_set_not_hot']\\ntrain_X = model_dict['train_X']\\ntrain_y = model_dict['train_y']\\ntrain_X = model_dict['valid_X']\\ntrain_y = model_dict['valid_y']\\ntrain_X = model_dict['test_X']\\ntrain_y = model_dict['test_y']\\nofficial_test_set_hot = model_dict['official_test_set_hot']\\n\""
      ]
     },
     "execution_count": 13,
     "metadata": {},
     "output_type": "execute_result"
    }
   ],
   "source": [
    "# To load saved variables / model\n",
    "\"\"\"\n",
    "model_dict = load('datasets/prepared_data_2.joblib')\n",
    "\n",
    "#model_dict['model'] = model\n",
    "training_df = model_dict['train_set_not_hot']\n",
    "train_X = model_dict['train_X']\n",
    "train_y = model_dict['train_y']\n",
    "train_X = model_dict['valid_X']\n",
    "train_y = model_dict['valid_y']\n",
    "train_X = model_dict['test_X']\n",
    "train_y = model_dict['test_y']\n",
    "official_test_set_hot = model_dict['official_test_set_hot']\n",
    "\"\"\""
   ]
  },
  {
   "cell_type": "code",
   "execution_count": 14,
   "metadata": {
    "colab": {
     "base_uri": "https://localhost:8080/",
     "height": 687
    },
    "id": "XPYF3bMa5dOk",
    "outputId": "c0267328-21fc-45f7-d731-806d54a39c36",
    "scrolled": false
   },
   "outputs": [
    {
     "data": {
      "text/html": [
       "<div>\n",
       "<style scoped>\n",
       "    .dataframe tbody tr th:only-of-type {\n",
       "        vertical-align: middle;\n",
       "    }\n",
       "\n",
       "    .dataframe tbody tr th {\n",
       "        vertical-align: top;\n",
       "    }\n",
       "\n",
       "    .dataframe thead th {\n",
       "        text-align: right;\n",
       "    }\n",
       "</style>\n",
       "<table border=\"1\" class=\"dataframe\">\n",
       "  <thead>\n",
       "    <tr style=\"text-align: right;\">\n",
       "      <th></th>\n",
       "      <th>permit (y/n)</th>\n",
       "      <th>age (log scaled)</th>\n",
       "      <th>gps_height</th>\n",
       "      <th>public_meeting (y/n)</th>\n",
       "      <th>population</th>\n",
       "      <th>water_pressure_amount_tsh</th>\n",
       "      <th>age</th>\n",
       "    </tr>\n",
       "  </thead>\n",
       "  <tbody>\n",
       "    <tr>\n",
       "      <th>count</th>\n",
       "      <td>22250.000000</td>\n",
       "      <td>22250.000000</td>\n",
       "      <td>22250.000000</td>\n",
       "      <td>22250.000000</td>\n",
       "      <td>22250.000000</td>\n",
       "      <td>22250.000000</td>\n",
       "      <td>22250.000000</td>\n",
       "    </tr>\n",
       "    <tr>\n",
       "      <th>mean</th>\n",
       "      <td>0.786742</td>\n",
       "      <td>2.474689</td>\n",
       "      <td>1130.142521</td>\n",
       "      <td>0.932090</td>\n",
       "      <td>220.742557</td>\n",
       "      <td>1102.947908</td>\n",
       "      <td>16.373929</td>\n",
       "    </tr>\n",
       "    <tr>\n",
       "      <th>std</th>\n",
       "      <td>0.409618</td>\n",
       "      <td>0.850136</td>\n",
       "      <td>517.243561</td>\n",
       "      <td>0.251597</td>\n",
       "      <td>357.232186</td>\n",
       "      <td>3504.687387</td>\n",
       "      <td>11.794036</td>\n",
       "    </tr>\n",
       "    <tr>\n",
       "      <th>min</th>\n",
       "      <td>0.000000</td>\n",
       "      <td>0.000000</td>\n",
       "      <td>-90.000000</td>\n",
       "      <td>0.000000</td>\n",
       "      <td>1.000000</td>\n",
       "      <td>0.200000</td>\n",
       "      <td>0.000000</td>\n",
       "    </tr>\n",
       "    <tr>\n",
       "      <th>25%</th>\n",
       "      <td>1.000000</td>\n",
       "      <td>1.945910</td>\n",
       "      <td>915.000000</td>\n",
       "      <td>1.000000</td>\n",
       "      <td>50.000000</td>\n",
       "      <td>500.000000</td>\n",
       "      <td>6.000000</td>\n",
       "    </tr>\n",
       "    <tr>\n",
       "      <th>50%</th>\n",
       "      <td>1.000000</td>\n",
       "      <td>2.474689</td>\n",
       "      <td>1130.142521</td>\n",
       "      <td>1.000000</td>\n",
       "      <td>200.000000</td>\n",
       "      <td>1102.947908</td>\n",
       "      <td>16.373929</td>\n",
       "    </tr>\n",
       "    <tr>\n",
       "      <th>75%</th>\n",
       "      <td>1.000000</td>\n",
       "      <td>3.178054</td>\n",
       "      <td>1457.000000</td>\n",
       "      <td>1.000000</td>\n",
       "      <td>220.742557</td>\n",
       "      <td>1102.947908</td>\n",
       "      <td>23.000000</td>\n",
       "    </tr>\n",
       "    <tr>\n",
       "      <th>max</th>\n",
       "      <td>1.000000</td>\n",
       "      <td>3.988984</td>\n",
       "      <td>2628.000000</td>\n",
       "      <td>1.000000</td>\n",
       "      <td>11463.000000</td>\n",
       "      <td>250000.000000</td>\n",
       "      <td>53.000000</td>\n",
       "    </tr>\n",
       "  </tbody>\n",
       "</table>\n",
       "</div>"
      ],
      "text/plain": [
       "       permit (y/n)  age (log scaled)    gps_height  public_meeting (y/n)  \\\n",
       "count  22250.000000      22250.000000  22250.000000          22250.000000   \n",
       "mean       0.786742          2.474689   1130.142521              0.932090   \n",
       "std        0.409618          0.850136    517.243561              0.251597   \n",
       "min        0.000000          0.000000    -90.000000              0.000000   \n",
       "25%        1.000000          1.945910    915.000000              1.000000   \n",
       "50%        1.000000          2.474689   1130.142521              1.000000   \n",
       "75%        1.000000          3.178054   1457.000000              1.000000   \n",
       "max        1.000000          3.988984   2628.000000              1.000000   \n",
       "\n",
       "         population  water_pressure_amount_tsh           age  \n",
       "count  22250.000000               22250.000000  22250.000000  \n",
       "mean     220.742557                1102.947908     16.373929  \n",
       "std      357.232186                3504.687387     11.794036  \n",
       "min        1.000000                   0.200000      0.000000  \n",
       "25%       50.000000                 500.000000      6.000000  \n",
       "50%      200.000000                1102.947908     16.373929  \n",
       "75%      220.742557                1102.947908     23.000000  \n",
       "max    11463.000000              250000.000000     53.000000  "
      ]
     },
     "execution_count": 14,
     "metadata": {},
     "output_type": "execute_result"
    }
   ],
   "source": [
    "training_df.describe()"
   ]
  },
  {
   "cell_type": "markdown",
   "metadata": {},
   "source": [
    "#### Prelimenary Analysis via Logistic Regression"
   ]
  },
  {
   "cell_type": "markdown",
   "metadata": {},
   "source": [
    "Examining a logistic regression with quantitative and binary features we may be surprised to find that, while all have low p-values, the features “population”, “water pressure” and “GPS height” have very small coefficients. Perhaps the large number of missing data (filled with mean value) interfere with their influence. \n",
    "\n",
    " “Age” should be one of the most predictive factors involved with pump status, therefore I generated this variable along with its logarithm, log(age + 1), for use in the models. More than 30% of age-related data is missing, however, and much of its predictive power has been diminished. \n"
   ]
  },
  {
   "cell_type": "code",
   "execution_count": 15,
   "metadata": {},
   "outputs": [
    {
     "name": "stdout",
     "output_type": "stream",
     "text": [
      "Quantitative and Binary Variables\n",
      "\n",
      "Optimization terminated successfully.\n",
      "         Current function value: 0.618111\n",
      "         Iterations 6\n"
     ]
    },
    {
     "data": {
      "text/html": [
       "<table class=\"simpletable\">\n",
       "<caption>Logit Regression Results</caption>\n",
       "<tr>\n",
       "  <th>Dep. Variable:</th>     <td>status_group</td>   <th>  No. Observations:  </th>  <td> 22250</td> \n",
       "</tr>\n",
       "<tr>\n",
       "  <th>Model:</th>                 <td>Logit</td>      <th>  Df Residuals:      </th>  <td> 22242</td> \n",
       "</tr>\n",
       "<tr>\n",
       "  <th>Method:</th>                 <td>MLE</td>       <th>  Df Model:          </th>  <td>     7</td> \n",
       "</tr>\n",
       "<tr>\n",
       "  <th>Date:</th>            <td>Tue, 08 Dec 2020</td> <th>  Pseudo R-squ.:     </th>  <td>0.07111</td>\n",
       "</tr>\n",
       "<tr>\n",
       "  <th>Time:</th>                <td>21:52:23</td>     <th>  Log-Likelihood:    </th> <td> -13753.</td>\n",
       "</tr>\n",
       "<tr>\n",
       "  <th>converged:</th>             <td>True</td>       <th>  LL-Null:           </th> <td> -14806.</td>\n",
       "</tr>\n",
       "<tr>\n",
       "  <th>Covariance Type:</th>     <td>nonrobust</td>    <th>  LLR p-value:       </th>  <td> 0.000</td> \n",
       "</tr>\n",
       "</table>\n",
       "<table class=\"simpletable\">\n",
       "<tr>\n",
       "              <td></td>                 <th>coef</th>     <th>std err</th>      <th>z</th>      <th>P>|z|</th>  <th>[0.025</th>    <th>0.975]</th>  \n",
       "</tr>\n",
       "<tr>\n",
       "  <th>Intercept</th>                 <td>    0.1058</td> <td>    0.089</td> <td>    1.194</td> <td> 0.232</td> <td>   -0.068</td> <td>    0.280</td>\n",
       "</tr>\n",
       "<tr>\n",
       "  <th>age</th>                       <td>   -0.0467</td> <td>    0.003</td> <td>  -13.983</td> <td> 0.000</td> <td>   -0.053</td> <td>   -0.040</td>\n",
       "</tr>\n",
       "<tr>\n",
       "  <th>Q(\"age (log scaled)\")</th>     <td>    0.0046</td> <td>    0.047</td> <td>    0.098</td> <td> 0.922</td> <td>   -0.088</td> <td>    0.097</td>\n",
       "</tr>\n",
       "<tr>\n",
       "  <th>population</th>                <td>-9.222e-05</td> <td> 3.97e-05</td> <td>   -2.322</td> <td> 0.020</td> <td>   -0.000</td> <td>-1.44e-05</td>\n",
       "</tr>\n",
       "<tr>\n",
       "  <th>water_pressure_amount_tsh</th> <td> 1.908e-05</td> <td> 7.17e-06</td> <td>    2.659</td> <td> 0.008</td> <td> 5.01e-06</td> <td> 3.31e-05</td>\n",
       "</tr>\n",
       "<tr>\n",
       "  <th>gps_height</th>                <td>    0.0005</td> <td> 2.88e-05</td> <td>   17.145</td> <td> 0.000</td> <td>    0.000</td> <td>    0.001</td>\n",
       "</tr>\n",
       "<tr>\n",
       "  <th>Q(\"permit (y/n)\")</th>         <td>    0.3434</td> <td>    0.035</td> <td>    9.840</td> <td> 0.000</td> <td>    0.275</td> <td>    0.412</td>\n",
       "</tr>\n",
       "<tr>\n",
       "  <th>Q(\"public_meeting (y/n)\")</th> <td>    0.3343</td> <td>    0.057</td> <td>    5.889</td> <td> 0.000</td> <td>    0.223</td> <td>    0.446</td>\n",
       "</tr>\n",
       "</table>"
      ],
      "text/plain": [
       "<class 'statsmodels.iolib.summary.Summary'>\n",
       "\"\"\"\n",
       "                           Logit Regression Results                           \n",
       "==============================================================================\n",
       "Dep. Variable:           status_group   No. Observations:                22250\n",
       "Model:                          Logit   Df Residuals:                    22242\n",
       "Method:                           MLE   Df Model:                            7\n",
       "Date:                Tue, 08 Dec 2020   Pseudo R-squ.:                 0.07111\n",
       "Time:                        21:52:23   Log-Likelihood:                -13753.\n",
       "converged:                       True   LL-Null:                       -14806.\n",
       "Covariance Type:            nonrobust   LLR p-value:                     0.000\n",
       "=============================================================================================\n",
       "                                coef    std err          z      P>|z|      [0.025      0.975]\n",
       "---------------------------------------------------------------------------------------------\n",
       "Intercept                     0.1058      0.089      1.194      0.232      -0.068       0.280\n",
       "age                          -0.0467      0.003    -13.983      0.000      -0.053      -0.040\n",
       "Q(\"age (log scaled)\")         0.0046      0.047      0.098      0.922      -0.088       0.097\n",
       "population                -9.222e-05   3.97e-05     -2.322      0.020      -0.000   -1.44e-05\n",
       "water_pressure_amount_tsh  1.908e-05   7.17e-06      2.659      0.008    5.01e-06    3.31e-05\n",
       "gps_height                    0.0005   2.88e-05     17.145      0.000       0.000       0.001\n",
       "Q(\"permit (y/n)\")             0.3434      0.035      9.840      0.000       0.275       0.412\n",
       "Q(\"public_meeting (y/n)\")     0.3343      0.057      5.889      0.000       0.223       0.446\n",
       "=============================================================================================\n",
       "\"\"\""
      ]
     },
     "execution_count": 15,
     "metadata": {},
     "output_type": "execute_result"
    }
   ],
   "source": [
    "print('Quantitative and Binary Variables\\n')\n",
    "\n",
    "temp_data = training_df.copy()\n",
    "# Represent 'status_group' as quantitative between 0 and 1\n",
    "temp_data['status_group'] = temp_data['status_group'].replace(\n",
    "    ['functional', 'needs repair', 'non functional'],\n",
    "    [1, .5, 0])\n",
    "\n",
    "model = smf.logit('status_group ~ age + Q(\"age (log scaled)\") \\\n",
    "                   + population + water_pressure_amount_tsh + gps_height \\\n",
    "                   + Q(\"permit (y/n)\") + Q(\"public_meeting (y/n)\")', \n",
    "                  data=temp_data)\n",
    "model = model.fit()\n",
    "model.summary()"
   ]
  },
  {
   "cell_type": "markdown",
   "metadata": {},
   "source": [
    "A second logistic regression, now with the categorical variables, shows all of them to be influential. Water Source, water pricing, extraction type, water quantity, water quality, water point type and basin also exhibit large variability in frequency bar graphs. \n",
    "\n",
    "Only two features available to us relate to ongoing maintenance: water pricing and maintenance organization. Because of this special status, both were included as core model features. \n"
   ]
  },
  {
   "cell_type": "code",
   "execution_count": 16,
   "metadata": {},
   "outputs": [
    {
     "name": "stdout",
     "output_type": "stream",
     "text": [
      "Categorical Variables: Management and Pump Age\n",
      "\n",
      "Optimization terminated successfully.\n",
      "         Current function value: 0.597934\n",
      "         Iterations 5\n"
     ]
    },
    {
     "data": {
      "text/html": [
       "<table class=\"simpletable\">\n",
       "<caption>Logit Regression Results</caption>\n",
       "<tr>\n",
       "  <th>Dep. Variable:</th>     <td>status_group</td>   <th>  No. Observations:  </th>  <td> 22250</td> \n",
       "</tr>\n",
       "<tr>\n",
       "  <th>Model:</th>                 <td>Logit</td>      <th>  Df Residuals:      </th>  <td> 22241</td> \n",
       "</tr>\n",
       "<tr>\n",
       "  <th>Method:</th>                 <td>MLE</td>       <th>  Df Model:          </th>  <td>     8</td> \n",
       "</tr>\n",
       "<tr>\n",
       "  <th>Date:</th>            <td>Tue, 08 Dec 2020</td> <th>  Pseudo R-squ.:     </th>  <td>0.1014</td> \n",
       "</tr>\n",
       "<tr>\n",
       "  <th>Time:</th>                <td>21:52:24</td>     <th>  Log-Likelihood:    </th> <td> -13304.</td>\n",
       "</tr>\n",
       "<tr>\n",
       "  <th>converged:</th>             <td>True</td>       <th>  LL-Null:           </th> <td> -14806.</td>\n",
       "</tr>\n",
       "<tr>\n",
       "  <th>Covariance Type:</th>     <td>nonrobust</td>    <th>  LLR p-value:       </th>  <td> 0.000</td> \n",
       "</tr>\n",
       "</table>\n",
       "<table class=\"simpletable\">\n",
       "<tr>\n",
       "                 <td></td>                   <th>coef</th>     <th>std err</th>      <th>z</th>      <th>P>|z|</th>  <th>[0.025</th>    <th>0.975]</th>  \n",
       "</tr>\n",
       "<tr>\n",
       "  <th>Intercept</th>                      <td>    0.9223</td> <td>    0.074</td> <td>   12.472</td> <td> 0.000</td> <td>    0.777</td> <td>    1.067</td>\n",
       "</tr>\n",
       "<tr>\n",
       "  <th>payment[T.other]</th>               <td>   -0.1278</td> <td>    0.054</td> <td>   -2.363</td> <td> 0.018</td> <td>   -0.234</td> <td>   -0.022</td>\n",
       "</tr>\n",
       "<tr>\n",
       "  <th>payment[T.per period]</th>          <td>    1.2375</td> <td>    0.037</td> <td>   33.031</td> <td> 0.000</td> <td>    1.164</td> <td>    1.311</td>\n",
       "</tr>\n",
       "<tr>\n",
       "  <th>payment[T.per use]</th>             <td>    0.8899</td> <td>    0.040</td> <td>   22.164</td> <td> 0.000</td> <td>    0.811</td> <td>    0.969</td>\n",
       "</tr>\n",
       "<tr>\n",
       "  <th>payment[T.upon failure]</th>        <td>    1.1456</td> <td>    0.078</td> <td>   14.649</td> <td> 0.000</td> <td>    0.992</td> <td>    1.299</td>\n",
       "</tr>\n",
       "<tr>\n",
       "  <th>management_group[T.other]</th>      <td>    0.1747</td> <td>    0.150</td> <td>    1.167</td> <td> 0.243</td> <td>   -0.119</td> <td>    0.468</td>\n",
       "</tr>\n",
       "<tr>\n",
       "  <th>management_group[T.parastatal]</th> <td>    0.6217</td> <td>    0.126</td> <td>    4.915</td> <td> 0.000</td> <td>    0.374</td> <td>    0.870</td>\n",
       "</tr>\n",
       "<tr>\n",
       "  <th>management_group[T.user-group]</th> <td>    0.4481</td> <td>    0.057</td> <td>    7.821</td> <td> 0.000</td> <td>    0.336</td> <td>    0.560</td>\n",
       "</tr>\n",
       "<tr>\n",
       "  <th>Q(\"age (log scaled)\")</th>          <td>   -0.5685</td> <td>    0.019</td> <td>  -30.088</td> <td> 0.000</td> <td>   -0.606</td> <td>   -0.531</td>\n",
       "</tr>\n",
       "</table>"
      ],
      "text/plain": [
       "<class 'statsmodels.iolib.summary.Summary'>\n",
       "\"\"\"\n",
       "                           Logit Regression Results                           \n",
       "==============================================================================\n",
       "Dep. Variable:           status_group   No. Observations:                22250\n",
       "Model:                          Logit   Df Residuals:                    22241\n",
       "Method:                           MLE   Df Model:                            8\n",
       "Date:                Tue, 08 Dec 2020   Pseudo R-squ.:                  0.1014\n",
       "Time:                        21:52:24   Log-Likelihood:                -13304.\n",
       "converged:                       True   LL-Null:                       -14806.\n",
       "Covariance Type:            nonrobust   LLR p-value:                     0.000\n",
       "==================================================================================================\n",
       "                                     coef    std err          z      P>|z|      [0.025      0.975]\n",
       "--------------------------------------------------------------------------------------------------\n",
       "Intercept                          0.9223      0.074     12.472      0.000       0.777       1.067\n",
       "payment[T.other]                  -0.1278      0.054     -2.363      0.018      -0.234      -0.022\n",
       "payment[T.per period]              1.2375      0.037     33.031      0.000       1.164       1.311\n",
       "payment[T.per use]                 0.8899      0.040     22.164      0.000       0.811       0.969\n",
       "payment[T.upon failure]            1.1456      0.078     14.649      0.000       0.992       1.299\n",
       "management_group[T.other]          0.1747      0.150      1.167      0.243      -0.119       0.468\n",
       "management_group[T.parastatal]     0.6217      0.126      4.915      0.000       0.374       0.870\n",
       "management_group[T.user-group]     0.4481      0.057      7.821      0.000       0.336       0.560\n",
       "Q(\"age (log scaled)\")             -0.5685      0.019    -30.088      0.000      -0.606      -0.531\n",
       "==================================================================================================\n",
       "\"\"\""
      ]
     },
     "execution_count": 16,
     "metadata": {},
     "output_type": "execute_result"
    }
   ],
   "source": [
    "print('Categorical Variables: Management and Pump Age\\n')\n",
    "\n",
    "# Represent 'status_group' as quantitative\n",
    "# Represent 'status_group' as quantitative between 0 and 1\n",
    "temp_data = training_df.copy()\n",
    "temp_data['status_group'] = temp_data['status_group'].replace(\n",
    "    ['functional', 'needs repair', 'non functional'],\n",
    "    [1, .5, 0])\n",
    "\n",
    "model = smf.logit('status_group ~ payment + management_group + Q(\"age (log scaled)\")', \n",
    "                  data=temp_data)\n",
    "model = model.fit()\n",
    "model.summary()"
   ]
  },
  {
   "cell_type": "markdown",
   "metadata": {},
   "source": [
    "#### Prelimemary Analysis via Charting"
   ]
  },
  {
   "cell_type": "markdown",
   "metadata": {},
   "source": [
    "There are potential confounding factors related to changes in Tanzania’s political environment. Some pumps under consideration were constructed as early as the 1960’s, around the time the nation was formed through emancipation from the British colonial system and the merger of Tanganyika and Zanzibar. \n",
    "\n",
    "Since that time there have been major fluctuations in political structures, international aid and economic challenges (Britannica, 2020) which may have had an effect on maintenance and construction of basic infrastructure such as water supply\n"
   ]
  },
  {
   "cell_type": "code",
   "execution_count": 17,
   "metadata": {
    "scrolled": true
   },
   "outputs": [
    {
     "name": "stdout",
     "output_type": "stream",
     "text": [
      "Count of Missing Age data: 20709\n",
      "\n"
     ]
    },
    {
     "data": {
      "image/png": "iVBORw0KGgoAAAANSUhEUgAAAYsAAAEWCAYAAACXGLsWAAAABHNCSVQICAgIfAhkiAAAAAlwSFlzAAALEgAACxIB0t1+/AAAADh0RVh0U29mdHdhcmUAbWF0cGxvdGxpYiB2ZXJzaW9uMy4xLjIsIGh0dHA6Ly9tYXRwbG90bGliLm9yZy8li6FKAAAgAElEQVR4nO2dCZhU1Zn3u0RFNKIgDcFuEMaBmQHyidIgiZnRoAmokwEmom2M4EQlcXDUiTGR6OcShwxJjDqaoB8uARIj4kLAPYjiMh+CjUFkFZRFpEO3qBGSCQGs+b+dt3iO1beql+rq2n6/5/n3Ofe92zlV1ee9Z7nnxOLxeBkAAEA6Dki3EwAAAGcBAADNgpoFAADgLAAAIHOoWQAAAM4CAAAyh5oFQIESi8Xukv5vFq77Pemetr5uPqJ8Piedk+t0FAI4iyJAP/ZN0nbpsMB2kbSoHe77P9Iuv//PpU9l857NRen4qlTjaauVnpI+n8X7nSJtzeL1L5BeDm3xePyb0k1tfS9d8wfSRS09zz9j+7xNe6Q/B9t3tXU62wLlc4T0YK7TUQjgLIqHA6XLc3DfL+ufzRzECdJQ6docpOETqGD6loLbpB9IPaTe0jRpdI7TZd9R0aLfwen2W/Dfw/3SjxLb5thynT7IDJxF8fBj6dsqkI6M2in730oLpPelddLZbu8rfSg1/Bas+UGqC877pXRFUzdXYfCugqekQUGt47TgOjfYtTzeR4pL/yK9I30gfVMaKq3w9Pw06an6v6U7pN9La6VTU+TzCAXflyYpTY9Kf5D2SI9JV/kxHaXbpG0ui3cMawjSlfY5eK3kX4LrnyGtlnZK70rf9hqd5f3o4En6aM/zw/4ZfqT9lo8Z0n+kqpEo3kt6VKqXdtjnIP2ddtmT+Wf92h/6scnXulja4N/xfEtDsC/un/F6/7x/JsVSfIZR39UEaYv0nnRNEz+HSHReudc+6j2N86Sewf5XpOs9/Eh6UuoS/C4Tn61pn3S177tO2ujfyUrpzOCalueF0u3+u3or6Xdp9/pa8D+yyNNmaZwpHd6avBYjOIvioUayZqdvJ+/wwmyB9Cupu3SuNE32gSpANypuBdnxfvjfS7u8gDL+QXqhqZtbIafgDOm3LUjziVI/6RyvCVghZP/IA6Wzdc2Tk459W+omXS9Zgdo14pqflQ6R5qa5r91nuDRYOk4allQj+rRkTqdCulD6WaLQEvdK39Dndrg7xufMISk8XdoWPElv8+OtNvOwdKQ/badE9+ig4HFps9TH7z9b11qj0J7MF/u1j4w4d4SC/5TsIaCnX2N20mH/6LW/4/y4kenSk4Q14f2NZE76uuD30dLy5i6v6fV1261Jx3xVOs/zcGSitmzNYkGtxfL6vn9Wxjrpc/6d/VCarfTZ76Qs+A3b/8dRkj2EpOuP+b5//5/x/LbKMRYjOIvi4jrp3+wJLqKQ2KR/tJ9Le6XXtP2IdJbvN2dwss6zf5IyL9xs2/6hO0uvp7nnr/1J92W/jjX9NJeblJY/Sb9R3ArcBxSv81rKS4EDM6y2c5vXEh70AmL/E2SAFQjvWT7T3NcKo+/7veoVv1E6P9i/x/fbvZ5UfJcXHIl9A5Tnztr3gX+W6bAC/tfSx9L/NHGsOS2rDVzlNSL7bD7RT9FEnu6z9Ei7FZ/sNRFzOgmmat+H0hbFn3dn2VxutPRL9lt43R1Oi9C526V5fp3fu3MLHwiMu7XvLXfADyen0Wsi9tu9WMes9Os+KNX6Z/wLmez3MyQ4bZ3ss6R9is+UjtF1Gjlc7V8rmfP/s/Q7f4BJTl/JgrMoIvyfx562GqrnAcdIJ3o1vEFeuCScgxXyp/gT2IteQ7F/EtNL9k+Y5rZj7ElXOkb612YUiCHbg7idl7wddpa/G//krJf25Ly/mSVgh9Stif6Bo/38VNfakeRs/hik5Steg9qse7wgWU0mHe80sT/Eamebm3B0zcqTrrHLPwurnSSwAjAqT80hk3MbsCYd6T5vzrLarD0kdGvufbyp8FF3KL8O7BcGzZf22/7rpOsmX7MsKv3edPiQNy9+5DWQ5PSVLDiL4sOaaC5OKiSswHrBC/WErEp/SeAs/t4dhsXtafYkdxZNNkGlwJ4MDw22E46ptVQktbFbU0aiqSdksfQnaUyaa21zB9rUtRqhz+xVabQ351mBNSexK9UpLfhc7HvqncLRNTU99Cfy5E2PR/lTdr5gDzGV0lB9hlZj/ZIU2W+Sgrs8nzcF+eyv4A5potTVm+g2tPC6Yb+ffT+DPH0XtfI6RQnOosjQj9z+UayZ5rLAbLWN/vrHOl86yDU00e6sc9b7k7x19L2o7Y/8Kf8rGTiL5VK136sqaPJqLVY4X+bXG6e4pd2aiD6BN29c5/0MY6RD/ZzTpR/5YQ9I13qHazc/vqFDNx069mDpPOkIa6KSyT4na9oo88/rKNvXjM/FOsm7erNfOHhgqVQrTbXCXjpEOim4fqWlIcV1rT/KBgwM9idwaw5conRuaipf7cjh/mT/oX/uzR45p+Mv96al8Uk1TKshWM3XmhMPsA5tr1m0Nn1WI7POdXuAsFF14OAsihPrpNv/zoX+t3b6U1y1P5n9zjsCG0YAOS9488uWYDvWwg7rEHtZ7FjpA+8TsMIsE5Z4Z/h70hTpLKXVmlkaIfst/o9+rRci9sR+qZRouvgP7/BcIb0hWb/D/lFFTWB9GzbSyxyFFUxfS7R3uxN625tDoprIjF94m/8mb4bZP8bf29S/7IWdfQ82Sirxwthz0irpdzYiKSLPC/0zf8QdzrH+fecTN0vmJHZ47bWRs0/Dud5vtD0YEfUt7zO6y79Py3dfj7eG67wj//c+QMI+S3BiLH4E+Y4KhQsU2GiYrL1UBwDpoWYBAABNgrMAAIAmoRkKAACahJoFAAA0SdFObNatW7d4nz7hy6sAANAUy5YtsxkQykvGWZijqKlp7Qg6AICSHX24OcpOMxQAADQJzgIAAHAWAACQOdQsAAAAZwEAAJlDzQIAAHAWAACQOdQsAAAAZwEAAJlTtG9wAwC0F2eOHVdWWxe5FldZz+5HlT0x96GC/zJwFgAAGVIrR9F/gi3g2Jg3Z15TFJ8vfRYAAICzAACAzKFmAQAAOAsAACiAmkUsFusg/VZ63Le7Sguk9R52CY6dLG2Q1kkjA/sQ6Q3fd7sUy3a6AQCgfZuhLpfWBNtXSwvj8Xg/C33bHMIABdXSQGmUNM0cjZ9zpzRRsnP6+X4AACgGZ6HCvlLBmdI9gXm0NNPjFo4J7LPlRHZLGxXfIA3TNXoq7CzbYimu+KzgHAAAKIKaxW3Sd6SPA1sPlfm1FvGwu9srpHeC47a6rcLjyXYAACh0Z6EawT8qqJNDWNbcUyJsVpNIZY+650SpxlRfX9/M2wIAQC5rFidJ/6SCe5PC2dIIxX+pcLs3LVnhbmFdUGPoFZxvTVjb3F4ZYW+EHNN0qcpUXl7eppkBAChlsuYsVGBPliqlPt5x/ZziX1M4X5rgh1k4z+Nmr5YD6Sj19Y7spd5UtVO24T4KanxwDgAAFOncUFOlOSr3L1S4RRpnRjmFVbLNUXS1tFeaJNs+P+cSaYbUSXrKBQAAxeQsVOgvUrDI4zY146kpjrOZuKZE2GsUDMpmGgEAIDVM9wEAAE2CswAAAJwFAABkDjULAADAWQAAQOZQswAAAJwFAABkDjULAADAWQAAQOZQswAAAJwFAABkDjULAADAWQAAQOZQswAAAJwFAABkDjULAADInbOIxWKHSEul1yVbBe9Gt98gvSstd50RnDNZ2iCtk0YG9iHSG77vdl9eFQAAimClvN3SiHg8vktl+0GKv6wwsRzqrbLfHB6sfQN8re6B0tHSs7L196VV75QmSq9IT0qjJJZWBQAo9JqFCnljl2+aszDF05wyWpqtc3ZLGxXfIA2Tw+ipsLNsi+2Cis+SxmQr3QAA0M59FiroO1hTk6J10gKV9Ut816Wyr5Duk7q4rUJ6Jzh9q9sqPJ5sj7rfRKnGVF9f36Z5AQAoZbLqLKwJSRqsaKXXEgZ5k9KxktlrpZ/44VH9EFaTSGWPut90qcpUXl6ecfoBAKAdR0Op8P5QwSJplOLb3Yl8rO27pWFBjaFXcJo5mG1ur4ywAwBAEYyGKpeO9HgnBadJa70PIsFYaaXH50vV2t9R6qt4P2mpnIrVPnbKNtxHQY2X5mUr3QAA0L6jocwpzLR+C3dKc1TwP67tX0iDvSlpk/QNO1j7bHjtHEVXS3ulST4SyrhEmiF18lFQjIQCACgGZ6GCfoWC4yPs56c5Z4qCKRH2GgXW3wEAADmAN7gBAABnAQAAmUPNAgAAcBYAAJA51CwAAABnAQAAmUPNAgAAcBYAAJA51CwAAABnAQAAmUPNAgAAcBYAAJA51CwAAABnAQAAmUPNAgAAcBYAAJDfy6oeIi2VXpdsFbwb3d5VWiCt97BLcM5kaYO0ThoZ2IdIb/i+2315VQAAKIJmqN3SiHg8fpxCW0Z1lK2jrfBqaaHstsb2Qt82hzBAQbU00I6VpvmSrMad0kTJzunn+wEAoNCdhZyBscs3D3LZutujpZlut3CMx80+W+fsljYqvkEaJodha3l3lm2xXVDxWcE5AABQ6B3cVjOQlitaJy1QWb9EYQ+Ftbbfw+5+eIX0TnD6VrdVeDzZHnW/iVKNqb6+vm0zAwBQwmTVWcgZ7JOsCarSawmD0hwe1Q9hNYlU9qj7TZeqTOXl5S1PMAAA5G7orArvDxUs8r6G7d60ZDWBnl7rSNQYegWnmYPZ5vbKCDsAABTBaKhy6UiPd1JwmrRWmi9N8MMsnOdxs1fr2I5SX+/IXupNVTutc9xHQY0PzgEAgHbgwCxe22oNM31EkzmlOSr4H9f2YosrvFDhFmmcHax9Nrx2jqKrpb3SJGvG8mtdIs2QzOk85QIAgEJ3FiroVyg4PsK+Q8GpKc6ZomBKhL1GQbr+DgAAyCJM9wEAADgLAADIHGoWAACAswAAgMyhZgEAADgLAADIHGoWAACAswAAgMyhZgEAADgLAADIHGoWAACQ04kEAQAgDWeOHVdWW2fT5TWmZ/ejyp6Y+1Cas9sXnAUAQI6olaPoP6HR3KkNvDnzmnZOTXpohgIAAJwFAADk90p5vaTnpTWSLWx0udtvkN6VlrvOCM6ZLG2Q1kkjA/sQ6Q3fd7uvmAcAAEXQZ2Gr3V0Zj8dfU9l+uOLLFC7wfbfKfnN4sPYNUFAtDZSOlp6Vrb+vlnenNFF6RXrS1/JmtTwAgCJYKc/Wzq71uK2hvUbRijSnjJZm69jdCjdaLULhMIWbFHaWfbE7lVkKxkg4CwDIe95++62yE04aEblv4+bNZf3bOT15PRpKBXwfX2J1iXSSdKls4xXWeO3jA3ckVnNIsNVtezyebAcAyHv2xWMpRzytv+7cdk5NHo+GklP4lIJHpCvkFD7yJqVjpcFe8/hJ4tCI0+Np7FH3mijVmOrr6zNOOwAAtIOzUKF9kDuK++UoHjWbwu3WDyF9rM27pWFBjaFXcHqltM3tlRH2Ruia06UqU3l5edtmBgCghDmgmYW+NR01aUvabzWCe6U1KrxvCew9g8PGSis9Pl+q1v6OUl/F+0lLve/D+jyG+zWt+Wpec9INAADt22dxh3RCM2wh5kzOl2zI63K3fU86V9uDvSnJOq+/YTvkFGx47RxFV/tIqkk+Esq4RJohdfKObTq3AQDyxVmo8P6sgs9J5Yp/K9jVWeqQ7lwV9C/bJSJ2PZnmHOsFmhJht47wQenuBwAAuatZHCx9yo+zdyUSWEf1WdlKFAAAFJCz0BP9CwpeUK1ihuKb2ylNAAAlM5trsfVZWKfzdIV9wnPkQKLfNAEAyCGFNJtrsTkLc8N3SfdIiU5nAAAoEZrrLPaqFmEv0wEAQAnS3JfyHlMz1L/aOxJS14SymjIAACi4msUED68KbPaexF+1bXIAAKBgnYWaoOyNagAAKFGa5Sx8htgoJ2LThQMAQJHT3GaooUH8EOlU6TUJZwEAUAI0txnq35JqGkco+EVWUgQAAEUzRfkffVZYAAAoAZrbZ/FYsOCQTSD4d5LNEAsAACVAc/ssbg7iNn34ZjVNhUudAgBAqTdD+YSCa33m2S7Sn7OZKAAAKMxmqLMV/FhaZJvSHbJdJSfycDYTBwClCzPHFmYzlE3TOFTOoc425ChsgetnpZTOQsf08qG1n5ZsvW1bH/u/fJqQB30GW1sp72zZP/BzJiu40CcrvEz2Z9w+JFgpzxZPulz7En0oAFCEMHNsYY6GOiDhKJwdzTjX+jau1HnWGT5cmqRCf4DCq6WFsttoqoW+Xeb7qqWB0ihpmmyJ1fhsEsOJkp3Tz/cDAECeOYunVXA/I11g0vYT6ZZHNeQMaqXXPL5TwRqpQhotzfTDLBzjcbPP1rG7pY2Kb5CG2eSFCjvLtthrE7OCcwAAIA/W4P5rBT1URl+l+D8r/nkzS4ul+5t7E51rTU7HS0v8erVmt1D7uvth5kheCU7b6rY9Hk+2R93Hah+mst69ezc3eQAAkGHN4jZppxfsj0rfkv7daxW2r0lUgNsa3o9IV+jcj9IdGmGzmkQqe2NjPG79IlWm8nLrVgEAgPZwFn1U8K5INspWY/ua4SgOckdxvzkbN2/3piXbb2FdUGOwTvEEldI2t1dG2AEAIE+chU0amAobmZQSOQKrEdwrrZGjuCXYNT9YH8PCeYG9WqfZet99vSN7qTdZ7ZRtuF9zfHAOAADkgbN4VeXzxclG2Wx467Imzj1JOl8aoeOXu87Q9lTpi4qvt9C3rbayyqcQWS09LU2SLbHe9yW+/rd1er8lPdWczAEAQPu8Z3GFNFcF+3mBc6iSDpbGpjtRBf3LKfobynyK86hzpiiYkqLZa1ATaQUAgFw4CxXS2xV8Ts7iC0Fh/YTsz2UpPQAAUMDrWTyvwAQAACVIa9ezAACAEgJnAQAAOAsAAMgcahYAAICzAACAzKFmAQAAOAsAAMgcahYAAICzAACAzKFmAQAAOAsAAGinuaEAAFrLmWPHldXW7Yjc17P7UWVPzH2ID7cAwFkAQFYxR9F/QqOVBxp4c+Y1fPoFAn0WAACQO2cRi8Xuk+qklYHtBundpJXzEvsmSxukddLIwD5EesP33e5LqwIAQJHULGZIoyLst8bj8cGuJ82g8n+AgmppoJ8zTbYOfvyd0kRfk7tfimsCAEAhOgs5ghcVvN/Mw0dLs3XObmmjr7U9TA6jp8LOsi2W4orPksZkJ8UAAJBPfRaXygms8GaqLm6rkN4JjtnqtgqPJ9sj0fUmSjWm+vr6tk43AEDJ0t6joaxJ6SbJagkW/kT6uhTVD2HHpLJHosrHdAWmsqqqqpTHAQC05RDgjZs3l/Uv8o+0XZ2FCvPtibie/u9W8HhQY+gVHFopbXN7ZYQdACBvhgCvv+7cov822rUZyvsgEoyVEiOl5kvV2t9R6usd2UvlXGoV7pRtuI+CGi/Na880AwBAFmsWKtsfUHCK1E1xqyFcb9uKD1ZoTUSbpG/YsXIKq2Sfo+hqaa80SbZ9fqlLfGRVJ+kpFwAAFIOzUGEfVS+7N83xVr+bEmGvUTCoDZMGAAAthDe4AQAAZwEAAJlDzQIAAHAWAACQOdQsAAAAZwEAAJnD4kcAAHnI22+/VXbCSSMi9727dUtZRWXvdl19EGcBAJCH7IvH0k4v0t6rD9JnAQAAOAsAAMgcahYAAICzAACAzKGDGwBKinSjjLI1kqgYwFkAQEmRbpRRtkYSFQP0WQAAQO6cRSwWu0+qk1YGtq7SAmm9h12CfZOlDdI6aWRgHyK94ftu9xXzAACgSGoWtrrdqCTb1dLCeDxuy6Yu9G1zCAMUVEsD/ZxpsnXwc+6UJkp2Tr+IawIAQAGvlPeiCvw+SebRvtSqMVNaJH3X7bN1zm6FG60WoXCYQlt6tbPsi+0Ebc9SMEZiadUS4cyx48pq63ZE7qMzEqB4O7h7qOCvtYiFKvy7u71CeiU4bqvb9ng82R6Jrmc1EFNZ797R86ZAYWGOgs7I/KAUHHe6kVIbN28u69/O6ckn8mU0VFQ/RDyNPRI5oOkKTGVVVVUpj4PSphQKvWxQCo67qfmYSpn2dhbb9fTf02sVPbVdF9QYegXHVUrb3F4ZYQdoNaVQ6BWKQ+RJvnBob2cxX5ogTfVwXmD/lRzILQqP9o7spXIq+2TbKQ3X9hJpvHRHO6cZIKPCOVsFdLp7WpPJyOt+mfcOkSf5wiFrzkIF/APemd1NcashXO9OYo62L1S4RRpnx8oprJJtjqKrpb3SJHMUfqlLfGRVJ+/YpnMbCqq2kq0COt09S73JBAprNFSqX+upKY63X/2UCHuNgkFtmDQAAGghvMENAAA4CwAAKJ6hs1DkFMroHACIBmcB7UIpDFcFKGZwFlCUNDWstJTfxM0GvC9R/OAsoCjJxrBSHFBqeF+i+MFZADQT3muAUgZnAQD7ofYEOAuAHFIo6z5Te4JUULOARjDMte1h3WcodHAW0GbDXGnCAChecBbQZtCEAVC8MDcUAADgLAAAIHNohgIoMXjbGloDzgKgxOBtaygYZxGLxTYp2CnZanh74/F4lWxdFX9Q6iPZ/rNl/8CPn6zgQj/+MtmfyUW6iwlGLgFAodQsvqBC/71g+2ppoWxT5Rwsbvqu4gMUVksDfX3uZ2XrHyy7Cq2AkUtQrE1pBpNFFncz1Ghfs9uYKS2Svuv22XIOuxVulKPYoHCYtDgnqQQo0be7C6UpzWAN8uJxFnHpNyr4Lfx/cgTTFfZQWNuwU6H2dfdjK6RXgnO3uq0ROmeiAlNZ7969s5V2gDaFt7uhEMiVszhJDmGbO4QFCtemOTYWYTMn09j4F6djKquqqoo8BiAdjBQCyCNnYY7Cwzo5irnerLRd8Z5eq+ip7bqgJtErOL1SajgfoK1hpBBAnrzBLUdwmHR4Iq7gS9JKab40wQ+zcJ7HzV6tYztKfRXvJy1t31QDAJQ2uahZ9JDmquBP3P9Xqk08re1XFZ+j0IbIbpHG2QHat0q2OYqulvZKkxgJBQBQ5M5CBf3bCo6LsNuCyaemOMeGPaQe+gAAAFmFiQQBAABnAQAAmUPNAgAACuoNbgBIgvc+IF/AWQDkMbz3AfkCzVAAAICzAACAzKFmAQAAOAsAAMgcOrihYEf8MFIIoP3AWUCLyEYB3doRP4wUAmg/cBbQIiigAUoTOrgBAKBJqFlEcObYcWW1dTYJbmNYExkAShGcRQTmKFK1ob8585qsfiHJ4LgAIB/AWeR5wZ7OcT19fXXKzmZqQABQks4iFouNUvBfUgfpnng8PjXHScp5jSRdZ3M6R5LJyCUAKE0OLBBHYQ7iZ9IXpa3Sq7LNl8OwpVYL/p2Ad7duKauo7N3ia7bWkTQ1JBUAoCCdhRgmbfAlWc15zFYwWmp3Z5GtdwJac00AgPYipgK4ve7VauQczlIwSmm9yLfPV3Citi9NOm6iApPxN9K6Vt6ym/ReK88tFEohj0Yp5LMU8miUQj675UEej1HZWl6oNYtYhK2Rl1MGpyuYnvHNYrEaXasq0+vkM6WQR6MU8lkKeTRKIZ+xPM5jobyUZ/0UvYLtSmlbjtICAFByFIqzeFXqJ6/bVzpY8Wppfo7TBABQMhREM5SqZXvlJKx/4hnJRkbdJ9uqLN4y46asAqAU8miUQj5LIY9GKeRzeq4TUNAd3AAAkFsKpRkKAAByCM4CAABwFob6O+6T6qSViU9E8eOkxdIb0mNS52Df//F9q3z/IW4f4tsbpNulqCG9BZFPhedJywN9LA3O93y2MI8HSTPdvkaaHJyTt3lsRT4Pln7u9telUwohn0pKL+l5/27sf+1yt3eVFkjrPewSnDPZ87JOGpnv+Yy1MI8Kj/Ljd0k/TbpWbvNofRbFLvEP0gnSysBmI6xO9vjXpZs8bp3+K6TjfPsoqYPHl0qfte9Neko6vVDzmXTeZ6S3g+28zWcLv8uvSrM9fqi0SeqT73lsRT4nST/3eHdpmXRAvudT9LQ8evxw6U1pgPQj6Wq3Xy390OO273Wpo9RXeivf/zdbkcfDpM9L35R+mnStnOaxJJqhlNEXFbyfZLY3vM1uLJC+4vEvSSt0zut+7g5pn5y4femdFV8c/8s3N0sak/3UZy2fITanyAMWyfd8tjCPlv7DlCd7AOgk/Vn6KN/z2Ip8WuGz0M+rU/ChVJXv+VSSaqXXPL5TwRqpwqfymemHzQzSPNqd/25po+IbpGH5nM94C/OoY/4gvazon8Lr5EMeS8JZpMCq9//k8XHBS382b19cX84z0mvSd9xe4S8HJtjqtkLNZ8g5CWdRoPlMlceHpT9ItdIW6Wb9n71foHlMl097sBltTlGyJ+4hvq9g8ql091FwvLRE6mGFrNk9tNpSmaf9nYj8FEQ+Y83LYypynsdSdhZWjZ+kL3CZVw/tqdM40KuB53k4Vsec2twpRwoonw3IfqKCP+oHm2gbL8R8psqjTUC5TzpaskL0Sh3zVwWax3T5vM8LjxrpNun/S3sLJZ/Kz6cUPCJdod/hR+kOTZGfvM9nrPl5THmJXOexIF7Kywb6wtZ6k5N9kVabONN32T/dC9r/nu970tuOf+nTjBTUlCNp8pmgOqhVJPJfUPlMk0frs3ha+/cotM7i/1Zo8+68VGh5TJdP2c0x/HviOO0zZ7Fe+iDf86m0HuSF6P3Kx6Nu3i57T3vitlDb1rSWbtqfvP7NxlqWx1TkPI8lW7PQF9RQ7VNon8G10l2+y94St9FQh0rmTE+WVntVcadswyXz8uOleTlIelvlM2Gz5gyb8r2BQsxnmjxa09MIy4ewjsPh0tpCzGO6fPpv9TCP25ove5XHvP/NepruldYorbcEu2wqnwkenxCk2ezVOq2jZDXFftLSfM5nTLQwj5HkRR6tr6TY5U/O9mHvcQ99oXS5j0wwTU28ze7Hf02y6USsaeZHgb3KbTYK46fhOQWaTxti+UrEdfI2ny3Jo7Cq/0P+XdraJ1cVQh5bkc8+Ph2/dZ4+61NM530+vZk37qMPl7vO8BGIC712ZGHX4JxrPC/rwtFA+ZrPVubRRu1Z39ou/wkKClwAAAPASURBVO4H5EMeme4DAACapGSboQAAoPngLAAAAGcBAACZQ80CAABwFgAAkDnULKAo0NDzT0uzpbek1dKT/uJaW11/jDSgDa93gXR0sH1PptfX+QOlN6VOge0JyV68BMgInAUUPP6S0lxpkcaDHytZofs9qUcb3sYmbYsszHX71syEcIG031kozRdJ9i5Iq9H59j7Jo/4uQoODU3CQ7PtfumwNrcwfFBk4CygGviDtUaG4/+10xZdLL5kjET+WVvpaAOd4AXiKtEh6WFor3e9Ox/ZN9drJCulm6XM+gd+Pfe2PY/3cH0gvyH65whnSWYn7K24vVCXi3wnWmpjqx9kLVvf79Tr59ar8+HP9eEvzD8NrSlP8Oq9IUc7w+9I4X5tkqk9f3jA3kadxqfRb6ctut7y85LZlPleY2U+TnrXamjZ/2wbfERQ6uX7DEfEZtMFbspdJt6bY9xWfzruD1MOnAOnpb6//3ufYsYemxf62bVd/OzjxwuqRHs6Qzgquu0iaFmwn79/l4emSzdV0qG93Dc6vSrpeldc2LI3lkj3RPyeN8WPsz5c9bushXJsiz+YIbLK6GwKbHV/t8S7+Fvghvs7HIW7/W2mJx0+zPEi9+R/lf9R+A9QsoNgxB/CAfuz7pO2KW01gqO+zeYW2Sh/7NAx9vJC1tQSsD+GfFf4xzbUfbMb9T/OFiRquozB5jYpkhnpzWr1PEHi/L4RU5rPMPu7xZZ7eRui8x3xNi2mB2SYgvMZqMgqfd0fR2xcSutdqMQpnJzW12doJ5rgAcBZQFKzyNRyiSLf05O4gblOZH+gF9DCfJdTa/J9Oc76tlZHAzmt4+PLmrIOD+7dkKul06bWmtniY3jTHmgP8OOm6VkMZ7LIag9UurvQ1Ij7j+TbnEZU/KHGoWUAxYE01NhPpxQmD4kOlk31luXMU7yCV+1O6LU8ZibXtKzhCBalNTX+F1LAuudjpa0ikYlPgsGwVNJuW2viN9HVd99DE2stNXM8WxjlZx3WzNPsqhlYbypRnvLmuAV3bFuExjpBq3QnZ7Kd5sXY15B84Cyh4vKAbK33Rh85aTeMGn+9/rs/4+bo7le/o8N+luZwV4I9b57YX0ol1IqyJ5irvCD424ry7vZA3R3Ri4qlc93rap6Ou8Sagb/vx1sdxV6KDO8iLzTQ72ZuKLM2vydYWU1HfKB3qHeeJz6fMZy+9yDrMFR6TVNsC2A+zzgIAQJNQswAAAJwFAABkDjULAADAWQAAQOZQswAAAJwFAABkDjULAABokv8FNNoXR7CUg0QAAAAASUVORK5CYII=\n",
      "text/plain": [
       "<Figure size 432x288 with 1 Axes>"
      ]
     },
     "metadata": {
      "needs_background": "light"
     },
     "output_type": "display_data"
    }
   ],
   "source": [
    "sns.histplot(x=\"construction_year\", data=raw_train_data_X[raw_train_data_X['construction_year']>0])\\\n",
    "            .set(title='New Pump Construction in Tanzania',\n",
    "                xlabel='Construction Year')\n",
    "print('Count of Missing Age data:', len(raw_train_data_X[raw_train_data_X['construction_year']==0]))\n",
    "print('')\n"
   ]
  },
  {
   "cell_type": "code",
   "execution_count": 18,
   "metadata": {
    "scrolled": false
   },
   "outputs": [
    {
     "data": {
      "text/plain": [
       "[Text(0.5, 0, 'Age'), Text(0.5, 1.0, 'Distribution of Pump Ages')]"
      ]
     },
     "execution_count": 18,
     "metadata": {},
     "output_type": "execute_result"
    },
    {
     "data": {
      "image/png": "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\n",
      "text/plain": [
       "<Figure size 1000x300 with 1 Axes>"
      ]
     },
     "metadata": {},
     "output_type": "display_data"
    }
   ],
   "source": [
    "sns.set_theme(style=\"whitegrid\")\n",
    "plt.rcParams['figure.figsize'] = [10, 3]\n",
    "plt.rcParams['figure.dpi'] = 100\n",
    "\n",
    "sns.boxplot(x=\"age\", data=training_df).set(\n",
    "    title='Distribution of Pump Ages',\n",
    "                xlabel='Age')\n"
   ]
  },
  {
   "cell_type": "markdown",
   "metadata": {},
   "source": [
    "Requiring people to pay for water use appears highly associated with a pump’s operating status, even after controlling for age. Policy makers may consider implementing some payment structure, albeit at a low enough rate so as not to burden the populace."
   ]
  },
  {
   "cell_type": "code",
   "execution_count": 19,
   "metadata": {},
   "outputs": [
    {
     "data": {
      "text/plain": [
       "Text(0.5, 1, 'Requiring Payment is Associated with Better Pump Function Status')"
      ]
     },
     "execution_count": 19,
     "metadata": {},
     "output_type": "execute_result"
    },
    {
     "data": {
      "image/png": "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\n",
      "text/plain": [
       "<Figure size 1650.38x500 with 3 Axes>"
      ]
     },
     "metadata": {},
     "output_type": "display_data"
    }
   ],
   "source": [
    "feat = 'payment'\n",
    "\n",
    "temp_data = training_df.copy()\n",
    "temp_data['age'] = temp_data['age'].astype('int')\n",
    "\n",
    "# bin ages into three groups\n",
    "over_13 = temp_data[temp_data['age'] > 13]['age']\n",
    "between_7_and_13 = temp_data[(temp_data['age'] > 7) & (temp_data['age'] <= 13)]['age']\n",
    "under_7 = temp_data[temp_data['age'] <=7]['age']\n",
    "\n",
    "temp_data['age'] = temp_data['age'].replace(over_13.unique().tolist(), 14)\n",
    "temp_data['age'] = temp_data['age'].replace(between_7_and_13.unique().tolist(), 12)\n",
    "temp_data['age'] = temp_data['age'].replace(under_7.unique().tolist(), 6)\n",
    "\n",
    "# name the groups\n",
    "temp_data['age_class'] = temp_data['age'].replace({14: 'old',\n",
    "                                                   12: 'medium', \n",
    "                                                    6: 'young'})\n",
    "\n",
    "# adjust payment categories\n",
    "temp_data['payment'] = \\\n",
    "    temp_data['payment'].replace(['per period', 'per use', 'upon failure'],\n",
    "                                  'payment required')\n",
    "temp_data = temp_data[temp_data['payment'] != 'other']\n",
    "\n",
    "# create plot\n",
    "sns.catplot(data= temp_data, hue = 'status_group', x = feat, \n",
    "           col='age_class', kind=\"count\", col_wrap=3, log=True)\n",
    "plt.title('Requiring Payment is Associated with Better Pump Function Status')"
   ]
  },
  {
   "cell_type": "markdown",
   "metadata": {},
   "source": [
    "### Predictive Models"
   ]
  },
  {
   "cell_type": "code",
   "execution_count": 20,
   "metadata": {
    "scrolled": true
   },
   "outputs": [
    {
     "name": "stdout",
     "output_type": "stream",
     "text": [
      "Training Score: 0.8607191011235955\n",
      "Validation Score: 0.7959733956498293\n"
     ]
    },
    {
     "data": {
      "text/plain": [
       "<sklearn.metrics._plot.confusion_matrix.ConfusionMatrixDisplay at 0x168ca729608>"
      ]
     },
     "execution_count": 20,
     "metadata": {},
     "output_type": "execute_result"
    },
    {
     "data": {
      "image/png": "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\n",
      "text/plain": [
       "<Figure size 1000x300 with 2 Axes>"
      ]
     },
     "metadata": {},
     "output_type": "display_data"
    }
   ],
   "source": [
    "#\"\"\"\n",
    "# NEURAL NETWORK\n",
    "from sklearn.pipeline import Pipeline\n",
    "from sklearn.neural_network import MLPClassifier\n",
    "from sklearn.preprocessing import StandardScaler\n",
    "from sklearn.model_selection import GridSearchCV\n",
    "\n",
    "# model pipeline\n",
    "mlp = Pipeline([('scale', StandardScaler()),\n",
    "                ('mlp', MLPClassifier(hidden_layer_sizes=(100, 80, 25), \n",
    "                                       max_iter=300,\n",
    "                                       early_stopping=True,\n",
    "                                       alpha=.2))\n",
    "                  ])\n",
    "\"\"\"\n",
    "# optimal paramter search\n",
    "param_grid = dict(mlp__hidden_layer_sizes=[(50,80,50),\n",
    "                                           (200,80,25),\n",
    "                                           (100,80,25),\n",
    "                                           (200),\n",
    "                                           (400)]\n",
    "                 )\n",
    "\n",
    "mlp_grid = GridSearchCV(mlp, param_grid=param_grid, \n",
    "                   cv=3, n_jobs=-1, verbose=2, \n",
    "                   scoring= 'accuracy')\n",
    "# Train Model\n",
    "mlp_grid.fit(train_X, train_y.to_numpy().ravel())\n",
    "\n",
    "print('')\n",
    "print('best_score_:', mlp_grid.best_score_)\n",
    "print('cv_results_:', mlp_grid.cv_results_)\n",
    "print('best_params_:', mlp_grid.best_params_\n",
    "\"\"\"\n",
    "\n",
    "# Train Model\n",
    "mlp.fit(train_X, train_y.to_numpy().ravel())\n",
    "\n",
    "# Training Score\n",
    "train_score = mlp.score(train_X, train_y.to_numpy().ravel())\n",
    "print('Training Score:', train_score)\n",
    "\n",
    "# Validation Score\n",
    "valid_score = mlp.score(valid_X, valid_y.to_numpy().ravel())\n",
    "print('Validation Score:', valid_score)\n",
    "\n",
    "# confusion matrix\n",
    "plot_confusion_matrix(mlp, valid_X, valid_y.to_numpy().ravel(), \n",
    "                      normalize='true', cmap=plt.cm.Blues,)\n",
    "# \"\"\""
   ]
  },
  {
   "cell_type": "code",
   "execution_count": 21,
   "metadata": {},
   "outputs": [
    {
     "name": "stdout",
     "output_type": "stream",
     "text": [
      "Training Score: 0.8450337078651685\n",
      "Validation Score: 0.8058601474024807\n"
     ]
    },
    {
     "data": {
      "text/plain": [
       "<sklearn.metrics._plot.confusion_matrix.ConfusionMatrixDisplay at 0x168d3519608>"
      ]
     },
     "execution_count": 21,
     "metadata": {},
     "output_type": "execute_result"
    },
    {
     "data": {
      "image/png": "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\n",
      "text/plain": [
       "<Figure size 1000x300 with 2 Axes>"
      ]
     },
     "metadata": {},
     "output_type": "display_data"
    }
   ],
   "source": [
    "# Histogram Gradient Boosted Model (scikit-learn experimental)\n",
    "# experimental scikit-learn ML \n",
    "from sklearn.experimental import enable_hist_gradient_boosting\n",
    "from sklearn.ensemble import HistGradientBoostingClassifier\n",
    "\n",
    "\n",
    "\n",
    "hbc = HistGradientBoostingClassifier(max_iter=400,\n",
    "                                     #l2_regularization=.01,\n",
    "                                     min_samples_leaf=250\n",
    "                                    )\n",
    "\n",
    "\"\"\"\n",
    "# note: this model handles NaN values on its own. \n",
    "# Optional - Use this to adds them back in:\n",
    "nan_train_x = train_X.replace('other', np.nan)  # cat variables \n",
    "nan_train_x[nan_train_x == nan_train_x.mean()] = np.nan  # quant variables\n",
    "\n",
    "nan_valid_X = valid_X.replace('other', np.nan)\n",
    "nan_valid_X[nan_valid_X == nan_valid_X.mean()] = np.nan\n",
    "\"\"\"\n",
    "\n",
    "# Train Model\n",
    "hbc.fit(train_X, train_y.to_numpy().ravel())\n",
    "\n",
    "# Training Score\n",
    "train_score = hbc.score(train_X, train_y.to_numpy().ravel())#nan_train_x, train_y.to_numpy().ravel())\n",
    "print('Training Score:', train_score)\n",
    "\n",
    "# Validation Score\n",
    "valid_score = hbc.score(valid_X, valid_y.to_numpy().ravel())#nan_valid_X, valid_y.to_numpy().ravel())\n",
    "print('Validation Score:', valid_score)\n",
    "\n",
    "# confusion matrix\n",
    "plot_confusion_matrix(hbc, valid_X, valid_y.to_numpy().ravel(), normalize='true', cmap=plt.cm.Blues,)\n"
   ]
  },
  {
   "cell_type": "code",
   "execution_count": 22,
   "metadata": {},
   "outputs": [],
   "source": [
    "# create_submission('hbc', hbc)"
   ]
  },
  {
   "cell_type": "code",
   "execution_count": 23,
   "metadata": {},
   "outputs": [
    {
     "name": "stdout",
     "output_type": "stream",
     "text": [
      "Training Score: 0.7638202247191012\n",
      "Validation Score: 0.7539097609203667\n"
     ]
    },
    {
     "data": {
      "text/plain": [
       "<sklearn.metrics._plot.confusion_matrix.ConfusionMatrixDisplay at 0x168d36aaf08>"
      ]
     },
     "execution_count": 23,
     "metadata": {},
     "output_type": "execute_result"
    },
    {
     "data": {
      "image/png": "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\n",
      "text/plain": [
       "<Figure size 1000x300 with 2 Axes>"
      ]
     },
     "metadata": {},
     "output_type": "display_data"
    }
   ],
   "source": [
    "# Standard Decision Tree model (scikit-learn)\n",
    "# Examine Ongoing Maintenance Features Only\n",
    "from sklearn import tree\n",
    "\n",
    "from sklearn.tree import DecisionTreeClassifier\n",
    "dtc = DecisionTreeClassifier(max_depth=None, \n",
    "                             min_samples_leaf=100,\n",
    "                             #splitter='random',\n",
    "                            # class_weight='balanced'\n",
    "                            )\n",
    "\n",
    "# Train Model\n",
    "dtc.fit(train_X, train_y.to_numpy().ravel())\n",
    "\n",
    "\n",
    "# Train Score\n",
    "train_score = dtc.score(train_X, train_y.to_numpy().ravel())\n",
    "print('Training Score:', train_score)\n",
    "\n",
    "# Validation Score\n",
    "valid_score = dtc.score(valid_X, valid_y.to_numpy().ravel())#nan_valid_X, valid_y.to_numpy().ravel())\n",
    "print('Validation Score:', valid_score)\n",
    "\n",
    "# confusion matrix\n",
    "plot_confusion_matrix(dtc, valid_X, valid_y.to_numpy().ravel(), normalize='true', cmap=plt.cm.Blues,)\n"
   ]
  },
  {
   "cell_type": "code",
   "execution_count": 24,
   "metadata": {},
   "outputs": [],
   "source": [
    "# create_submission('dtc', dtc)"
   ]
  },
  {
   "cell_type": "code",
   "execution_count": 25,
   "metadata": {},
   "outputs": [
    {
     "name": "stdout",
     "output_type": "stream",
     "text": [
      "Training Score: 0.7907865168539325\n",
      "Validation Score: 0.7753010965306489\n"
     ]
    },
    {
     "data": {
      "text/plain": [
       "<sklearn.metrics._plot.confusion_matrix.ConfusionMatrixDisplay at 0x168d7295e08>"
      ]
     },
     "execution_count": 25,
     "metadata": {},
     "output_type": "execute_result"
    },
    {
     "data": {
      "image/png": "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\n",
      "text/plain": [
       "<Figure size 1000x300 with 2 Axes>"
      ]
     },
     "metadata": {},
     "output_type": "display_data"
    }
   ],
   "source": [
    "# GradientBoostingClassifier Model\n",
    "from sklearn.ensemble import GradientBoostingClassifier\n",
    "\n",
    "gb = GradientBoostingClassifier(n_estimators=200,\n",
    "                                 #min_samples_split=50,\n",
    "                                 #warm_start=True\n",
    "                                )\n",
    "\n",
    "# Train Model\n",
    "gb.fit(train_X, train_y.to_numpy().ravel())\n",
    "\n",
    "# Training Score\n",
    "train_score = gb.score(train_X, train_y.to_numpy().ravel())\n",
    "print('Training Score:', train_score)\n",
    "\n",
    "# Validation Score\n",
    "valid_score = gb.score(valid_X, valid_y.to_numpy().ravel())\n",
    "print('Validation Score:', valid_score)\n",
    "\n",
    "# confusion matrix\n",
    "plot_confusion_matrix(gb, valid_X, valid_y, normalize='true', cmap=plt.cm.Blues,)"
   ]
  },
  {
   "cell_type": "code",
   "execution_count": 26,
   "metadata": {},
   "outputs": [],
   "source": [
    "# create_submission('gb', gb)"
   ]
  },
  {
   "cell_type": "code",
   "execution_count": 27,
   "metadata": {},
   "outputs": [
    {
     "name": "stdout",
     "output_type": "stream",
     "text": [
      "Training Score: 0.8314157303370786\n",
      "Validation Score: 0.797411468632033\n"
     ]
    },
    {
     "data": {
      "text/plain": [
       "<sklearn.metrics._plot.confusion_matrix.ConfusionMatrixDisplay at 0x168cd66c0c8>"
      ]
     },
     "execution_count": 27,
     "metadata": {},
     "output_type": "execute_result"
    },
    {
     "data": {
      "image/png": "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\n",
      "text/plain": [
       "<Figure size 1000x300 with 2 Axes>"
      ]
     },
     "metadata": {},
     "output_type": "display_data"
    }
   ],
   "source": [
    "from sklearn.ensemble import RandomForestClassifier\n",
    "rfc = RandomForestClassifier(n_estimators=200,\n",
    "                              min_samples_split=50,\n",
    "                              n_jobs=-1)\n",
    "\n",
    "# Train Model\n",
    "rfc.fit(train_X, train_y.to_numpy().ravel())\n",
    "\n",
    "# Training Score\n",
    "train_score = rfc.score(train_X, train_y.to_numpy().ravel())\n",
    "print('Training Score:', train_score)\n",
    "\n",
    "# Validation Score\n",
    "valid_score = rfc.score(valid_X, valid_y.to_numpy().ravel())\n",
    "print('Validation Score:', valid_score)\n",
    "\n",
    "# confusion matrix\n",
    "plot_confusion_matrix(rfc, valid_X, valid_y, normalize='true', cmap=plt.cm.Blues,)"
   ]
  },
  {
   "cell_type": "code",
   "execution_count": 28,
   "metadata": {},
   "outputs": [],
   "source": [
    "# create_submission('rfc2', rfc2)"
   ]
  },
  {
   "cell_type": "code",
   "execution_count": 29,
   "metadata": {},
   "outputs": [
    {
     "name": "stdout",
     "output_type": "stream",
     "text": [
      "Training Score: 0.7969438202247191\n",
      "Validation Score: 0.7499550602193061\n"
     ]
    },
    {
     "data": {
      "text/plain": [
       "<sklearn.metrics._plot.confusion_matrix.ConfusionMatrixDisplay at 0x168ce43bfc8>"
      ]
     },
     "execution_count": 29,
     "metadata": {},
     "output_type": "execute_result"
    },
    {
     "data": {
      "image/png": "iVBORw0KGgoAAAANSUhEUgAAAcwAAAEmCAYAAADvBKBiAAAABHNCSVQICAgIfAhkiAAAAAlwSFlzAAAPYQAAD2EBqD+naQAAADh0RVh0U29mdHdhcmUAbWF0cGxvdGxpYiB2ZXJzaW9uMy4xLjIsIGh0dHA6Ly9tYXRwbG90bGliLm9yZy8li6FKAAAgAElEQVR4nOydBWAURxfH3ybEgAQITiC4S3B3d2nRr7hTpEBxKG0pWqAUaHEo0OLFrbhbcSdYgpPgEuLk2/9c97hL7sJespfkkvej27vbm92dndvsf9+bN2+kCBliGIZhGCZa7KL9lmEYhmEYFkyGYRiGUQtbmAzDMAzDgskwDMMw2sAWJsMwDMOwYDIMwzCMNrCFyTAMwzAsmAzDMAyjDcm02Q2T2Dl//jwhx4WDg0N8V4VhkjShoaEkSRKVKFEivqtihLe3N4WEhBit+xyOjo6UP39+i7aJT1gwGVVALEPDwunRs3cJqsXs7STKkCY5+b/6QOEfE07SqmyZ3OO7CiaIoPCwULJPhoceKb4rY4T8MyY4IuR/YbI4JZMfEqUE1F4JNTlbiCyWWB6rvEdkSe9q5RppDwsmowpYlhDL1mO3JagWy5ctDS0ZWY9Gzj9KNx+8iu/q6PHdMzG+qxCFkKAP5P/gNqXNnJ0cnZPHd3WMSOFkH99ViEJQ4Ae6d8ebPDxzkbNLwmmvu95XZQszvmthGohl61EbTH8ZibUTv6AcHmlVlU0osGAyDMMw2iElUDXXABZMhmEYRjukxDv4ggWTYRiG0Q6JLUyGYRiG+bxYqrUwbVBY2cJkGIZhtMMu4QVwaQULJsMwDKMdku1ZjmphwWQYhmE0QrIg6Ecua2OwYDIMwzDaIdmeEKqFBZNhGIbRDomHlTAMwzCMCsFkC5NhGIZhPiOWZMGwEnXFEhLskmUYhmE0QuKgH4ZhGIZRhT2Pw2QYhmGYz8N9mAzDMAyTtKNkE++ZMQzDMPFjYUoqlljy8eNHmjVrFlWpUoW8vLyoa9eudO/ePZNlZ8+eTfnz5ze5jBw5UvUxWTAZhmEYbZD+C/pRtcRONOfMmUOrV6+m8ePH05o1a+TdSdSjRw8KCQmJUhZievToUaNl4MCB5OzsTJ06dVJ9TBZMhmEYxqYszBBZFJcsWUL9+/enatWqUYECBWjGjBnk5+dHe/bsiVI+RYoUlD59ev0SGBhI8+fPpxEjRoht1cKCyTAMw2iHpNLCjAU3btyggIAAKl++vH6dm5sbFSpUiE6fPv3Z7SdPnkx58+alNm3aWHRcHofJMAzDaIRkwfRectkY8vTpU/GaOXNmo/UZMmSgJ0+eRLvt5cuXad++fbRs2TKys7NMuFkwGYZhGO2Q1AshxA19ieaAsJkCLlXg6OhotN7JyYnevHkT7TGXLl0qgoQMrVO1sEuWYRiGsSmXrLMcrKP0ZRoSHBxMLi4uZrf78OGD6OO01BWrwBYmwzAMow2SZblkM2fKbNaKjA7FFevv70+enp769fgcXRDPkSNHxHCUOnXqWHxMwBYmwzAMo61LVlKxxAKIYsqUKenUqVP6dW/fvqVr165R6dKlzW539uxZKly4sAgQiglsYTIMwzAaIcVJ8nX0XbZv356mTZtG7u7u5OHhQVOnTqVMmTIJ6zE8PJxevnxJrq6uevetEl2bL1++GB+XLUyGYRhGOySIpoollgwYMIBatmxJY8aMoXbt2pG9vT0tXrxYiCmCiSpXrkw7duww2ub58+eUOnXqGB+TLUyGYRhGO6S4scMgkEOHDhVLZLJmzUre3t5R1kcWUEthwWQYhmE0Q7JwbKMtwYLJJBhqlctPo3vWo/w5MtKL1wH0x6YTNOPPAybLtmtYmuaM/hQafmp1KaPv+4xfTat3nhXvb2wZSxnTukbZR/4m48j/5TsNzyBuOXjqOk1fvINu+fpR2tQp6X9NK9LXX9USOTU/x2XvB9Siz690YMVoypbZ3Wy5cb9tpCXrDpPvoRlaVj3O2XfiGk2av51u+jyltGlSUqcWleibjnVUtdUl74fUrO8cOrXuO/LMktZkmTfvPlC19lNodO/G1KpBGa2rb1NIGrhbEyosmEyCoGyR7LRySmfauO8iTViwi8oXy0FjetYnO/mPb/ry/VHK7z5+ner0nE2eGVxpdKfyNGHZSXrg/55mjmhJrsmdaM+JG6JcevnmCLEcNWsLnb5iPJPByzcBcXJu1uDsFR/qMWoxNa5RnL7t1pDOXPahaYt2UEREBPXrEH3I/PU7T6jbmGUUFv4x2nKnLt6hpeuPaFnteOHfS3epw9CF1Lx2CRrZq5F8Xndp4rzt9PFjBA3uUi/abW89eEnDZq2Ltq1wHX317Xx65PdK66rbHtJ/i9qyNkaSFMyrV6/S8OHDydfXl2rVqkUzZ8606vFevXpFe/fupVatWonPHTp0EFFdyGcYV9SsWZNatGghkhUnRIZ1rUOXbz2m3j+tFp/3nfImh2T29E2HGvT76sMUFBJmVB4WKJa3b9NQ4IcAunL7MdUoX5jyZc9A9Xr/Jr4DxfJ5iNdtBy/TA7/XcXtSVuTXpbuoUB4PmjGmvfhcvVxBCg0Lp7kr9lH31tXI2ck4AwoICQ2jVbuu0OItF+TvHaLd/4fAYBo6eZX8sJGKnjyz7XabuvgfKiJfB3N+6Cg+16pQiMLktpr1517q064GuTibbqv5aw/L2+6Sv3cyu+/tBy/S6BkbRHsxQLLAwrQ9xUy8zubPTAuDH3Xbtm303XffWf14P//8M23ZssVobrbRo0db/bi2gqODPVUukZu2HbpitH7zgUuytehMFYrn+uw+3FOlEO7cJbIb9+y1B/r1RfNmoddvPyQqsQyWHx5OXbhN9aoWNVrfsJoXBcg3blhUpjh0+ib9sfUC9WlbjUb0ahLtMSbM2ULp3V1l92JZzeodHwSHhNLxc7eoUXUvo/VNahangA/BdFK2ok2x9/g1+nXZPurY0ItGyZ4OU7x4/Z66jf6DqpbJR6tn9NG87raKJN9b1Sy2SJIUTAxwRVb7HDlyULp06ax+PLjJDEFYM8YHMTpyyP1CTo7J6PaDZ0ZNcvfRC/GaJ9vnf6NeravSx/AIGr/gH6P1QjDfBdLyiR3p3q5x9GDPeFr841cm+zRthQePX8gWUDjlypbBaH2OrLp28onUjgpFZSvr78mtqM//asgRhub/9I+c9qYNu8/Q1BHt5AAO27yxKdx7pGur3JHaKmfW9OL1zn3TbVWioCcdXzWcOjX2MttWKVyc6NiqUTRrzFeU2i25thW3YSQWzMQDXJP//vsvbdq0Scy2jc9wkRoCCxDrFVBu7dq11KVLFypWrJiY4RtzqRly7Ngxatu2rUjqW7VqVZo+fboYPIv51jZu3CiOif0AHA/rFc6fP08dO3akUqVKUbly5WjUqFFGCYRRlwULFgh3aokSJUSZiRMnym6lT27K9evXU/PmzUX9ihcvLo4B17MtkCqlLvfjuwBjt9Z72QIArik+DTw2hX2yZNSgSlFauP4YvX0fZPRdEVkws2RIReevP6C2w/6gMbO3UiVYs7/1oeTO0bslEypv3usST6eU+2oj38DB+wDjNlDIlC4VuaU0714Eb+V9D/95NQ3uWj+KINtyW0W+hpS2e2emrTJnSE1pPiOCcGvn9rT9NtIaiQUz8fD3338L0WnQoIGYdRvv1bpVIUibN2+mL7/8kn755Rc6c+aM+O7ixYvUvXt3IVQbNmwQYrZu3TqaNWuWcL3iWDgOjheZS5cuCXHLkyePmDUc22AdZghHzkNDES9TpowQXwjn8uXLhUsZIJnw999/T507d6adO3eKaWuCgoJsxu1r958VE9kSV0BwRnSkcU8n9jFvXdT27TdhLdXuMVtE25646EPLtpyiTqOXUx7P9NS2vvkUWgmZiIiP+huTKWJjFY6bvYkypU9N3VpVi/E+EhLKtWPOA6hce4wVAn+kzyw2SJIL+kEaJQcHB5EuCTNv470aEDDTrFkz8R7T0axcuVLkJUTeQogXLDvFasydOzf99NNPIhGwkpoJx8HxIoNZw2F5jh07VnyGcMI6bdq0qUgUjNnEAaxaWKEArmQI/7lz54SIw8U7fvx48R4goAgBRhBRLbGXby75sqXRdJ8gdUrdb5A/e1p66q9zwxpaBc6OdmaP65nRldxSp6FL3vcpraujWAx5I7vfgeH2r16/EZZFpeI56OhZXTSt1oQEfbDKfoGLg6Q/D8PjvJFdzyC5o73J44eG6KwpvIaH6mZ5CA0O1Jc9cPIGbd1/jjbM/pqCAnVBU2H/zQbxIeCdiFi2dP5Atdh/VDuHomU4/9dWL169kc/pU5u8fqd77yK3leF6Q4KDde0VFhr63+fAaMrq2j5UbldzZbQCD5bmHpbiG0multprBGVtjSQnmDEFImgIEv+G/veHhIwSFStWNPpebTb8mzdvUqVKlYzWQUCRHBj7VQQz8vEhxMrxYXniQQDBTPfu3SMfHx+6fv26kYWqBRnSJKclI6MPw48J+OPHTWBwu/LUqXZO/XpnF51LrHW1nNS4dNSHDZBMfhBxkcvJuhmlbnZ29rKYpqbAgAD9zU8hhYsjVSmWmfJb4XyA/4PbVtkvcP4YJh5erl27ScU9P7lYr/vo+uPSuoRGe/xXfg/p7Us/8f7FE19yDNU9pGzadUIEFDXqNSvKNoUajqUGFfPQ6K5VtDwVqyOF6trqwqUbVCiLQ5S2cnMIpnt3omaEMeTNK137PLp3lz4GmO7zfOynezB77vdE3p/1+zMjzwOZkJBsUQlVwoJpwhVo2DcY3QWqbJdM7kOL6UVi7mkRYmdo/UZ3/O3bt9OwYcOocePGwtJFfkUI8bhx42JUJ3P4v/pAI+dHdXtqwe9j3EXgT/dJu/Tr+srBKemzBFKnHzdTsHzjM0XLOsVpaKFiNHnpYTp97ZHRd9jfnkWDad/J6/TjnE/7rVo6H031KkU/LjxAp6/4WuV8ts3pa5X9KpQpmpOOX/Wjb7o3118/y3bdlvsonalalXImh43AsoRYpsmYldzcdTf4tJlzUIZMOut7aK+01L2d8djUNTtO09qdZ2j97D5yn14KfVmtgaVnLcp55aST1/xpxNf59G21Yu9due/cmerVqkguZobY4CHr6cN7lCqNLlmBR/ZclC2T6SQPH52fi9d0GTNT9ty6WAVrAeFOyEgsmIkXiNK7d8bZXmClWQKsv8uXL0eZ1Rv9nehzjO4CQuZ8pS/UMKP++/fvo1iV5pg3b54QyR9//FG/TpljTkv3TbjcH3TzgXUGZ4+b/w9tmtmTRvZsRCu2n6ayRXNQ+8bl6Ie5O+jy3WciGUH+nBnJR456VMZYglRuKcXDBcTSVN1mrjhAw7rUoTsPX9Dek95UOE9mGtG1Du06do1W7DxvlXMBjs7WtTIGdK5PXw2eS4MmraNWDcvRuas+tOjvozSiV2NyS5VKuJxv+T6l7B7pRBYgQxwcncneQfcA5uDkoq9rrhxR63z4rO7mXKpYzGd4UIOzk/UEc0i3hvRl/9+p7/g19L/G5en0ZR+at+Ywje3blNKkRlsFkrfPU8oht1W6NK4mvRjASW4rxesRGXwHHOR2NVcmyQiSFN8VsB5JcliJISVLlhSuTwTrPHz4kP766y86dOiQRftAwM+FCxfo119/Fe5QbI8oWiRFAMmTJxf9mQ8efBofqIBAHQgkrME7d+6IaNohQ4aIYS8VKlRQPZkq+jMRFXv//n0h1jgPUzOSJ1SOnLtDHUf/SXnlqMO/JnWmVnVK0Njft9Pslbrfolh+D9qzoD/VrVgwyvhLRCObY/LiPTR0+kaqXb4ArZ7alfq2rUpLN5+izmP+tOr5WJuKJfPS3HGd6e4Df+o1ZjFt2nOWRvVpQr3a6aK7r9x8SF98PZP2n7gWzzWNf6rIHoU/JnWlO/f8qdPwhbR+1xn6oV8z6tde9/d56cZDatB9Bu2RH6KY2CJZECVre8qa5F2yTZo0Ef19U6ZMEeKCISHffPONCORRS8GCBUX/ISJcFy1aJIJ7EPnau3dv8T2CcRDJCpcpXg1B9OzChQtFtiGUQ99o7dq16dtvv1UdkITkCwgawvxwcN1iclVE9Q4aNEhE8JYtaxuDz7cfviIWUxw7f5fSVIo6K8HUJbuoYEbz+4SFvWjDcbEkNupXLSYWU1QokSfa/K9ISKAmKcGgLvXFYusgcUHk5AUKlUrlpWcno/bbKrSWo6k7tqga7f5zZUsf7T6SElJCt4BjgSTfUKKP2WcYGbicfR+/pNZjdUNZEgqIfkWwT1e579Na7uKY4LtnYnxXIQqIhkUwUIZseazuMraUFFZ0ycYURLsiIAh9ktZ2s1rCXe+rIsK0aFHjTE8J4R5x71kAdf3rvqryS9p7Uvb0KRLceURHkrcwGYZhGI2QLBgHrLJYQoIFk2EYhtEEyQKXrLpSCQsWTIZhGEYzpETch8mCyTAMw2iGxILJMAzDMGoUU0UZG4UtTIZhGEYjpEQ9gTQLJsMwDKMZUiJ2ySb5TD8MwzCMRkgWzIcp/xcbkBITyWIwkxPmIcaUiNGlNcVkFZgJCuUxFSMSvSBpjSWwYDIMwzCaIdnJgqhiiS3IrrZ69WoxtSHmEoYI9+jRw2w60B9++EFMi4ipF9evXy+mRUT5yLnEo4MFk2EYhtEMSXUu2ZgDUcRcwv379xdTICId6IwZM8jPzy9K+lGAPN4Qy0mTJlH16tXFxBYTJ04UqUSvXDGdjtMULJgMwzCMJkgWCCbKxhRMWBEQEEDly5fXr8Mcwpi04vTp01HKHz16VHyPXOGG5ffv3696kgvAQT8MwzCMZkgWWI9PnjyhgQMHmv1emaYwMk+fPtXP1GRIhgwZxD4j4+vrS9myZaPdu3fTggULhCUKcR0xYoTqaRQBW5gMwzCMxmYmfX6JBYGBgeIVLlVDnJycKDg4OEp5zC+MqQ/R7zl48GCaO3cuJUuWjP73v//RixcvVB+XLUyGYRgmXizMzLKFaM6KjA5nZ2d9X6byHkAsXVx0k3kbgqkSEdyDfk7FosR79H9u3LhRzGmsBrYwGYZhGG2QVPZfyouYoyyGQGiBv7+/0Xp8zpQpU5TyWAeL0tD9CqGFm/bhw4eqj8uCyTAMw2iG9J8Wfm6JDYiKTZkyJZ06dUq/7u3bt3Tt2jUqXbp0lPJYFxYWJubsVAgKChLRs9mzZ1d9XHbJMgzDMJphp8EYy8+BvkskHpg2bRq5u7uTh4cHTZ06VViSderUofDwcHr58iW5uroKSxKCWbFiRRo+fDiNGzdOjMFE0gN7e3tq1qyZ6uOyhckwDMPY1LASMGDAAGrZsiWNGTOG2rVrJ8Rv8eLFQkwRKVu5cmXasWMHigpmz55NZcuWpX79+ontEAi0fPlyIbhqYQuTYRiG0QzJ+gamAAI5dOhQsUQma9as5O3tbbQOLlxk+8ESU1gwGYZhGG2QLHDJqiyWkGDBZBiGYWzOwowPWDAZhmGYeBmHaWuwYDIMwzCaISVevWTBZBiGYbRBkhc7OzvVZW0NtjAZhmEYzZBsUQlVwoLJMAzDaIRkQR+m7SkrCybDMAyjDZIFFqbacgkIFkyGYRhGM6RE7JNlwWQYhmE0Q0q8esmCyTAMw2iHlIgVky1MhmEYRhMkLJL6srYGCyajGo+Maej8ppgnLrYG4SFBFPTcl1ZO70X2jp9mXo9v8vVeHd9ViELeDM40v0MuajFxN93yD4rv6hhxa37b+K5CFEJCw8VrkPz60V73PiHwUV7s47sS8Ty9V3zBgskwDMNohpTUXbKnT5+2aKdlypSJUWUYhmEYG0biYSXUoUMHVU8NERERotz169fj4JdhGIZhEhpSUrcwMSs1wzAMw3yORKyX6gSzbNmy1q4HwzAMkwiQErFixijo5+XLl7R48WI6fvw4PXv2jBYtWkR79+6lAgUKUO3atbWuI8MwDGMDSBYIprpSCQt187AY8ODBA2ratCmtXbuWMmbMSC9evKDw8HDy8fGhAQMG0MGDB61RT4ZhGMYGkGQlVLMkCQtzypQplDZtWvrzzz8pefLkVKRIEbF++vTpFBwcTPPmzaPq1atrXlGGYRgmgSNJ6sdhymUTvYV54sQJ+vrrr8nNzS2K6d2mTRu6deuWZpVjGIZhbAtJ1gU1S2z5+PEjzZo1i6pUqUJeXl7UtWtXunfvntnyGzdupPz580dZottGkz5Me3vTeSZCQkISdYcvwzAMEz1xJQFz5syh1atX06RJk0T34NSpU6lHjx60bds2cnR0jFLe29tbBLD+8ssvRuvd3d2tZ2GWLl2aFixYQB8+fNCvg0hC7VetWkUlS5a0dJcMwzBMIsEOblkVS2yAcbZkyRLq378/VatWTQSczpgxg/z8/GjPnj0mt7l586Yolz59eqPFnAFo8twsrei3335Ld+7cobp169KwYcOEWCJi9osvvqCzZ8/SoEGDLN0lwzAMk2iiZEndEovj3LhxgwICAqh8+fL6degmLFSokNnMdLAw8+TJE4ujxkAw8+XLR+vXr6dy5crRqVOnhDpjeImnp6cwjwsWLBirCjEMwzC2ixQHfZhPnz4Vr5kzZzZanyFDBnry5InJoZDPnz8XYtq4cWOqXLky9e3bV4zusIQY9WHmyJFDRMUyDMMwjCGWTFYCcRs4cKDZ7/ft22dyfWBgoHiN3Ffp5OREb968MemOBTDwMNIDXYroA/3f//5HW7dupXTp0llPMMPCwkTEESzLt2/fik5TmMZNmjQx2dnKMAzDJAEkC6b3UlnMFM7Ozvq+TOU9wNBGFxeXKOWhT//++y+lSpVKv+7333+nGjVq0IYNG6hnz57WEUwkLkD47sOHDylr1qxiTKavr69QaeScXbp0KaVJk8bS3TIMwzCJAMkCJYRL1ZwV+bntgL+/v+gOVMBnBPaYwlAsAfIIQMMQKGS1PszJkyeLiFhYmIhGQr8lThiZf169eiVCfBmGYZikhyQvMDDVLCgbUyCKKVOmFHE0CvB2Xrt2TYzkiMzKlStF3E1Q0KeJ09+/fy+MPUsCgSwWTLhhESkbWcWLFStGgwcPpv3791u6S4ZhGCaRIMVB0A+6/tq3b0/Tpk0TBhuiZjFCI1OmTFSnTh2RrhV5zhWBhOsV009iZAeS61y+fFkMSUF3YosWLawnmDBjHRwcTH6Hg1sypoVhGIZJXEiwHlUssQW5y1u2bEljxoyhdu3aCe3BEEeIKYKJEAm7Y8cOvQt32bJlYigKynbu3JlcXV1FN6JhH6jmfZhfffWVGCBatGhRoeaG5u38+fOpbdu2lu6SYRiGSRRIFkXJxgYI5NChQ8USGfRNYtylIRjyCEGNDaoEs2PHjkafkXsPiQuQvw+ZEhDGe+HCBdG3iRRFDMMwTNJEiiPBjA9UCSZ8v4YYpr+DnxggwwLA4FCGYRgmaSKpVkxjXUk0gompvBiGYRgmOqCV9ip9spJke4JpcdBPdCB7wuHDh7XcJcMwDGNDSCoXW8TioJ9Hjx7R2LFjRU6+0NBQk2WuX78e64oxDMMwidklmwQEE4kJzp8/T61bt6Zz586JNETFixenY8eOiXx9s2fPtkY9GYZhGBvALvHqpeUuWViWSJaLsS9ffvmlGPOCsF7MYFKmTJkYpTliGIZhbB/pPwtT1RLflY0LwcTAT2UKr9y5c+vdrxgTgzGaJ0+e1LaGDMMwjM0gyUqoZqGkIJiYb0wZSpI9e3YxBhMJb5Xkti9evNC2hgzDMIzNIMlqqGZJEoJZrVo1mjlzpui/RLohZPtZsmSJyPQDtywnLmAYhknafZh2KpYkEfSD/H1XrlyhWbNmiam8kPB2xIgRIk8fQAQtw2jFsTPe9PvyXeTzwJ9Su6Wglg3LU9fW1c0+oYaGhtHyDUdo276z9PTZa8qYLhU1qFGCuraqTg4OMZr+NcFSo2gWGtGyOOXLInt23gXR8v23aNa2K9Fuk9LVjRYMqEU5M7nRq/fBtP30fZq47gJ9CAnTl8mT2Y3GtilJFQtmpNDwCDp5w49+WHWW7j17b+1TshoHT12naYt20C1fP0qbOiV91awiff1VLVWWzpWbj6jVN/Po4MrRlC2zu9ly42ZvpMXrDtO9wzO0rLptIUEMJdVlbQ2L7yCY63LdunV6N2zTpk0pS5YsIjUeZiwpW7as5pVkkiYXrvnSwHHLqF6VYtS3Yz26cNVXiCcyT3VvW9PkNlMXbKWte89Sj3a1qHC+bHTj9iOat2IPPfF/RT8MbBXHZ2A9SudJT8sHVafNp+7R5L8vULl8GWikLJ54cv91q2nRrFQoM3nmzEM7zvjSdyvOUj6PVDSqVXFK6+ZMfeYeFWWyuCenrd/VpztP3oh1zg72QpTXDKtF1Udto6DQ8Lg8TU04c9mHuo9cTI1rFqch3RvS6Us+NHXhDvr4MYL6d6wT7ba3HrykobP2UVj4x2jLnbpwh/5Yf0TLatskEqkXTHWlEhYxfuRGX6YC5h8zNQdZYgDDZDD3p61NW4ZZxEeOHBklAbEtsWDlXsqfKzONH6pL6F+pdH75xhVOf6w7QO1bVCFnJ+NZc968+0B/7zhF33RpQJ1aVhPryhXXzXX365IdNEBe754qZdyehJUY0qIYXb33ivrNPyY+H7j8mJLZS9S/cRGa9891k8I2oGlxevvmFU1ac4Zu+QfR0etPRVaW7nUKkIujPQWGhNOwL7zofWAotZqyV3wG95+/p+UDa5BXzrR06qbuQdmWmLl0FxXK40G/jmkvPlcvV5DCwsJp7op91KNNNfk6coyyTYjsqVj891GasXQ3uZj43pAPgcE0ZPIqypg2FT2RvRpJHckWldCaydejAy4OxT3LxB8NGzakKlWq2OxPgBvWmUt3qXd7YwugduWitPTvQ3T+qg9VKJnP6Lv3AUGyy7YcVSuvy2us4OmRTrw+evIyUQimYzI7qlggI03deNFo/TbZvQrBLJc/Ax268sTouyLZ05BHupTkc9v4AWrh7htiUWhYypPm/nNNL5bgos9L8vpmvRXOxPoEy67mkxdu06Au9Y3WN6zuRfNW7ad/L96lqmWN5/YFB05ep9l/7aeODb0oR05PGj1jk9ljTJizhdK7u1KlUvlo1rLdmmLp8YgAACAASURBVJ+DbSFZENAjJc6gH7jA1C6YsYSJfzDHG2aSsVUePnlBobIVkN3D+ByyZU4rXu89iprk3yOTO43q24JyZDXeZv/xK5Qsmb28L51w2jrZM6QkJ9lVeufpW6P1Pn7vxGtuuX8yMkU8dX1v+Puc0rUS+S5qR95zW9PEDmXkfeluA56yoKZK4UgP5L7KSR3L0vU5reneov/Rn4NqkEfa5FY+K+tw//EL+eErnHJm++QRAzmy6q6Fuw90Ef+R8SqQjQ4uH0KdGntFO8fvkdPetH7XGZo2sp36vrtEjiQ3g5rFFrGZ5Ov58+enn376iXbu3Elnz54VQ1gw43avXr30ZQ4cOCBcqLdv3xbRuo0aNaKvv/5aJFcA7969o59//pn27Nkj0voVLlxYJF3A3J4Ka9asoUWLFpGfn5+YgBT9s4YcOnRIRAnfuXNHTKaNqGG4PlEfc/Xu3bs3bdmyhUJCQkRbYq427APrEF2cN29eEUyF4ynu1F9//ZW++eYbEVz19u1bqlixogioUqKQnz59KmYbP378uBjaky5dOmrevLnYxs7OLopL1lQ9cuXKpd0PpDHvZGsRpEjuZLQ++X+fAz7ovv8ce49epu37z9P/mlUiN1fbvOlHJlVy3fUM16kh74N0n11dok7wntZV126eOXLTyWN3afrmK1RcdrEOlV2w6eQ+zJ6/H5H7MnVlvpMDfs7ffUG95xwR341uVYI2jKhLNUZvMwoOsgXevg8Ur64pjK+jFC66z+/NXEeZ0qemkKAP5Pc6+n0Pm7KaBnetT7kiCXJSxs5W1VAFNhU2CLH77rvvhHBs3ryZfvnlFypVqpToP0XSd4gFRKJSpUp0//59IbA+Pj5CnGD99ujRQ46UdBATXadMmVLsA7Nvr127VkxPtn37dho3bhyNGjVKCBSEFZNlY/gMePnyJfXr109EBVevXl2I1rBhw0S9JkyYYLbeEOGFCxdSuNz/BpH69ttv6datWzR16lQxLAdCDzH77bffxH6VY2G4zvTp04Xg//DDD9S9e3fRn5osWTLxoJA2bVoxISrO5eDBgzR+/Hgh/rVr11ZVD4uR2zA8RJ1QxZawkGDdIcNCjY6Jugs+hov1H8N05ZRXQ/Yev0rf/bKeShbOTn2/qhFndQd5M6ifxd1SPN11N/ssqRyNjqPMEuGe3D7K8TOn0m3z9s1r2nbCm/xfhtDuF28og6sD9W5UjFYfvE5p/hOVtx+CaeLqk/i56bHcZTluRTDNlyNrv66fjzafvGuVc4I4WWW/wTrBDAsNMToG+sJBRHiY2WOH/ne9hMvXoPgs78uw7Pe/rpejsN2oY9MyYr1SzlrnogdePHtN583QFCnx6qVtCWaLFi2oWbNm4j3S861cuVJYmxDMefPmUcuWLYUAAk9PT/rxxx+pU6dO9PDhQ3rw4IHIgXvixAlyd9e5pwYPHizGky5fvpwmT54sXtH3h4xFoGfPniL698YNXR8PrE5YZ7A6PTw8xILj6m/iZkCdFSsWk29v27aN/v77b/26Ll26iGNA/BTBhAUMIYYVDCCuqBvqjxSE2Ge9evVEHUCHDh1owYIFwqI0J5iG9YgJER/DKOi5b4y3twTHkFfi9ZXfA/mYn24ObwN0wuj0McCoLiGvjfvsVu++QnPWnaES+TPRpN6V6eObhxR3ckk0v4P1rHcnJ50YflsvK72r8KlP1u4/12FTr1RUJavx8d3T6Twg796+pjGNsurXOzvrbgE/t81PwUG6FkqTLIjmtTfePjwsjLpV96SGeTU+mf/wu3/bKvsNeau7jh7e8yW/tBFRrqOI4HefPXbAm5fi9fljX3II0SVmOXbxAW07cJEWjWlCT+7ptn/3WvfdI5+bwsqys+JgQ3v76AOR4lMs7VUqpi0Kq00JJlLxGQLLSpkx5dq1a3Tp0iVhgUWe+BruU1h0oFatWkb7gAAGB+v+eJA8Hm5cQ0qUKKEXTKQEbNy4sbAGYXXCCoXA1axpeoiDAjIiKaCepgKpcB5ubp/6nlKkSKEXS+Xc8T3qiGAeuKP/+ecfEWAFEUYdMdQnuj5kw3rEBMkuGTm5f7rZWpPcbh7yQ/QW8guwJ+d0OfTr77x6JF7zFSwg1sOyhFg6ps5MdsmcxG+OIQNrd5ymOpUK048DvyDHeBh/2WnGfqsG/eyeUJC2Xn1Pqw5+svgKZEtDi4oQTdxyly7cNe7jLV/gA03rnk3+De1o/Hb5AVK2MPXb5C9Ev+17TOdu+9M/4wvSvhtv6betxpbk7gletPvqqyjrtWLT6LpW2W/qTKHiOnoT4kgZPXUR08DP+6F4LVGisLw+p1kL8+XTh5Qile4BO12WHJQxUxrx/uSaC6JvtOP3UYOBqvdaRi3qlKCfh7bU+nQEzx/FzUNrTJFsUQkTo2AqfZGGKKIIoYDLElZoZBD8AssLAou+vej2q+xPAS5cQ+Ai7du3r3ABo/8QVmrJkiWFdRpdAE7k/a9YsUKIoiHoezR3XGVbBCAEBgYKKxivDRo0EJYjXNWKZaymHjFC/kOwd7Seq9GQ5PJxShbJSQdOeVPn1p8GmOOza0oXKlY4t1yXT20EsUTdZv2xUxbLf+mr5pXp2x6N4+2PF8M2rMlJb38qVyALjVt7Sb+uTfVM9Fq2nLaefRJlWMkj2cIe1yGMUqV2F2Kp1O+LKhnk4KqP8jaP6cW7YHm/flSxkAcNXXaGQuT1oEqhTJTcKRn9c+Gx1c7L0dk6/cu4XMt65aI9J67T1x3q6q+HPce9yU2+jsp45SXHzwwbsU+mu84cnFz09fy2e2ORDMOQlVtP0KqtJ2nrgkGURo7GttY5yTcK6+xXI+wSr15qO4F0fILAmbt37worSlngQoVbEwnj8+XLJwJsYFEalkGfnjLDCixIuHgNuXz5sv493LMTJ04U/X+dO3cWLlB8PnXqlOocuqgngDVoWA8IOVILKrx+/Vr0wyrAQkbQEvpajxw5QlevXhWBOwgWgqsWDwOoQ2TBt2WQnOCK9wMaNmkFHT19QyQtWLb+MHVrXUOMwUTAxmX5+1fvdDdx7zuPxZCTQnmzUt2qxeTv7tOlG/f0i7kAD1tkxubLVDJXOlrYryrVLJaFhn/pRX0bFqaZW68IsUzp7EClcqfTB/t8CA6jxbuuUOo07jS4RQkhgoOaFaV+jQrTwt3XhViCievOU8bULrTy25piv20q56K5fSrT2dvPaNc5nVVma/TvWJcuXLtPX3+/TAwXQcaf+asPUN8OtcUYTASYnbvqSy9eq89khIw/xQp4Gi0YhwnwPrqMQIkdO1kw1SxJRjAhOug/RABMmzZthMtz1apVwiUaXyCgZ/fu3SJKFoE+6OtDABAiTGFhwo0JQUTfJ76DG3PKlClCpBRXL/osEeiDKFlfX18hSLt27dIfA6KE80Z/IraH1YpAoRw5cogMSGoFs0aNGvT9998LoUbfKvouEYiULVs2o7IIKIJgX7x4UbyHexj9lwgUAoh4xYTeZ86cEdHAcOvit0kslC2eh6aNbk/3Hj6jwT8tp50HL9DAbg31SQmQxafL8EV04tID8Xnf8SvigeHarYfUafCcKAvKJxaQdKDr7EOUJ5MbLf2mOn1ZISf9uPoszdmhc/kXy+FOO75vQLW9dH3cYM3hW/Tovi8Vz52eVsiC+L+qeWjqhks0bs05fZkzt5/TF5P2iD64xf2r0fftStHu8w+p7bR99NFGH8YqlcpL837qTHfv+1PP0Ytp056zNKpPE+rdTteVcuXmQ2rRZybtP6FrOybmSFjka0fVkhRcsojeRCANrDlYWhjCESQHC2C4BQJnkF8WN/a4pn79+iKiFcKDBcM8IEwYNgLgykTUKcQO+W/hzoRQQmArVKggyqA/Ei5XrENkLSbG7tq1qwjSAXny5BHfIZoVwgkXavny5YWVauhO/RyoJxaIJoaEQCgR0Yv5RQ1BfylEHEKIftLRo0eLCw0pCPEwgLbG8BMMNYGViX5ViGtiombFImIxReliuenMph/1wT9wuWFJKuw8+0Aspjh+w48ydow6HOz1qxfU68/T0bpWz8jW5BeT92hWz4RAfdnjgMUUFUrkiTb/65d1S1K7prohX9ExqGt9sSR17OJICdENh3sxUrXCMMKICdxT1cRqbN26lYYMGSKMFgzzU4skP5Fb9NiIIRX//vsv/fHHHyJCs0iRIsJKg5h069ZN9L3hOyZxpbWDpYtE3MkzGgdexTcYKgLBRABQXPWvqqHct1H7yuMbDDVB9G6vP+9avY/VUm7N16U/TEiIcZhyBC2ChazWHxkDHvvckCNRKVYR79a6R7z8EErbnxvHZpijUboAck/uEOPzUAyXSZMmCaMBxhA8djBwTMW7KMArh7gPdHFZKpgWu2QxZhDjHaHihgEVTk5OwhpD3xrDMAyTNLHDkBoVS2xA1xM8hv379xfJYwoUKCC8dohbQbdadFYpvI6GIxAswWLBxBCM1KlTm/wObk9lmAfDMAyTtJBkHYT1q2ZB2ZiCYXQI5kSXmAKG3SEo8vTp02a3w7h5aJRhhjir9mHCfIYZDFU35ReGi5aJHV988YVYGIZhbA07C5TwyZMnIhDTHMoIhsggyxpQsrAZzqKFfZoCQamwSpE0BpZonFiYcMceO3ZM+IARGAO3LHzGGMyPgfQYo8gwDMMkTaT/rMfPLbEBQZsgcl8lugaVRDSGfPjwQQT5YMGohphisYWJNHQI6kE0KYZfIGYI0ZowhRGdamgiMwzDMEkLOwvEEBaiOStSTRIW9GUaJmSBWLq4uEQpjzzbEMq2bdvGfaYfjAVcvXq1GE6CYREYnxg5aw3DMAyTtJAscMmqK2UaxRWLBDDIG66AzwgAigxGcsAaVYY8Kvm/MXSvadOmYtINq6fGg7LHOt0awzAMk2iQYqOEKoEowlBDljVFMDEWE7m6kWc7MkhqYwjGqyNaFtnaIuco11QwUdHP5ee8fv26pbtlGIZhkphLNqbAWoQwYk5gzD6FnADKdIl16tQRFiSS7Li6ugqjLnIyAyVoCDNPYZpEqwkmgnoiCybCezFNFnKfolOVYRiGSYpI4p/asrEBebTDwsJozJgxonsQXYVIMwoxxZSOmJkKSQ20HHFgsWBioKg5hg8fTleuXImS4o1hGIZJ/EiyBiazU182NmDcP9yqSvpTQ5C9J7pMaeXKlYtRJjVNZytp3rw57dixQ8tdMgzDMDaEJCuhmoWS+nyYmOEDJjLDMAyTNLGzTS20jmAi4a2p/HzIrgDrErNqMAzDMEkTiQUzesEECPFFdBJm2WAYhmGSJnaJWDEttjAxGwk6WxmGYRgmauICwzXmsUVZtTjop1WrVjFKZcQwDMMkfiRZCdUsScLCxASdcL8yDMMwTGTsbNJ2tJKF2ahRI5FkHcLJMAzDMHpkrbSXVUXNYou6miwmQ0fOnDlDdevWFSmHkJbIEIyv2bt3r2YVZBiGYWwDyYKgH3WlbFwwkSW+SZMm1qgLwzAMY+NItqiE1hJM5OZjGIZhmKQ2rERVHyaS2N64ccPadWEYhmFsHEnWSzVLorUwHz16JGa2ZhiGYZho+zAtKJukc8kyDMMwSRvJVs1HFbBgMgzDMNogSWQfR/NhJmjBxMTRmJhTzdMFDythGIZJmkjxXYGEIJiFChWKMuaSYRiGYQyRbSZ1RKgsZ6sWZrFixaxZF4ZhGCap9GFGWLce1oD7MBmGYRhNkOSFo2QZhmEYRo1oqvbJJlILs0WLFpQmTRpr14VJ4NjZSeSe8vOBX3FJSFAYBcmvqZInI0fnhFM3v+Ud4rsKUQj88IHu3rpOe8Y1IpfkyeO7OkakKdMvvqsQhXyeaWnJ2KbUqPsvdPP+i/iujp61k1pSDo+08V0NsyReuVQpmJwOj2EYhknqFqbF03sxDMMwjCkglfYYi6liia2sfvz4kWbNmkVVqlQhLy8v6tq1K927d89s+StXrlCnTp2oRIkSVL58eRo7diy9ffvWomOyYDIMwzCaIalcYsucOXNo9erVNH78eFqzZo2wbHv06GEyjau/vz916dKFPD09aePGjWLbc+fO0fDhwy06JgsmwzAMoxmSrIZqltgAUVyyZAn179+fqlWrRgUKFKAZM2aQn58f7dmzx2Q+dFii33//PeXIkYNKlixJrVq1ohMnTlh0XB5WwjAMw2iGXRyE/WD2rICAAOFaVXBzcxMJdk6fPk2NGjUyKg83LBaF27dvC0uzUqVKFh2XBZNhGIbRDMkCvXzy5AkNHDjQ7Pf79u0zuf7p06fiNXPmzEbrM2TIIPYZHfXq1SNfX1/y8PAQrllLYJcswzAMoxmSyn+xITAwULxGzm/u5OREwcHB0W47bdo0+uuvvyh9+vTUsWNHYamqhS1MhmEYRhskCyxMSWchmrMio8PZ2Vnfl6m8BxBLFxeXaLctWrSoeJ09e7bo/0SfZ/PmzVUdly1MhmEYRhMkISqSqgVlY4riikX0qyH4nClTpijl79y5Q4cOHYrivk2VKpUIFFILCybDMAyjGXayqqhZYgOiYlOmTEmnTp3Sr8OYymvXrlHp0qWjlD9y5Ah988039P79e/26+/fv06tXryh37tzqzy121WYYhmEYS3swYV/G3MZE32X79u1FfyRcuoiaHTRokLAu69SpQ+Hh4fTs2TMKCkLiTKJmzZqRq6srDR06lG7dukVnzpyhAQMGiBm4atSoofq4LJgMwzCMZtjJOqhmiS0QvJYtW9KYMWOoXbt2ZG9vT4sXLxZiikjZypUr044dO0RZ5EJfvny5yA6EspiuEkNQUB7bqYWDfhiGYRhNkMQiqS4bGyB0sBixRCZr1qzk7e1ttC5nzpw0f/78WB2TBZNhGIaJl3GYtgYLJsMwDKMZUiKe4IsFk2EYhtEMu8SrlyyYDMMwjHbYJWKfLFuYDMMwjGZIibgtWTAZhmEYzcTSTqWFaYvCyoLJMAzDaIaUiNuSBZNhGIbRTi0lC8raGCyYDMMwjGZItqiEKmHBZBiGYTRDSrx6yYLJMAzDaIeUiBuTLUyGYRhGM6REbGKyYDIMwzCaIOn/lzhhwWQYhmE0Q1JZLsIG25wFk2EYhol7xbRBWDAZhmEYDQeVSKpKRtigsrJgMgzDMJoh2Z4OqoYFk0kwHDx1naYt2kG3fP0obeqU9FWzivT1V7VURd1dufmIWn0zjw6uHE3ZMrubLTdu9kZavO4w3Ts8Q8uqW529x6/RhHlbyfvuU0qbJiV1+aIyDepcN9q2WbPjX/p16W7yffyCsmZMQ73aVKEK+d2MyqzcepJm/7WPfB4+o4zpUlHbhmVpSLf65JDMXl/m2LnbNH7uVrmNH1IKFydqVrsEje7dmNxSuljtfLWmVoWCcp2bUP5cmejFq/f0x4ajNENuG1O0a1yO5nzfQf/51PpSRt/3+eFPuU1u0aUt48web4Xcrv3G/aVN5W0MKb4rYEVYMJkEwZnLPtR95GJqXLM4DenekE5f8qGpC3fQx48R1L9jnWi3vfXgJQ2dtY/Cwj9GW+7UhTv0x/ojWlY7Tjh18S7979v51KJOSXHTP3nxjixg2+hjRAQN6Vrf5Dab9p4TN/bebasLsdh+6BINnbqexnavSr3zFhRl5q06QCN/WU/NapWgcQOa04s3ATR5/na6evsR/TW1pyhzyfsBtRzwO1Urk5+WTelOT5+9oR9/2yweajb81i/O2iA2lC2Wk1ZO70Ub95wTDx3lvXLTmD6NRZLw6X/silJ+99GrVKfLNPLMmIpGd6tCExYfoQf+b2nm6HbkmsKZ9hy7Su8CgkSZyHRvVVX8Tn9tPh4Xp5YwkeK7AtYjyQrmpk2baPr06fT69WsaOnQodezY0erHvHXrFj169IiqV68uPufPn58mTZpEX3zxhdWPDR4+fEi1atWi5cuXU7ly5eLkmGqZuXQXFcrjQb+OaS8+Vy9XkMLCwmnuin3Uo001cnZyjLJNSGgYLf5bZym4mPjekA+BwTRk8irKmDYVPXn22irnYC1+lq3uovmy0vxxncTn2hULUajcNjOX7aG+/6tJLs5Rz32CLKjNahWniYO/FJ9rVShEz1++pcWbz1PvDo0pXH64mLJoJ9UoV4CWTu6m3654gWxUoc0EOiBb+zXk3+D3FfuFtb/85+7k6PDpdtFXtp4gmnlzZLTy2ceeYfID2GXZOu79/XLxed+J68KC/qZTHfp95X4KCg41Kv/i9XuxvH2blgI/BNCVWw+pRsWilC9HJqrXbbr4Dpy54mu0XfGCnkIsf5qzVX6ouRs3J5cAxdJOrU/WBoXVLr4rEF9MmDCBKlasSP/88w+1aNEiTo7Zq1cvunz5sv7z0aNHqWHDhnFy7IRMcEgYnbxwm+pXLWq0vmF1LwqQhe5fMzefAyevy+7E/dSxoRcN7V4v2mNMmLOF0ru7UivZ5WhLBIeE0tGzt6lxDS+j9c1qlqD3H4LphGw1R+a+7IK9fd8/yjaNqxWjR8/e0Z0Hz8hfFs/Xbz9Q/SpFjMoUyJVZCOSuI1fF57F9m9LqGb2NxNLBQeeuDZYfWBI6qHflUnlo24GLRus37z8vrMUKxXN/dh/ucnvABb1E9k6cvXrPbLlpw1vTTZ+nNEcW4aSMpHKxRZKsYL59+5bKli1LHh4e5OrqGi91SJ8+PTk7O8fLsRMSuMGHhIZTzmwZjNbnyJpOvN6Vb/Cm8JKtoYPLh1Cnxl5kb/+pzy0yR0570/pdZ2jayHY2Nxu87yO0TRjl8TRum1zZ0otXCGNkvOWbNsjjaWz95fBIq2/PVK7JKZm9ndz2L43KQERfv/tA9x4/F5895L7PInk9xHsI9MFTN4QFVaFEbv36hEwO+ZydHB2itJNyTUVuV1P0altD7hr4KNzg5mhZrzSVKpyDRkxfL7oRkjSSyiWW4DeZNWsWValShby8vKhr16507969aD18PXv2FN61ChUq0IABA+jx48e2JZhwS65du5a6dOlCxYoVEyc/f/58ozIHDx6k1q1bU4kSJahy5co0efJkCg4Otmgfhm5JlAejRo3Sv69ZsybNnj3bqGyHDh1oxIgR4v2pU6dE2UOHDlHjxo2pSJEi1KhRIzpw4IDRNn/++SfVq1dP1APW4+bNm/X7hzv2t99+E/tV6r1hwwYjN3HTpk3Ftig/b948cVEY1nvnzp3UqlUrKlq0qHCv/v333/rtQ0JChJu5du3aon64MAYPHkyvXr1S+WvED2/fB4pX1xRORusRYALefwgyuV2m9KkptVvyz+572JTVNFju68sVSZBtgTeyeAFYQ4akTK5rG/SlRdlG357mtgmm5LIbt0WdUrRQDoD6a8sJIZRwsXYf/YdwV34IDDHaNkLuL81dezi16PcbBcjCOf6buOlGiC14MDDVThB/U20UGftkyahBNS9auPaw/jo1Rb/2tWQvyR0RDJSUkcSi9l/smDNnDq1evZrGjx9Pa9asEQFwPXr0EPfByOAeCH1IkSIF/fXXX7Rw4UKxrnv37kZakuAFE/z888/UvHlzIS5ffvkl/fLLL3TmzBnx3d69e6lPnz5UrVo1Wr9+Pf30009CNIYMGaJ6H4ZkzpxZuEIVwVTeq2Xq1Kk0evRoIXTZsmUT9QgICBDfLV68mKZNm0bdunWjbdu20VdffUUjR46kY8eOCWHLlCmTeAqKLMxg6dKl9N1331GbNm1oy5YtNGjQILE/nJcheFjo3bu3EFc8JWGbBw8e6NsAx4W7edeuXTRlyhRx7Llz51p0jnHNx4j/gnXMWH+xsQrHzd4khLV762ox3kd8gsAeIFnQNoqFE/mriP9yq9jZ6b74ZWRbat2gDA0Yv5Jy1hpG1TtMoTJygEyJQp6U3MW4XxQBVat+6UVrfu0j99Vlo4Y9Z9CRMzdjdW5xgdI+EPzo2tccadzTiX3MW33QbJlyxXIJb8esP/fGvKKJCElucjVLbIAoLlmyhPr37y+0oUCBAjRjxgzy8/OjPXv2RCkPHQkMDBT3z7x58wqDAvfyO3fu0Llz52wr6Ad9iM2aNRPvBw4cSCtXrqSzZ89S6dKlhaVYp04d6tu3r/g+V65c4uKHiOJkc+fO/dl9GALXHVyhAK5Y5b1asG8IlfIex7x586awfiF6CB6CNQwgmEFBQXKARTi5u7uLYydPnpxSp05ttE+cD5542rdvL7YBOXLkEAFJED3l3AGekmBZguHDh9O6devo4sWLQrxhddatW1e4mgHczbDIvb29LTpHs8j1DAnSWTxaktxB99fz+tUbo/2/ead7ondxsjd73NAQneUQHqYL3AgNDtSX3X/yBm3Zd442/vY1BQXqHmpCQ3VPnx8C3okboZ2ddZ4ZAyMcNNmPczJd27x4+UYOQPnUBnCbAhdHe6P1unW6c3r2/DVlck/xaZvX7/TfYxs4sX/+tgV936chPfR7RdkyuQuh/FOO8Kwku1wj77dCsezitVyRbFSj03SaKgcNlS6UVZPzzOepcxdrTWpXnfDnz56envq90K9XLEtnuf3MHdszUypyS52GLt24T2ndnMRiik7NKwhPgO+Dp1Y7D0MckiUIO8cssbUc1XDjxg1hqJQvX16/zs3NjQoVKkSnT58W3j9DcM/+/fffyckp6m/45s0b2xJMRfQUUqZMKd/YdDdAiFHkky9Tpox4hRAo20a3Dy2BYBseA+A4L1++JH9/f+FLNwTW5ufAts+fP6dSpUpFOU/s++7du5Q2bdoo56n0vSrnCfE+ceKEsK59fX3FAwW2jfzQEFMgSn73b2uyL0OcwsPIXrZ6rl67SV6eny7o6z66fqa0zp8/bsAbXV/c88e+5BCiuzFu+ueECChq2HNWlPIFG4ylBhXz0OiuVbQ6DavwMVTXNmcvXqP8me2jtE3KZEF099Z1o20cw9+K11NnL1IKSfcenLvsI15dHYLFNscuPiDX5I5ULG9Ggrw/ffiKXr0NpMf+eb/4+gAAHMFJREFUrylz6mSizNEL92VXriMVz5fJ6BieGVOSzyP/KMeOKUvGNtVkP5GBZY4H0sEdqlCn+vn0651ddK7a1jXzUuNymU1um8zBgVzkchlTSdHWL0+BwvID2HtaOLqxtpW3VST1RZ88eSIMD3Ps27fP5PqnT5/qPYaGZMiQQewzMlmzZhWLITDGIKCKntiMYDo6Rg2LV1woeI3sjoLFBpLJ/Qtq9qGWyOVNCa654yjrYzK1jbl6WnqeP/zwA+3YsUO4pjF0BVY43LpwU2iBfTIHSpdFZ2VoTZmiOen4VT8a2KO5vg2X7b5NbimdqXrVcuTs5GDWwnz59CGlSKVLVpAuSw7KmCmNeD+sd1rq8T+dZamwZvtpWrPzDG34rQ+lcUuhL6s1KczUNyaU98pFp6750+h+BfRts3KfD6VK6UIN61SWLXDjY+XKS5Q9ywE67f2Surf7FIU9afm/lC2jG5UqXoScnF3oh8Un6NWbD7R1bvVPZRbslAXajto2qy7vIy19O+sgvXwTQPuWDJKvQ51goy/vxr2XYnxjrv/GdMYWuIOtxe8/pBaBP93HbdGv69u+DqXPEkidvlsrHqpM0bJeKRpaqBhNXryfTl+5b7IMkjfsWVaKpi7eRVtlb0ZcMKV/LTkYK/phVPGJXWz9rSqAe9XU/RACqMZixNA6eCHRZaYYIzYjmNGRL18+4Vrt1Ek3Bg0ofZORrcrY4CA/Tb57p3NZAQTbINAGrlE1wNrE0w2GjSguU4BILKwfM2aM2W3xg2HBeSJgx/A8US9PT8/PXgTowF61apXw4xsOVYGFCTewJsh/CI7OGu0rEgM616evBs+lgZPWUeuG5ejsFR9atO4ojUBGmVSpRNDGLd+nlN0jnRj2YErMgYOTi76OuXJErevhM7ohKqWKfbI2rIGLi3aCOaxHQ2re9zf6+qfV9FWT8vTvJR+au/oQ/dC/GbmnSSUEDJGxOeWo4nRpXPVjDzFWMr37VmpQtSjtPHyZth++Sj/2qi7E0kW+Jvr8rxZ92f93Gjd3hyhzWO6TnL3iAA3sVIcK5Mkm9jOiZyP6csDv1HvcKur6ZWXxO/y6bA99CAqlMV83FfvRgpv3P7lLtWbcnG206fd+NLJPM5GBB0LfvllF+mH2Zrp820+4Z/PnzEQ+D5/rx1iCVG6u4j4AsTRXv4ol84jXw2duW/UcDAkNiz5BR3wjWVAWFqI5KzI6lNEF6Ms0HGmAAB4XF/MZqGBczJw5U8R1YJhf586dLTpuwnaG/+fS3L17t/A/+/j4iKhUBP7UqFFDU8EsWbKksM7g/8ZxYK0ZCqgaELK8bNkyEZBz//59WrFihbgYFBFEhBZcpXC/GgKrAcFAiN7CNgiN3rp1q4ioRRCQmmEvKIMFx8P2cFcjIOjq1asmo8YSGpVK5aV5P3Wmu/f9qefoxbRpz1ka1acJ9W5XU3yPtGwt+syk/SeuxXNN456qZfLT8ind6dY9P2o/dCGt++e0yMwzoENtfTaeul2niww1Cv+ThRVBPQf/vSFvs0BEb84a1YZqlcmpL1OzfEFaOL6zGCrSdtA82rr/Ak0Z0pK+76eLBQDVyxWgDbP7ya7aAOoycgl9M2EVZZWt8j1/DBED+W0BBCd1HL6I8mbPSH9N7UGt6pehsbM2iZSAoFj+bOJ86lYubLSde+oUei+POTK46/42EWXMGCimmiUWKK5YdIMZgs8IrjQFPIZIUoPRB8OGDRMjCCwlwVuYDRo0EBct/M14KkDwDIZ1wHLTEkSlwopDWDKeUDB0A5aaJW5dBO3gCQdjg549eyasU1h8Ssc0hpMgiAfjgRAJawjCm+FegOAi+w9+dNRFTR+o4rbFkxOiwJo0aUKpZKtMGVaCC+RDpACOhEj9qsXEYooKJfJEm//1y7olqV3Typ89xqCu9cViayAJQeREBAqVS+WjV6d/i7Ie+WaxKCCIJ3KfI8YPYomOamXzi8WW2X7wklhMgYeJNGWipvmbunA7FTToNzbFpr3n5cU2UgTGFVIchP0gKhZePQz3gwdOGVt/7do1cR82BUQSEbQYehc5LkYtkiwISXyULaMGuJrD5SslS84CCarBEBGLgKCMnnms5i6OCW4aumS1QhFM9Dtq5UrVClOCFd8g4hXBPl3lvs+4creqYe2kliIhA6LiE9o9IlS+SbhlkTvRVfD28S1ysJdifB4wRjAOc+LEiWJEAIaJoBsN3jmMSEAwJbxucNliGCD6KyGaGOtuiFImUbhkGYZhmMTljZX+W2IDvIwtW7YU8SHt2rUTIokgR3jqECmLIXXoZgMYn66MVcd6w0UpkyhcsgzDMIwNIcXNYSCQ6JPEEhkMITEcf44kB1rAgskwDMPYVB9mfMGCyTAMw2iDhHGY6svaGiyYDMMwjHZIibcxWTAZhmEYzZASsWKyYDIMwzCaISVevWTBZBiGYbRDSsSNyRYmwzAMo5lYSlLiFVYWTIZhGEZDpETbmiyYDMMwjGZIiVcvWTAZhmEY7bBjwWQYhmEYNYNK1Cqm7Skru2QZhmEY7ZASb2OyYDIMwzCaISXitmTBZBiGYTRTS0lKvMrKgskwDMNohmSLSqgSFkyGYRhGO6TE25gsmAzDMIxmWmknJV5dZcFkGIZhNEOySSlUBwsmwzAMoxlS4tVLsovvCjAMwzCMLcAWJsMwDKMZUiK2MFkwGYZhGM2QEnEfJrtkGYZhGE0tTEnFEls+fvxIs2bNoipVqpCXlxd17dqV7t27p2q7bt260ezZsy0+JgsmwzAMowmShUtsmDNnDq1evZrGjx9Pa9askUVYoh49elBISIjZbYKCgmjo0KF09OjRGB2TBZNhGIbRDEkWLjVLbIAoLlmyhPr370/VqlWjAgUK0IwZM8jPz4/27Nljcptz585RixYt6OLFi+Tm5haj47JgMgzDMJohyVqoZokNN27coICAACpfvrx+HUSwUKFCdPr0aZPbHDlyhOrUqUObNm0iV1fXGB2Xg34YhmEYzZAsKPvkyRMaOHCg2e/37dtncv3Tp0/Fa+bMmY3WZ8iQQezTFN98840FNTMNW5gMwzCMdmopWbDEkMDAQPHq6OhotN7JyYmCg4NjvuPPwBYmo4rQ0FCKiIigxz43ElaLyRFv4PkjX/nxL+E8/z2Nxc3AWkR8jBCv931uk6Q24WccsXZSy/iuQhQckumupyn9a1FomO46SwhkcE8h/h4TIqFy3+LtG1dUl4WFaM6KjA5nZ2d9X6byHkAsXVxcLN6fWlgwGVUonfT2Ces+K1fIjuztjZ8yGdNAJCM/kScUcnikje8qmMUjY8JqM4hlbINmrIGjhdcWylu6jYLiivX39ydPT0/9enxGAJC1YMFkVFGiRAluKYZhzJI/f36z32kNRDFlypR06tQpvWC+ffuWrl27Ru3bt7facVkwGYZhGJvCUbZMIYzTpk0jd3d38vDwoKlTp1KmTJlEJGx4eDi9fPlSRMMaumxjS8Lp9GEYhmEYlQwYMIBatmxJY8aMoXbt2sldM/a0ePFiIaaIlK1cuTLt2LFD5d7UIcmBHLpIAIZhGIZhzMIWJsMwDMOogAWTYRiGYVgwGYZhGEYb2MJkGIZhGBZMhmEYhtEGtjAZhmEYhgWTYRiGYbSBLUyGYRiGYcFkGIZhGG1gC5OJNVevXqXGjRtTkSJFNJmk9XO8evWK1q1bp//coUMHGjFihNWPa0jNmjVp9uzZcXpMc6AeqI+tsWHDBqsm7N60aRNVqVKFihYtSsuXL7facQy5desWHTx4UP8Z54fzjCsePnwojomk5Iz2cPJ1JtbMmTNHTDe0bds2MYOAtfn555/FjaFVq1Z6wUAeSca2aNiwoRA0azFhwgTxIIGco25ublY7jiG9evWiFi1aUPXq1cXno0ePigTgTOKABZOJNZhWp1ChQpQjR444ac3I6Y9Tp04dJ8dltAWzSGg5k4Sp67Js2bJiJov4In369PF2bEZ72CXLxAo8wf/777/C/QVXED7DRRqdyxDl1q5dS126dKFixYoJK2P+/PlG2xw7dozatm1LXl5eVLVqVZo+fbqYsgeu140bN4pjKu68yC7Z8+fPU8eOHalUqVJUrlw5GjVqFL1588aozgsWLKD+/fuLeT5RZuLEiRQWFqYvs379emrevLmoX/HixcUx4HqODjXndeDAAfriiy/E95iG6NdffxWzxiu8e/eOvvvuOypfvryoP87j8uXLRvtYs2aN2Bb7+Prrr43ODRw6dEgcA21XoUIF0TaRy0Su94wZM6hGjRpUqVIlunv3rqgTpkvCOaCNWrduLawlBbgZ8bugnapVqybK9O3bl/z8/PRlnj59SkOGDBH7L1iwoHCN4sFKaRdDlyzcmHhfuHBhURZ1v3HjhkVtG9ktCfDbK+9NudENrx24MVEW7ad0MTRq1Ej8Zob8+eefVK9ePVEPWMmbN2/W7//Ro0f022+/6f8GIrtk8XfStGlTsS3Kz5s3jz5+/GhU7507dwrvCdqrVq1a9Pfff+u3x++Cv4XatWuL+uHaHTx4sOimYOIAzFbCMDHlxYsXEW3atImQ+y4j/P39I+Q/3oj27dsblZk1a1aEfDPWf86XL1+ELAYR8s0jQr45R8g3a7Hu9OnT4vsLFy5EFChQIGLSpEkRt2/fjjhy5EiEfGOI+OWXXyJkq0EcC8fE8QCON3z4cPH+4sWLEfJNN+LHH3+MkPuTIk6ePBkh3/QiZAGJkAVXlEFd5JtNxLJlyyJ8fHwi5BtghHyjipCFWHy/e/dusQ98lm9ioj4tW7aMaNasmf4csA+clyGfOy/5Rhwh3wQjVq5cGXHv3j1xXnXr1o2QXYbie/nGKc4L54Nj4tzlm6OoiyzWoozs9o6QRSfir7/+EseQRUO0ldK++D1wbvgedT9z5kyEfGOOkIXD7G+IOqJ9L126FCE/bIh1+B2bNGkSceLECdFGS5YsEfWQxUN8Lwul+CwLhjg/tLvsioyQhSYiNDRUlJGFIUIWOLF/WVAjhg4dKt7jfPE6bdo08bpnzx5xDnhfunRpcSxZ6CP69eunum0NkR98xLWB75cuXaq/Tkz9ZobXDq4VbIPr5fjx4xHe3t4Rsos1omTJkhHv378XZRYtWhQhi12E/NAifkO0syzwEfLDhGh7+SEiYvLkyRGygOnrjbYCf/zxh/63QZtu2bJFnC+uc/DgwQNRHvvYu3ev+P1Hjx4t2ub+/fuizE8//RQhu3tFXfH74veQregI2f1stA98z2gPW5hMrMDkrQ4ODsK1BvcT3qsB/TyyAFHOnDlp4MCBlCpVKjp79qz4DgEaeALHk3/u3LnFvHbyjYIyZMignxAWxzHl7pJvtuIpfezYsZQnTx7xBI4n8itXrpAsUPpysFBgvcGNjIloMYP7uXPn9C7e8ePHCwsT7jxYO3jil2+gsTovWBOYvw9z92GWeJyXLOz0zz//COtCvskJ63jmzJnimDh3WA+wcJWgFbzCqvnqq6/EMXr27CksQwVYeLBCsmTJIuoOKxXHjWz1RwZ1hkWDY8lCIPqj0QcISxdtBMsO1hbmG1SQhVH0J8s3ffF7wSK9efMmySJLQUFBYp/43cCXX34pyuI3lG/ool1wHABLERYzgGWMY6H95QcXunPnjqq2NQT92cq1gevFUrco9g3LHPXEe1ksxXkBWYDFdQOLG78hfodvv/1WeD/wt4BjJ0+ePEo3gXyvpYULF4prDdugTeUHEtG/Kguo8Cwo4PxhWeL3l8VcWKDyA4n4Dr/RlClTxHWN3xd9pbiO1FybTOzhPkwmXsDNwBAEC+EGDPDHX7FiRaPvlRvq58CNDW5FQyCgCPrAfuE+NHV83FiV45cpU0bc/BDMhJu6bA3Q9evX9a6zmJ7XtWvXSLbihEvZ8EYKIAyIsAS4WRoCAQwODtafH4TLELhDFfcl3JlwJ/bu3ZsyZ84s2hE31c9F0WbPnl3/HvUEEAZDcB6GwTMpUqQQLlTDc8f3qCMeSCAOeBgAeBhA28vWnmhHtIviAlfOadeuXfp64DcA+M2UNo2ubbUkV65cRscAOM7Lly9F/fEwY0i3bt0+u09s+/z5c/EAYwjOE/uGGzxt2rRRzlMJGFLOEw8MeCCRvS3k6+srrhtsi4cWxvqwYDKao4iAgmHfoAJmRTe3XbJkyUTUbUyPbWpb3KQNrd/ojr99+3YaNmyYEB5YTrAKcVMfN27cZ48f3X5Rh+7duwtLKTKwgiAOuEGbGoZguN/I7RvZqodFjf7Ew4cPk+xaFFaq7FaMdmiFYfCNsv8VK1YIUTTEzu6TU8qUNwHbwsoKDAwUlhReAYQC54510f1mSj1gsSnXgpq2VUvk8qYE19xxlPUxuTbN1dPS8/zhhx9ox44dwvuBB6E+ffoIq9+w75ixHuySZTQFN1FD9xJQXG9qwRN25EAXuMIUoYnuhgU3mtxvZ7QO1hfcapEtFHMorlO4vnCDhxUg9w3F6AZtSN68eYU1ACtKWXCjg6syICBA1B31hEVpWAauvH379uktyMhuSMO2kvs+RQATrKTOnTuL4CZ8RkCL3Memup4A1pRhPSDkCPJReP36Ncl9a/rPsJDx2yOwB+5vBEkhQAbgwQMPA6hD5DbEeUc+J+U3VPubxeTaxAMMXOFqQf3hUo58bcKtChdydMB6xGLqPFEvuHc/BwJ7Vq1aJUQTwUxwX+N6wDUVm+uSUQ8LJqMpsGRgKeHmipsR+mcQdWgJsERw40cEKdyh2B79XIqrEn1EuJkrImYIRAICCWsQ7ipE0yJSEzdx9EupAa5M9Gfihg9BgFjjPIBhRKul9OjRQ/TLIVIT5wXX2siRI8XwB1iYcGPiBoh+M3yHBw2INkRKEQ70WcpBMiQHnwiXHAQJrkzDm7ocVCT6E7E9fgtYzOgzS5MmjWrBRL/o999/L4Qa7QwrBr9BtmzZjMrCEoeAoI8N7+EexgNGpkyZxPdyYIt4xfkiohcWXeQ2hEsT7QKePXsmolLR94k6aCmYuDZhncmBQqI+EJ7ID3efA+0vB4uJaFdcG7DC0UaIWgWwyPG7wP1qCB7yunbtKq4jbIPfZuvWrSKiVg70UjVWE2Ww4HjKb4uIalynsbkuGfWwS5bRFAQyoL8PN3r8EWPoAbL/WJJpBaKB/kM5olEIA8QEQSvolwNwR0E04DLFqyG4YcMiQ+AMykFAcDNDYIbagCTchBA0hD44uMcQEAQrcNCgQUIYMLYvJtSvX18M34DwYEHQCkRBjh4V38OViaAliB2OBXcmBAMCq4g93HBwuWIdzhFBOrgRI0gHINAJ3+FGDOGECxWBO2gTQ3fq50A9sUA0MSQFQgkRQ/COIfgNICIQQvSTylGdQhxgUeJhAA8bAEMjECiDhxElgEWhQYMGwjWJ3wjnlC5dOrFfWG5agjbFueDBxcXFRQRyIYDKEusM1wT6k3FtQtzxIIJ2QhsDXKe49mFtKw8Lhg+CuJ4guHJkrHioQF3U9IEqblu0jxyFK/7OcP0ow0rgFfnw4YP6xmBihIRQ2RhtyTBMkgUeBAgiR2cySQl2yTIMwzAMCybDMAzDaAO7ZBmGYRhGBeySZRiGYRgWTIZhGIbRBrYwGYZhGIYFk2GSLjxijGG0hS1MhjEBBqAjabvhgvkHkTgAM4xEN79kbFHmiVTStiERgTKnoxowD2WvXr3E3IyxRZmj0VR+WwXMKvO55O5abBPT+jGMVnCmH4YxA9LpIdONArLZIA0ZZopANiPk9YxpknhLQEYapM1TCxKuY0JmZCxiGEY7WDAZxgxIq4fUc4YgTyoSpSM1GlK8Rf7eGiCFmpKblWGY+INdsgxjIXDNgsePH+vdt0jwjtynSPCN3KoAOUeRgxbzQGIb5P9E8m9DMGMG8ubC1Yt5FpGgPLK715RLFgnVMVsFtsG2yD+L3L1KyjqAZPVwfSqsW7dOzDupuJax38hTryEJetOmTUUuWMwOo8yzaQmYPBr5buvWrSuOhTbBpMiwyiOzZs0aURccr1OnTvq5OBXQxsiVivy9OFdTZRgmrmDBZBgLwUwXwHDmjp07d4rk7r///ruYeBkBN5iTcvXq1UIs5s6dKxLDIwE4ZrpQgNBhGyQ1R8J0zCgCsYkO7BMigiT12Ab9lUi0jtk3lDkSAb6DAAMke4eLFknckagb05YhITuSzCvs379fiD5mK8G2SIquJIa3BMxagmTreHBAMnmINuYTxbkbBiKhrxWijdlZ4ObGgwLaDpMtA7y2bdtWuMFRd7QLHjBQd8xEwzBxDbtkGcYMuLkbWmC4oWO6MIgfXLGKpQkwEwhm88DUY+DYsWNiTkjMZIEZMQD6ITEDybRp08RsHJhdAtNzQST69++vL4M5MrGtKSAYEJk6derQhAkT9OthzW7cuFG4kZW5FSGoWbNmFVNYoc6YRmrMmDHiu8qVK1Pq1KnFZwg6RBLCXbhwYb1gY6YZ8DkBNwRWLlzWEDjlvGEdYh1m2cAMH5hTEmCGEgiz4taGBYmZZTDDCR4IMKsH5txEX7GHh4e+TtgvZu2AW5xh4hK2MBnGDJg3EQKiLBUrVhQ3cryHRWQY8ANhUsQSYD5LfA93LERXWRAZCtHA9E+Y8xOBRMo8nwqw7KKzbjHXojL/4v/bu2OVVqIgAMMLEaKFBrQI2Ija2NgJ+iA2tqJgYS9YprC2FlsbO2MjiIW9IITUImlS2fkAl3/gLJt1I9lrkur/IOSqyeZsApmdOXPuKe4D+vDwENtHlb2/v0eg5rXLY0nBnTIqmVydsVTh9dk7k6DGnqW8h5Rd2eMSnG+yvr4+MgfMNm78TNNSeg8J+u12Ox8zFyYEzfQYaZ7MMKUxCIwsIQHBr9lsxn6OZHFl7OFYRGZEhsr8XRWCCRtHY3V1deRvBI5xOC7W1tYm/tzSc9LcatVYyJ4Zb3ksKRusg+z46uoq+/j4iA2VmX/lHsWSbPk9S+c1HA7zcbNRMp9DFS4CpHkyYEpj8CW/u7v7X+/P8vJyZJzjNs7e2NjIer1e/Pvr6yvb2tr6EeCqrKysxH2a5ys+hwyxqms3PYdSMBselxG4KM+SvZG9lo9bx2AwiLlbMlXmTVN5+O7u7keZOV0wFJF9p6DNe0g5lznRKlXZtDRLlmSlGeCLnjlKMiqCbrpRimWukPIiTUCLi4vZ09PTyHNT+bIKgZXGoJeXl5HfPz4+ZqenpzGXSeArYm6QhiTmRotj4XfMT7L4n+yZ8dAlW8wCaQSqo9/vxxhoRErBEilYFo9N9sgtIbOkfLy/v5+/h5SgNzc3R8bd7Xaj47fRaNQam/RXZpjSDDB3yZpNulS5bW9vR0ZJww4NNymL4m/X19fZ0tJSdnBwkL2+vv4aMAkSNAh1Op3oiqX55/PzM45xdHQUx00Z5fPzc8z38donJyfRKPP9/R0BieDJz5Sad3Z24vHMz7Js4/z8PBqEOC7NQnVQPl1YWIju3+Pj43ypC/+RAriISAjSnD/dszQAMR4yXcZQnJflnmNxocCynPv7+3zpjDRPBkxpBsjybm5uIghQmqTsSvMKX/6ULBMyMUq3dIRyI8u7uLiIYDgOyyp4Ds01LN/guASUNEdJQKRBieyRxhnGwdIN5kZZfnJ7e5u1Wq1YYkKQpPSJvb29WGpCQxNBk0Ym5iLPzs4mPm9Kzbwu3a8sb+F1KBPTDcx61be3t3xNKfesC+Vc6eRlPJeXl/nFBOfFEhqOx2PIXCkp0x18eHhY+zOR/soNpCVJmoBzmJIkGTAlSZoOM0xJkiZgwJQkyYApSdJ0mGFKkmTAlCRpOswwJUkyYEqSNB1mmJIkGTAlSZoOM0xJkibwDyhF49HGpMPaAAAAAElFTkSuQmCC\n",
      "text/plain": [
       "<Figure size 1000x300 with 2 Axes>"
      ]
     },
     "metadata": {},
     "output_type": "display_data"
    }
   ],
   "source": [
    "# Weighted Model\n",
    "from sklearn.ensemble import RandomForestClassifier\n",
    "\n",
    "num_need_repair = np.count_nonzero(train_y=='needs repair')\n",
    "num_functional = np.count_nonzero(train_y=='functional')\n",
    "num_non_functional = np.count_nonzero(train_y=='non functional')\n",
    "\n",
    "balance = {'functional': 1, \n",
    "          'needs repair': num_functional/num_need_repair, \n",
    "          'non functional': num_functional/num_non_functional}\n",
    "\n",
    "class_weights_dict = balance.copy()\n",
    "class_weights_dict['needs repair']# *= 3\n",
    "\n",
    "rfc2 = RandomForestClassifier(n_estimators=200,\n",
    "                             class_weight=class_weights_dict,\n",
    "                             #ccp_alpha=.00005,\n",
    "                             #max_features=1.0,\n",
    "                             #min_samples_leaf=3,\n",
    "                             min_samples_split=50,\n",
    "                             n_jobs=-1\n",
    "                            )\n",
    "\n",
    "# Train Model\n",
    "rfc2.fit(train_X, train_y.to_numpy().ravel())\n",
    "\n",
    "# Training Score\n",
    "train_score = rfc2.score(train_X, train_y.to_numpy().ravel())\n",
    "print('Training Score:', train_score)\n",
    "\n",
    "# Validation Score\n",
    "valid_score = rfc2.score(valid_X, valid_y.to_numpy().ravel())\n",
    "print('Validation Score:', valid_score)\n",
    "\n",
    "# confusion matrix\n",
    "plot_confusion_matrix(rfc2, valid_X, valid_y, normalize='true', cmap=plt.cm.Blues,)"
   ]
  },
  {
   "cell_type": "code",
   "execution_count": 30,
   "metadata": {},
   "outputs": [],
   "source": [
    "# create_submission('rfc', rfc)"
   ]
  },
  {
   "cell_type": "code",
   "execution_count": 31,
   "metadata": {},
   "outputs": [
    {
     "name": "stdout",
     "output_type": "stream",
     "text": [
      "Training Score: 0.8378426966292135\n",
      "Validation Score: 0.8013661693330937\n"
     ]
    },
    {
     "data": {
      "text/plain": [
       "<sklearn.metrics._plot.confusion_matrix.ConfusionMatrixDisplay at 0x1688aeeb708>"
      ]
     },
     "execution_count": 31,
     "metadata": {},
     "output_type": "execute_result"
    },
    {
     "data": {
      "image/png": "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\n",
      "text/plain": [
       "<Figure size 1000x300 with 2 Axes>"
      ]
     },
     "metadata": {},
     "output_type": "display_data"
    }
   ],
   "source": [
    "# Extra Trees Classifier\n",
    "from sklearn.ensemble import ExtraTreesClassifier\n",
    "etc = ExtraTreesClassifier(n_estimators=100,\n",
    "                           min_samples_split = 50,\n",
    "                           #max_features='auto',\n",
    "                           #criterion='entropy',\n",
    "                           #warm_start=True,\n",
    "                           n_jobs= -1)\n",
    "\n",
    "# Train Model\n",
    "etc.fit(train_X, train_y.to_numpy().ravel())\n",
    "\n",
    "# Training Score\n",
    "train_score = etc.score(train_X, train_y.to_numpy().ravel())\n",
    "print('Training Score:', train_score)\n",
    "\n",
    "# Validation Score\n",
    "valid_score = etc.score(valid_X, valid_y.to_numpy().ravel())\n",
    "print('Validation Score:', valid_score)\n",
    "\n",
    "# confusion matrix\n",
    "plot_confusion_matrix(etc, valid_X, valid_y, normalize='true', cmap=plt.cm.Blues,)"
   ]
  },
  {
   "cell_type": "code",
   "execution_count": 32,
   "metadata": {},
   "outputs": [],
   "source": [
    "# create_submission('etc', etc)"
   ]
  },
  {
   "cell_type": "code",
   "execution_count": 33,
   "metadata": {},
   "outputs": [
    {
     "name": "stdout",
     "output_type": "stream",
     "text": [
      "[Voting] ...................... (1 of 3) Processing hbc, total=  11.9s\n",
      "[Voting] ...................... (2 of 3) Processing rfc, total=   2.0s\n",
      "[Voting] ...................... (3 of 3) Processing etc, total=   0.7s\n",
      "Training Score: 0.8457078651685394\n",
      "Validation Score: 0.8060399065252561\n"
     ]
    },
    {
     "data": {
      "text/plain": [
       "<sklearn.metrics._plot.confusion_matrix.ConfusionMatrixDisplay at 0x16891626388>"
      ]
     },
     "execution_count": 33,
     "metadata": {},
     "output_type": "execute_result"
    },
    {
     "data": {
      "image/png": "iVBORw0KGgoAAAANSUhEUgAAAcwAAAEmCAYAAADvBKBiAAAABHNCSVQICAgIfAhkiAAAAAlwSFlzAAAPYQAAD2EBqD+naQAAADh0RVh0U29mdHdhcmUAbWF0cGxvdGxpYiB2ZXJzaW9uMy4xLjIsIGh0dHA6Ly9tYXRwbG90bGliLm9yZy8li6FKAAAgAElEQVR4nOydBXwUxxfHfxt3IAkpboHg7u60uFtxaylQinv5U1xKKVLc3UqhQCkOhRaH4u4WCCFYBJJw/3lzvePuImySC7lL3pfPcnd7szuzc5v5zXvzZlbRCMAwDMMwTKzYxPotwzAMwzAsmAzDMAyjFrYwGYZhGIYFk2EYhmHMA1uYDMMwDMOCyTAMwzDmgS1MhmEYhmHBZBiGYRjzYGee0zDJnTNnzoDWuLC3t0/qojBMiiY8PByKoqBo0aJJXRQjrl69infv3hnt+xgODg7InTt3nI5JSlgwGVWQWIZHROLh01cWVWO2Ngp8PF3x9HkwIt9bzqJVWTN6JXURov0NI0Rjayc6PdTgWhKWuN4Y1VdkRDhs7Syrvix1cbZ3QixpexTwWlX6DGndE7lE5ocFk1EFWZYkli2GbrSoGvPL4oXFIxtg6C/7cO1eYFIXR0/QiVlJXYQohIaE4Nb1y8iSLSecXVySujhGvAmLSOoiROFtWAj8715H2ozZ4OhkOfX18NZliH6iRfJIiGWLYZtUpV0/vgmyWWDHMjZYMBmGYRjzoViompsBFkyGYRjGfCjJd/IFCybDMAxjPhS2MBmGYRjm42Kp1sK0QmFlC5NhGIYxHza2ybY2WTAZhmEY86FYn+WoFhZMhmEYxkwocQj6EWmtDBZMhmEYxnwo1ieEamHBZBiGYcyHwtNKGIZhGEaFYLKFyTAMwzAfEUvEYVqJumSWBLtkGYZhGDOhcNAPwzAMw6jCludhMgzDMMzH4TFMhmEYhlEBR8kyDMMwjBrBFOOYyRQO+mEYhmHMJ5YKL77OMAzDMOpEM5nCFibDMAxjPhRe6YdhGIZhPqaWcXi8l/VZomxhMgzDMOZDsT4hVAsLJsMwDGM+FHbJMgzDMMxHxJI2XkuWYRiGYT4Ou2QZhmEYJmUvvp58nc0MwzBM0liYiootgbx//x4zZsxAxYoVUbhwYXTu3Bl3796NMX1AQAD69euH0qVLy+27776Dv79/nPJkwWQYhmHMhyJkRc2WQGbPno21a9di7NixWLdundBgBd26dcO7d++iTd+3b188fvwYS5YskRuJZY8ePeKUJwsmwzAMYzYUGxtVW0IgUVy8eDG+/fZbVK5cGXny5MG0adPw5MkT7N69O0r6V69e4cSJE1JQ8+XLJ7evvvoKFy9eRFBQkOp8eVoJYzFUL5sXw7vXR+4c6RAY9AZLNh3GtKW7YkzvYG+HHm1qwC9vQRxcXQjX7vhj1sq92PDnSaN07RuVQ/fWVZEtgxcePAnCoo2HMG/tgcS+nASx559LGDd3K67e8odXGjd0alIBfTvWkr3omFj3x3H8LOrrzqNAZPosDb5tV0NeuyGXbgVgwMwDOH/tIVydHdGidkmM6FEfjg728vtCDUbi/uPn0Z4/i6i/s1t+kO8X/3oI/Seui5KmY5PymDa0dXwv22zsP3YZUxb8gevinvBK7Ya2DcuhZ9sasdbfpp0n8cvKPbgr6i/jZ6nRpVkFVM6f2ijNjbtPMG7O7zh65gbs7GxRurAvvu/VEFkzeOvTXLz+AJPmb8fZy/fwXqNBwdyZMfTrevI1JaCYwd36Ma5cuYLg4GCUKVNGv8/Dw0MKIQlj3bp1jdI7OjrCxcUFmzdvRqlSpeS+LVu2IFu2bEiVKpXqfFkwGYugVKHsWD31a/y2+7QUijKiIRrxTT3YiD++qUt2RnvMonGd8EXFAggKfIof5u6CZ2oP/CQaa0/RQOoEsXPTCpg6pBV+XrZLNKJXUCJ/Noz9rjFcnRzwUyxinJQcO3sLX/afh8Y1i8kOxNGzNzF2zjbZ+A7o/EW0x2zecxrfjFqB7q2qyI7H9oPn8N241XBytJeiSNx5GIi+03aiVMEcWDyhC67d9hfn3YpXb8IwfcSXMs3KKd3w9l2E0blPnL+N4dM2SdHWcf7aA+TJng4zvm9jlNbH092cVREvTorydhmyEPWrFcXAbnVw4twtTBbiSfXXu32taI/Ztv9f9Bm3Cp2bVcL3pfNg56Hz4pp/w8iuldA+ay6Z5pHobDXuMR2+WXwwc2R7hL0LF6K8HW36zcXuZYPg7Ogg6vgZmvWaiQJ+mTBlSGt5/85ftx9Nes7An4sHiGM/+5RVkUTTSqAOkY5cpH369Ikxyd69e6Pdrxt7TJ8+vdF+Hx8feU5TSDDHjRuH0aNHo0SJElLU06ZNi5UrV8ImDtZuihRMMsMHDx6MO3fuoHr16pg+fXqi5kcm/549e9C8eXP5uV27dsiYMSMmTpyYqPkaUq1aNTRu3Fi6MCyRQV3ryEa4+/+Wy897j1yGvejBf9ehJn5ZvQ9hb8ON0hcUDVK9qoUxe9UeVC6QRjaK1+4FIiTsHUZ92whrth0TQhCKPh1qYdPuU/hh1u/yuL9OXINvVh90a1nZYgVz8sI/5PXNG91Bfq5RLh/CIyIxfdlu9PyyGpyF2JsyTghqw+pFML5fU/m5etl8ePEyBBOFpaMTzNlrDsDFyR5LxncQvWoP1CqfX55r0JT16N/lC2RJ74lCJlYQ1WGX4UtQq0J+UZc19fsvCAu1WP6sKFkwe2JVQ7yZtuRP5MuVEdO/bys/Vy2dFxGi/mYL70O3llWksJlCwle3SmGM6t1Yfq4ijnn+4jUWbTmD9i21nZSpi3fAzcURa6b10P8GmUWddRbifO7KfWltLt5wUHZSlk3+Ci7CgifKF8+FMs1+wBJhlY/t2+xTVEESosTBwoy/JRoaGipfHRwcogjjy5cvo6TXiM7S1atXUbRoUXTt2hWRkZHShduzZ0+sWbMGbm5uqvJNkWOYNFhMP+q2bdvw/fffJ3p+kydPxu+/axtsYubMmRg+fHii52stkGu1QvGcopd/1mj/ln1n4O7qhLJFfKMck1tYN8Thk1eN9v99+rps1CqW0FoFzXr/glEzNhuleRceCUeRpyXyVlgth0/dkJ0BQxoKa+lNyFsc+fdmlGPuCRfijXtPoxzTQAjo7QfPpBuROCA6C+UKZZb1rT+vSPP+vQb7jlyKtjxTFu6Q7vEpg1oaRSdeuvFIirqlQdbx0X9voHalQkb761QpguDQtzgurHdT7j8OxK37AfjC5BjyXjwMeC3rkBrcP/86h5Z1yxh1WArnyYJTm0dLsSRyZv0MX7eqphdLgtKn90mNu8L6TAkoom1Vs+ksRLIiY9piwsnJSb6aBvi8ffsWzs7OUdJv374dq1evxpQpU1C8eHHplp07dy4ePnyIX3/9VfW1pUjBpAFg8nWT/9rb+8PYQ2JBf2yGpE6dGu7uSe+6shSyZfSSY2jU6BtCjRiRU7jATHkmGnGCGiJDsmdKK191Y0rX7jzBfX/toH5qDxe0a1gWreqUwsKNf5n3IswEuU3fhUdEueYcmbXXZVpHxFXhWiVymrj7DI8JFZb3A1EPmT/zMErjncZddkpuRnNeEuL56/8SY6HVpfWpg85HlvyJC3dQoukPSFumN0o2HY2124/F44rNy71Hz2SHSHftOrJl0t4Pt/+7pwzRdShMj8kq7kt5jBBMGtcl13XmdJ4Y/tNGFKw7DDmrD0CnwQvwULhqdbRvXAHdhRfAkFuivq7eeiw6ecbuw+SKEgfBjC86V+zTp8b3LX1Ol07bmTbk1KlTyJ49u5ElSWOXtI88jWpJcYJJrsnjx4/Lwd/cuXPLz+QiNYQsQNqvg9KtX78enTp1QqFCheS8n3nz5hkd8/fff6NVq1ZyPlClSpUwdepUafYPGTIEv/32m8yTzkNQfrRfx5kzwu3Tvr3s+dD8oGHDhhm5Fags8+fPl+5UcilQmvHjxws304exJuolNWrUSJavSJEiMg9yPVsDqdxd5Ovr4DCj/WRREdSgm0KW5O0HAejfuQ5c3dxlAAtZov8TARiRke9FD9/YVVO6UA7c3jsZM0a0weWbj8W40sFEupqE8fJ1SLTXTFZzdHUkjxFu0+iPcdIfo0tDY7em0HHRnXeuGAd2dLAT46JVjfaT65wgERnbpwnWTuuOInmzyDHUZb/9/fGLTETIhUy4mdaF88frz/QYuqeINyFhCHyh7aCNF+Pr/gEvMOt/7TF5UCtcvPEQLXrPQoiwXqODOip9x6+SbloaH00JKJ9AMCkqlsTv2LFjRobQpUuX5BhldAJLczTJAjV06z548ABZs2ZVnW+KE8yNGzdK0alduzYOHz4s36t1q5IgUWRV06ZN8dNPP+HkSW005tmzZ6VfnIRq06ZNUsw2bNggJ9WS65XyonwoP1POnTsnxS1nzpxyLhEdQ/toEi65vgxFvGTJklJ8STiXL18uXcoEhVH/73//Q8eOHbFjxw4sW7YMYWFhVuP2pcCI6CxxHRSsYQqN6TX99hc8CXyJbL5+2LdyGBaN7ywaNG2dhIQau2oo8rHu1z+j24il8HBzwv7lg5DWAgJUYrrWmBoUXV0ZHfNed4zxfl192tgoMabRpVNEGtOGfuXvR9C2QVlpmRtSsbgf1v38DbbM/la4LQvK8dIFYzuiSqncmDBve4y/46dAf50xjI9RXZii0ddNlArUHiP20/1G0D2zYFxnVC6VB00+L4G5oztKS3zTLuPIbJ04dxg0X45vUpBQBhG5nCJQVG4JgMYu27Ztix9//FG6bilqluZZknVZs2ZNaazQQgXUDhLUdhMUYERpdenpPE2aNFGdr2UO5CQinp6esLe3lz5wipKi92qggJmGDRvqK5384WTmU2+GxIssO53V6OvrizFjxkj3ALleKS/Kh/IzheYSkeU5cuRI+ZmEk6zTBg0a4NChQ3KOEUFWLVmhBLmSSfhPnz4tbwRy8dLkXd1NQQFFFGBEImpObEVj45dF66YyJ6ndtVZP7qxp4f8kUL9fZzE5OdjGkK8G43/ZhDE9qmPur2dw/Pxd+Hh7wNbWRoxRRi3rs2dBchs4cTU2zuqNvh1qYOmvieOaDQ3RWopxxclO25IEPn9pdI4X/1mezqIuTM/t7KDt9wY8e4F0nq76/XQO7TlFffz3iMLg0HC8DdNaVIaWvIuwgAzP++fhi7LBb1ClQJT83J3tULGoCPZ5HyG+++DlqFrKDweOX8W9B0/h4xW3zohpZG58cXLQ1l/Qi5fiOj+U++Vr7TU7O9oY7dftI54HvUB6rw+dg5evXuvr18FWK54VxVh7+LsPVmp+Xx/ZATt/RVgvn3/ofD96+kJ0zpZLd+6MEa3Fcdmj5BtfNJr3Zpn4nxgoovrVRp1S2oTQu3dv6WUbMWKEFEYyKBYtWiRFkCxHCuicMGGCFESKntWNYXbo0EGWkdpuCvih6ShqSXGCGV9IBA0hd0B4uDZyk6KvypUznu9GvRw1XLt2DeXLlzfaRwJKPyKdVyeYpvmTEOvypxuFOgIUzERuh9u3b+Py5ctGFqo58BGN8eKRDcx6Tl3PnqySfu0qosMXfvr9Ts7axqtFtVyoVzp9lGM8UqVBSMgb0YC9Q7eGBeXmkUo7pvllzdxoXjkb3D1Si0Y9WAQHGLvMqG5a1iqESibz7MzFreuX43XcezF+SR2TU2cvIXf6Dw/ivXxbO/bmZhcW5dwOka/k67FTZ+GqaN9rP9+Wr8LhCv8HN5E2jQseBLzCw/sfxmyCXodJYUzjFGF03t/+PIL03m5wt30TJb8zV/3hH/gGtcvlNNr/6NEjWfbnT+7izXO1DxE2L46iAaUyXLh4FYUyO0SpP0/HcPjfvW50jLsSLF/Pnr0AL3vte+LiZW39eTlHiPMGSUszKPBZlOPDxW8W+TZYv//G/efo//MuvBVjqT9+V0OWw/SYhGJrEh1qSSgJVUKV2NraYuDAgXIzJVOmTLL9NITaUAr0SQgsmAJTF5Lh2KAO0/Blw+Ps7OzifZNId1g0x1KDbmj9xpY/RYANGjQI9erVk5Zus2bNpBDTnCNz8vR5MIb+ss+s59Txy6jUMvCn6+gP0cQ929ZE2gyh6PD9+igWCLnWdi0djBOHz8MvnS1GzT+IB09fifN0BETUY9vh62U06O5lg7Hj4FlMEGNPOvL6ZsDSycWxYNMxbNp5IlGu58CKwfE+tkzhHDh26SmG98qjvzdW772NVG7OqFOzgrCIjL0iOURAcNYM+3Hi6nN0bV1Hv3/SqlMikMUb5cpop5VUKZkbf528hgn9mosOmdYCXLb5iLTIG9WphIwGAVQ3Hu5AuaJ+4tx5o5Rv41/3MH3FYdSpXlYEWXnr79d/LuySU03y5CsQ52sOMZOFSZQslB3/XHyCvl811tff8l03pSVYtXIZOZ5oSDoxhJU5/X4cvRyIL5t+mKf5z7JjMkgqf/68sHd0QomC2fD3+UcY2Se7HNuVaU7fQOjbCFQuV0ScJ5e0LPtPXy/aBHusnPoVcomoWXMT8FAr5CldMJOCFC+YJEqvX2tdLzpiW8A3Oqjncv78eaN9S5culeOdNOYY2w3k5+enHwvVQf71N2/eRLEqY4J6TSSSP/ygXYWF0IVkxyTI8SFSjPXQXMfEYPTsbdj8Sy8M/aYhVm09KhcyoNVZRs3cgvM3nkj3LE0lIReXLgBjgYjg7PFlVQQF+MMnrSc6NKsu5xG2GTAfV+9qQ/h/XrYbA7t8gdsPnwt34RUZfTq4m3bO57Rle8zmCjTF2cV43C8uDBLla9RzFnqMWYs29cvg+LnbmLP2IEZ92xCeaVLJwBaKjCWxoihX3TzWnqNXijG2rahdqSB2/HUeW/efw2IxrqsrS6+21bFF7OsycjV6tashI2PHzN6Kjo3LI2e2DPr8KWjq+t2naPZFyWiv4+vW1bBq23F0Gr4MQ76qC2cneyzccEiU6Ql+n9M7XtceaWO+36FPxy/Quu8c9Bm/Hi3rlsZJEc27QJRvWPf6MjKSLGpaAYgiqWkVJe0xn6P/hDXiswdqViiA3Ycv4M9Dl/DD11WkWDo6uWDYNw1kgM9X368QdVAVAc9fy45Y0XxZUadqcdnxGDd3jbg/gzFhQHO8i1Bw8eZToyAsv/+mQyUExULdsXqSr16yYBYrVkwG6FCwDs3NOXDgAA4ePIg0adQP0FPADwUC/fzzz3Kc8969ezKKtk0b7SootCQTjWfev38fmTMbTwynQB1KR9YgvQYGBsr3NO2lbNmyqvKnCDAaz6SoWHLV7tu3T65goZunRJN5LZ1DwvJpP3ghhooGmFabeRzwEiNnbMYvq7QWLQnhtnnfoccPK+SiBAQFmKR2d5KBKVMGt8a5qw/Qos8cuaKPjkkLduBp4Ct0ERGKtApO0KsQbN5zBuPmbE00sUwolYQluHxSV0yYvx1tBy5A+rSpMLp3Iyl4xLmr91G/+wz8MrItvhSCStDrW+EapKUBV209gmwZvTHnh/ZytSAdubL6YFrfWli07SI6Dlkkl4z7RjT8w7vXM8r/+ctgRAjRNA320ZHOOxV2LOiL0b/8jsE/bsAbIUAkGr+JDk9pYR0nNeVFUNK8sZ3w06Id6DpskShvagzv0QBf/xfte+HafSF8v2Dq0NZoUae03EevNJ1n3tr9WP/HMWRJ74Upg5qjrN+HaQjFC2THuum9MHnBdnw1YomcX/l5hYIY0bOBFEs6fu8/2sj0oaJeTCkjorg3zLTMhUOsbeGCpCLFW5j169eX432TJk2S4kJTQuixLxTIo5a8efPK8UOKcF24cKEM7qHI1+7du8vvKRiHIlnJZWq6MDBFzy5YsECuNkTpaGy0Ro0a6N+/v+qAJFp8gYKGKGqMXLcUck1RvRQFRhG8urUTLZ3tB87JLTpoGkmakr2M9lGjPm/NPpTO5YbOwpUbnfVLFvbiXw/LzZqgRQhMFyLQUUEIQtCJWVH209J1hsvXRUdhv3TYNqdqrFYgRYJGd35DaHm4ZULULRVauMB08QIdZYvmwv1DP0fZ37ZhebnpoCAd07HHEgWzY/0M4/tQBw0B3D7wUwJKnTxQkrFLVtEkZQw4YzWcFy5nmlTfYujGpC6KERQJS4FIMQlmUvExwUkKKNqVAnhoXDIhLuPE4E2Y5Vn7OsGksUlyyVoKD29dFgFIQMGCBZO6KFHaiLsBwei88p7R/phY3DYLsqZ1tbjriI0Ub2EyDMMwZkKhGS+K6rTWBgsmwzAMYxaUOLhk1aWyLFgwGYZhGLOhJOMxTBZMhmEYxmwoLJgMwzAMo0YxVaSxUtjCZBiGYcyEwvMwGYZhGEaVZLJLlmEYhmE+ppZxEEwrdN2yS5ZhGIYxG4raeZhWCAsmwzAMYzYUdskyDMMwzEfEkjZeuIBhGIZhPg5bmAzDMAyjhuQ7hMljmAzDMIz5UHgMk2EYhmE+qpZxmFZifaYoR8kyDMMwZkOxPh1UDQsmwzAMYzZseB4mwzAMw8QOTythGIZhGJWwS5ZhGIZhPqqWcXDJWuFYJ49hMgzDMGZDsUIhVAsLJsMwDGM2lGSsmCyYDMMwjNlQkq9esmAyDMMw5kERm42Njeq01gZbmAzDMIzZUKxRCVXCgskwDMOYCSUOY5jWp6wsmAzDMIx5UOJgYapNZ0GwYDIMwzBmQ0nGPlkWTIZhGMZsKMlXL1kwGYZhGPOhJGPFZAuTYRiGMQsKbYr6tNYGCyaj/mZxcUGu+o0sqsaypLLVvlaqAs3LyCQuzQeuPX6d1EWIgiY8TL7eexYMxd5y6oqws1U3d+9T8j48XL4GBYfD5t3bJC7NByLfa2Bja7lyY5OMH+9leXcpwzAMY9UuWUXFllDev3+PGTNmoGLFiihcuDA6d+6Mu3fvxpg+XHSApk6dKtMXKVIEbdu2xeXLl81vYZ44cSJOJy1ZsmSc0jMMwzDJAOXTTSuZPXs21q5diwkTJuCzzz7DlClT0K1bN2zbtg0ODg5R0o8aNQr79u2T6TNnzoxp06bJ9Dt27IC7u7v5BLNdu3aqegQajUami6tqMwzDMMkD5RME/bx79w6LFy/GwIEDUblyZbmPBJCsx927d6Nu3bpG6e/fv4+NGzdi3rx5qFKlitw3fvx4NGrUCBcuXEDZsmXNJ5jLly+Py7UwDMMwKRQl8fUSV65cQXBwMMqUKaPf5+HhgXz58kmPqKlgHj58WH5fqVIlo/RkccYFVYJZqlSpOJ2UYRiGSZkocVDMx48fo0+fPjF+v3fv3mj3+/v7y9f06dMb7ffx8ZHnNOXOnTvSDbtr1y7Mnz8fT548keI6ZMgQ+Pr6Jm7Qz/Pnz6W/uHHjxqhQoYJU+1mzZmHPnj3xOR3DMAyTDFD+E0xVWwLyCQ0Nla+mY5WOjo54+zZqRPObN29w7949Oe7Zr18/zJkzB3Z2dvjyyy8RGBiYeNNKyBfcunVrWajixYtLsYyMjMTt27dlYWjT+YgZhmGYlIUSByUkCzEmKzI2nJyc9GOZuvcE6ZKzs3OU9Pb29nj9+rUc59RZlPSexj9/++03dO3aNXEszEmTJsHLy0teJFmVFOhDULhutWrVMHfu3LiekmEYhkkmamljo25LyGCnzhX79OlTo/30OV26dFHS0z6yKA3dryS05KZ98OCB6nzjLJhHjhxBjx495ICpqa+6ZcuWuH79elxPyTAMwyQTFKELaraEkCdPHri5ueHYsWP6fa9evcKlS5dQokSJKOlpX0REBM6fP6/fFxYWJj2mWbNmTdyVfmxttaurmELmcUIrgmEYhrFelE8gATR2SQsP/Pjjj/D09ETGjBllXA1ZkjVr1pTDhBRrQ/MryZIkwSxXrhwGDx6M0aNHI3Xq1HLRA9Kyhg0bJp6FSRlTlFFISIh+H4kkrbqwZs0aFCtWLK6nZBiGYZIJNkIP1GwJpXfv3mjWrBlGjBgh42pI/BYtWiTFlCJlKSD1jz/+0KefOXOmnPHRq1cveRwFAtGUSRLcRLMw+/fvLwtXq1YtlC5dWoolFfLmzZtyWaLVq1fH9ZQMwzBMsomShSoSKpkkkLRwAW2mZMqUCVevXjXaRy5cWu2HtvgSZwvTz88Pv/76qxRL8h9Tof/55x9kyZJFLlOUN2/eeBeGYRiGsW4UoZhqNmskXmOY2bJlk1GxDMMwDGNIMn5YSfwEk6KNaO4KWZYUmUQ+YFqiqH79+tEuesswDMOkAJQ4PN5LZTJLIl4LF9BjVGjuCvmJaU4mLTu0detWOYC6dOlSpEmTJjHKyjAMw1g4ijUqYWIJ5sSJE2VELFmYNBdGx7lz52T0ET06ZfLkyWYtJMMwDGP5KGJLxgZm3IN+yA1LkbKGYkkUKlRIrtEX19XfGYZhmOSDwkE/H3BxcZHr8kUHjWXGtKgBwzAMk/xRrNF0TCwLs02bNnLRWt3jVXTQJFB6OGerVq3MVjiGYRjGmlDisHCBkjzHMNu3b2/0mRYooIULChcujLRp0+Lly5f4999/5djmZ599ligFZRiGYSwfxfp00LyCqXsiiQ7D5e8CAgLkKz2Mk3j27Jm5ysYwDMNY4RimOox1JdkI5ooVKxK7HAzDMIyVowittFUZJqsomuQ/hhkbtCD7X3/9Zc5TMgzDMFaEonJLEfMwHz58iJEjR+LEiRMIDw+PNs3ly5cTXDCGYRgmObtkU4Bg0sIEZ86cQYsWLXD69Gk4OzujSJEi+Pvvv3Ht2jX5CBWGYRgmZWKTfPUy7i5Zsiz79Okjn0HWtGlTuXYsPV6FnmBSsmRJ7N27NzHKyTAMw1g4yn8WpqotqQv7KQQzODhY/wgvX19fvfuVFiygOZpHjx41bwkZhmEYq0ERSqhmQ0oQTB8fH/1UkqxZs8o5mE+fPpWfU6VKhcDAQPOWkGEYhrEaFKGGarYUIZiVK1fG9OnT5fhl+vTpkS5dOixevFiu9ENuWV64gGEYJmWPYdqo2FJE0E/v3r1x4cIFzJgxQz7Kq2/fvhgyZAiWLVsmv6cIWoaJD2V8vfBNVV9kT+uKoOB32HTqIZb9fSfWY4pl80L2XL5Yld8JQSHh2H/5KWbvu4Gw8Pf6NDv6VYSXm2OUY2tP/QuBIh9r5cipq5i7ajdu33uKNFmE7F0AACAASURBVKlc0fiL0ujQrLKq3vvlGw/RZeBsbJw7ABk+M34c38GjF7Fo3T7ce/gMXqndULtqUXHeKrC3j9fjcy2Cf05exewVO3HrvqgrD1c0rVMGnZpXUVlXj9Bp8AJsXjBQ1JWn3PfoyXPU7zwpxmPq1yiOUX1bmK38VoNCYqioTmttxPkvgJ51uWHDBr0btkGDBsiQIYNcGo+eWFKqVCmzF5JJ/hTMlApTWxXG7otPMGf/TRTJkhrfVPOVPdElh6MXzQp+3hhcvyBevgjElB3X4OLiLI7JiTQuDvj+twsyjaergxTLaTuv4fyDF0bHvwiNflqUNXDu8l0MGLcCNSoURPc2NXFWfJ67cpdclatTi6qxHnv9jj/6jVmFyMgPnQodx85cx+AJq+R5e7b/Ajfv+mPOil0IehmMgd0bJtblJCpnL91B3zHLUKtiIfRo9zn+FZ9nL98JzXsNurSqFuux1+8/R//pe6PUlbenB5ZO7REl/fptR7Dr0Dk0rFXSrNdgLShQL5jqUlkW8e4y0limjhIlSsgtOULTZOjZn9b22LJNmzZh6NChuHr1alIXRRXdKufANf/XGLX5ovx89GYg7IRati+fDauP3sPbiKiNe79afjh6IwCpQu/jwoNXuPsyUP6xtiyVGY52NvIYv3TuMu3+K0/h/zLsk15TYrJw7V74ZU+PH/q1lJ/LFs+NiIhILP/1AFo3rAAnx6hPFAoPj8TanRewcMsZOEbzPbFt7ymkS5tKntfW1gali+aSYrlmy2H07VoPdnbW9zSi+Wv2IHeO9BgzQPtgiHIltHW1dON+tGlcMYa6isCazX9j7uq94nuHKN87CGu7YJ6sRvsuXX8gxbJn+89RNH/2xLkYK0CxRiVMzMXXY4NcHDr3LJN01KlTBxUrVrSKn8DeVkGxrGkw/+BNo/17hXuVBJOszWO3nht9R0KYydMF8/ZeQSu/D/vXHb8vtw/p3PBKWJLJSSzficb89Plb6PZlDaP91coXwIpNfwkL6jbKFDWolP/45/R1LNn6Lzo2FS5qrzQYP2tTtOcmgSCx1JHKwwXhQmCCQ98ilbuL+S8oEaHrOXXuFr4WVrgh1YUFvezXgzhz8TbKFotaV4eFC3fhuoNoX6cwfDJmwrhffo81H7LsJ87+Ddkz+6BNI+v4u0sclDgE9CjJM+iHbga1Gz2xhEl6nJyc5JNkrIGMaZzhICzCe4EhRvsfPNd+zuIVtZH2+8xNvr4TVmSW7GIMs2cl7BlYGQO+yA0Hg8be7zN3vA4Lx6TmhbBvUBUcGFIFY5sUEG7aqFaDtfDQ/7kUsCwZvI32Z0qv/XxfjD1GR96cGbBxYnN0albJSBANaV63LO4/DpTC+/pNKM5fuYe1v/8trTJrE0viobgWqqusGY3/FjKn95KvNE4bHflzZcKW+X3QoV5h2Np8vJn88+C/uHjtAQZ8VT/Guk0pKEIH1WzWiNUsvp47d26MGTMGO3bswKlTp+QUlrZt2+Lrr7/Wp9m/f790od64cUNG69atWxc9evSQiysQr1+/xuTJk7F79265rF/+/PnlogsFCxbUn2PdunVYuHAhnjx5ggoVKsjxWUMOHjwoo4Rv3rwpH6ZNUcPk+qTyxFTu7t274/fff8e7d+9kXWbKlEmeg/ZRdHGuXLlkMBXlp3On/vzzz/juu+9kcNWrV69Qrlw5GVCli0Km55H++OOP+Oeff+TUHm9vbzRq1EgeYyP+wE1dstGVI0eOHOb7gRKAu5PWJRb8NtJof8h/n10do96macTYJDGwXgG8DX2BqbtvwyuVm3TtpnG1x/BfL+gtUR8PJ2w+/Qhrjt1DNm9XfF0lB+Z1KI62848ZBQdZC2+CQ+Wrq4uT0X4XZ22dBIe8jfY4Hy8PRNgYj+OaUrxgDrRrUgmzlu6QG5E7RwaM6W+dz7l9Haz1LLi6GAd9ufz3OTgkes+Dj3cqvA8Pw9voqzIK1MEonC8bShTyjX9hkwk21qqGKrCqsDcSu++//14Kx5YtW/DTTz+hePHicvyUFn0nsSCRKF++PO7duycF9vbt21KcyPrt1q2biPSzlw+6dnNzk+do3bo11q9fLx9Ptn37dowePRrDhg2TAkXCSg/LpukzxPPnz9GrVy8ZFVylShUpWoMGDZLlGjduXIzlJhFesGCBCByIlCLVv39/XL9+HVOmTJHTckjoScxmzZolz6vLi6brTJ06VQr+qFGj0LVrVzmeamdnJzsKXl5eWLRokbyWAwcOYOzYsVL8a9SooaocccVW/CFkTWX+Maz0btpz+rjaGJ1f94eXyjFqvt4u2s8X7z2Dd8QTPH/xBhdFUI+nsw3alPfFtpN38OhFKBYIl+07EbBxJ+CNTB/08jWmhYRibItiaFc6I3adf2T26yE0orFNLCLD/2vFI98Z5aP5LzBF0URGm78mQhsRTK+aCG3AkybirVHaiXO3Ytv+f4UVWhElhHg+fhqEBesO4Lv/LcKsUe2jHe8zB+/f2yRqXWkiw6UA6vMTfwP/fWG036hMom5kkvcR2s/iXNGlPXv5Hq7efIQfh7aO8VzmRPu4RcsVJcVyi5ayBLNx48Zo2FAbqUfL861evVpamySYc+fORbNmzaQAElmyZMEPP/yADh064MGDB7h//75cA/fIkSPw9NSGhvfr10/OJ12+fDkmTpwoX2nsj1YsIr766isZ/XvlyhX5maxOss7I6syYMaPcKF8SoNigMuusWHr49rZt27Bx40b9vk6dOsk8SPx0gkkWMAkxWcEEiSuVjcpPSxDSOT///HNZBqJdu3aYP3++tChjEkzDcsQHT2cFo6p4xPv4mHB01Pb2OxUV7lPfD3VpY6sVxapZ7VDEzThfT29tw53VKQTBQgu/LqF10To5aRu5AVV88OpFkO5MYjM8XiN+swg0LeSJcl5aITU3EUH3EuW8hHOE9rpeBTwU+Xz4E34VrL12Z4TEmn/ka3+8D9EuMBL5UpzD/pV8HxAUjC17TqNdnULo8kVOua9wRi/4+VRD+/9txpZte9G0mva5t+ZGK0nmx+Gdtq5ePLmPt89sotSV0/tgsT/2qUuRIVqr/F3QA7y1fRnl+117j8FdRGaXyOrw0XOZDweLFUtblYppjcJqVYJJS/EZQpaV7okply5dwrlz56QFZvrga3KfkkVHVK9e3egcJIBv//O70OLx5MY1pGjRonrBpCUB69WrJ61BsjrJCiWBq1Yt9tB0WhFJB5UzukAqug4Pjw+Nuqurq14sdddO31MZKZiH3NF//vmnDLAiEaYy0lSf2MaQDcsRH56HajDz+OsEnSM67G3fYIXfexx8oMHvp7WNN+Erxh8nFgDmHX2OSw8/7CeKZrPDsIyZsevmO5QXXup5J9/g8Zv34hgRfJEbWH32jTgmBKVzeuO6/yv9eKiOlfkU7L8VjLVHjM9rLsY2FgVPJLK6ZhDjalvw+LUN7NJk0e/3D3woX31z+xnt10GWJYmlrXs62Lhog6hsU2UUaVPL98+e3hd/M0CRIgWMjvcT71O578SdZxHRntccJNa4Xw6PjKKufseTYFs4emfT738apK2rXHnzGO03tTDDXzyGrYu2fhzSZBJpjeesEkcubkGVsvnhmu7TDHG8ff7gk+QTXxRrVMLkKJi6sUhDdKJIQkEuS7JCTaHgF7K8SGBpbC+28+rOp4NcuIaQi7Rnz57SBUzjh2SlFitWTFqnsQXgmJ5/1apVUhQNobHHmPLVHUtr9oaGhkormF5r164tLUdyVessYzXliA+RIv+7L2O3puN5Zpy5+wJFsntj5v4PPfT6JbxlhOu+a0FRppU8vfQcfWpHIF9WEcwR9kCKJZXti6KeiBCuyb3imNB3kZhf1Q97Lz7FqC3a6SpE5dxp4Whvi31XnyfS9YhGwz5hdR0bNORbJH92HDh+FW2bVdM3UPuPXYO7qxPy5/UV+cfsOlXsHMSm/V6xc9SXNXPm9DLA5ezVRyhf+oMn4u6DALx8HYqM6dMm2nXZJJJgOovyFi2QXdTNVbRvXv1DXR29KurKGQXz+cImlroiFBttM2lj7yg24+t/+TpEBEk9R8fmVaN8l1IFycayi5dyBDM2KHDm1q1bRlbU8ePHpQVG439+fn4ywIYsSkqrg566kidPHmmxkQVJLl5y4+o4f/68/j25Z//44w85xkljgB07dpRBNBQ4RGvo0piimnISZA3q3K8EjZXSHwK5mokXL17IcVhyLRNkIVPQEo21Hjp0CBcvXpSPVKNgH116KoOp4FsLiw/dxqx2xTChWUH8/u8jFMokgrrKZcWsPTekWLo62MoVgB4EheJFSDhCw4UYHriFPrX88PyZggKZH6F6IXc5DWXt8fsyDbHin7voWikHAoULjuZ25vRxl4FBh68F4MRt46kq1kTnFtXQa+QiDJu0GvVrlpALGaz87RB6dvhCjjO+EcEstAJQpvSeSCOCodRA6Vo2KC/Oo30IfKkiOeEf8AIL1+xFurSp0fBz61yUhBYn6DF8oVyQoWGtEnKRh+UiSKd3p9oGdfVE1JWX6rrSceOOv3zNkUUbjMcgWQtmvLp1JDo0fkgBMC1btpQuzzVr1kiXaFJBAT27du2SUbIU6ENjfRQARBGmZGGSG5MEkQSJviM35qRJk+T6tzpXL41ZUqAPRcneuXNHRpLu3LlTnwdZqHTdNJ5Ix5PVSoFC2bJlkysgqYEEs2rVqvjf//4nH4VGY6s0dkmBSJkzZzZKSwFFJNhnz56V78k9TOOXFChEkFjTA71Pnjwpo4HJrUu/jTVy8k4Qhqw/J6eQTGlRGF8UTIcZu69j5ZG78vvc6T2wuEsplM/1YSoFLWjwy+7LcHF1x7AGhdCgSAYpojPFcToWiM+T/7iCcsI1O7VVEXxZNgt+O/0AQzd+6AhZIyUK+2LikDZyWsSgceI+Pfgvvu1YW0a4EhSE0nXQHPx9Mm4LV5CI0HkOHLmIPqOWCLHcI4Vz6U894eHmnBiXkuiUKpwTk4e1xd2HAeg/Zjn+FEFN33Wug/ZNK8vvr9x4iI79Z+PQce3QS1wIfKEdonC30roxNwptouOvakvqwsYDRRNHk4SiN8kCI2uOrCyawkEBLCRUJES0viw17OaGpkXQw6ubNGmi30djh+SC/fbbb+VnmnJCwkNlomkeJExk/emmfFDZSewoKpXcmSSUJDSGQTJkQdK1UKAQPRibroWCdHQr/dCxFM1K108u1DJlymDw4MF6S1BNuSlvsigpL5oSQkJJgT/NmzeX3+umhJCb9ZdffpFCSNc6fPhw/bVQPdNG10RTTSggiMpMlisJfXTTSkzLERdIuMm6G7wnccb84gtFz1Ig0qgDrxLNvRofVnYrndRFiAJFw1IwEI1DJqbLOD7YWeDcRTmtRATx0Bjnp3K3qiHs6U252EdCAvgSg/OijXguPDvbAoyHmmKiXtpgeLrYW9x1mFUwaUoFuTqXLFkiIzQLFCggrbScOXOiS5cucuyNvmOS17J29MfAgqkeFsy4wYKZfARz+zN1glnX2/oEM87dOrKwaL4jjRUaDj7T1IDOnTvLsTWGYRgmZWIjdEHNliKCfmgKRurU2jBrUyiCUzfNg2EYhklZKEIHhfGrOq21EWcLk8xnCnyJjq1bt0oXLZMwaJzRktyxDMMwamEL0wByx9J0Cpr7R+uokluWgmIoUObw4cMywpRhGIZJmShWaDkmmoVJy9BRUI+zs7MUR4oZomjNgIAAGaFKUaMMwzBMyp2HaaNiSzELF9BcwLVr1yIsLExOi6D5iaar1jAMwzApC0VsagN61KWKGVrdjab4bdiwQc63pwdx0Px2NUuA0vDhgAED5Fx4enqUWhI0+YmWWqM5gCyWDMMwDEF6qWZLKLNnz5aGGz2liZ7ERMODtIDNxxZvocVe6MEcn8TCpGXkPraW4eXLl+NVGIZhGMa6sTGDGH4MEkV6/CEtTEOxNAQtBkMrutFqbaYP0TC0SukYerDF0aNHE18waeFxU8EMDg6Wj8mitU/JzGUYhmFSIor8pzZtfKGnM5HuGMbM0NOcaK3tEydOxCiY9DhGmvpIy7p+EsHULUMXHbRE3IULF9C0adM4F4RhGIaxbhShgXY26tM+fvxY/8CJ6KAxxujw99cuek+PWTTEx8dHnjM6aK1zskppKVd6tnF8MOsCjo0aNZLrozIMwzApE0UooZotIdB63NE98pFWnNM939iQkJAQ6f2kjR6WYRGP96InfEREJNaz0xmGYZjkNIaZXliIMVmRap7tS2OZhs/5JbGkKY+mUGAQCWWrVq3inFeCBJPCeKMbSCUzmKxLeqoGwzAMkzJRPkHQDwktQU9nMnxSFH2mwFRT6AEhZI3qnqQVGal9slG9evXQoEEDjB49+tMJJkFzMWvWrCmfssEwDMOkTGw+gWKSKJLmHDt2TC+YNBfz0qVLaNu2bZT09KxkQ+gZwxQtO3/+fP3zkBNFMOlpJLTIOsMwDMNEXbjAcE/MJERWyVokYfzxxx/h6ekpHzVJzzpOly6dNNzIgqRnBbu7u0uXreliBrqgoQwZMsDLyyvxgn7oIcfx8TkzDMMwyR/lEy1c0Lt3bzRr1gwjRoxA69atpSG3aNEiKaY0RFihQgWzB6HG2cK8f/++NIUZhmEYxhSbBC96pw4SSHKr0mYKLXcX2xOfSpcuHa8nQsXZwqQJobTIOgknwzAMw+gRWmkrVEXN9ol0NWktTJo6cvLkSdSqVUv6hsl/bAjNr9mzZ4/ZCsgwDMNYB0ocgn7UpbJywaRw3vr16ydGWRiGYRgrR7FGJUwswZwwYUJilINhGIZJBtgkY8VUNYZZvXp1udgtwzAMw8QG6aWaLdlamPT8sI89Y4xhGIZJ2ShxiCSltNaGWdeSZRiGYVI2irWajypgwWQYhmHMg6LA9hM8D9PiBZMeHG36KJWYehc8rYRhGCZloiR1ASxBMOlJ1qZzLhmGYRjGEGEzqUOjMp21WpiFChVKzLIwDMMwKWUMU5O45UgMeAyTYRiGMQuK2DhKlmEYhmHUiKZqn2wytTAbN26MNGnSJHZZGAvH280RM9sUS+piGGET+RYIfYRBtfPgva1jUhdHj19696QuQhRCQ2xxKwjI4u0KZxeXpC6OETl6bUrqIkTB18sBPzdJj2/mH8HNQMuZh76gZQb5G1oqSlIXIKkFk5fDYxiGYdSQ4i1MhmEYhvmoWIrNVqVL1hotUQ76YRiGYcyGkozrkgWTYRiGMRtKMlZMFkyGYRjGbNgkYxuTBZNhGIYxG0ry1UsWTIZhGMZ8KGxhMgzDMMxH1VK9hWmFlii7ZBmGYRizoMRhDFNdKsuCBZNhGIYxGzZqF5O1QlgwGYZhGDOOYCqq01obLJgMwzCM2bCxPh1UDQsmwzAMYxYUuSmq01obLJgMwzCM2VCsUQlVwoLJMAzDmA3FKm1HdbBgMgzDMGbDJvnqJQsmwzAMYz5skrFPli1MhmEYxmwoybguWTAZhmEYs4mljUoL0xqFlQWTYRiGMRtKMq5LFkyGYRjGfGqpxCGtlcGCyTAMw5gNxRqVUCUsmAzDMIzZUJKvXiIZryvPMAzDfGoUlVtCef/+PWbMmIGKFSuicOHC6Ny5M+7evRtj+uvXr+Orr75C6dKlUbZsWfTu3RuPHj2KU54smAzDMIzZUISJqWZLKLNnz8batWsxduxYrFu3Tp6zW7duePfuXZS0QUFB6NSpE1xdXbFy5UosWLBA7uvatSvevn2rOk8WTIZhGMYsKLSJ/1RtCciHRHHx4sX49ttvUblyZeTJkwfTpk3DkydPsHv37ijp9+zZg9DQUEycOBG5cuVCgQIFMGXKFNy8eROnT59WnS8LJsMwDGNe0UTiumSvXLmC4OBglClTRr/Pw8MD+fLlw4kTJ6KkJxfsL7/8AkdHxyjfvXz5UnW+HPTDMAzDmA9FfdLHjx+jT58+MX6/d+/eaPf7+/vL1/Tp0xvt9/Hxkec0JVOmTHIzZN68eVJAS5Ysqbq8bGEyDMMwZpxUoqj6lxA7k9yrhIODg9F+EkA1Y5LLly/H6tWr0a9fP3h5eanOly1MhmEYxmwocdBBshBjsiJjw8nJST+WqXtPkFg6OzvHeJxGo8H06dMxZ84cfP311+jYsWOc8mXBZCyGk/9ex7L1e3HvQQBSebigTo2SaNmwYowRdeEREdj0+9/Y+9cZPAkKgbenB6pVKIQW4hh7uw+3duuvJyPo5Zsox6+eOxCeqd0T7XoSwp5/LmHc3K24essfXmnc0KlJBfTtWCvW6MJ1fxzHz0t34c6jQGT6LA2+bVcD7RuVM0pz6VYABsw8gPPXHsLV2REtapfEiB714ehgr09z/NwtjJm9Facu3IGriyNqlsuPkb0aIJ13Kn2aR09fYOSM37D3yGVERr5HiQLZMPybeiieP5v5K8MMVMr7GfrXz4ec6dzx/M07rD58C3N2XYs2bdPSWTClXQn9592Fjb8fsOIkNh27F+W4EU0KonO1XMjRa5NZy25tKJ8gD50r9unTp8iSJYt+P32mAKDoCA8Px9ChQ7Ft2zYMGjQIXbp0iXO+LJiMRXDp6j2MmrIalcoWQIcW1XHh6l0sW7dX9ghbN64c7THzlu3A7r/+Rce6hZAjd25cu/cMKzfux5OAl+jXvZFME/TijRTLr9p9gbx+mY2O93BzSfTrig/Hzt7Cl/3noXHNYhjevT6Onr2JsXO24b2oiwGdv4j2mM17TuObUSvQvVUVVC+bF9sPnsN341bDydFeiiJx52Eg+k7biVIFc2DxhC64dttfnHcrXr0Jw/QRX8o0py7eQf3uM+CX7TPMHtVOHj979X583uUn/LVqCFK5OePlm1DU7jYNIaFvRfnqwTdLWmzbfw71vp6OrXO/k+JpSRTL7on5X5fF9tMPMHXrJZTw9UL/evll52P2zqtR0u+/6I8mP+5HplT26FPFGz8feIaHryIwvnVRuDvZ44D43pSS4pwdquT8FJdj+SiJnwWJopubG44dO6YXzFevXuHSpUto27ZttMeQSFIE7dSpU1G3bt145ZtiBXPz5s2y4l68eIGBAweiffv2iZ4nTZx9+PAhqlSpIj/nFo38hAkT0KRJk0TPm3jw4AGqV68u/fc0edeSWPnrfuTIlg6DejWVn0sUyYXIiPdYv+UQmtQtZ2QBEa/fhGD7npPo0qoq2lXPihDnDChcWNuzXLRqFzp/WROpPVxx8442AKB8qXz4LG3qT3tR8WTywj9Q0C8T5o3uID/XKJdPWNORmL5sN3p+WQ3OTsbjNsQ4IagNqxfB+H7a+qteNh9evAzBxPnb9YI5e80BuIgGf8n4DkiVygO1yueX5xo0ZT36d/kCWdJ7YurinUjl7iyFL7Ww8okqpfKgZLPRmLF8N77v0QCrfj+Ce8KK/XNhP5QunEOmqVo6L56LjsnwaZuwc1G/T1FNquldJy8uP3iB/stPys9/XX4Ce1sF3Wv6YdG+63gb/t4oPVmgtL32ckBoiLM8tmLBzMI69UCzqQfkd4Y4O9hictviePIyFBnSWGYn7FOKpY1an2wChJXGLkkYf/zxR3h6eiJjxoxymki6dOlQs2ZN4fWIxPPnz+Hu7i5dtps2bcIff/whRbNUqVIICAjQn0uXRg0pNuhn3LhxKFeuHP788080btz4k+RJPvPz58/rPx8+fBh16tT5JHlbMu/CI3D+0h0hanmN9lcokx+hYe9w4XLU1TuCQ96ibo0SKFvMz2h/pvTaAXz/J8/l6827j+Hm6mQ1Yvn2XTgOn7qBelWN/YANqxXFG3HNR/69GeUYEq8b955GOaaBENDbD57hxt0n8vOBE9dQrlBmONh/6CeTyL5/r8G+I5fk52t3/FFGiKBOLAmyMsnVuvPwRW0aYZnS9zqx1FGuaE7pzn3xKiQBNWBeHOxsUDqnN3aeNV7RZceZR3ATnYeSvt4fPUcaN0f0q5cPqw7dwtm7QVG+H9a4IAJevcXGozGvMpOSUFRuCYVW6mnWrBlGjBiB1q1bw9bWFosWLZJiSpGyFSpUkCJJkBuWmDx5stxvuOnSqCHFWphkvlNPg3omSUXatGmTLG9Lwv9pkLSgMqY3brwyfOYpXx8+DkTxwsburnQ+adCrS33YRIqIuNAPjeHfxy/DTvzh6M51SwiAm6szRk9dg38v3JLiUFqI7Ffta4uxQcsbvyS3KXUgcmbxMdqfI7P2XiFhrFbGuGNxVQgYkTPLZzEek1GMaT7wD0KjSsb16C3qwF10KG6KNISXGNO991jb2TDkthhXJmGWacSY6uvgMCmMhsJ65+Ez+XpXpDPcn5Rk9nKFo70tbj81HsO+E6D9nN3HDYevaK89JjpU9ZP3zdRt2k6FIRXy+KBxqSyoP2kfGpQwdvmnWJRPkw0JJHkHaTOFppBcvfrB3U6LHJiDJLcwyS25fv16uWxRoUKF5LqAND/GkAMHDqBFixYoWrSo7BHQag2GocNqzmHolqT0xLBhw/Tvq1WrhpkzZxqlbdeuHYYMGSLfk6+c0h48eBD16tWTK0WQH3z//v1Gx6xYsQKff/65LAdZj1u2bNGfn9yxs2bNkufVlZtcBYZu4gYNGshjKf3cuXPleomG5d6xYweaN2+OggULSvfqxo0b9cdTxBi5mWvUqCHLR25XCpumJaAsmTfB2hBxFxGEYoiLs9b1GBIapuo8h49dxN5DZ1G/Vim4i7E24uZdfzwLfAU/34wYPaiNHMs8J6zZQT8sRpiwXi2Nl6+11hmJmCFuIviGIKGKcowYU4z+GCf9Mbo0rtG4c+k43Xnb1C+Ds1fuY+jUjXgc8AJPnr3C/2ZuFpbnEwSLMUui+RclYWtjg45DFuHyzceyzOt3nMCqrUfl97p0loCHi9aV/yYs3Gh/8NsI+UpjkrFhK4LHahbOhOV/3cLrUONzuDvZYeKXxTBt+6UogpySJb/7mwAAH0BJREFUtVKJw8QSayPJBVNnJjdq1EiKS9OmTfHTTz/h5MmT+iWNvvnmG7n80a+//ooxY8ZI0RgwYIDqc5hGV5ErVCeYuvdqIT/58OHDpdBlzpxZloNWnCDIHUA+dYq+IhdAmzZtZFTW33//LYWN/Ou0QLCpMBNLly7F999/j5YtW+L3339H37595fnougyhzkL37t2luNLqFXTM/fv39XVA+ZK7eefOnZg0aZLMm0KoLRkK7CFi+gNSbD7+p/XXscuYNHMjCubNik5i/FIHBf/8PPYrtGpUCQXyZhORtyUwol9LPPQPxB4RMGRpUGAPEVM0bHTjQ2T9aI+Jvl5tRP3FlEaXTlfHFFU7tk9jrNjyD/LVGYG8dYZLy5KidCmqlsiTIz3W/PQ1bgmrs1yrcchWbRDmrNknA4AIXTpLQHfr/FcVMdZ3TKTx9Ja/xdIDN6J8932zwnj8IhSL90f9LiWjiDpXs1kjFuGSpTHEhg0byve06gNNKD116hRKlCghLUUaxO3Zs6f8PkeOHPIPnESU1gH09fX96DlMzXidK5QGe+PqFqVzk1Dp3lOe165dk9YviR4FD5E1TJBghoWFyQFoGpimvF1cXJA6tfF4Gl0PLQZMg9h0DJEtWzYZkESip7t2gqxosiyJwYMHY8OGDTh79qwUb7I6a9WqJV3NBLmbySI3dE0kDI3WBWpm3J1s5Wto8Buj8wf/Z3m6iZ58TPkq799h7a4LmL3hJArly4of+jWHk00kRKXL7wv4/uemNDi+YM50crrE7TsPE+V65LWExG8cz8lO25IEPn9pdI4X/1meFGBiem5nB22/N+DZC6TzdNXvp3Noz2kDR20VC+svHG/DtPWqg8ZGXcQ4pe68nRuXRbv6paR72DOVi3DTuuG78etkMJAuTdlCWXF0zWDcF25eggKG1v6hXZLM2V6J8/X7igCbxCDVf6fNmdYZTwI/5EHjl4SjrSbGvDOltoNH6jS4KKKv04g+QBrHD+lK+/mgfvFM6DnvEHJ6azsIXi7aSs6V1lH+TX9Ei+ONnQhYsmSUpC5AchdMnejpoHBhmjNDkBiZhgDrljIiIdAdG9s5zAkJtmEeBOVDEVk0B4geM2OImrk+dOyzZ89QvHjxKNdJ575165Z+NQrD6yTB1+VPkHgfOXJEWtd37tyRHQo61rTTEF8UTSRcDMYLzYWvR4Rw8Sl49uAuXAp46PffvauNZPPzVqLNlxqln9ccw6/7LqNaiWwY0aUSHDRiHO0/PXgthODg6bvIn8MH2TOkNjouIiICXs6Jcz3ErevxO+/7cG1dnDp7CbnT/6dygsu3tXXhZhcmzn3Z6BiHyFfy9dips3BVtO+1n2/LV+Fwhf+Dm0grIjgfBLzCw/t39GmCXodJd2wapwh53it3nglheYPKxbOBcn8ZECg24OT5m8iR3kOm8Rffn7z8CJ+X8YW9nbaMt64/weHj5+Hh6oh3r/1x64020EgtPzcxXuLMXJB1SL9398rp0Dzfh6bcyVk7xtogjwNqZI4+bzt7eziLdN52T6KUL0PmrHJsdGEvbcS7ITv/VxdBz5/h0f0UGgSkJHUBkrlgmi5vZOhOku4iE/udLDbCzmByemznUItp+ugEN6Z8dPvj89iamMoZ1+scNWqUjPgi1zRNXSErnNy6tIK/OdAowrpxMg4sMQtiuLFAnizY/+9jNGz0YXL+7rNX5DhctnwFEWIyrYRYtHa/FMuWNfOjS7vaiLB1hHZkSku4TTimrlqHyqXzYdA3DfT7/z55VUSjRiJfoQJyOkpiUCDTh0n+cYWiVI9deorhvfLo62L13ttyDmSdmhXgLKxBQ3LkArJm2I8TV5+ja+sPUdeTVp0SgT/eKFdG28GsUjI3/jp5DROEFe7hoe1sLdt8RHg+bNCoTiVk9EmNnacOYsoimspTRVqUxEERXXv70Qv07fi5yCsvXkfex8SlG1Aofx5UKaWNAXga+Br7T91DncqF4OuXL87X3EAEzSQWk92yCHFzRZ9NH9YY7VozD3wyv0OvNTfxLsJ4WomOhiUyIre4lBl77uHM3ddG332W+gVSuRj/LdYpngV1S2SVVufLkHd4Ity1icGIz9MiQzTtgKVgY63+VmsRzNjw8/OTrtUOHbRz0gjd2KSpVZkQ7EVv8vXrD38UFGxDgTbkGlUDWZu08C9NG9G5THWhz7SfQp9jgqxH2ug6KWDH8DqpXDQx92Mr6lNgz5o1a+QjbgynqpCFSW5g8yDGwoQoJQatm1TF0HHLMGbmFnxepSguXbuPDduPyvmU9s4iKjMkDPceBiC9iJzVza9cv+0I/MR4WlVhXV6+9UyU7YOQZMmYVrhd3dC8fgWs3nQQqVJ7oISItL1974lc3KBUUT8UKZwH0TeVCcc5AXU+qFsdNOo5Cz3GrJVBOMfP3cactQcx6tuG8EyTCq9EAA9FxmbP5C2jXOUxXeug5+iVSOu5FbUrFcSOv85j6/5zWDy+s74svdpWxxaxr8vI1ejVroaMjKUVfTo2Lo+c2bQdhzYNymPW6v34ZvRquVLQwydBcm4lTSH5UnxH4lpa1B19HjptM0Z/10hGJdN57IS1Oeyb+vG69puBiReA9eO2y1jRqwL6NiyCDUfvolh2LzQv54tJWy7g8pMw6fKnFYDuPQs2mmPp7uYi2wESS9PyRVdeP9E5IXac/zDHLzGIiEwkX6+ZUJK6AClZMMmlSQEw9GgWEgJyNVLgT9WqVc0qmMWKFZPWGY0Bent7Y8mSJUYCqgZ6mje5Q0lk6XyHDh2S6ySSlUfQw0up/OR+pTx0kBVBwUC0xiGFQ9O447lz52RELQUBkev1Y4JJaWij/PLnzy/HTulBqRcvXoziJrZEihTIgRF9W2KFEDOaAuLl6YGubWqhab3y8vsbtx9j8JglIoinMWoJQf37+CVpWV+79RjdJ2yPcr5J33dC4fzZ0bZZVaRO5Ybtu09g685j8HCnJfdKoF3zap/6ElVTSViCyyd1xYT529F24AKkT5sKo3s3koJHnLt6X67G88vItvhSCCpBr2+FO3fWyr0iWvUIsmX0xpwf2svVgnTkyuqDaX1rYdG2izLClcYmv2ldVR+sQ3zm7YFNM3tJkewweCE8hFVLoj1MpCGx1N2vVL5h035F3/Frxci2BhWL+2Fkz27InE47FciSOHItAD0WHkOfunkxt1sZPHkZhgmbz2PRPm2wTv7MqbHmu0oYuOIkfjVY8i6NcC/rvDxMHEjGimnxglm7dm1501LwD0V7UvAMTesgy82ckCiTKNETu2nxXpq6QQIdF7cuBe3QdJcZM2bIlSRIOMni0z2zjaaTUBAPrfhDkbCG0JO/yd26bNkyufoPRdRSWdSud0huWxJciqKtX78+UqVKpZ9WQtNTQuIZhPIpodV4aIsOEr8/147Wf27forrcKGiHxiHJtRqd9WtjY4MGn5eWmzVBixCYLkSgo4IQp6ATs6Lsp0hW2mKjsF86bJtTNVYrsEjeLNg+P+ZHLhE+Xh5YOLZTrGksiV3nHsktOo5dfxbt+q8zt1+Ar6N27qkapv9xWW4pHSUZK6YiBMGy7XvGIiBXc1j4e4S4Wtbk7I8JZlJR2tfyLC2KXKWgHRqHTIjLODGwxAXLKXqWgn1o7DMxXcZxZUHLDMji7Sqj4i2tjQgX7mKPDGJQXQWvHl2XSxRa2nVYtYXJMAzDWAfKf5vatNYGCybDMAxjPpTkW5ksmAzDMIzZUJKxYrJgMgzDMOZB+bAcoZq01gYLJsMwDGM+lORbmSyYDMMwjNlQkrFismAyDMMwZkNJvnrJgskwDMOYDyUZVyZbmAzDMIzZxFJRkq+wsmAyDMMwZkRJtrXJgskwDMOYDSX56iULJsMwDGM+bFgwGYZhGEbNpBK1iml9ysouWYZhGMZ8KMm3MlkwGYZhGLOhJOO6ZMFkGIZhzKaWipJ8lZUFk2EYhjEbijUqoUpYMBmGYRjzoSTfymTBZBiGYcymlTZK8tVVFkyGYRjGbChWKYXqYMFkGIZhzIaSfPUSNkldAIZhGIaxBtjCZBiGYcyGkowtTBZMhmEYxmwoPIbJMAzDMCoEky1MhmEYhvmIWP63qcEadZVdsgzDMIzZUJKxicmCyTAMw5gNJfnqJQsmwzAMYz6UZFyZbGEyDMMw5lNLJQ5prQxFI0jqQjCWz+nTp/Fe3CoaxdL6WBrYaCLxXrG1qL9AR3vLWxNE816DiIhw2NnZQ1G74Ocn4v6z4KQuQhTsbBV4u9rhWXAEIiItp5n0drODva0NihUrltRFMeL8+fN49+4d7B0cjPbHRLhI6yDSFixYUFV6S8DSWj/GggfySQLsLVAIABJL5mOQSFIDZYlk8XZN6iLESAYLq7Pw8HCLDKxxiGM9Ufq4HpPUsIXJMAzDMCqwRHOBYRiGYSwOFkyGYRiGYcFkGIZhGPPAFibDMAzDsGAyDMMwjHlgC5NhGIZhWDAZhmEYxjywhckwDMMwLJgMwzAMYx7YwmQYhmEYFkyGYRiGMQ9sYTIMwzCMClgwmQRz8eJF1KtXDwUKFMB3332X6DUaFBSEDRs26D+3a9cOQ4YMSfR8DalWrRpmzpz5SfOMCSoHlcfa2LRpE3Lnzp1o59+8eTMqVqwoHx+1fPnyRMvHkOvXr+PAgQP6z3R9dJ2figcPHsg8jx079snyTEnw472YBDN79mz5uKFt27bBzc0t0Wt08uTJsmFo3ry5XjBsbfkRX9ZGnTp1pKAlFuPGjZMdid69e8PDwyPR8jHk66+/RuPGjVGlShX5+fDhw3B3d/8keTOJDwsmk2BevXqFfPnyIVu2bJ+kNk2feZ46depPki9jXpycnOSWmPdlqVKlkDFjxkTL42OkTZs2yfJmzA+7ZJkEQT3448ePS/cXuYLoM7lIY3MZUrr169ejU6dOKFSokLQy5s2bZ3TM33//jVatWqFw4cKoVKkSpk6disjISOl6/e2332SeOneeqUv2zJkzaN++PYoXL47SpUtj2LBhePnypVGZ58+fj2+//RZFixaVacaPH4+IiAh9ml9//RWNGjWS5StSpIjMg1zPsaHmuvbv348mTZrI72vWrImff/5ZPqVex+vXr/H999+jTJkysvx0HfQke0PWrVsnj6Vz9OjRw+jaiIMHD8o8qO7Kli0r68Y0jWm5p02bhqpVq6J8+fK4deuWLNOUKVPkNVAdtWjRQlpLOsjNSL8L1VPlypVlmp49e+LJkyf6NP7+/hgwYIA8f968eaVrlDpWunoxdMmSG5Pe58+fX6alsl+5ciVOdWvqliTot9e9j86NbnjvkBuT0lL96YYY6tatK38zQ1asWIHPP/9cloOs5C1btujP//DhQ8yaNUv/N2DqkqW/kwYNGshjKf3cuXPx/v17o3Lv2LFDek+ovqpXr46NGzfqj6ffhf4WatSoIctH926/fv3kMAXzaXrrDBNvAgMDNS1bttSIsUvN06dPNeKPV9O2bVujNDNmzNCIxlj/2c/PTyPEQCMaD41onDWisZb7Tpw4Ib//999/NXny5NFMmDBBc+PGDc2hQ4c0omHQ/PTTTxphNci8KE/Kj6D8Bg8eLN+fPXtWIxpdzQ8//KAR40mao0ePakSjpxECohGCK9NQWURjo1m2bJnm9u3bGtEAakRDpRFCLL/ftWuXPAd9Fo2YLE+zZs00DRs21F8DnYOuy5CPXZdoiDWiEdSsXr1ac/fuXXldtWrV0giXofxeNJzyuuh6KE+6dtE4yrIIsZZphNtbI0RHs3LlSpmHEA1ZV7r6pd+Dro2+p7KfPHlSIxpmjRCOGH9DKiPV77lz5zSisyH30e9Yv359zZEjR2QdLV68WJZDiIf8Xgil/CwEQ14f1btwRWqE0GjCw8NlGiEMGiFw8vxCUDUDBw6U7+l66fXHH3+Ur7t375bXQO9LlCgh8xJCr+nVq5fqujVEdHzkvUHfL126VH+fRPebGd47dK/QMXS//PPPP5qrV69qhItVU6xYMc2bN29kmoULF2qE2GlEp0X+hlTPQuA1ojMh6150IjQTJ07UCAHTl5vqiliyZIn+t6E6/f333+X10n1O3L9/X6anc+zZs0f+/sOHD5d1c+/ePZlmzJgxGuHulWWl35d+D2FFa4T72egc9D1jftjCZBKEp6cn7O3tpWuN3E/0Xg00ziMECNmzZ0efPn2QKlUqnDp1Sn5HARrUA6eev6+vLypUqADRUMDHx0eOB1FelE907i7R2Mpe+siRI5EzZ07ZA6ce+YULFyAESp+OLBSy3siNLBpNiEYJp0+f1rt4x44dKy1McueRtUM9ftGAJui6yJoQwovWrVsjS5Ys8rqEsOPPP/+U1oVo5KR1PH36dJknXTtZD2Th6oJW6JWsmjZt2sg8vvrqK2kZ6iALj6yQDBkyyLKTlUr5mlr9plCZyaKhvIQQyPFoGgMkS5fqiCw7srYWLVqkP0YIoxxPFo2+/L3IIr127RqEyCIsLEyek343omnTpjIt/YaiQZf1QvkQZCmSxUyQZUx5Uf2Ljgtu3rypqm4NofFs3b1B90tc3aJ0brLMqZz0XoilvC5CCLC8b8jipt+Qfof+/ftL7wf9LVDeLi4uUYYJRFuLBQsWyHuNjqE6FR0SOb4qBFR6FnTQ9ZNlSb+/EHNpgYoOifyOfqNJkybJ+5p+XxorpftIzb3JJBwew2SSBGoMDKFgIWqACfrjL1eunNH3ugb1Y1DDRm5FQ0hAKeiDzkvuw+jyp4ZVl3/JkiVl40fBTNSoC2sAly9f1rvO4ntdly5dgrDipEvZsCElSBgowpKgxtIQEsC3b9/qr4+EyxByh+rcl+TOJHdi9+7dkT59elmP1Kh+LIo2a9as+vdUToKEwRC6DsPgGVdXV+lCNbx2+p7KSB0SEgfqDBDUGaC6F9aerEeqF50LXHdNO3fu1JeDfgOCfjNdncZWt+YkR44cRnkQlM/z589l+akzY0iXLl0+ek469tmzZ7IDYwhdJ52b3OBeXl5RrlMXMKS7TuowUIdEeFtw584ded/QsdRpYRIfFkzG7OhEQIfh2KAOBweHGI+zs7OTUbfxzTu6Y6mRNrR+Y8t/+/btGDRokBQespzIKqRGffTo0R/NP7bzUhm6du0qLSVTyAoicaAGOrppCIbnNa1fU6ueLGoaT/zrr78gXIvSShVuxVinVhgG3+jOv2rVKimKhtjYfHBKRedNoGPJygoNDZWWFL0SJBR07bQvtt9MVw6y2HT3gpq6VYtp+ugEN6Z8dPvjc2/GVM64XueoUaPwxx9/SO8HdYS++eYbafUbjh0ziQe7ZBmzQo2ooXuJ0Lne1EI9bNNAF3KF6YQmtgaL3Ghi3M5oH1lf5FYztVBiQuc6JdcXNfBkBYixoXg10IbkypVLWgNkRek2aujIVRkcHCzLTuUki9IwDbny9u7dq7cgTd2QhnUlxj5lABNZSR07dpTBTfSZAlrEGJvqchJkTRmWg4Scgnx0vHjxAmJsTf+ZLGT67Smwh9zfFCRFATIEdTyoM0BlMK1Dum7Ta9L9hmp/s/jcm9SBIVe4Wqj85FI2vTfJrUou5Ngg65G26K6TykXu3Y9BgT1r1qyRoknBTOS+pvuB7qmE3JeMelgwGbNClgxZStS4UmNE4zMUdRgXyBKhhp8iSMkdSsfTOJfOVUljRNSY60TMEBIJEkiyBsldRdG0FKlJjTiNS6mBXJk0nkkNPgkCiTVdB2EY0RpXunXrJsflKFKTrotca0OHDpXTH8jCJDcmNYA0bkbfUUeDRJtESiccNGYpgmQggk+kS44EiVyZho26CCqS44l0PP0WZDHTmFmaNGlUCyaNi/7vf/+TQk31TFYM/QaZM2c2SkuWOAkIjbHRe3IPUwcjXbp08nsR2CJf6XopopcsOtM6JJcm1QsREBAgo1Jp7JPKYE7BpHuTrDMRKCTLQ8Jj2rn7GFT/IlhMRrvSvUFWONURRa0SZJHT70LuV0Ook9e5c2d5H9Ex9Nts3bpVRtSKQC9VczX/3979hMr0h3Ecn18Ud3ERSqGEjZKdItkSGysLVkrEgoWVkpViZWEjJVvlz0JYUKIs7JSStWTByk7Wv/v61jOdO78ZZu6de38Ln3dN496Zc+Z7zh3nc57n+3yfz+zcezx8Xv1tVVT7ni7mexnGJynZMFUUMpjvc6H3n9jSA91/Jum0QjTMH85VNDZhICaKVszLQTqKaEiZeu7igi0iUzjjfQTExUxhxrgFSS5CiobMwUmPKQgSBV66dKkJg7V9C+HIkSNt+Qbh8VC0QhTmqkfb61KZipaInc+SziQYBLbEXhpOytXvHKMiHRdiRTpQ6OQ1F2LCKYWqcMc56aZT/4RxehBNS1IIJRFTvNPF34CIEELzpHNVnU0cRJRuBtxswNIIhTJuRqqApTh69GhLTfobOaaNGze2/Yrcpolz6ljcuMzMzLRCLgVUk0RnvhPmk303ibsbEefJOYbvqe++aLtuFro3gr5PBHeuMrbdVBjLOHOglbZ1fuaqcNv/M9+fWlYiK/Lr16/xT0ZYEP8olV3QliGEvxYZBIKY6szwN5GUbAghhBDBDCGEEKZDUrIhhBDCGCQlG0IIIUQwQwghhOmQCDOEEEKIYIbw95IVYyFMl0SYIQzBAnRN27sP/oMaB3AY+Z2/5GIpn8hq26YRQXk6jgMfynPnzjVvxsVSHo3D+tsWXGX+1Nx9GtssdHwhTIt0+glhBNrp6XRT6GajDRmnCN2M9PVcaJP4SdCRRtu8cdFwnSGzjkUhhOkRwQxhBNrqaT3XRZ9UjdK1RtPibfD1pUALterNGkL4/0hKNoQJkZrFt2/f+ulbDd71PtXgW29V6DmqBy0fSNvo/6n5dxeOGfrmSvXyWdSgfDDdOywlq6E6twrb2Fb/Wb17q2UdNKuX+iweP37cfCcrtWy/g9ZrmqAfO3as9YLlDlM+m5PAPFq/28OHD7fPck6YIovKB3n48GEbi887depU34uzcI71StW/17EOe08Iy0UEM4QJ4XSBrnPHixcvWnP327dvN+NlBTc8KR88eNDE4s6dO60xvAbgnC4KQmcbTc01TOcoQmx+h30SEU3qbWO+UqN17hvlkQivEWBo9i5Fq4m7Rt1syzRk12S+ePPmTRN9biW21RS9GsNPAtcSzdbdOGgmT7T5iTr2biGSuVaizZ1FmtuNgnPHbBmeT5w40dLgxu68uMEwdk40ISw3ScmGMAIX924E5oLOLoz4ScVWpAlOINw8WI/h3bt3zROSkwVHDJiH5EBy8+bN5sbBXYI9F5G4ePFi/z08Mm07DIJBZA4dOtS7fv16//ei2SdPnrQ0cnkrEtStW7c2CytjZiN19erV9trBgwd769ataz8TdCJJuHfv3t0XbE4z+JOAdxHlSlkTuDpu0aHfcdng8MFTEhxKCHOltUWQnGU4nLgh4OrBc9Nc8ZYtW/pjsl+uHdLiISwniTBDGAHfRAJSjwMHDrQLuX+LiLoFP4SpxBL8LL0uHUt066EylGiwf+L5qZCofD4Lkd3voltei+W/2PUBffr0abOPGuTDhw9NqH324FhK3KVRRXKTjGUYPp93JlHjWeocSrvyuITjLTZv3jxvDpiNm58VLdU5JPqbNm3qj9mNCdGs94SwnCTCDGEEhNESEhC/VatWNT9HUdwgPBy7iIxEqObvhkFMGEdj/fr1814jHKOwX2zYsGHsv1ttU3Orw8YiejbewbFUNDgJouMbN270Pn/+3AyVzb96RjclO3jO6ri+f//eHzejZH+HYbgJCGE5iWCGMAIX+T179izo/MzOzraIc5Rx9rZt23ofP35s//7x40dvx44d/xG4YaxZs6Y91zxfdxsR4rCq3dpGKpjh8SCES3pW9CZ6HdzvJHz9+rXN3YpUzZtWevj+/fv/STPXDUMX0XeJtnMonWtOdBjDoukQlpKkZENYAlzozVGKqIhuPaRizRVKLyoCWr16de/ly5fztq305TAIq8Kg169fz/v98+fPe2fPnm1zmYSvi7lBBUnmRrtj8Tvzkxb/i56NR5VsNwpUCDQJnz59amNQiFRiiRLL7r5Fjx6FyFL6eN++ff1zKAW9ffv2eeN+9uxZq/hdsWLFRGMLYbEkwgxhCTB3ac2mKlWPnTt3tohSwY6Cm4qivHbr1q3ezMxMb//+/b23b9/+VjCJhAKha9eutapYxT9fvnxp+zh58mTbb0WUr169avN9PvvMmTOtUObnz59NkIinn6Wad+3a1d5vftayjQsXLrQCIftVLDQJ0qcrV65s1b+nT5/uL3XRSAFuIgoi7fhVzyoAMh6RrjF052U925cbBctyHj161F86E8JyEsEMYQkQ5d29e7eJgNSktKviFRd/KctCJCZ1qyLUQ5R3+fLlJoajsKzCNoprLN+wX4JSc5QEUYGS6FHhjHFYumFu1PKTe/fu9dauXduWmBBJqU/s3bu3LTVR0EQ0FTKZizx//vzYxy3V7HNVv1re4nOkiVUDW6/6/v37/ppSz9aFOlaVvMZz5cqV/s2E47KExv68R+Qqpaw6+Pjx4xP/TUJYLDGQDiGEEMYgc5ghhBBCBDOEEEKYDokwQwghhDGIYIYQQggRzBBCCGE6JMIMIYQQIpghhBDCdEiEGUIIIUQwQwghhOmQCDOEEEKIYIYQQgjTIRFmCCGEMAb/AsxMVe2rSkFbAAAAAElFTkSuQmCC\n",
      "text/plain": [
       "<Figure size 1000x300 with 2 Axes>"
      ]
     },
     "metadata": {},
     "output_type": "display_data"
    }
   ],
   "source": [
    "# Voting Ensemble Classifier (scikit-learn)\n",
    "from sklearn.ensemble import VotingClassifier\n",
    "\n",
    "eclf = VotingClassifier(estimators=[('hbc', hbc),\n",
    "                                    #('dtc', dtc),\n",
    "                                    #('gb', gb), \n",
    "                                    ('rfc', rfc),\n",
    "                                    #('rfc2', rfc2),\n",
    "                                    ('etc', etc),\n",
    "                                    ],\n",
    "                                     voting='soft',\n",
    "                                   verbose=True)\n",
    "\n",
    "# Train Model\n",
    "eclf.fit(train_X, train_y.to_numpy().ravel())\n",
    "\n",
    "# Training Score\n",
    "train_score = eclf.score(train_X, train_y.to_numpy().ravel())\n",
    "print('Training Score:', train_score)\n",
    "\n",
    "# Validation Score\n",
    "valid_score = eclf.score(valid_X, valid_y.to_numpy().ravel())\n",
    "print('Validation Score:', valid_score)\n",
    "\n",
    "# confusion matrix\n",
    "plot_confusion_matrix(eclf, valid_X, valid_y, normalize='true', cmap=plt.cm.Blues,)"
   ]
  },
  {
   "cell_type": "code",
   "execution_count": 34,
   "metadata": {},
   "outputs": [],
   "source": [
    "create_submission('eclf', eclf)"
   ]
  },
  {
   "cell_type": "code",
   "execution_count": null,
   "metadata": {},
   "outputs": [],
   "source": []
  },
  {
   "cell_type": "code",
   "execution_count": null,
   "metadata": {
    "scrolled": true
   },
   "outputs": [],
   "source": []
  }
 ],
 "metadata": {
  "colab": {
   "collapsed_sections": [],
   "name": "water_table_Driven_Data.ipynb",
   "provenance": []
  },
  "kernelspec": {
   "display_name": "IntelPython3",
   "language": "python",
   "name": "intelpython3"
  },
  "language_info": {
   "codemirror_mode": {
    "name": "ipython",
    "version": 3
   },
   "file_extension": ".py",
   "mimetype": "text/x-python",
   "name": "python",
   "nbconvert_exporter": "python",
   "pygments_lexer": "ipython3",
   "version": "3.7.7"
  }
 },
 "nbformat": 4,
 "nbformat_minor": 1
}
