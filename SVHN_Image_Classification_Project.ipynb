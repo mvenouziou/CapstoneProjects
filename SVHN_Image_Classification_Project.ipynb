{
  "nbformat": 4,
  "nbformat_minor": 0,
  "metadata": {
    "kernelspec": {
      "name": "python3",
      "display_name": "Python 3"
    },
    "colab": {
      "name": "SVHN Image Classification Project.ipynb",
      "provenance": [],
      "collapsed_sections": [],
      "include_colab_link": true
    },
    "accelerator": "GPU",
    "widgets": {
      "application/vnd.jupyter.widget-state+json": {
        "2d0362709abb4c59bf98223907b0039e": {
          "model_module": "@jupyter-widgets/controls",
          "model_name": "HBoxModel",
          "state": {
            "_view_name": "HBoxView",
            "_dom_classes": [],
            "_model_name": "HBoxModel",
            "_view_module": "@jupyter-widgets/controls",
            "_model_module_version": "1.5.0",
            "_view_count": null,
            "_view_module_version": "1.5.0",
            "box_style": "",
            "layout": "IPY_MODEL_075024ea0ff14cce9f5da092ded4ca78",
            "_model_module": "@jupyter-widgets/controls",
            "children": [
              "IPY_MODEL_7780da31e8dd49c1a6e0797fdaf97664",
              "IPY_MODEL_6aedea8ba8304ab0bf35a5102fd27c2e"
            ]
          }
        },
        "075024ea0ff14cce9f5da092ded4ca78": {
          "model_module": "@jupyter-widgets/base",
          "model_name": "LayoutModel",
          "state": {
            "_view_name": "LayoutView",
            "grid_template_rows": null,
            "right": null,
            "justify_content": null,
            "_view_module": "@jupyter-widgets/base",
            "overflow": null,
            "_model_module_version": "1.2.0",
            "_view_count": null,
            "flex_flow": null,
            "width": null,
            "min_width": null,
            "border": null,
            "align_items": null,
            "bottom": null,
            "_model_module": "@jupyter-widgets/base",
            "top": null,
            "grid_column": null,
            "overflow_y": null,
            "overflow_x": null,
            "grid_auto_flow": null,
            "grid_area": null,
            "grid_template_columns": null,
            "flex": null,
            "_model_name": "LayoutModel",
            "justify_items": null,
            "grid_row": null,
            "max_height": null,
            "align_content": null,
            "visibility": null,
            "align_self": null,
            "height": null,
            "min_height": null,
            "padding": null,
            "grid_auto_rows": null,
            "grid_gap": null,
            "max_width": null,
            "order": null,
            "_view_module_version": "1.2.0",
            "grid_template_areas": null,
            "object_position": null,
            "object_fit": null,
            "grid_auto_columns": null,
            "margin": null,
            "display": null,
            "left": null
          }
        },
        "7780da31e8dd49c1a6e0797fdaf97664": {
          "model_module": "@jupyter-widgets/controls",
          "model_name": "FloatProgressModel",
          "state": {
            "_view_name": "ProgressView",
            "style": "IPY_MODEL_e7caf20af5e549ce88bfa35dc0b1dc87",
            "_dom_classes": [],
            "description": "Dl Completed...: 100%",
            "_model_name": "FloatProgressModel",
            "bar_style": "success",
            "max": 1,
            "_view_module": "@jupyter-widgets/controls",
            "_model_module_version": "1.5.0",
            "value": 1,
            "_view_count": null,
            "_view_module_version": "1.5.0",
            "orientation": "horizontal",
            "min": 0,
            "description_tooltip": null,
            "_model_module": "@jupyter-widgets/controls",
            "layout": "IPY_MODEL_53551bf73f8b4baf8b2629e6c84a86f9"
          }
        },
        "6aedea8ba8304ab0bf35a5102fd27c2e": {
          "model_module": "@jupyter-widgets/controls",
          "model_name": "HTMLModel",
          "state": {
            "_view_name": "HTMLView",
            "style": "IPY_MODEL_63be2235cca8474faabac2fd99b0747e",
            "_dom_classes": [],
            "description": "",
            "_model_name": "HTMLModel",
            "placeholder": "​",
            "_view_module": "@jupyter-widgets/controls",
            "_model_module_version": "1.5.0",
            "value": " 3/3 [00:52&lt;00:00, 17.49s/ url]",
            "_view_count": null,
            "_view_module_version": "1.5.0",
            "description_tooltip": null,
            "_model_module": "@jupyter-widgets/controls",
            "layout": "IPY_MODEL_5dfd2b91501942039ec9dc22fac501e4"
          }
        },
        "e7caf20af5e549ce88bfa35dc0b1dc87": {
          "model_module": "@jupyter-widgets/controls",
          "model_name": "ProgressStyleModel",
          "state": {
            "_view_name": "StyleView",
            "_model_name": "ProgressStyleModel",
            "description_width": "initial",
            "_view_module": "@jupyter-widgets/base",
            "_model_module_version": "1.5.0",
            "_view_count": null,
            "_view_module_version": "1.2.0",
            "bar_color": null,
            "_model_module": "@jupyter-widgets/controls"
          }
        },
        "53551bf73f8b4baf8b2629e6c84a86f9": {
          "model_module": "@jupyter-widgets/base",
          "model_name": "LayoutModel",
          "state": {
            "_view_name": "LayoutView",
            "grid_template_rows": null,
            "right": null,
            "justify_content": null,
            "_view_module": "@jupyter-widgets/base",
            "overflow": null,
            "_model_module_version": "1.2.0",
            "_view_count": null,
            "flex_flow": null,
            "width": null,
            "min_width": null,
            "border": null,
            "align_items": null,
            "bottom": null,
            "_model_module": "@jupyter-widgets/base",
            "top": null,
            "grid_column": null,
            "overflow_y": null,
            "overflow_x": null,
            "grid_auto_flow": null,
            "grid_area": null,
            "grid_template_columns": null,
            "flex": null,
            "_model_name": "LayoutModel",
            "justify_items": null,
            "grid_row": null,
            "max_height": null,
            "align_content": null,
            "visibility": null,
            "align_self": null,
            "height": null,
            "min_height": null,
            "padding": null,
            "grid_auto_rows": null,
            "grid_gap": null,
            "max_width": null,
            "order": null,
            "_view_module_version": "1.2.0",
            "grid_template_areas": null,
            "object_position": null,
            "object_fit": null,
            "grid_auto_columns": null,
            "margin": null,
            "display": null,
            "left": null
          }
        },
        "63be2235cca8474faabac2fd99b0747e": {
          "model_module": "@jupyter-widgets/controls",
          "model_name": "DescriptionStyleModel",
          "state": {
            "_view_name": "StyleView",
            "_model_name": "DescriptionStyleModel",
            "description_width": "",
            "_view_module": "@jupyter-widgets/base",
            "_model_module_version": "1.5.0",
            "_view_count": null,
            "_view_module_version": "1.2.0",
            "_model_module": "@jupyter-widgets/controls"
          }
        },
        "5dfd2b91501942039ec9dc22fac501e4": {
          "model_module": "@jupyter-widgets/base",
          "model_name": "LayoutModel",
          "state": {
            "_view_name": "LayoutView",
            "grid_template_rows": null,
            "right": null,
            "justify_content": null,
            "_view_module": "@jupyter-widgets/base",
            "overflow": null,
            "_model_module_version": "1.2.0",
            "_view_count": null,
            "flex_flow": null,
            "width": null,
            "min_width": null,
            "border": null,
            "align_items": null,
            "bottom": null,
            "_model_module": "@jupyter-widgets/base",
            "top": null,
            "grid_column": null,
            "overflow_y": null,
            "overflow_x": null,
            "grid_auto_flow": null,
            "grid_area": null,
            "grid_template_columns": null,
            "flex": null,
            "_model_name": "LayoutModel",
            "justify_items": null,
            "grid_row": null,
            "max_height": null,
            "align_content": null,
            "visibility": null,
            "align_self": null,
            "height": null,
            "min_height": null,
            "padding": null,
            "grid_auto_rows": null,
            "grid_gap": null,
            "max_width": null,
            "order": null,
            "_view_module_version": "1.2.0",
            "grid_template_areas": null,
            "object_position": null,
            "object_fit": null,
            "grid_auto_columns": null,
            "margin": null,
            "display": null,
            "left": null
          }
        },
        "44dec03094814120852aadbc7bf5f945": {
          "model_module": "@jupyter-widgets/controls",
          "model_name": "HBoxModel",
          "state": {
            "_view_name": "HBoxView",
            "_dom_classes": [],
            "_model_name": "HBoxModel",
            "_view_module": "@jupyter-widgets/controls",
            "_model_module_version": "1.5.0",
            "_view_count": null,
            "_view_module_version": "1.5.0",
            "box_style": "",
            "layout": "IPY_MODEL_fe9899fb4ddf45cd90d708af2fb43c98",
            "_model_module": "@jupyter-widgets/controls",
            "children": [
              "IPY_MODEL_57796d7ebd854f389f1c1159ceaecd25",
              "IPY_MODEL_6b2404550c3140f5a9b5aec20b23a8f1"
            ]
          }
        },
        "fe9899fb4ddf45cd90d708af2fb43c98": {
          "model_module": "@jupyter-widgets/base",
          "model_name": "LayoutModel",
          "state": {
            "_view_name": "LayoutView",
            "grid_template_rows": null,
            "right": null,
            "justify_content": null,
            "_view_module": "@jupyter-widgets/base",
            "overflow": null,
            "_model_module_version": "1.2.0",
            "_view_count": null,
            "flex_flow": null,
            "width": null,
            "min_width": null,
            "border": null,
            "align_items": null,
            "bottom": null,
            "_model_module": "@jupyter-widgets/base",
            "top": null,
            "grid_column": null,
            "overflow_y": null,
            "overflow_x": null,
            "grid_auto_flow": null,
            "grid_area": null,
            "grid_template_columns": null,
            "flex": null,
            "_model_name": "LayoutModel",
            "justify_items": null,
            "grid_row": null,
            "max_height": null,
            "align_content": null,
            "visibility": null,
            "align_self": null,
            "height": null,
            "min_height": null,
            "padding": null,
            "grid_auto_rows": null,
            "grid_gap": null,
            "max_width": null,
            "order": null,
            "_view_module_version": "1.2.0",
            "grid_template_areas": null,
            "object_position": null,
            "object_fit": null,
            "grid_auto_columns": null,
            "margin": null,
            "display": null,
            "left": null
          }
        },
        "57796d7ebd854f389f1c1159ceaecd25": {
          "model_module": "@jupyter-widgets/controls",
          "model_name": "FloatProgressModel",
          "state": {
            "_view_name": "ProgressView",
            "style": "IPY_MODEL_d51edc40599a43d39074ea523647ed95",
            "_dom_classes": [],
            "description": "Dl Size...: 100%",
            "_model_name": "FloatProgressModel",
            "bar_style": "success",
            "max": 1,
            "_view_module": "@jupyter-widgets/controls",
            "_model_module_version": "1.5.0",
            "value": 1,
            "_view_count": null,
            "_view_module_version": "1.5.0",
            "orientation": "horizontal",
            "min": 0,
            "description_tooltip": null,
            "_model_module": "@jupyter-widgets/controls",
            "layout": "IPY_MODEL_0e7fd85775ed497f91e594262f924b68"
          }
        },
        "6b2404550c3140f5a9b5aec20b23a8f1": {
          "model_module": "@jupyter-widgets/controls",
          "model_name": "HTMLModel",
          "state": {
            "_view_name": "HTMLView",
            "style": "IPY_MODEL_d3e5509a48ff4443979ad9a327740a22",
            "_dom_classes": [],
            "description": "",
            "_model_name": "HTMLModel",
            "placeholder": "​",
            "_view_module": "@jupyter-widgets/controls",
            "_model_module_version": "1.5.0",
            "value": " 1501/1501 [00:52&lt;00:00, 28.63 MiB/s]",
            "_view_count": null,
            "_view_module_version": "1.5.0",
            "description_tooltip": null,
            "_model_module": "@jupyter-widgets/controls",
            "layout": "IPY_MODEL_584dd523865e44a88246f04acc3f5772"
          }
        },
        "d51edc40599a43d39074ea523647ed95": {
          "model_module": "@jupyter-widgets/controls",
          "model_name": "ProgressStyleModel",
          "state": {
            "_view_name": "StyleView",
            "_model_name": "ProgressStyleModel",
            "description_width": "initial",
            "_view_module": "@jupyter-widgets/base",
            "_model_module_version": "1.5.0",
            "_view_count": null,
            "_view_module_version": "1.2.0",
            "bar_color": null,
            "_model_module": "@jupyter-widgets/controls"
          }
        },
        "0e7fd85775ed497f91e594262f924b68": {
          "model_module": "@jupyter-widgets/base",
          "model_name": "LayoutModel",
          "state": {
            "_view_name": "LayoutView",
            "grid_template_rows": null,
            "right": null,
            "justify_content": null,
            "_view_module": "@jupyter-widgets/base",
            "overflow": null,
            "_model_module_version": "1.2.0",
            "_view_count": null,
            "flex_flow": null,
            "width": null,
            "min_width": null,
            "border": null,
            "align_items": null,
            "bottom": null,
            "_model_module": "@jupyter-widgets/base",
            "top": null,
            "grid_column": null,
            "overflow_y": null,
            "overflow_x": null,
            "grid_auto_flow": null,
            "grid_area": null,
            "grid_template_columns": null,
            "flex": null,
            "_model_name": "LayoutModel",
            "justify_items": null,
            "grid_row": null,
            "max_height": null,
            "align_content": null,
            "visibility": null,
            "align_self": null,
            "height": null,
            "min_height": null,
            "padding": null,
            "grid_auto_rows": null,
            "grid_gap": null,
            "max_width": null,
            "order": null,
            "_view_module_version": "1.2.0",
            "grid_template_areas": null,
            "object_position": null,
            "object_fit": null,
            "grid_auto_columns": null,
            "margin": null,
            "display": null,
            "left": null
          }
        },
        "d3e5509a48ff4443979ad9a327740a22": {
          "model_module": "@jupyter-widgets/controls",
          "model_name": "DescriptionStyleModel",
          "state": {
            "_view_name": "StyleView",
            "_model_name": "DescriptionStyleModel",
            "description_width": "",
            "_view_module": "@jupyter-widgets/base",
            "_model_module_version": "1.5.0",
            "_view_count": null,
            "_view_module_version": "1.2.0",
            "_model_module": "@jupyter-widgets/controls"
          }
        },
        "584dd523865e44a88246f04acc3f5772": {
          "model_module": "@jupyter-widgets/base",
          "model_name": "LayoutModel",
          "state": {
            "_view_name": "LayoutView",
            "grid_template_rows": null,
            "right": null,
            "justify_content": null,
            "_view_module": "@jupyter-widgets/base",
            "overflow": null,
            "_model_module_version": "1.2.0",
            "_view_count": null,
            "flex_flow": null,
            "width": null,
            "min_width": null,
            "border": null,
            "align_items": null,
            "bottom": null,
            "_model_module": "@jupyter-widgets/base",
            "top": null,
            "grid_column": null,
            "overflow_y": null,
            "overflow_x": null,
            "grid_auto_flow": null,
            "grid_area": null,
            "grid_template_columns": null,
            "flex": null,
            "_model_name": "LayoutModel",
            "justify_items": null,
            "grid_row": null,
            "max_height": null,
            "align_content": null,
            "visibility": null,
            "align_self": null,
            "height": null,
            "min_height": null,
            "padding": null,
            "grid_auto_rows": null,
            "grid_gap": null,
            "max_width": null,
            "order": null,
            "_view_module_version": "1.2.0",
            "grid_template_areas": null,
            "object_position": null,
            "object_fit": null,
            "grid_auto_columns": null,
            "margin": null,
            "display": null,
            "left": null
          }
        },
        "38ebdd86393448a49fd2523e5da1bed4": {
          "model_module": "@jupyter-widgets/controls",
          "model_name": "HBoxModel",
          "state": {
            "_view_name": "HBoxView",
            "_dom_classes": [],
            "_model_name": "HBoxModel",
            "_view_module": "@jupyter-widgets/controls",
            "_model_module_version": "1.5.0",
            "_view_count": null,
            "_view_module_version": "1.5.0",
            "box_style": "",
            "layout": "IPY_MODEL_4c3dbeae72424db2a0dd0b350881aee2",
            "_model_module": "@jupyter-widgets/controls",
            "children": [
              "IPY_MODEL_6cb7f3f15a5d4b55b662ff93ece22048",
              "IPY_MODEL_6b0e9ba730494ac1b5dc8e31790fdf0d"
            ]
          }
        },
        "4c3dbeae72424db2a0dd0b350881aee2": {
          "model_module": "@jupyter-widgets/base",
          "model_name": "LayoutModel",
          "state": {
            "_view_name": "LayoutView",
            "grid_template_rows": null,
            "right": null,
            "justify_content": null,
            "_view_module": "@jupyter-widgets/base",
            "overflow": null,
            "_model_module_version": "1.2.0",
            "_view_count": null,
            "flex_flow": null,
            "width": null,
            "min_width": null,
            "border": null,
            "align_items": null,
            "bottom": null,
            "_model_module": "@jupyter-widgets/base",
            "top": null,
            "grid_column": null,
            "overflow_y": null,
            "overflow_x": null,
            "grid_auto_flow": null,
            "grid_area": null,
            "grid_template_columns": null,
            "flex": null,
            "_model_name": "LayoutModel",
            "justify_items": null,
            "grid_row": null,
            "max_height": null,
            "align_content": null,
            "visibility": null,
            "align_self": null,
            "height": null,
            "min_height": null,
            "padding": null,
            "grid_auto_rows": null,
            "grid_gap": null,
            "max_width": null,
            "order": null,
            "_view_module_version": "1.2.0",
            "grid_template_areas": null,
            "object_position": null,
            "object_fit": null,
            "grid_auto_columns": null,
            "margin": null,
            "display": null,
            "left": null
          }
        },
        "6cb7f3f15a5d4b55b662ff93ece22048": {
          "model_module": "@jupyter-widgets/controls",
          "model_name": "FloatProgressModel",
          "state": {
            "_view_name": "ProgressView",
            "style": "IPY_MODEL_2e7490fe8fed427b9927fa3664ddc9bc",
            "_dom_classes": [],
            "description": "",
            "_model_name": "FloatProgressModel",
            "bar_style": "info",
            "max": 1,
            "_view_module": "@jupyter-widgets/controls",
            "_model_module_version": "1.5.0",
            "value": 1,
            "_view_count": null,
            "_view_module_version": "1.5.0",
            "orientation": "horizontal",
            "min": 0,
            "description_tooltip": null,
            "_model_module": "@jupyter-widgets/controls",
            "layout": "IPY_MODEL_03ea0f1c94d448469e8bac30a89f8e15"
          }
        },
        "6b0e9ba730494ac1b5dc8e31790fdf0d": {
          "model_module": "@jupyter-widgets/controls",
          "model_name": "HTMLModel",
          "state": {
            "_view_name": "HTMLView",
            "style": "IPY_MODEL_c7d64af92280462081aff220184ef822",
            "_dom_classes": [],
            "description": "",
            "_model_name": "HTMLModel",
            "placeholder": "​",
            "_view_module": "@jupyter-widgets/controls",
            "_model_module_version": "1.5.0",
            "value": " 73257/0 [00:44&lt;00:00, 2026.57 examples/s]",
            "_view_count": null,
            "_view_module_version": "1.5.0",
            "description_tooltip": null,
            "_model_module": "@jupyter-widgets/controls",
            "layout": "IPY_MODEL_f8837da494f5473189ac72fdc624ec07"
          }
        },
        "2e7490fe8fed427b9927fa3664ddc9bc": {
          "model_module": "@jupyter-widgets/controls",
          "model_name": "ProgressStyleModel",
          "state": {
            "_view_name": "StyleView",
            "_model_name": "ProgressStyleModel",
            "description_width": "initial",
            "_view_module": "@jupyter-widgets/base",
            "_model_module_version": "1.5.0",
            "_view_count": null,
            "_view_module_version": "1.2.0",
            "bar_color": null,
            "_model_module": "@jupyter-widgets/controls"
          }
        },
        "03ea0f1c94d448469e8bac30a89f8e15": {
          "model_module": "@jupyter-widgets/base",
          "model_name": "LayoutModel",
          "state": {
            "_view_name": "LayoutView",
            "grid_template_rows": null,
            "right": null,
            "justify_content": null,
            "_view_module": "@jupyter-widgets/base",
            "overflow": null,
            "_model_module_version": "1.2.0",
            "_view_count": null,
            "flex_flow": null,
            "width": null,
            "min_width": null,
            "border": null,
            "align_items": null,
            "bottom": null,
            "_model_module": "@jupyter-widgets/base",
            "top": null,
            "grid_column": null,
            "overflow_y": null,
            "overflow_x": null,
            "grid_auto_flow": null,
            "grid_area": null,
            "grid_template_columns": null,
            "flex": null,
            "_model_name": "LayoutModel",
            "justify_items": null,
            "grid_row": null,
            "max_height": null,
            "align_content": null,
            "visibility": null,
            "align_self": null,
            "height": null,
            "min_height": null,
            "padding": null,
            "grid_auto_rows": null,
            "grid_gap": null,
            "max_width": null,
            "order": null,
            "_view_module_version": "1.2.0",
            "grid_template_areas": null,
            "object_position": null,
            "object_fit": null,
            "grid_auto_columns": null,
            "margin": null,
            "display": null,
            "left": null
          }
        },
        "c7d64af92280462081aff220184ef822": {
          "model_module": "@jupyter-widgets/controls",
          "model_name": "DescriptionStyleModel",
          "state": {
            "_view_name": "StyleView",
            "_model_name": "DescriptionStyleModel",
            "description_width": "",
            "_view_module": "@jupyter-widgets/base",
            "_model_module_version": "1.5.0",
            "_view_count": null,
            "_view_module_version": "1.2.0",
            "_model_module": "@jupyter-widgets/controls"
          }
        },
        "f8837da494f5473189ac72fdc624ec07": {
          "model_module": "@jupyter-widgets/base",
          "model_name": "LayoutModel",
          "state": {
            "_view_name": "LayoutView",
            "grid_template_rows": null,
            "right": null,
            "justify_content": null,
            "_view_module": "@jupyter-widgets/base",
            "overflow": null,
            "_model_module_version": "1.2.0",
            "_view_count": null,
            "flex_flow": null,
            "width": null,
            "min_width": null,
            "border": null,
            "align_items": null,
            "bottom": null,
            "_model_module": "@jupyter-widgets/base",
            "top": null,
            "grid_column": null,
            "overflow_y": null,
            "overflow_x": null,
            "grid_auto_flow": null,
            "grid_area": null,
            "grid_template_columns": null,
            "flex": null,
            "_model_name": "LayoutModel",
            "justify_items": null,
            "grid_row": null,
            "max_height": null,
            "align_content": null,
            "visibility": null,
            "align_self": null,
            "height": null,
            "min_height": null,
            "padding": null,
            "grid_auto_rows": null,
            "grid_gap": null,
            "max_width": null,
            "order": null,
            "_view_module_version": "1.2.0",
            "grid_template_areas": null,
            "object_position": null,
            "object_fit": null,
            "grid_auto_columns": null,
            "margin": null,
            "display": null,
            "left": null
          }
        },
        "4dcf4128399b4e37b7a88838f52468e2": {
          "model_module": "@jupyter-widgets/controls",
          "model_name": "HBoxModel",
          "state": {
            "_view_name": "HBoxView",
            "_dom_classes": [],
            "_model_name": "HBoxModel",
            "_view_module": "@jupyter-widgets/controls",
            "_model_module_version": "1.5.0",
            "_view_count": null,
            "_view_module_version": "1.5.0",
            "box_style": "",
            "layout": "IPY_MODEL_32d178b002aa40afa995cab6773c9782",
            "_model_module": "@jupyter-widgets/controls",
            "children": [
              "IPY_MODEL_5481b5b973ef44fd94a4eb6cf213ff9e",
              "IPY_MODEL_5aa2e9c49c994fc995cd5aa45dba79be"
            ]
          }
        },
        "32d178b002aa40afa995cab6773c9782": {
          "model_module": "@jupyter-widgets/base",
          "model_name": "LayoutModel",
          "state": {
            "_view_name": "LayoutView",
            "grid_template_rows": null,
            "right": null,
            "justify_content": null,
            "_view_module": "@jupyter-widgets/base",
            "overflow": null,
            "_model_module_version": "1.2.0",
            "_view_count": null,
            "flex_flow": null,
            "width": null,
            "min_width": null,
            "border": null,
            "align_items": null,
            "bottom": null,
            "_model_module": "@jupyter-widgets/base",
            "top": null,
            "grid_column": null,
            "overflow_y": null,
            "overflow_x": null,
            "grid_auto_flow": null,
            "grid_area": null,
            "grid_template_columns": null,
            "flex": null,
            "_model_name": "LayoutModel",
            "justify_items": null,
            "grid_row": null,
            "max_height": null,
            "align_content": null,
            "visibility": null,
            "align_self": null,
            "height": null,
            "min_height": null,
            "padding": null,
            "grid_auto_rows": null,
            "grid_gap": null,
            "max_width": null,
            "order": null,
            "_view_module_version": "1.2.0",
            "grid_template_areas": null,
            "object_position": null,
            "object_fit": null,
            "grid_auto_columns": null,
            "margin": null,
            "display": null,
            "left": null
          }
        },
        "5481b5b973ef44fd94a4eb6cf213ff9e": {
          "model_module": "@jupyter-widgets/controls",
          "model_name": "FloatProgressModel",
          "state": {
            "_view_name": "ProgressView",
            "style": "IPY_MODEL_279a03cd9a9f45e9acdf2cd191103ac8",
            "_dom_classes": [],
            "description": " 92%",
            "_model_name": "FloatProgressModel",
            "bar_style": "danger",
            "max": 73257,
            "_view_module": "@jupyter-widgets/controls",
            "_model_module_version": "1.5.0",
            "value": 67299,
            "_view_count": null,
            "_view_module_version": "1.5.0",
            "orientation": "horizontal",
            "min": 0,
            "description_tooltip": null,
            "_model_module": "@jupyter-widgets/controls",
            "layout": "IPY_MODEL_65995227cae043b7b75c27ae9656ac85"
          }
        },
        "5aa2e9c49c994fc995cd5aa45dba79be": {
          "model_module": "@jupyter-widgets/controls",
          "model_name": "HTMLModel",
          "state": {
            "_view_name": "HTMLView",
            "style": "IPY_MODEL_26934801f2284d809c5cb4b74b43c951",
            "_dom_classes": [],
            "description": "",
            "_model_name": "HTMLModel",
            "placeholder": "​",
            "_view_module": "@jupyter-widgets/controls",
            "_model_module_version": "1.5.0",
            "value": " 67299/73257 [00:00&lt;00:00, 18409.27 examples/s]",
            "_view_count": null,
            "_view_module_version": "1.5.0",
            "description_tooltip": null,
            "_model_module": "@jupyter-widgets/controls",
            "layout": "IPY_MODEL_63e860ddfa3749d585e9b9b93d176de8"
          }
        },
        "279a03cd9a9f45e9acdf2cd191103ac8": {
          "model_module": "@jupyter-widgets/controls",
          "model_name": "ProgressStyleModel",
          "state": {
            "_view_name": "StyleView",
            "_model_name": "ProgressStyleModel",
            "description_width": "initial",
            "_view_module": "@jupyter-widgets/base",
            "_model_module_version": "1.5.0",
            "_view_count": null,
            "_view_module_version": "1.2.0",
            "bar_color": null,
            "_model_module": "@jupyter-widgets/controls"
          }
        },
        "65995227cae043b7b75c27ae9656ac85": {
          "model_module": "@jupyter-widgets/base",
          "model_name": "LayoutModel",
          "state": {
            "_view_name": "LayoutView",
            "grid_template_rows": null,
            "right": null,
            "justify_content": null,
            "_view_module": "@jupyter-widgets/base",
            "overflow": null,
            "_model_module_version": "1.2.0",
            "_view_count": null,
            "flex_flow": null,
            "width": null,
            "min_width": null,
            "border": null,
            "align_items": null,
            "bottom": null,
            "_model_module": "@jupyter-widgets/base",
            "top": null,
            "grid_column": null,
            "overflow_y": null,
            "overflow_x": null,
            "grid_auto_flow": null,
            "grid_area": null,
            "grid_template_columns": null,
            "flex": null,
            "_model_name": "LayoutModel",
            "justify_items": null,
            "grid_row": null,
            "max_height": null,
            "align_content": null,
            "visibility": null,
            "align_self": null,
            "height": null,
            "min_height": null,
            "padding": null,
            "grid_auto_rows": null,
            "grid_gap": null,
            "max_width": null,
            "order": null,
            "_view_module_version": "1.2.0",
            "grid_template_areas": null,
            "object_position": null,
            "object_fit": null,
            "grid_auto_columns": null,
            "margin": null,
            "display": null,
            "left": null
          }
        },
        "26934801f2284d809c5cb4b74b43c951": {
          "model_module": "@jupyter-widgets/controls",
          "model_name": "DescriptionStyleModel",
          "state": {
            "_view_name": "StyleView",
            "_model_name": "DescriptionStyleModel",
            "description_width": "",
            "_view_module": "@jupyter-widgets/base",
            "_model_module_version": "1.5.0",
            "_view_count": null,
            "_view_module_version": "1.2.0",
            "_model_module": "@jupyter-widgets/controls"
          }
        },
        "63e860ddfa3749d585e9b9b93d176de8": {
          "model_module": "@jupyter-widgets/base",
          "model_name": "LayoutModel",
          "state": {
            "_view_name": "LayoutView",
            "grid_template_rows": null,
            "right": null,
            "justify_content": null,
            "_view_module": "@jupyter-widgets/base",
            "overflow": null,
            "_model_module_version": "1.2.0",
            "_view_count": null,
            "flex_flow": null,
            "width": null,
            "min_width": null,
            "border": null,
            "align_items": null,
            "bottom": null,
            "_model_module": "@jupyter-widgets/base",
            "top": null,
            "grid_column": null,
            "overflow_y": null,
            "overflow_x": null,
            "grid_auto_flow": null,
            "grid_area": null,
            "grid_template_columns": null,
            "flex": null,
            "_model_name": "LayoutModel",
            "justify_items": null,
            "grid_row": null,
            "max_height": null,
            "align_content": null,
            "visibility": null,
            "align_self": null,
            "height": null,
            "min_height": null,
            "padding": null,
            "grid_auto_rows": null,
            "grid_gap": null,
            "max_width": null,
            "order": null,
            "_view_module_version": "1.2.0",
            "grid_template_areas": null,
            "object_position": null,
            "object_fit": null,
            "grid_auto_columns": null,
            "margin": null,
            "display": null,
            "left": null
          }
        },
        "83d9aadd15bf4561ba1cf9e48dd05335": {
          "model_module": "@jupyter-widgets/controls",
          "model_name": "HBoxModel",
          "state": {
            "_view_name": "HBoxView",
            "_dom_classes": [],
            "_model_name": "HBoxModel",
            "_view_module": "@jupyter-widgets/controls",
            "_model_module_version": "1.5.0",
            "_view_count": null,
            "_view_module_version": "1.5.0",
            "box_style": "",
            "layout": "IPY_MODEL_13de1910db6d43ee844f58cad68354ca",
            "_model_module": "@jupyter-widgets/controls",
            "children": [
              "IPY_MODEL_696c8b8e711f4fc09753fbd8444f1d74",
              "IPY_MODEL_7f03c332f7f74457b1b5dc5d965315af"
            ]
          }
        },
        "13de1910db6d43ee844f58cad68354ca": {
          "model_module": "@jupyter-widgets/base",
          "model_name": "LayoutModel",
          "state": {
            "_view_name": "LayoutView",
            "grid_template_rows": null,
            "right": null,
            "justify_content": null,
            "_view_module": "@jupyter-widgets/base",
            "overflow": null,
            "_model_module_version": "1.2.0",
            "_view_count": null,
            "flex_flow": null,
            "width": null,
            "min_width": null,
            "border": null,
            "align_items": null,
            "bottom": null,
            "_model_module": "@jupyter-widgets/base",
            "top": null,
            "grid_column": null,
            "overflow_y": null,
            "overflow_x": null,
            "grid_auto_flow": null,
            "grid_area": null,
            "grid_template_columns": null,
            "flex": null,
            "_model_name": "LayoutModel",
            "justify_items": null,
            "grid_row": null,
            "max_height": null,
            "align_content": null,
            "visibility": null,
            "align_self": null,
            "height": null,
            "min_height": null,
            "padding": null,
            "grid_auto_rows": null,
            "grid_gap": null,
            "max_width": null,
            "order": null,
            "_view_module_version": "1.2.0",
            "grid_template_areas": null,
            "object_position": null,
            "object_fit": null,
            "grid_auto_columns": null,
            "margin": null,
            "display": null,
            "left": null
          }
        },
        "696c8b8e711f4fc09753fbd8444f1d74": {
          "model_module": "@jupyter-widgets/controls",
          "model_name": "FloatProgressModel",
          "state": {
            "_view_name": "ProgressView",
            "style": "IPY_MODEL_258ac90804764ebb9d307a19b8f0bb8e",
            "_dom_classes": [],
            "description": "",
            "_model_name": "FloatProgressModel",
            "bar_style": "info",
            "max": 1,
            "_view_module": "@jupyter-widgets/controls",
            "_model_module_version": "1.5.0",
            "value": 1,
            "_view_count": null,
            "_view_module_version": "1.5.0",
            "orientation": "horizontal",
            "min": 0,
            "description_tooltip": null,
            "_model_module": "@jupyter-widgets/controls",
            "layout": "IPY_MODEL_f8c8467221df40728c957389a20e9ef6"
          }
        },
        "7f03c332f7f74457b1b5dc5d965315af": {
          "model_module": "@jupyter-widgets/controls",
          "model_name": "HTMLModel",
          "state": {
            "_view_name": "HTMLView",
            "style": "IPY_MODEL_2a54efab767546ee81439fda58bec57b",
            "_dom_classes": [],
            "description": "",
            "_model_name": "HTMLModel",
            "placeholder": "​",
            "_view_module": "@jupyter-widgets/controls",
            "_model_module_version": "1.5.0",
            "value": " 26032/0 [00:14&lt;00:00, 1838.79 examples/s]",
            "_view_count": null,
            "_view_module_version": "1.5.0",
            "description_tooltip": null,
            "_model_module": "@jupyter-widgets/controls",
            "layout": "IPY_MODEL_e563791841a64874bef4c735b05fac63"
          }
        },
        "258ac90804764ebb9d307a19b8f0bb8e": {
          "model_module": "@jupyter-widgets/controls",
          "model_name": "ProgressStyleModel",
          "state": {
            "_view_name": "StyleView",
            "_model_name": "ProgressStyleModel",
            "description_width": "initial",
            "_view_module": "@jupyter-widgets/base",
            "_model_module_version": "1.5.0",
            "_view_count": null,
            "_view_module_version": "1.2.0",
            "bar_color": null,
            "_model_module": "@jupyter-widgets/controls"
          }
        },
        "f8c8467221df40728c957389a20e9ef6": {
          "model_module": "@jupyter-widgets/base",
          "model_name": "LayoutModel",
          "state": {
            "_view_name": "LayoutView",
            "grid_template_rows": null,
            "right": null,
            "justify_content": null,
            "_view_module": "@jupyter-widgets/base",
            "overflow": null,
            "_model_module_version": "1.2.0",
            "_view_count": null,
            "flex_flow": null,
            "width": null,
            "min_width": null,
            "border": null,
            "align_items": null,
            "bottom": null,
            "_model_module": "@jupyter-widgets/base",
            "top": null,
            "grid_column": null,
            "overflow_y": null,
            "overflow_x": null,
            "grid_auto_flow": null,
            "grid_area": null,
            "grid_template_columns": null,
            "flex": null,
            "_model_name": "LayoutModel",
            "justify_items": null,
            "grid_row": null,
            "max_height": null,
            "align_content": null,
            "visibility": null,
            "align_self": null,
            "height": null,
            "min_height": null,
            "padding": null,
            "grid_auto_rows": null,
            "grid_gap": null,
            "max_width": null,
            "order": null,
            "_view_module_version": "1.2.0",
            "grid_template_areas": null,
            "object_position": null,
            "object_fit": null,
            "grid_auto_columns": null,
            "margin": null,
            "display": null,
            "left": null
          }
        },
        "2a54efab767546ee81439fda58bec57b": {
          "model_module": "@jupyter-widgets/controls",
          "model_name": "DescriptionStyleModel",
          "state": {
            "_view_name": "StyleView",
            "_model_name": "DescriptionStyleModel",
            "description_width": "",
            "_view_module": "@jupyter-widgets/base",
            "_model_module_version": "1.5.0",
            "_view_count": null,
            "_view_module_version": "1.2.0",
            "_model_module": "@jupyter-widgets/controls"
          }
        },
        "e563791841a64874bef4c735b05fac63": {
          "model_module": "@jupyter-widgets/base",
          "model_name": "LayoutModel",
          "state": {
            "_view_name": "LayoutView",
            "grid_template_rows": null,
            "right": null,
            "justify_content": null,
            "_view_module": "@jupyter-widgets/base",
            "overflow": null,
            "_model_module_version": "1.2.0",
            "_view_count": null,
            "flex_flow": null,
            "width": null,
            "min_width": null,
            "border": null,
            "align_items": null,
            "bottom": null,
            "_model_module": "@jupyter-widgets/base",
            "top": null,
            "grid_column": null,
            "overflow_y": null,
            "overflow_x": null,
            "grid_auto_flow": null,
            "grid_area": null,
            "grid_template_columns": null,
            "flex": null,
            "_model_name": "LayoutModel",
            "justify_items": null,
            "grid_row": null,
            "max_height": null,
            "align_content": null,
            "visibility": null,
            "align_self": null,
            "height": null,
            "min_height": null,
            "padding": null,
            "grid_auto_rows": null,
            "grid_gap": null,
            "max_width": null,
            "order": null,
            "_view_module_version": "1.2.0",
            "grid_template_areas": null,
            "object_position": null,
            "object_fit": null,
            "grid_auto_columns": null,
            "margin": null,
            "display": null,
            "left": null
          }
        },
        "c6a8fec135da4e52a5ca15d222ce9860": {
          "model_module": "@jupyter-widgets/controls",
          "model_name": "HBoxModel",
          "state": {
            "_view_name": "HBoxView",
            "_dom_classes": [],
            "_model_name": "HBoxModel",
            "_view_module": "@jupyter-widgets/controls",
            "_model_module_version": "1.5.0",
            "_view_count": null,
            "_view_module_version": "1.5.0",
            "box_style": "",
            "layout": "IPY_MODEL_701f977398a5448c8098970b63265292",
            "_model_module": "@jupyter-widgets/controls",
            "children": [
              "IPY_MODEL_35bf5b550a9c4c6ea4dc443ab540219c",
              "IPY_MODEL_fdb1547a25c9431c911f0e7678206864"
            ]
          }
        },
        "701f977398a5448c8098970b63265292": {
          "model_module": "@jupyter-widgets/base",
          "model_name": "LayoutModel",
          "state": {
            "_view_name": "LayoutView",
            "grid_template_rows": null,
            "right": null,
            "justify_content": null,
            "_view_module": "@jupyter-widgets/base",
            "overflow": null,
            "_model_module_version": "1.2.0",
            "_view_count": null,
            "flex_flow": null,
            "width": null,
            "min_width": null,
            "border": null,
            "align_items": null,
            "bottom": null,
            "_model_module": "@jupyter-widgets/base",
            "top": null,
            "grid_column": null,
            "overflow_y": null,
            "overflow_x": null,
            "grid_auto_flow": null,
            "grid_area": null,
            "grid_template_columns": null,
            "flex": null,
            "_model_name": "LayoutModel",
            "justify_items": null,
            "grid_row": null,
            "max_height": null,
            "align_content": null,
            "visibility": null,
            "align_self": null,
            "height": null,
            "min_height": null,
            "padding": null,
            "grid_auto_rows": null,
            "grid_gap": null,
            "max_width": null,
            "order": null,
            "_view_module_version": "1.2.0",
            "grid_template_areas": null,
            "object_position": null,
            "object_fit": null,
            "grid_auto_columns": null,
            "margin": null,
            "display": null,
            "left": null
          }
        },
        "35bf5b550a9c4c6ea4dc443ab540219c": {
          "model_module": "@jupyter-widgets/controls",
          "model_name": "FloatProgressModel",
          "state": {
            "_view_name": "ProgressView",
            "style": "IPY_MODEL_227156bf35b14acf9565c62aee99b8dc",
            "_dom_classes": [],
            "description": " 88%",
            "_model_name": "FloatProgressModel",
            "bar_style": "danger",
            "max": 26032,
            "_view_module": "@jupyter-widgets/controls",
            "_model_module_version": "1.5.0",
            "value": 22969,
            "_view_count": null,
            "_view_module_version": "1.5.0",
            "orientation": "horizontal",
            "min": 0,
            "description_tooltip": null,
            "_model_module": "@jupyter-widgets/controls",
            "layout": "IPY_MODEL_e2b6290156ed480ba2c44fa536e1c663"
          }
        },
        "fdb1547a25c9431c911f0e7678206864": {
          "model_module": "@jupyter-widgets/controls",
          "model_name": "HTMLModel",
          "state": {
            "_view_name": "HTMLView",
            "style": "IPY_MODEL_1db0f101e3754072ada1ded61570f83b",
            "_dom_classes": [],
            "description": "",
            "_model_name": "HTMLModel",
            "placeholder": "​",
            "_view_module": "@jupyter-widgets/controls",
            "_model_module_version": "1.5.0",
            "value": " 22969/26032 [00:19&lt;00:00, 78999.22 examples/s]",
            "_view_count": null,
            "_view_module_version": "1.5.0",
            "description_tooltip": null,
            "_model_module": "@jupyter-widgets/controls",
            "layout": "IPY_MODEL_2e2f32db5ff04cfd8023a52c9aeb33e8"
          }
        },
        "227156bf35b14acf9565c62aee99b8dc": {
          "model_module": "@jupyter-widgets/controls",
          "model_name": "ProgressStyleModel",
          "state": {
            "_view_name": "StyleView",
            "_model_name": "ProgressStyleModel",
            "description_width": "initial",
            "_view_module": "@jupyter-widgets/base",
            "_model_module_version": "1.5.0",
            "_view_count": null,
            "_view_module_version": "1.2.0",
            "bar_color": null,
            "_model_module": "@jupyter-widgets/controls"
          }
        },
        "e2b6290156ed480ba2c44fa536e1c663": {
          "model_module": "@jupyter-widgets/base",
          "model_name": "LayoutModel",
          "state": {
            "_view_name": "LayoutView",
            "grid_template_rows": null,
            "right": null,
            "justify_content": null,
            "_view_module": "@jupyter-widgets/base",
            "overflow": null,
            "_model_module_version": "1.2.0",
            "_view_count": null,
            "flex_flow": null,
            "width": null,
            "min_width": null,
            "border": null,
            "align_items": null,
            "bottom": null,
            "_model_module": "@jupyter-widgets/base",
            "top": null,
            "grid_column": null,
            "overflow_y": null,
            "overflow_x": null,
            "grid_auto_flow": null,
            "grid_area": null,
            "grid_template_columns": null,
            "flex": null,
            "_model_name": "LayoutModel",
            "justify_items": null,
            "grid_row": null,
            "max_height": null,
            "align_content": null,
            "visibility": null,
            "align_self": null,
            "height": null,
            "min_height": null,
            "padding": null,
            "grid_auto_rows": null,
            "grid_gap": null,
            "max_width": null,
            "order": null,
            "_view_module_version": "1.2.0",
            "grid_template_areas": null,
            "object_position": null,
            "object_fit": null,
            "grid_auto_columns": null,
            "margin": null,
            "display": null,
            "left": null
          }
        },
        "1db0f101e3754072ada1ded61570f83b": {
          "model_module": "@jupyter-widgets/controls",
          "model_name": "DescriptionStyleModel",
          "state": {
            "_view_name": "StyleView",
            "_model_name": "DescriptionStyleModel",
            "description_width": "",
            "_view_module": "@jupyter-widgets/base",
            "_model_module_version": "1.5.0",
            "_view_count": null,
            "_view_module_version": "1.2.0",
            "_model_module": "@jupyter-widgets/controls"
          }
        },
        "2e2f32db5ff04cfd8023a52c9aeb33e8": {
          "model_module": "@jupyter-widgets/base",
          "model_name": "LayoutModel",
          "state": {
            "_view_name": "LayoutView",
            "grid_template_rows": null,
            "right": null,
            "justify_content": null,
            "_view_module": "@jupyter-widgets/base",
            "overflow": null,
            "_model_module_version": "1.2.0",
            "_view_count": null,
            "flex_flow": null,
            "width": null,
            "min_width": null,
            "border": null,
            "align_items": null,
            "bottom": null,
            "_model_module": "@jupyter-widgets/base",
            "top": null,
            "grid_column": null,
            "overflow_y": null,
            "overflow_x": null,
            "grid_auto_flow": null,
            "grid_area": null,
            "grid_template_columns": null,
            "flex": null,
            "_model_name": "LayoutModel",
            "justify_items": null,
            "grid_row": null,
            "max_height": null,
            "align_content": null,
            "visibility": null,
            "align_self": null,
            "height": null,
            "min_height": null,
            "padding": null,
            "grid_auto_rows": null,
            "grid_gap": null,
            "max_width": null,
            "order": null,
            "_view_module_version": "1.2.0",
            "grid_template_areas": null,
            "object_position": null,
            "object_fit": null,
            "grid_auto_columns": null,
            "margin": null,
            "display": null,
            "left": null
          }
        },
        "342228a715024b899c5cf2ce92101680": {
          "model_module": "@jupyter-widgets/controls",
          "model_name": "HBoxModel",
          "state": {
            "_view_name": "HBoxView",
            "_dom_classes": [],
            "_model_name": "HBoxModel",
            "_view_module": "@jupyter-widgets/controls",
            "_model_module_version": "1.5.0",
            "_view_count": null,
            "_view_module_version": "1.5.0",
            "box_style": "",
            "layout": "IPY_MODEL_972a3134e958443097cfd420d97382d0",
            "_model_module": "@jupyter-widgets/controls",
            "children": [
              "IPY_MODEL_d124d22606ff4756a663a3dcd422b3f2",
              "IPY_MODEL_5e4700161fd442c281d758076b9dd27a"
            ]
          }
        },
        "972a3134e958443097cfd420d97382d0": {
          "model_module": "@jupyter-widgets/base",
          "model_name": "LayoutModel",
          "state": {
            "_view_name": "LayoutView",
            "grid_template_rows": null,
            "right": null,
            "justify_content": null,
            "_view_module": "@jupyter-widgets/base",
            "overflow": null,
            "_model_module_version": "1.2.0",
            "_view_count": null,
            "flex_flow": null,
            "width": null,
            "min_width": null,
            "border": null,
            "align_items": null,
            "bottom": null,
            "_model_module": "@jupyter-widgets/base",
            "top": null,
            "grid_column": null,
            "overflow_y": null,
            "overflow_x": null,
            "grid_auto_flow": null,
            "grid_area": null,
            "grid_template_columns": null,
            "flex": null,
            "_model_name": "LayoutModel",
            "justify_items": null,
            "grid_row": null,
            "max_height": null,
            "align_content": null,
            "visibility": null,
            "align_self": null,
            "height": null,
            "min_height": null,
            "padding": null,
            "grid_auto_rows": null,
            "grid_gap": null,
            "max_width": null,
            "order": null,
            "_view_module_version": "1.2.0",
            "grid_template_areas": null,
            "object_position": null,
            "object_fit": null,
            "grid_auto_columns": null,
            "margin": null,
            "display": null,
            "left": null
          }
        },
        "d124d22606ff4756a663a3dcd422b3f2": {
          "model_module": "@jupyter-widgets/controls",
          "model_name": "FloatProgressModel",
          "state": {
            "_view_name": "ProgressView",
            "style": "IPY_MODEL_278c780ce1134a58979c939721348785",
            "_dom_classes": [],
            "description": "",
            "_model_name": "FloatProgressModel",
            "bar_style": "info",
            "max": 1,
            "_view_module": "@jupyter-widgets/controls",
            "_model_module_version": "1.5.0",
            "value": 1,
            "_view_count": null,
            "_view_module_version": "1.5.0",
            "orientation": "horizontal",
            "min": 0,
            "description_tooltip": null,
            "_model_module": "@jupyter-widgets/controls",
            "layout": "IPY_MODEL_fe3a626cd71a4d76a82c5f163323ffce"
          }
        },
        "5e4700161fd442c281d758076b9dd27a": {
          "model_module": "@jupyter-widgets/controls",
          "model_name": "HTMLModel",
          "state": {
            "_view_name": "HTMLView",
            "style": "IPY_MODEL_9efc91d5b2154ce1ba21bb6b02560a0c",
            "_dom_classes": [],
            "description": "",
            "_model_name": "HTMLModel",
            "placeholder": "​",
            "_view_module": "@jupyter-widgets/controls",
            "_model_module_version": "1.5.0",
            "value": " 531131/0 [04:42&lt;00:00, 2015.65 examples/s]",
            "_view_count": null,
            "_view_module_version": "1.5.0",
            "description_tooltip": null,
            "_model_module": "@jupyter-widgets/controls",
            "layout": "IPY_MODEL_45e63df32da447fda6f2dcd99f9a7d1d"
          }
        },
        "278c780ce1134a58979c939721348785": {
          "model_module": "@jupyter-widgets/controls",
          "model_name": "ProgressStyleModel",
          "state": {
            "_view_name": "StyleView",
            "_model_name": "ProgressStyleModel",
            "description_width": "initial",
            "_view_module": "@jupyter-widgets/base",
            "_model_module_version": "1.5.0",
            "_view_count": null,
            "_view_module_version": "1.2.0",
            "bar_color": null,
            "_model_module": "@jupyter-widgets/controls"
          }
        },
        "fe3a626cd71a4d76a82c5f163323ffce": {
          "model_module": "@jupyter-widgets/base",
          "model_name": "LayoutModel",
          "state": {
            "_view_name": "LayoutView",
            "grid_template_rows": null,
            "right": null,
            "justify_content": null,
            "_view_module": "@jupyter-widgets/base",
            "overflow": null,
            "_model_module_version": "1.2.0",
            "_view_count": null,
            "flex_flow": null,
            "width": null,
            "min_width": null,
            "border": null,
            "align_items": null,
            "bottom": null,
            "_model_module": "@jupyter-widgets/base",
            "top": null,
            "grid_column": null,
            "overflow_y": null,
            "overflow_x": null,
            "grid_auto_flow": null,
            "grid_area": null,
            "grid_template_columns": null,
            "flex": null,
            "_model_name": "LayoutModel",
            "justify_items": null,
            "grid_row": null,
            "max_height": null,
            "align_content": null,
            "visibility": null,
            "align_self": null,
            "height": null,
            "min_height": null,
            "padding": null,
            "grid_auto_rows": null,
            "grid_gap": null,
            "max_width": null,
            "order": null,
            "_view_module_version": "1.2.0",
            "grid_template_areas": null,
            "object_position": null,
            "object_fit": null,
            "grid_auto_columns": null,
            "margin": null,
            "display": null,
            "left": null
          }
        },
        "9efc91d5b2154ce1ba21bb6b02560a0c": {
          "model_module": "@jupyter-widgets/controls",
          "model_name": "DescriptionStyleModel",
          "state": {
            "_view_name": "StyleView",
            "_model_name": "DescriptionStyleModel",
            "description_width": "",
            "_view_module": "@jupyter-widgets/base",
            "_model_module_version": "1.5.0",
            "_view_count": null,
            "_view_module_version": "1.2.0",
            "_model_module": "@jupyter-widgets/controls"
          }
        },
        "45e63df32da447fda6f2dcd99f9a7d1d": {
          "model_module": "@jupyter-widgets/base",
          "model_name": "LayoutModel",
          "state": {
            "_view_name": "LayoutView",
            "grid_template_rows": null,
            "right": null,
            "justify_content": null,
            "_view_module": "@jupyter-widgets/base",
            "overflow": null,
            "_model_module_version": "1.2.0",
            "_view_count": null,
            "flex_flow": null,
            "width": null,
            "min_width": null,
            "border": null,
            "align_items": null,
            "bottom": null,
            "_model_module": "@jupyter-widgets/base",
            "top": null,
            "grid_column": null,
            "overflow_y": null,
            "overflow_x": null,
            "grid_auto_flow": null,
            "grid_area": null,
            "grid_template_columns": null,
            "flex": null,
            "_model_name": "LayoutModel",
            "justify_items": null,
            "grid_row": null,
            "max_height": null,
            "align_content": null,
            "visibility": null,
            "align_self": null,
            "height": null,
            "min_height": null,
            "padding": null,
            "grid_auto_rows": null,
            "grid_gap": null,
            "max_width": null,
            "order": null,
            "_view_module_version": "1.2.0",
            "grid_template_areas": null,
            "object_position": null,
            "object_fit": null,
            "grid_auto_columns": null,
            "margin": null,
            "display": null,
            "left": null
          }
        },
        "112db6be0eaa41acb04ca9bfd6de5dfc": {
          "model_module": "@jupyter-widgets/controls",
          "model_name": "HBoxModel",
          "state": {
            "_view_name": "HBoxView",
            "_dom_classes": [],
            "_model_name": "HBoxModel",
            "_view_module": "@jupyter-widgets/controls",
            "_model_module_version": "1.5.0",
            "_view_count": null,
            "_view_module_version": "1.5.0",
            "box_style": "",
            "layout": "IPY_MODEL_e8cbde39ebc1470f81e638e36a27f0ea",
            "_model_module": "@jupyter-widgets/controls",
            "children": [
              "IPY_MODEL_ceb0c3a31b0945a8a8dd9ab2644caae7",
              "IPY_MODEL_b5cde5b956694c21abb31fff6519e75a"
            ]
          }
        },
        "e8cbde39ebc1470f81e638e36a27f0ea": {
          "model_module": "@jupyter-widgets/base",
          "model_name": "LayoutModel",
          "state": {
            "_view_name": "LayoutView",
            "grid_template_rows": null,
            "right": null,
            "justify_content": null,
            "_view_module": "@jupyter-widgets/base",
            "overflow": null,
            "_model_module_version": "1.2.0",
            "_view_count": null,
            "flex_flow": null,
            "width": null,
            "min_width": null,
            "border": null,
            "align_items": null,
            "bottom": null,
            "_model_module": "@jupyter-widgets/base",
            "top": null,
            "grid_column": null,
            "overflow_y": null,
            "overflow_x": null,
            "grid_auto_flow": null,
            "grid_area": null,
            "grid_template_columns": null,
            "flex": null,
            "_model_name": "LayoutModel",
            "justify_items": null,
            "grid_row": null,
            "max_height": null,
            "align_content": null,
            "visibility": null,
            "align_self": null,
            "height": null,
            "min_height": null,
            "padding": null,
            "grid_auto_rows": null,
            "grid_gap": null,
            "max_width": null,
            "order": null,
            "_view_module_version": "1.2.0",
            "grid_template_areas": null,
            "object_position": null,
            "object_fit": null,
            "grid_auto_columns": null,
            "margin": null,
            "display": null,
            "left": null
          }
        },
        "ceb0c3a31b0945a8a8dd9ab2644caae7": {
          "model_module": "@jupyter-widgets/controls",
          "model_name": "FloatProgressModel",
          "state": {
            "_view_name": "ProgressView",
            "style": "IPY_MODEL_fc6b1270d8e640fbb99785e67dfce6ce",
            "_dom_classes": [],
            "description": " 99%",
            "_model_name": "FloatProgressModel",
            "bar_style": "danger",
            "max": 531131,
            "_view_module": "@jupyter-widgets/controls",
            "_model_module_version": "1.5.0",
            "value": 523287,
            "_view_count": null,
            "_view_module_version": "1.5.0",
            "orientation": "horizontal",
            "min": 0,
            "description_tooltip": null,
            "_model_module": "@jupyter-widgets/controls",
            "layout": "IPY_MODEL_6d2f5a477a9047c9ab50a0ad5c0432cf"
          }
        },
        "b5cde5b956694c21abb31fff6519e75a": {
          "model_module": "@jupyter-widgets/controls",
          "model_name": "HTMLModel",
          "state": {
            "_view_name": "HTMLView",
            "style": "IPY_MODEL_4795fe7385034feeb01bedb05c4de15c",
            "_dom_classes": [],
            "description": "",
            "_model_name": "HTMLModel",
            "placeholder": "​",
            "_view_module": "@jupyter-widgets/controls",
            "_model_module_version": "1.5.0",
            "value": " 523287/531131 [00:04&lt;00:00, 27586.15 examples/s]",
            "_view_count": null,
            "_view_module_version": "1.5.0",
            "description_tooltip": null,
            "_model_module": "@jupyter-widgets/controls",
            "layout": "IPY_MODEL_bbb4ef5f929f4c15b4203aa0e146bebc"
          }
        },
        "fc6b1270d8e640fbb99785e67dfce6ce": {
          "model_module": "@jupyter-widgets/controls",
          "model_name": "ProgressStyleModel",
          "state": {
            "_view_name": "StyleView",
            "_model_name": "ProgressStyleModel",
            "description_width": "initial",
            "_view_module": "@jupyter-widgets/base",
            "_model_module_version": "1.5.0",
            "_view_count": null,
            "_view_module_version": "1.2.0",
            "bar_color": null,
            "_model_module": "@jupyter-widgets/controls"
          }
        },
        "6d2f5a477a9047c9ab50a0ad5c0432cf": {
          "model_module": "@jupyter-widgets/base",
          "model_name": "LayoutModel",
          "state": {
            "_view_name": "LayoutView",
            "grid_template_rows": null,
            "right": null,
            "justify_content": null,
            "_view_module": "@jupyter-widgets/base",
            "overflow": null,
            "_model_module_version": "1.2.0",
            "_view_count": null,
            "flex_flow": null,
            "width": null,
            "min_width": null,
            "border": null,
            "align_items": null,
            "bottom": null,
            "_model_module": "@jupyter-widgets/base",
            "top": null,
            "grid_column": null,
            "overflow_y": null,
            "overflow_x": null,
            "grid_auto_flow": null,
            "grid_area": null,
            "grid_template_columns": null,
            "flex": null,
            "_model_name": "LayoutModel",
            "justify_items": null,
            "grid_row": null,
            "max_height": null,
            "align_content": null,
            "visibility": null,
            "align_self": null,
            "height": null,
            "min_height": null,
            "padding": null,
            "grid_auto_rows": null,
            "grid_gap": null,
            "max_width": null,
            "order": null,
            "_view_module_version": "1.2.0",
            "grid_template_areas": null,
            "object_position": null,
            "object_fit": null,
            "grid_auto_columns": null,
            "margin": null,
            "display": null,
            "left": null
          }
        },
        "4795fe7385034feeb01bedb05c4de15c": {
          "model_module": "@jupyter-widgets/controls",
          "model_name": "DescriptionStyleModel",
          "state": {
            "_view_name": "StyleView",
            "_model_name": "DescriptionStyleModel",
            "description_width": "",
            "_view_module": "@jupyter-widgets/base",
            "_model_module_version": "1.5.0",
            "_view_count": null,
            "_view_module_version": "1.2.0",
            "_model_module": "@jupyter-widgets/controls"
          }
        },
        "bbb4ef5f929f4c15b4203aa0e146bebc": {
          "model_module": "@jupyter-widgets/base",
          "model_name": "LayoutModel",
          "state": {
            "_view_name": "LayoutView",
            "grid_template_rows": null,
            "right": null,
            "justify_content": null,
            "_view_module": "@jupyter-widgets/base",
            "overflow": null,
            "_model_module_version": "1.2.0",
            "_view_count": null,
            "flex_flow": null,
            "width": null,
            "min_width": null,
            "border": null,
            "align_items": null,
            "bottom": null,
            "_model_module": "@jupyter-widgets/base",
            "top": null,
            "grid_column": null,
            "overflow_y": null,
            "overflow_x": null,
            "grid_auto_flow": null,
            "grid_area": null,
            "grid_template_columns": null,
            "flex": null,
            "_model_name": "LayoutModel",
            "justify_items": null,
            "grid_row": null,
            "max_height": null,
            "align_content": null,
            "visibility": null,
            "align_self": null,
            "height": null,
            "min_height": null,
            "padding": null,
            "grid_auto_rows": null,
            "grid_gap": null,
            "max_width": null,
            "order": null,
            "_view_module_version": "1.2.0",
            "grid_template_areas": null,
            "object_position": null,
            "object_fit": null,
            "grid_auto_columns": null,
            "margin": null,
            "display": null,
            "left": null
          }
        }
      }
    }
  },
  "cells": [
    {
      "cell_type": "markdown",
      "metadata": {
        "id": "view-in-github",
        "colab_type": "text"
      },
      "source": [
        "<a href=\"https://colab.research.google.com/github/mvenouziou/Capstone_Projects/blob/main/SVHN_Image_Classification_Project.ipynb\" target=\"_parent\"><img src=\"https://colab.research.google.com/assets/colab-badge.svg\" alt=\"Open In Colab\"/></a>"
      ]
    },
    {
      "cell_type": "markdown",
      "metadata": {
        "id": "rffwkDWTz_Fo"
      },
      "source": [
        "# Capstone Project: \n",
        "\n",
        "## Develop an end-to-end workflow for building, training, validating, evaluating and saving CNN and MLP neural networks that classifies a real-world image into one of ten classes.\n",
        "\n",
        "<i>\n",
        "Dataset: Street View House Numbers (SVHN), [Netzer2011]\n",
        "</br>\n",
        " www.&#8203;tensorflow.org/datasets/&#8203;catalog/svhn_cropped\n",
        "</i>\n"
      ]
    },
    {
      "cell_type": "code",
      "metadata": {
        "id": "O3vI8jSIz_Fs"
      },
      "source": [
        "#### Load imports\n",
        "# tensorflow\n",
        "import tensorflow as tf\n",
        "import tensorflow_datasets as tfds\n",
        "\n",
        "# alt data formats\n",
        "import numpy as np\n",
        "import pandas as pd\n",
        "\n",
        "# tools for display / image viewer\n",
        "import matplotlib.pyplot as plt\n",
        "import PIL\n",
        "import PIL.Image"
      ],
      "execution_count": 6,
      "outputs": []
    },
    {
      "cell_type": "code",
      "metadata": {
        "id": "r8BHW8P_2wxw",
        "colab": {
          "base_uri": "https://localhost:8080/"
        },
        "outputId": "e66631dc-efae-4a6c-b37b-e578102e73dd"
      },
      "source": [
        "# Connect storage for saving / loading models\n",
        "# (Google Drive:)\n",
        "from google.colab import drive\n",
        "drive.mount('/content/gdrive', force_remount=False)"
      ],
      "execution_count": 2,
      "outputs": [
        {
          "output_type": "stream",
          "text": [
            "Mounted at /content/gdrive\n"
          ],
          "name": "stdout"
        }
      ]
    },
    {
      "cell_type": "markdown",
      "metadata": {
        "id": "_Q1n_Ai2z_F3"
      },
      "source": [
        "## Load / Preprocess Dataset"
      ]
    },
    {
      "cell_type": "markdown",
      "metadata": {
        "id": "lTc_EgFgiwl_"
      },
      "source": [
        "##### Load Data from Tensorflow Servers"
      ]
    },
    {
      "cell_type": "code",
      "metadata": {
        "id": "YWdiz3n_z_Fy",
        "colab": {
          "base_uri": "https://localhost:8080/",
          "height": 363,
          "referenced_widgets": [
            "2d0362709abb4c59bf98223907b0039e",
            "075024ea0ff14cce9f5da092ded4ca78",
            "7780da31e8dd49c1a6e0797fdaf97664",
            "6aedea8ba8304ab0bf35a5102fd27c2e",
            "e7caf20af5e549ce88bfa35dc0b1dc87",
            "53551bf73f8b4baf8b2629e6c84a86f9",
            "63be2235cca8474faabac2fd99b0747e",
            "5dfd2b91501942039ec9dc22fac501e4",
            "44dec03094814120852aadbc7bf5f945",
            "fe9899fb4ddf45cd90d708af2fb43c98",
            "57796d7ebd854f389f1c1159ceaecd25",
            "6b2404550c3140f5a9b5aec20b23a8f1",
            "d51edc40599a43d39074ea523647ed95",
            "0e7fd85775ed497f91e594262f924b68",
            "d3e5509a48ff4443979ad9a327740a22",
            "584dd523865e44a88246f04acc3f5772",
            "38ebdd86393448a49fd2523e5da1bed4",
            "4c3dbeae72424db2a0dd0b350881aee2",
            "6cb7f3f15a5d4b55b662ff93ece22048",
            "6b0e9ba730494ac1b5dc8e31790fdf0d",
            "2e7490fe8fed427b9927fa3664ddc9bc",
            "03ea0f1c94d448469e8bac30a89f8e15",
            "c7d64af92280462081aff220184ef822",
            "f8837da494f5473189ac72fdc624ec07",
            "4dcf4128399b4e37b7a88838f52468e2",
            "32d178b002aa40afa995cab6773c9782",
            "5481b5b973ef44fd94a4eb6cf213ff9e",
            "5aa2e9c49c994fc995cd5aa45dba79be",
            "279a03cd9a9f45e9acdf2cd191103ac8",
            "65995227cae043b7b75c27ae9656ac85",
            "26934801f2284d809c5cb4b74b43c951",
            "63e860ddfa3749d585e9b9b93d176de8",
            "83d9aadd15bf4561ba1cf9e48dd05335",
            "13de1910db6d43ee844f58cad68354ca",
            "696c8b8e711f4fc09753fbd8444f1d74",
            "7f03c332f7f74457b1b5dc5d965315af",
            "258ac90804764ebb9d307a19b8f0bb8e",
            "f8c8467221df40728c957389a20e9ef6",
            "2a54efab767546ee81439fda58bec57b",
            "e563791841a64874bef4c735b05fac63",
            "c6a8fec135da4e52a5ca15d222ce9860",
            "701f977398a5448c8098970b63265292",
            "35bf5b550a9c4c6ea4dc443ab540219c",
            "fdb1547a25c9431c911f0e7678206864",
            "227156bf35b14acf9565c62aee99b8dc",
            "e2b6290156ed480ba2c44fa536e1c663",
            "1db0f101e3754072ada1ded61570f83b",
            "2e2f32db5ff04cfd8023a52c9aeb33e8",
            "342228a715024b899c5cf2ce92101680",
            "972a3134e958443097cfd420d97382d0",
            "d124d22606ff4756a663a3dcd422b3f2",
            "5e4700161fd442c281d758076b9dd27a",
            "278c780ce1134a58979c939721348785",
            "fe3a626cd71a4d76a82c5f163323ffce",
            "9efc91d5b2154ce1ba21bb6b02560a0c",
            "45e63df32da447fda6f2dcd99f9a7d1d",
            "112db6be0eaa41acb04ca9bfd6de5dfc",
            "e8cbde39ebc1470f81e638e36a27f0ea",
            "ceb0c3a31b0945a8a8dd9ab2644caae7",
            "b5cde5b956694c21abb31fff6519e75a",
            "fc6b1270d8e640fbb99785e67dfce6ce",
            "6d2f5a477a9047c9ab50a0ad5c0432cf",
            "4795fe7385034feeb01bedb05c4de15c",
            "bbb4ef5f929f4c15b4203aa0e146bebc"
          ]
        },
        "outputId": "32fcaa0c-1896-4035-d51a-7f94bc654bb9"
      },
      "source": [
        "# Create train, validation and test sets\n",
        "def load_data():\n",
        "\n",
        "    (train_ds, validation_ds, test_ds), info = \\\n",
        "        tfds.load('svhn_cropped', # choose dataset\n",
        "                split=['train', 'test[:50%]', 'test[-50%:]'],  # train, valid, test\n",
        "                shuffle_files=True,  # shuffles during training epochs\n",
        "                as_supervised=True,  # Returns tuple (img, label)\n",
        "                with_info=True  # metadata\n",
        "                )  \n",
        "        \n",
        "    return (train_ds, validation_ds, test_ds), info\n",
        "\n",
        "\n",
        "# load data\n",
        "(train_ds, validation_ds, test_ds), info = load_data()"
      ],
      "execution_count": 3,
      "outputs": [
        {
          "output_type": "stream",
          "text": [
            "\u001b[1mDownloading and preparing dataset svhn_cropped/3.0.0 (download: 1.47 GiB, generated: Unknown size, total: 1.47 GiB) to /root/tensorflow_datasets/svhn_cropped/3.0.0...\u001b[0m\n"
          ],
          "name": "stdout"
        },
        {
          "output_type": "display_data",
          "data": {
            "application/vnd.jupyter.widget-view+json": {
              "model_id": "2d0362709abb4c59bf98223907b0039e",
              "version_minor": 0,
              "version_major": 2
            },
            "text/plain": [
              "HBox(children=(FloatProgress(value=1.0, bar_style='info', description='Dl Completed...', max=1.0, style=Progre…"
            ]
          },
          "metadata": {
            "tags": []
          }
        },
        {
          "output_type": "display_data",
          "data": {
            "application/vnd.jupyter.widget-view+json": {
              "model_id": "44dec03094814120852aadbc7bf5f945",
              "version_minor": 0,
              "version_major": 2
            },
            "text/plain": [
              "HBox(children=(FloatProgress(value=1.0, bar_style='info', description='Dl Size...', max=1.0, style=ProgressSty…"
            ]
          },
          "metadata": {
            "tags": []
          }
        },
        {
          "output_type": "stream",
          "text": [
            "\n",
            "\n",
            "\n",
            "\n"
          ],
          "name": "stdout"
        },
        {
          "output_type": "display_data",
          "data": {
            "application/vnd.jupyter.widget-view+json": {
              "model_id": "38ebdd86393448a49fd2523e5da1bed4",
              "version_minor": 0,
              "version_major": 2
            },
            "text/plain": [
              "HBox(children=(FloatProgress(value=1.0, bar_style='info', max=1.0), HTML(value='')))"
            ]
          },
          "metadata": {
            "tags": []
          }
        },
        {
          "output_type": "stream",
          "text": [
            "\rShuffling and writing examples to /root/tensorflow_datasets/svhn_cropped/3.0.0.incompleteNMACW5/svhn_cropped-train.tfrecord\n"
          ],
          "name": "stdout"
        },
        {
          "output_type": "display_data",
          "data": {
            "application/vnd.jupyter.widget-view+json": {
              "model_id": "4dcf4128399b4e37b7a88838f52468e2",
              "version_minor": 0,
              "version_major": 2
            },
            "text/plain": [
              "HBox(children=(FloatProgress(value=0.0, max=73257.0), HTML(value='')))"
            ]
          },
          "metadata": {
            "tags": []
          }
        },
        {
          "output_type": "stream",
          "text": [
            "\r"
          ],
          "name": "stdout"
        },
        {
          "output_type": "display_data",
          "data": {
            "application/vnd.jupyter.widget-view+json": {
              "model_id": "83d9aadd15bf4561ba1cf9e48dd05335",
              "version_minor": 0,
              "version_major": 2
            },
            "text/plain": [
              "HBox(children=(FloatProgress(value=1.0, bar_style='info', max=1.0), HTML(value='')))"
            ]
          },
          "metadata": {
            "tags": []
          }
        },
        {
          "output_type": "stream",
          "text": [
            "\rShuffling and writing examples to /root/tensorflow_datasets/svhn_cropped/3.0.0.incompleteNMACW5/svhn_cropped-test.tfrecord\n"
          ],
          "name": "stdout"
        },
        {
          "output_type": "display_data",
          "data": {
            "application/vnd.jupyter.widget-view+json": {
              "model_id": "c6a8fec135da4e52a5ca15d222ce9860",
              "version_minor": 0,
              "version_major": 2
            },
            "text/plain": [
              "HBox(children=(FloatProgress(value=0.0, max=26032.0), HTML(value='')))"
            ]
          },
          "metadata": {
            "tags": []
          }
        },
        {
          "output_type": "display_data",
          "data": {
            "application/vnd.jupyter.widget-view+json": {
              "model_id": "342228a715024b899c5cf2ce92101680",
              "version_minor": 0,
              "version_major": 2
            },
            "text/plain": [
              "HBox(children=(FloatProgress(value=1.0, bar_style='info', max=1.0), HTML(value='')))"
            ]
          },
          "metadata": {
            "tags": []
          }
        },
        {
          "output_type": "stream",
          "text": [
            "Shuffling and writing examples to /root/tensorflow_datasets/svhn_cropped/3.0.0.incompleteNMACW5/svhn_cropped-extra.tfrecord\n"
          ],
          "name": "stdout"
        },
        {
          "output_type": "display_data",
          "data": {
            "application/vnd.jupyter.widget-view+json": {
              "model_id": "112db6be0eaa41acb04ca9bfd6de5dfc",
              "version_minor": 0,
              "version_major": 2
            },
            "text/plain": [
              "HBox(children=(FloatProgress(value=0.0, max=531131.0), HTML(value='')))"
            ]
          },
          "metadata": {
            "tags": []
          }
        },
        {
          "output_type": "stream",
          "text": [
            "\u001b[1mDataset svhn_cropped downloaded and prepared to /root/tensorflow_datasets/svhn_cropped/3.0.0. Subsequent calls will reuse this data.\u001b[0m\n"
          ],
          "name": "stdout"
        }
      ]
    },
    {
      "cell_type": "code",
      "metadata": {
        "colab": {
          "base_uri": "https://localhost:8080/"
        },
        "id": "-KjdssZxBFVR",
        "outputId": "c190fdef-15e1-4a82-cfc9-cb0a6c2e347b"
      },
      "source": [
        "# Dataset Overview:\r\n",
        "\r\n",
        "# train set: 73257 images, validation set: 13016 images, \r\n",
        "# test set: 13016 images\r\n",
        "# note: we are not using the 'extra' (computational speed)\r\n",
        "info"
      ],
      "execution_count": 4,
      "outputs": [
        {
          "output_type": "execute_result",
          "data": {
            "text/plain": [
              "tfds.core.DatasetInfo(\n",
              "    name='svhn_cropped',\n",
              "    version=3.0.0,\n",
              "    description='The Street View House Numbers (SVHN) Dataset is an image digit recognition dataset of over 600,000 digit images coming from real world data. Images are cropped to 32x32.',\n",
              "    homepage='http://ufldl.stanford.edu/housenumbers/',\n",
              "    features=FeaturesDict({\n",
              "        'image': Image(shape=(32, 32, 3), dtype=tf.uint8),\n",
              "        'label': ClassLabel(shape=(), dtype=tf.int64, num_classes=10),\n",
              "    }),\n",
              "    total_num_examples=630420,\n",
              "    splits={\n",
              "        'extra': 531131,\n",
              "        'test': 26032,\n",
              "        'train': 73257,\n",
              "    },\n",
              "    supervised_keys=('image', 'label'),\n",
              "    citation=\"\"\"@article{Netzer2011,\n",
              "    author = {Netzer, Yuval and Wang, Tao and Coates, Adam and Bissacco, Alessandro and Wu, Bo and Ng, Andrew Y},\n",
              "    booktitle = {Advances in Neural Information Processing Systems ({NIPS})},\n",
              "    title = {Reading Digits in Natural Images with Unsupervised Feature Learning},\n",
              "    year = {2011}\n",
              "    }\"\"\",\n",
              "    redistribution_info=,\n",
              ")"
            ]
          },
          "metadata": {
            "tags": []
          },
          "execution_count": 4
        }
      ]
    },
    {
      "cell_type": "markdown",
      "metadata": {
        "id": "K6SsoXM1jIpo"
      },
      "source": [
        "##### Examine some data points"
      ]
    },
    {
      "cell_type": "code",
      "metadata": {
        "id": "-WIH5hyXz_F4",
        "colab": {
          "base_uri": "https://localhost:8080/",
          "height": 534
        },
        "outputId": "120ed682-9717-4d91-a6fc-5ebe2e7102a7"
      },
      "source": [
        "# view 10 samples\r\n",
        "fig = tfds.show_examples(train_ds.shuffle(10000).take(10), info)"
      ],
      "execution_count": 8,
      "outputs": [
        {
          "output_type": "display_data",
          "data": {
            "image/png": "[encoded data removed]",
            "text/plain": [
              "<Figure size 648x648 with 9 Axes>"
            ]
          },
          "metadata": {
            "tags": []
          }
        }
      ]
    },
    {
      "cell_type": "markdown",
      "metadata": {
        "id": "ZHtwLqZ5jOmh"
      },
      "source": [
        "##### Preprocessing Step"
      ]
    },
    {
      "cell_type": "code",
      "metadata": {
        "id": "UXYwWhHpz_GD"
      },
      "source": [
        "# scale image values and convert to grayscale\r\n",
        "# note: grayscale being used per project instructions\r\n",
        "\r\n",
        "def convert_to_grayscale_normalized(image, label):\r\n",
        "    grayscale_image= tf.math.reduce_mean(image, axis=-1, keepdims=True)\r\n",
        "    return tf.cast(grayscale_image, tf.float32) / 255.0, label\r\n",
        "\r\n",
        "def prep_data(dataset, shuffle=True):\r\n",
        "    dataset = dataset.map(convert_to_grayscale_normalized)\r\n",
        "    if shuffle:\r\n",
        "        dataset = dataset.shuffle(1000)\r\n",
        "    dataset = dataset.batch(64)\r\n",
        "    dataset = dataset.prefetch(tf.data.experimental.AUTOTUNE)\r\n",
        "    return dataset\r\n",
        "\r\n",
        "# See https://www.tensorflow.org/datasets/keras_example"
      ],
      "execution_count": 9,
      "outputs": []
    },
    {
      "cell_type": "code",
      "metadata": {
        "id": "aeAmDlXu2FAo"
      },
      "source": [
        "# Apply preprocessing to test / train / validation sets\r\n",
        "train_ds_prepared = prep_data(train_ds, shuffle=True)\r\n",
        "validation_ds_prepared = prep_data(validation_ds, shuffle=True)\r\n",
        "test_ds_prepared = prep_data(test_ds, shuffle=False)"
      ],
      "execution_count": 10,
      "outputs": []
    },
    {
      "cell_type": "markdown",
      "metadata": {
        "id": "d0bfEcOHYIFH"
      },
      "source": [
        "## MLP and CNN Models"
      ]
    },
    {
      "cell_type": "markdown",
      "metadata": {
        "id": "Bg1FFj1whrdx"
      },
      "source": [
        "##### MLP Model Definition"
      ]
    },
    {
      "cell_type": "code",
      "metadata": {
        "id": "yJG9jWkTWZu8"
      },
      "source": [
        "# Multilayer Perceptron Model\r\n",
        "def create_MLP_model(show_summary=True):\r\n",
        "\r\n",
        "    from tensorflow.keras import Sequential \r\n",
        "    from tensorflow.keras.layers import Input, Dense, Flatten\r\n",
        "\r\n",
        "    model = Sequential([\r\n",
        "                Input(shape=(32, 32, 1)),\r\n",
        "                Flatten(),\r\n",
        "                Dense(units=100, activation='relu'),\r\n",
        "                Dense(units=100, activation='relu'),\r\n",
        "                Dense(units=100, activation='relu'),\r\n",
        "                Dense(units=10, activation='softmax'),  # output: 10 class labels\r\n",
        "            ])\r\n",
        "\r\n",
        "    if show_summary:\r\n",
        "        model.summary()\r\n",
        "\r\n",
        "    return model\r\n"
      ],
      "execution_count": 51,
      "outputs": []
    },
    {
      "cell_type": "markdown",
      "metadata": {
        "id": "EhAqBAnSjZU_"
      },
      "source": [
        "##### CNN Model Definition"
      ]
    },
    {
      "cell_type": "code",
      "metadata": {
        "id": "tVc7_JyZ34Rw"
      },
      "source": [
        "# Convolutional Neural Network Model\r\n",
        "def create_CNN_model(show_summary=True):\r\n",
        "\r\n",
        "    from tensorflow.keras import Sequential \r\n",
        "    from tensorflow.keras.layers import Input, Dense, Conv2D, Flatten, MaxPool2D\r\n",
        "\r\n",
        "    model = Sequential([\r\n",
        "                Input(shape=(32, 32, 1)),\r\n",
        "                Conv2D(filters=32, kernel_size=3, \r\n",
        "                    padding='same', activation='relu'),\r\n",
        "                Conv2D(filters=24, kernel_size=3, \r\n",
        "                    padding='same', activation='relu'),\r\n",
        "                MaxPool2D(padding='same'),\r\n",
        "                Conv2D(filters=16, kernel_size=3, \r\n",
        "                    padding='same', activation='relu'),\r\n",
        "                MaxPool2D(padding='same'),\r\n",
        "                Flatten(),\r\n",
        "                Dense(units=25, activation='relu'),\r\n",
        "                Dense(units=10, activation='softmax'),\r\n",
        "            ])\r\n",
        "\r\n",
        "    if show_summary:\r\n",
        "        model.summary()\r\n",
        "\r\n",
        "    return model"
      ],
      "execution_count": 52,
      "outputs": []
    },
    {
      "cell_type": "markdown",
      "metadata": {
        "id": "vnCoQhSQ27NL"
      },
      "source": [
        "##### Define Compile / Fit Framework"
      ]
    },
    {
      "cell_type": "code",
      "metadata": {
        "id": "rwlmRWx-2xHN"
      },
      "source": [
        "# Model production functions\r\n",
        "def compile_model(model):\r\n",
        "\r\n",
        "    from tensorflow.keras.metrics \\\r\n",
        "        import CategoricalCrossentropy, SparseTopKCategoricalAccuracy\r\n",
        "    from tensorflow.keras.losses import SparseCategoricalCrossentropy\r\n",
        "\r\n",
        "    model.compile(optimizer='rmsprop', loss=SparseCategoricalCrossentropy(),\r\n",
        "                metrics=['accuracy', SparseTopKCategoricalAccuracy(k=3)],\r\n",
        "                )\r\n",
        "\r\n",
        "    return None\r\n",
        "\r\n",
        "\r\n",
        "def fit_model(model, train_ds, valid_ds, num_epochs, save_file_name):\r\n",
        "\r\n",
        "    from tensorflow.keras.callbacks import ModelCheckpoint, EarlyStopping\r\n",
        "    \r\n",
        "    filepath = '/content/gdrive/MyDrive/Colab Notebooks/saved_models'\r\n",
        "    checkpoint = ModelCheckpoint(filepath=filepath + '/' + save_file_name,\r\n",
        "                                 save_weights_only=True,\r\n",
        "                                 monitor='val_accuracy',\r\n",
        "                                 mode='max',\r\n",
        "                                 save_best_only=True,\r\n",
        "                )\r\n",
        "\r\n",
        "    early_stopping = EarlyStopping(monitor='val_accuracy', min_delta=.001, \r\n",
        "                                   patience=3, verbose=0,\r\n",
        "                                   )\r\n",
        "\r\n",
        "    history = model.fit(train_ds,\r\n",
        "                        batch_size=64,\r\n",
        "                        epochs=num_epochs,\r\n",
        "                        validation_data=valid_ds,\r\n",
        "                        callbacks=[checkpoint, early_stopping],\r\n",
        "                        )\r\n",
        "\r\n",
        "    return history"
      ],
      "execution_count": 53,
      "outputs": []
    },
    {
      "cell_type": "markdown",
      "metadata": {
        "id": "89gaRd2NhQzW"
      },
      "source": [
        "##### Training: MLP Model"
      ]
    },
    {
      "cell_type": "code",
      "metadata": {
        "colab": {
          "base_uri": "https://localhost:8080/"
        },
        "id": "RZ4fc2nEOH1S",
        "outputId": "c9c64e2d-9b60-49f0-ee82-1333e7527dc7"
      },
      "source": [
        "# train MLP Model\r\n",
        "MLP_model = create_MLP_model(show_summary=True)\r\n",
        "compile_model(MLP_model)\r\n",
        "mlp_history = fit_model(MLP_model, train_ds_prepared, validation_ds_prepared,\r\n",
        "                    num_epochs=30, save_file_name='capstone_model_MLP')"
      ],
      "execution_count": 54,
      "outputs": [
        {
          "output_type": "stream",
          "text": [
            "Model: \"sequential_11\"\n",
            "_________________________________________________________________\n",
            "Layer (type)                 Output Shape              Param #   \n",
            "=================================================================\n",
            "flatten_11 (Flatten)         (None, 1024)              0         \n",
            "_________________________________________________________________\n",
            "dense_32 (Dense)             (None, 100)               102500    \n",
            "_________________________________________________________________\n",
            "dense_33 (Dense)             (None, 100)               10100     \n",
            "_________________________________________________________________\n",
            "dense_34 (Dense)             (None, 100)               10100     \n",
            "_________________________________________________________________\n",
            "dense_35 (Dense)             (None, 10)                1010      \n",
            "=================================================================\n",
            "Total params: 123,710\n",
            "Trainable params: 123,710\n",
            "Non-trainable params: 0\n",
            "_________________________________________________________________\n",
            "Epoch 1/30\n",
            "1145/1145 [==============================] - 15s 12ms/step - loss: 2.1759 - accuracy: 0.2138 - sparse_top_k_categorical_accuracy: 0.4711 - val_loss: 1.8340 - val_accuracy: 0.3808 - val_sparse_top_k_categorical_accuracy: 0.6507\n",
            "Epoch 2/30\n",
            "1145/1145 [==============================] - 14s 12ms/step - loss: 1.6272 - accuracy: 0.4401 - sparse_top_k_categorical_accuracy: 0.7195 - val_loss: 1.5028 - val_accuracy: 0.5045 - val_sparse_top_k_categorical_accuracy: 0.7711\n",
            "Epoch 3/30\n",
            "1145/1145 [==============================] - 14s 12ms/step - loss: 1.3760 - accuracy: 0.5448 - sparse_top_k_categorical_accuracy: 0.7930 - val_loss: 1.2902 - val_accuracy: 0.5792 - val_sparse_top_k_categorical_accuracy: 0.8178\n",
            "Epoch 4/30\n",
            "1145/1145 [==============================] - 14s 12ms/step - loss: 1.2319 - accuracy: 0.6005 - sparse_top_k_categorical_accuracy: 0.8226 - val_loss: 1.3135 - val_accuracy: 0.5816 - val_sparse_top_k_categorical_accuracy: 0.8255\n",
            "Epoch 5/30\n",
            "1145/1145 [==============================] - 14s 12ms/step - loss: 1.1274 - accuracy: 0.6420 - sparse_top_k_categorical_accuracy: 0.8417 - val_loss: 1.3475 - val_accuracy: 0.5730 - val_sparse_top_k_categorical_accuracy: 0.8218\n",
            "Epoch 6/30\n",
            "1145/1145 [==============================] - 14s 12ms/step - loss: 1.0665 - accuracy: 0.6646 - sparse_top_k_categorical_accuracy: 0.8548 - val_loss: 1.0528 - val_accuracy: 0.6854 - val_sparse_top_k_categorical_accuracy: 0.8636\n",
            "Epoch 7/30\n",
            "1145/1145 [==============================] - 14s 12ms/step - loss: 1.0213 - accuracy: 0.6788 - sparse_top_k_categorical_accuracy: 0.8628 - val_loss: 1.5437 - val_accuracy: 0.5408 - val_sparse_top_k_categorical_accuracy: 0.7820\n",
            "Epoch 8/30\n",
            "1145/1145 [==============================] - 14s 12ms/step - loss: 0.9771 - accuracy: 0.6943 - sparse_top_k_categorical_accuracy: 0.8707 - val_loss: 1.1737 - val_accuracy: 0.6359 - val_sparse_top_k_categorical_accuracy: 0.8505\n",
            "Epoch 9/30\n",
            "1145/1145 [==============================] - 14s 12ms/step - loss: 0.9484 - accuracy: 0.7028 - sparse_top_k_categorical_accuracy: 0.8764 - val_loss: 1.1094 - val_accuracy: 0.6506 - val_sparse_top_k_categorical_accuracy: 0.8608\n"
          ],
          "name": "stdout"
        }
      ]
    },
    {
      "cell_type": "markdown",
      "metadata": {
        "id": "nz1msVyWiAK8"
      },
      "source": [
        "##### Training: CNN Model"
      ]
    },
    {
      "cell_type": "code",
      "metadata": {
        "id": "yk2mH3Npz_Gh",
        "colab": {
          "base_uri": "https://localhost:8080/"
        },
        "outputId": "61670709-e53a-4a13-9992-633f7ad42de7"
      },
      "source": [
        "# train CNN Model\r\n",
        "CNN_model = create_CNN_model(show_summary=True)\r\n",
        "compile_model(CNN_model)\r\n",
        "cnn_history = fit_model(CNN_model, train_ds_prepared, validation_ds_prepared,\r\n",
        "                    num_epochs=30, save_file_name='capstone_model_CNN')"
      ],
      "execution_count": 49,
      "outputs": [
        {
          "output_type": "stream",
          "text": [
            "Model: \"sequential_10\"\n",
            "_________________________________________________________________\n",
            "Layer (type)                 Output Shape              Param #   \n",
            "=================================================================\n",
            "conv2d_15 (Conv2D)           (None, 32, 32, 32)        320       \n",
            "_________________________________________________________________\n",
            "conv2d_16 (Conv2D)           (None, 32, 32, 24)        6936      \n",
            "_________________________________________________________________\n",
            "max_pooling2d_10 (MaxPooling (None, 16, 16, 24)        0         \n",
            "_________________________________________________________________\n",
            "conv2d_17 (Conv2D)           (None, 16, 16, 16)        3472      \n",
            "_________________________________________________________________\n",
            "max_pooling2d_11 (MaxPooling (None, 8, 8, 16)          0         \n",
            "_________________________________________________________________\n",
            "flatten_10 (Flatten)         (None, 1024)              0         \n",
            "_________________________________________________________________\n",
            "dense_30 (Dense)             (None, 25)                25625     \n",
            "_________________________________________________________________\n",
            "dense_31 (Dense)             (None, 10)                260       \n",
            "=================================================================\n",
            "Total params: 36,613\n",
            "Trainable params: 36,613\n",
            "Non-trainable params: 0\n",
            "_________________________________________________________________\n",
            "WARNING:tensorflow:Unresolved object in checkpoint: (root).optimizer.iter\n"
          ],
          "name": "stdout"
        },
        {
          "output_type": "stream",
          "text": [
            "WARNING:tensorflow:Unresolved object in checkpoint: (root).optimizer.iter\n"
          ],
          "name": "stderr"
        },
        {
          "output_type": "stream",
          "text": [
            "WARNING:tensorflow:Unresolved object in checkpoint: (root).optimizer.decay\n"
          ],
          "name": "stdout"
        },
        {
          "output_type": "stream",
          "text": [
            "WARNING:tensorflow:Unresolved object in checkpoint: (root).optimizer.decay\n"
          ],
          "name": "stderr"
        },
        {
          "output_type": "stream",
          "text": [
            "WARNING:tensorflow:Unresolved object in checkpoint: (root).optimizer.learning_rate\n"
          ],
          "name": "stdout"
        },
        {
          "output_type": "stream",
          "text": [
            "WARNING:tensorflow:Unresolved object in checkpoint: (root).optimizer.learning_rate\n"
          ],
          "name": "stderr"
        },
        {
          "output_type": "stream",
          "text": [
            "WARNING:tensorflow:Unresolved object in checkpoint: (root).optimizer.momentum\n"
          ],
          "name": "stdout"
        },
        {
          "output_type": "stream",
          "text": [
            "WARNING:tensorflow:Unresolved object in checkpoint: (root).optimizer.momentum\n"
          ],
          "name": "stderr"
        },
        {
          "output_type": "stream",
          "text": [
            "WARNING:tensorflow:Unresolved object in checkpoint: (root).optimizer.rho\n"
          ],
          "name": "stdout"
        },
        {
          "output_type": "stream",
          "text": [
            "WARNING:tensorflow:Unresolved object in checkpoint: (root).optimizer.rho\n"
          ],
          "name": "stderr"
        },
        {
          "output_type": "stream",
          "text": [
            "WARNING:tensorflow:A checkpoint was restored (e.g. tf.train.Checkpoint.restore or tf.keras.Model.load_weights) but not all checkpointed values were used. See above for specific issues. Use expect_partial() on the load status object, e.g. tf.train.Checkpoint.restore(...).expect_partial(), to silence these warnings, or use assert_consumed() to make the check explicit. See https://www.tensorflow.org/guide/checkpoint#loading_mechanics for details.\n"
          ],
          "name": "stdout"
        },
        {
          "output_type": "stream",
          "text": [
            "WARNING:tensorflow:A checkpoint was restored (e.g. tf.train.Checkpoint.restore or tf.keras.Model.load_weights) but not all checkpointed values were used. See above for specific issues. Use expect_partial() on the load status object, e.g. tf.train.Checkpoint.restore(...).expect_partial(), to silence these warnings, or use assert_consumed() to make the check explicit. See https://www.tensorflow.org/guide/checkpoint#loading_mechanics for details.\n"
          ],
          "name": "stderr"
        },
        {
          "output_type": "stream",
          "text": [
            "Epoch 1/30\n",
            "1145/1145 [==============================] - 16s 14ms/step - loss: 1.6282 - accuracy: 0.4433 - sparse_top_k_categorical_accuracy: 0.6730 - val_loss: 0.6120 - val_accuracy: 0.8271 - val_sparse_top_k_categorical_accuracy: 0.9478\n",
            "Epoch 2/30\n",
            "1145/1145 [==============================] - 16s 14ms/step - loss: 0.5607 - accuracy: 0.8383 - sparse_top_k_categorical_accuracy: 0.9499 - val_loss: 0.5263 - val_accuracy: 0.8493 - val_sparse_top_k_categorical_accuracy: 0.9551\n",
            "Epoch 3/30\n",
            "1145/1145 [==============================] - 16s 14ms/step - loss: 0.4695 - accuracy: 0.8674 - sparse_top_k_categorical_accuracy: 0.9582 - val_loss: 0.5182 - val_accuracy: 0.8496 - val_sparse_top_k_categorical_accuracy: 0.9572\n",
            "Epoch 4/30\n",
            "1145/1145 [==============================] - 16s 14ms/step - loss: 0.4230 - accuracy: 0.8798 - sparse_top_k_categorical_accuracy: 0.9623 - val_loss: 0.4752 - val_accuracy: 0.8641 - val_sparse_top_k_categorical_accuracy: 0.9596\n",
            "Epoch 5/30\n",
            "1145/1145 [==============================] - 16s 14ms/step - loss: 0.3887 - accuracy: 0.8876 - sparse_top_k_categorical_accuracy: 0.9656 - val_loss: 0.4602 - val_accuracy: 0.8676 - val_sparse_top_k_categorical_accuracy: 0.9606\n",
            "Epoch 6/30\n",
            "1145/1145 [==============================] - 16s 14ms/step - loss: 0.3663 - accuracy: 0.8933 - sparse_top_k_categorical_accuracy: 0.9682 - val_loss: 0.4452 - val_accuracy: 0.8738 - val_sparse_top_k_categorical_accuracy: 0.9605\n",
            "Epoch 7/30\n",
            "1145/1145 [==============================] - 16s 14ms/step - loss: 0.3475 - accuracy: 0.8985 - sparse_top_k_categorical_accuracy: 0.9705 - val_loss: 0.4256 - val_accuracy: 0.8791 - val_sparse_top_k_categorical_accuracy: 0.9650\n",
            "Epoch 8/30\n",
            "1145/1145 [==============================] - 17s 14ms/step - loss: 0.3334 - accuracy: 0.9035 - sparse_top_k_categorical_accuracy: 0.9718 - val_loss: 0.4425 - val_accuracy: 0.8783 - val_sparse_top_k_categorical_accuracy: 0.9624\n",
            "Epoch 9/30\n",
            "1145/1145 [==============================] - 17s 14ms/step - loss: 0.3185 - accuracy: 0.9071 - sparse_top_k_categorical_accuracy: 0.9740 - val_loss: 0.4115 - val_accuracy: 0.8849 - val_sparse_top_k_categorical_accuracy: 0.9647\n",
            "Epoch 10/30\n",
            "1145/1145 [==============================] - 16s 14ms/step - loss: 0.3061 - accuracy: 0.9108 - sparse_top_k_categorical_accuracy: 0.9752 - val_loss: 0.4273 - val_accuracy: 0.8822 - val_sparse_top_k_categorical_accuracy: 0.9636\n",
            "Epoch 11/30\n",
            "1145/1145 [==============================] - 16s 14ms/step - loss: 0.2963 - accuracy: 0.9129 - sparse_top_k_categorical_accuracy: 0.9765 - val_loss: 0.4599 - val_accuracy: 0.8732 - val_sparse_top_k_categorical_accuracy: 0.9595\n",
            "Epoch 12/30\n",
            "1145/1145 [==============================] - 16s 14ms/step - loss: 0.2874 - accuracy: 0.9162 - sparse_top_k_categorical_accuracy: 0.9775 - val_loss: 0.4292 - val_accuracy: 0.8799 - val_sparse_top_k_categorical_accuracy: 0.9632\n"
          ],
          "name": "stdout"
        }
      ]
    },
    {
      "cell_type": "markdown",
      "metadata": {
        "id": "oiUJGYQIiJL6"
      },
      "source": [
        "## Evaluate Performance"
      ]
    },
    {
      "cell_type": "markdown",
      "metadata": {
        "id": "n2y8JMovjkxj"
      },
      "source": [
        "##### Overview"
      ]
    },
    {
      "cell_type": "code",
      "metadata": {
        "id": "8yUPWbFCz_G8",
        "colab": {
          "base_uri": "https://localhost:8080/"
        },
        "outputId": "a7efaec5-697a-490e-fda7-293b58b8f538"
      },
      "source": [
        "# MLP Model Accuracy\r\n",
        "MLP_model.evaluate(test_ds_prepared)"
      ],
      "execution_count": 22,
      "outputs": [
        {
          "output_type": "stream",
          "text": [
            "204/204 [==============================] - 2s 10ms/step - loss: 1.0890 - accuracy: 0.6676 - sparse_top_k_categorical_accuracy: 0.8581\n"
          ],
          "name": "stdout"
        },
        {
          "output_type": "execute_result",
          "data": {
            "text/plain": [
              "[1.1039965152740479, 0.6611862182617188, 0.8544867634773254]"
            ]
          },
          "metadata": {
            "tags": []
          },
          "execution_count": 22
        }
      ]
    },
    {
      "cell_type": "code",
      "metadata": {
        "id": "XMYYWs0oz_G5",
        "colab": {
          "base_uri": "https://localhost:8080/"
        },
        "outputId": "3982d355-787f-4b16-a344-bfbf20444380"
      },
      "source": [
        "# CNN Model Accuracy\r\n",
        "CNN_model.evaluate(test_ds_prepared)"
      ],
      "execution_count": 23,
      "outputs": [
        {
          "output_type": "stream",
          "text": [
            "204/204 [==============================] - 2s 10ms/step - loss: 0.4470 - accuracy: 0.8681 - sparse_top_k_categorical_accuracy: 0.9619\n"
          ],
          "name": "stdout"
        },
        {
          "output_type": "execute_result",
          "data": {
            "text/plain": [
              "[0.4625902771949768, 0.8669329881668091, 0.9590504169464111]"
            ]
          },
          "metadata": {
            "tags": []
          },
          "execution_count": 23
        }
      ]
    },
    {
      "cell_type": "markdown",
      "metadata": {
        "id": "XXLY-RBSiSwM"
      },
      "source": [
        "##### MLP Training Progress"
      ]
    },
    {
      "cell_type": "code",
      "metadata": {
        "colab": {
          "base_uri": "https://localhost:8080/",
          "height": 530
        },
        "id": "jlAmPYPec5Fy",
        "outputId": "ff26b7b4-45a7-49d3-ca00-454298d694f3"
      },
      "source": [
        "pd.DataFrame(mlp_history.history).plot(\r\n",
        "    title='MLP Model: Performance Throughout Training',\r\n",
        "    xlabel='epoch',\r\n",
        "    ylabel='rate',\r\n",
        "    subplots=True,\r\n",
        "    sharex=True,\r\n",
        "    grid=True,\r\n",
        "    layout=(2, 3),\r\n",
        "    figsize=(15,6)\r\n",
        ")"
      ],
      "execution_count": 72,
      "outputs": [
        {
          "output_type": "execute_result",
          "data": {
            "text/plain": [
              "array([[<matplotlib.axes._subplots.AxesSubplot object at 0x7f294aceb5c0>,\n",
              "        <matplotlib.axes._subplots.AxesSubplot object at 0x7f294ac897b8>,\n",
              "        <matplotlib.axes._subplots.AxesSubplot object at 0x7f294ac429e8>],\n",
              "       [<matplotlib.axes._subplots.AxesSubplot object at 0x7f294ac76c18>,\n",
              "        <matplotlib.axes._subplots.AxesSubplot object at 0x7f294ac28e48>,\n",
              "        <matplotlib.axes._subplots.AxesSubplot object at 0x7f294abe80b8>]],\n",
              "      dtype=object)"
            ]
          },
          "metadata": {
            "tags": []
          },
          "execution_count": 72
        },
        {
          "output_type": "display_data",
          "data": {
            "image/png": "[encoded data removed]",
            "text/plain": [
              "<Figure size 1080x432 with 6 Axes>"
            ]
          },
          "metadata": {
            "tags": [],
            "needs_background": "light"
          }
        }
      ]
    },
    {
      "cell_type": "markdown",
      "metadata": {
        "id": "ROF7FqmLidvC"
      },
      "source": [
        "##### CNN Training Performance"
      ]
    },
    {
      "cell_type": "code",
      "metadata": {
        "colab": {
          "base_uri": "https://localhost:8080/",
          "height": 533
        },
        "id": "QwD5kAUSfwA2",
        "outputId": "ed38bf26-a808-4b93-cb9f-d860af0ddd7f"
      },
      "source": [
        "pd.DataFrame(cnn_history.history).plot(\r\n",
        "    title='CNN Model: Performance Throughout Training',\r\n",
        "    xlabel='epoch',\r\n",
        "    ylabel='rate',\r\n",
        "    subplots=True,\r\n",
        "    sharex=True,\r\n",
        "    grid=True,\r\n",
        "    layout=(2, 3),\r\n",
        "    figsize=(15,6)\r\n",
        ")"
      ],
      "execution_count": 71,
      "outputs": [
        {
          "output_type": "execute_result",
          "data": {
            "text/plain": [
              "array([[<matplotlib.axes._subplots.AxesSubplot object at 0x7f294bc24b70>,\n",
              "        <matplotlib.axes._subplots.AxesSubplot object at 0x7f294aee6630>,\n",
              "        <matplotlib.axes._subplots.AxesSubplot object at 0x7f294ae94780>],\n",
              "       [<matplotlib.axes._subplots.AxesSubplot object at 0x7f294ae469b0>,\n",
              "        <matplotlib.axes._subplots.AxesSubplot object at 0x7f294adfabe0>,\n",
              "        <matplotlib.axes._subplots.AxesSubplot object at 0x7f294ae2de10>]],\n",
              "      dtype=object)"
            ]
          },
          "metadata": {
            "tags": []
          },
          "execution_count": 71
        },
        {
          "output_type": "display_data",
          "data": {
            "image/png": "[encoded data removed]",
            "text/plain": [
              "<Figure size 1080x432 with 6 Axes>"
            ]
          },
          "metadata": {
            "tags": [],
            "needs_background": "light"
          }
        }
      ]
    },
    {
      "cell_type": "markdown",
      "metadata": {
        "id": "3iBYFPWUz_G4"
      },
      "source": [
        "## Examine model predictions\n",
        "View predictions from several samples"
      ]
    },
    {
      "cell_type": "markdown",
      "metadata": {
        "id": "X2vSII2Jl6M-"
      },
      "source": [
        "##### Load model (if needed)"
      ]
    },
    {
      "cell_type": "code",
      "metadata": {
        "colab": {
          "base_uri": "https://localhost:8080/"
        },
        "id": "irZWDkFXL8Rx",
        "outputId": "d23fb225-472d-4c8f-8456-a4c8556798e2"
      },
      "source": [
        "# (If needed:) Reinitialize model and load saved weights\r\n",
        "CNN_model = create_CNN_model(show_summary=False)\r\n",
        "compile_model(CNN_model)\r\n",
        "MLP_model = create_MLP_model(show_summary=False)\r\n",
        "compile_model(MLP_model)\r\n",
        "\r\n",
        "filepath = '/content/gdrive/MyDrive/Colab Notebooks/saved_models'\r\n",
        "CNN_model.load_weights(filepath + '/capstone_model_CNN')\r\n",
        "MLP_model.load_weights(filepath + '/capstone_model_MLP')"
      ],
      "execution_count": 24,
      "outputs": [
        {
          "output_type": "execute_result",
          "data": {
            "text/plain": [
              "<tensorflow.python.training.tracking.util.CheckpointLoadStatus at 0x7f296073d198>"
            ]
          },
          "metadata": {
            "tags": []
          },
          "execution_count": 24
        }
      ]
    },
    {
      "cell_type": "markdown",
      "metadata": {
        "id": "yji3E1K1mABn"
      },
      "source": [
        "##### Select data points"
      ]
    },
    {
      "cell_type": "code",
      "metadata": {
        "id": "W48syko0z_G-"
      },
      "source": [
        "# Examine predictions from a small subsample:\r\n",
        "# get 5 samples\r\n",
        "small_test_sample = test_ds.take(5)\r\n",
        "small_test_sample_prepared = prep_data(small_test_sample, shuffle=False)\r\n",
        "\r\n",
        "# make model predictions\r\n",
        "MLP_predictions = pd.DataFrame(MLP_model_loaded.predict(small_test_sample_prepared))\r\n",
        "CNN_predictions = pd.DataFrame(CNN_model_loaded.predict(small_test_sample_prepared))"
      ],
      "execution_count": 73,
      "outputs": []
    },
    {
      "cell_type": "code",
      "metadata": {
        "id": "Jmj6hLX4j0V5"
      },
      "source": [
        "# unpack images for display\r\n",
        "i = -1\r\n",
        "sample_images = dict()\r\n",
        "for image, info in small_test_sample:\r\n",
        "    i+=1\r\n",
        "    sample_images[f'image {i}'] = PIL.Image.fromarray(image.numpy()[:,:,0])\r\n",
        "    sample_images[f'info {i}'] = info"
      ],
      "execution_count": 74,
      "outputs": []
    },
    {
      "cell_type": "code",
      "metadata": {
        "id": "d-l2n1tYmBqj"
      },
      "source": [
        "# helper function for comparing MLP and CNN predictions to actual value\r\n",
        "def compare_predictions(image_num, mlp, cnn):\r\n",
        "\r\n",
        "    # display image\r\n",
        "    display(sample_images[f'image {image_num}'])\r\n",
        "\r\n",
        "    # create dummy data to show actual value\r\n",
        "    correct = np.zeros(10)\r\n",
        "    correct[sample_images[f'info {image_num}'].numpy()] = np.log(2)\r\n",
        "\r\n",
        "    # create dataframe with CNN, MLP and actual values\r\n",
        "    temp_df = pd.DataFrame({'CNN': np.log(1+cnn.iloc[image_num]),\r\n",
        "                            'MLP': np.log(1+mlp.iloc[image_num]),\r\n",
        "                            'Actual': correct})\r\n",
        "    \r\n",
        "    # create bar plot\r\n",
        "    ax = temp_df.plot.bar()\r\n",
        "    ax.set_title(\"Model Comparisons\")\r\n",
        "    ax.set_xlabel('Predictions')\r\n",
        "    ax.set_ylabel('Probability (1 + log x)')\r\n",
        "    plt.plot\r\n",
        "\r\n",
        "    return ax"
      ],
      "execution_count": 85,
      "outputs": []
    },
    {
      "cell_type": "markdown",
      "metadata": {
        "id": "brkxvTKYmLxZ"
      },
      "source": [
        "##### Show prediction comparisons for each of the 5 samples"
      ]
    },
    {
      "cell_type": "code",
      "metadata": {
        "colab": {
          "base_uri": "https://localhost:8080/",
          "height": 342
        },
        "id": "hrVIR85mKPHt",
        "outputId": "ceb42f55-0a89-4116-b0ca-de1e2994dbd9"
      },
      "source": [
        "compare_predictions(image_num=0, mlp=MLP_predictions, cnn=CNN_predictions)"
      ],
      "execution_count": 86,
      "outputs": [
        {
          "output_type": "display_data",
          "data": {
            "image/png": "[encoded data removed]",
            "text/plain": [
              "<PIL.Image.Image image mode=L size=32x32 at 0x7F294AA5BC88>"
            ]
          },
          "metadata": {
            "tags": []
          }
        },
        {
          "output_type": "execute_result",
          "data": {
            "text/plain": [
              "<matplotlib.axes._subplots.AxesSubplot at 0x7f294a265080>"
            ]
          },
          "metadata": {
            "tags": []
          },
          "execution_count": 86
        },
        {
          "output_type": "display_data",
          "data": {
            "image/png": "[encoded data removed]",
            "text/plain": [
              "<Figure size 432x288 with 1 Axes>"
            ]
          },
          "metadata": {
            "tags": [],
            "needs_background": "light"
          }
        }
      ]
    },
    {
      "cell_type": "code",
      "metadata": {
        "colab": {
          "base_uri": "https://localhost:8080/",
          "height": 342
        },
        "id": "KuOA2oPMQpkG",
        "outputId": "1e80b95b-3337-4fad-aeb0-dc66e039c56a"
      },
      "source": [
        "compare_predictions(image_num=1, mlp=MLP_predictions, cnn=CNN_predictions)"
      ],
      "execution_count": 87,
      "outputs": [
        {
          "output_type": "display_data",
          "data": {
            "image/png": "[encoded data removed]",
            "text/plain": [
              "<PIL.Image.Image image mode=L size=32x32 at 0x7F294AA5BCC0>"
            ]
          },
          "metadata": {
            "tags": []
          }
        },
        {
          "output_type": "execute_result",
          "data": {
            "text/plain": [
              "<matplotlib.axes._subplots.AxesSubplot at 0x7f294a1f5390>"
            ]
          },
          "metadata": {
            "tags": []
          },
          "execution_count": 87
        },
        {
          "output_type": "display_data",
          "data": {
            "image/png": "[encoded data removed]",
            "text/plain": [
              "<Figure size 432x288 with 1 Axes>"
            ]
          },
          "metadata": {
            "tags": [],
            "needs_background": "light"
          }
        }
      ]
    },
    {
      "cell_type": "code",
      "metadata": {
        "colab": {
          "base_uri": "https://localhost:8080/",
          "height": 342
        },
        "id": "SPdfwgelQrVs",
        "outputId": "3ac9acec-1308-4997-a45b-d03e3be27718"
      },
      "source": [
        "compare_predictions(image_num=2, mlp=MLP_predictions, cnn=CNN_predictions)"
      ],
      "execution_count": 88,
      "outputs": [
        {
          "output_type": "display_data",
          "data": {
            "image/png": "[encoded data removed]",
            "text/plain": [
              "<PIL.Image.Image image mode=L size=32x32 at 0x7F294AA5BE48>"
            ]
          },
          "metadata": {
            "tags": []
          }
        },
        {
          "output_type": "execute_result",
          "data": {
            "text/plain": [
              "<matplotlib.axes._subplots.AxesSubplot at 0x7f294a2c0908>"
            ]
          },
          "metadata": {
            "tags": []
          },
          "execution_count": 88
        },
        {
          "output_type": "display_data",
          "data": {
            "image/png": "[encoded data removed]",
            "text/plain": [
              "<Figure size 432x288 with 1 Axes>"
            ]
          },
          "metadata": {
            "tags": [],
            "needs_background": "light"
          }
        }
      ]
    },
    {
      "cell_type": "code",
      "metadata": {
        "colab": {
          "base_uri": "https://localhost:8080/",
          "height": 342
        },
        "id": "L15dsurVQtdz",
        "outputId": "2bd99508-33e2-482e-9ef9-91106a193655"
      },
      "source": [
        "compare_predictions(image_num=3, mlp=MLP_predictions, cnn=CNN_predictions)"
      ],
      "execution_count": 89,
      "outputs": [
        {
          "output_type": "display_data",
          "data": {
            "image/png": "[encoded data removed]",
            "text/plain": [
              "<PIL.Image.Image image mode=L size=32x32 at 0x7F294AA5BEF0>"
            ]
          },
          "metadata": {
            "tags": []
          }
        },
        {
          "output_type": "execute_result",
          "data": {
            "text/plain": [
              "<matplotlib.axes._subplots.AxesSubplot at 0x7f294a01bcf8>"
            ]
          },
          "metadata": {
            "tags": []
          },
          "execution_count": 89
        },
        {
          "output_type": "display_data",
          "data": {
            "image/png": "[encoded data removed]",
            "text/plain": [
              "<Figure size 432x288 with 1 Axes>"
            ]
          },
          "metadata": {
            "tags": [],
            "needs_background": "light"
          }
        }
      ]
    },
    {
      "cell_type": "code",
      "metadata": {
        "colab": {
          "base_uri": "https://localhost:8080/",
          "height": 342
        },
        "id": "gFPNppFSQwNH",
        "outputId": "62ea91ae-ed30-4328-e6e6-4b68ef34c865"
      },
      "source": [
        "compare_predictions(image_num=4, mlp=MLP_predictions, cnn=CNN_predictions)"
      ],
      "execution_count": 90,
      "outputs": [
        {
          "output_type": "display_data",
          "data": {
            "image/png": "[encoded data removed]",
            "text/plain": [
              "<PIL.Image.Image image mode=L size=32x32 at 0x7F294AA5BF98>"
            ]
          },
          "metadata": {
            "tags": []
          }
        },
        {
          "output_type": "execute_result",
          "data": {
            "text/plain": [
              "<matplotlib.axes._subplots.AxesSubplot at 0x7f2949f4b780>"
            ]
          },
          "metadata": {
            "tags": []
          },
          "execution_count": 90
        },
        {
          "output_type": "display_data",
          "data": {
            "image/png": "[encoded data removed]",
            "text/plain": [
              "<Figure size 432x288 with 1 Axes>"
            ]
          },
          "metadata": {
            "tags": [],
            "needs_background": "light"
          }
        }
      ]
    },
    {
      "cell_type": "markdown",
      "metadata": {
        "id": "Anx93x8PmQ09"
      },
      "source": [
        "#### Works Cited"
      ]
    },
    {
      "cell_type": "code",
      "metadata": {
        "id": "pi-UCm8-ybSP"
      },
      "source": [
        "# Dataset Info\r\n",
        "\r\n",
        "# Citation:\r\n",
        "# @article{Netzer2011,\r\n",
        "# author = {Netzer, Yuval and Wang, Tao and Coates, Adam and Bissacco, Alessandro and Wu, Bo and Ng, Andrew Y},\r\n",
        "# booktitle = {Advances in Neural Information Processing Systems ({NIPS})},\r\n",
        "# title = {Reading Digits in Natural Images with Unsupervised Feature Learning},\r\n",
        "# year = {2011}\r\n",
        "# }"
      ],
      "execution_count": 82,
      "outputs": []
    }
  ]
}