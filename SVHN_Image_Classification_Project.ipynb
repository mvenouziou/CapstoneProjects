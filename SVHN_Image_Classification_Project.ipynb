{
  "nbformat": 4,
  "nbformat_minor": 0,
  "metadata": {
    "kernelspec": {
      "name": "python3",
      "display_name": "Python 3"
    },
    "colab": {
      "name": "SVHN Image Classification Project.ipynb",
      "provenance": [],
      "collapsed_sections": [],
      "include_colab_link": true
    },
    "accelerator": "GPU",
    "widgets": {
      "application/vnd.jupyter.widget-state+json": {
        "745d5a47c7d549c7bd2cda5fe1a07733": {
          "model_module": "@jupyter-widgets/controls",
          "model_name": "HBoxModel",
          "state": {
            "_view_name": "HBoxView",
            "_dom_classes": [],
            "_model_name": "HBoxModel",
            "_view_module": "@jupyter-widgets/controls",
            "_model_module_version": "1.5.0",
            "_view_count": null,
            "_view_module_version": "1.5.0",
            "box_style": "",
            "layout": "IPY_MODEL_72e292b649974330a0178400b2e4078a",
            "_model_module": "@jupyter-widgets/controls",
            "children": [
              "IPY_MODEL_5044a2254a1045a7a42e5452a9711c5a",
              "IPY_MODEL_fe7e872e9d9a4ab792c330b69841e627"
            ]
          }
        },
        "72e292b649974330a0178400b2e4078a": {
          "model_module": "@jupyter-widgets/base",
          "model_name": "LayoutModel",
          "state": {
            "_view_name": "LayoutView",
            "grid_template_rows": null,
            "right": null,
            "justify_content": null,
            "_view_module": "@jupyter-widgets/base",
            "overflow": null,
            "_model_module_version": "1.2.0",
            "_view_count": null,
            "flex_flow": null,
            "width": null,
            "min_width": null,
            "border": null,
            "align_items": null,
            "bottom": null,
            "_model_module": "@jupyter-widgets/base",
            "top": null,
            "grid_column": null,
            "overflow_y": null,
            "overflow_x": null,
            "grid_auto_flow": null,
            "grid_area": null,
            "grid_template_columns": null,
            "flex": null,
            "_model_name": "LayoutModel",
            "justify_items": null,
            "grid_row": null,
            "max_height": null,
            "align_content": null,
            "visibility": null,
            "align_self": null,
            "height": null,
            "min_height": null,
            "padding": null,
            "grid_auto_rows": null,
            "grid_gap": null,
            "max_width": null,
            "order": null,
            "_view_module_version": "1.2.0",
            "grid_template_areas": null,
            "object_position": null,
            "object_fit": null,
            "grid_auto_columns": null,
            "margin": null,
            "display": null,
            "left": null
          }
        },
        "5044a2254a1045a7a42e5452a9711c5a": {
          "model_module": "@jupyter-widgets/controls",
          "model_name": "FloatProgressModel",
          "state": {
            "_view_name": "ProgressView",
            "style": "IPY_MODEL_6bbe76fa0c734c919d874535f187c106",
            "_dom_classes": [],
            "description": "Dl Completed...: 100%",
            "_model_name": "FloatProgressModel",
            "bar_style": "success",
            "max": 1,
            "_view_module": "@jupyter-widgets/controls",
            "_model_module_version": "1.5.0",
            "value": 1,
            "_view_count": null,
            "_view_module_version": "1.5.0",
            "orientation": "horizontal",
            "min": 0,
            "description_tooltip": null,
            "_model_module": "@jupyter-widgets/controls",
            "layout": "IPY_MODEL_af9a47e20c2549919bcba1ddfb0a7f93"
          }
        },
        "fe7e872e9d9a4ab792c330b69841e627": {
          "model_module": "@jupyter-widgets/controls",
          "model_name": "HTMLModel",
          "state": {
            "_view_name": "HTMLView",
            "style": "IPY_MODEL_6fe2108124e14106bcb392f6fab8d353",
            "_dom_classes": [],
            "description": "",
            "_model_name": "HTMLModel",
            "placeholder": "​",
            "_view_module": "@jupyter-widgets/controls",
            "_model_module_version": "1.5.0",
            "value": " 3/3 [00:39&lt;00:00, 13.22s/ url]",
            "_view_count": null,
            "_view_module_version": "1.5.0",
            "description_tooltip": null,
            "_model_module": "@jupyter-widgets/controls",
            "layout": "IPY_MODEL_2be19a3cc9924214978cb5fa6179f712"
          }
        },
        "6bbe76fa0c734c919d874535f187c106": {
          "model_module": "@jupyter-widgets/controls",
          "model_name": "ProgressStyleModel",
          "state": {
            "_view_name": "StyleView",
            "_model_name": "ProgressStyleModel",
            "description_width": "initial",
            "_view_module": "@jupyter-widgets/base",
            "_model_module_version": "1.5.0",
            "_view_count": null,
            "_view_module_version": "1.2.0",
            "bar_color": null,
            "_model_module": "@jupyter-widgets/controls"
          }
        },
        "af9a47e20c2549919bcba1ddfb0a7f93": {
          "model_module": "@jupyter-widgets/base",
          "model_name": "LayoutModel",
          "state": {
            "_view_name": "LayoutView",
            "grid_template_rows": null,
            "right": null,
            "justify_content": null,
            "_view_module": "@jupyter-widgets/base",
            "overflow": null,
            "_model_module_version": "1.2.0",
            "_view_count": null,
            "flex_flow": null,
            "width": null,
            "min_width": null,
            "border": null,
            "align_items": null,
            "bottom": null,
            "_model_module": "@jupyter-widgets/base",
            "top": null,
            "grid_column": null,
            "overflow_y": null,
            "overflow_x": null,
            "grid_auto_flow": null,
            "grid_area": null,
            "grid_template_columns": null,
            "flex": null,
            "_model_name": "LayoutModel",
            "justify_items": null,
            "grid_row": null,
            "max_height": null,
            "align_content": null,
            "visibility": null,
            "align_self": null,
            "height": null,
            "min_height": null,
            "padding": null,
            "grid_auto_rows": null,
            "grid_gap": null,
            "max_width": null,
            "order": null,
            "_view_module_version": "1.2.0",
            "grid_template_areas": null,
            "object_position": null,
            "object_fit": null,
            "grid_auto_columns": null,
            "margin": null,
            "display": null,
            "left": null
          }
        },
        "6fe2108124e14106bcb392f6fab8d353": {
          "model_module": "@jupyter-widgets/controls",
          "model_name": "DescriptionStyleModel",
          "state": {
            "_view_name": "StyleView",
            "_model_name": "DescriptionStyleModel",
            "description_width": "",
            "_view_module": "@jupyter-widgets/base",
            "_model_module_version": "1.5.0",
            "_view_count": null,
            "_view_module_version": "1.2.0",
            "_model_module": "@jupyter-widgets/controls"
          }
        },
        "2be19a3cc9924214978cb5fa6179f712": {
          "model_module": "@jupyter-widgets/base",
          "model_name": "LayoutModel",
          "state": {
            "_view_name": "LayoutView",
            "grid_template_rows": null,
            "right": null,
            "justify_content": null,
            "_view_module": "@jupyter-widgets/base",
            "overflow": null,
            "_model_module_version": "1.2.0",
            "_view_count": null,
            "flex_flow": null,
            "width": null,
            "min_width": null,
            "border": null,
            "align_items": null,
            "bottom": null,
            "_model_module": "@jupyter-widgets/base",
            "top": null,
            "grid_column": null,
            "overflow_y": null,
            "overflow_x": null,
            "grid_auto_flow": null,
            "grid_area": null,
            "grid_template_columns": null,
            "flex": null,
            "_model_name": "LayoutModel",
            "justify_items": null,
            "grid_row": null,
            "max_height": null,
            "align_content": null,
            "visibility": null,
            "align_self": null,
            "height": null,
            "min_height": null,
            "padding": null,
            "grid_auto_rows": null,
            "grid_gap": null,
            "max_width": null,
            "order": null,
            "_view_module_version": "1.2.0",
            "grid_template_areas": null,
            "object_position": null,
            "object_fit": null,
            "grid_auto_columns": null,
            "margin": null,
            "display": null,
            "left": null
          }
        },
        "32985735ee3b4fff942fc681385be703": {
          "model_module": "@jupyter-widgets/controls",
          "model_name": "HBoxModel",
          "state": {
            "_view_name": "HBoxView",
            "_dom_classes": [],
            "_model_name": "HBoxModel",
            "_view_module": "@jupyter-widgets/controls",
            "_model_module_version": "1.5.0",
            "_view_count": null,
            "_view_module_version": "1.5.0",
            "box_style": "",
            "layout": "IPY_MODEL_f8f0c31f693245aeabb7520f5a13fbc1",
            "_model_module": "@jupyter-widgets/controls",
            "children": [
              "IPY_MODEL_f682b044fe914e588589671587770232",
              "IPY_MODEL_a1ee2a23d8f94ea285964f81b9b554a7"
            ]
          }
        },
        "f8f0c31f693245aeabb7520f5a13fbc1": {
          "model_module": "@jupyter-widgets/base",
          "model_name": "LayoutModel",
          "state": {
            "_view_name": "LayoutView",
            "grid_template_rows": null,
            "right": null,
            "justify_content": null,
            "_view_module": "@jupyter-widgets/base",
            "overflow": null,
            "_model_module_version": "1.2.0",
            "_view_count": null,
            "flex_flow": null,
            "width": null,
            "min_width": null,
            "border": null,
            "align_items": null,
            "bottom": null,
            "_model_module": "@jupyter-widgets/base",
            "top": null,
            "grid_column": null,
            "overflow_y": null,
            "overflow_x": null,
            "grid_auto_flow": null,
            "grid_area": null,
            "grid_template_columns": null,
            "flex": null,
            "_model_name": "LayoutModel",
            "justify_items": null,
            "grid_row": null,
            "max_height": null,
            "align_content": null,
            "visibility": null,
            "align_self": null,
            "height": null,
            "min_height": null,
            "padding": null,
            "grid_auto_rows": null,
            "grid_gap": null,
            "max_width": null,
            "order": null,
            "_view_module_version": "1.2.0",
            "grid_template_areas": null,
            "object_position": null,
            "object_fit": null,
            "grid_auto_columns": null,
            "margin": null,
            "display": null,
            "left": null
          }
        },
        "f682b044fe914e588589671587770232": {
          "model_module": "@jupyter-widgets/controls",
          "model_name": "FloatProgressModel",
          "state": {
            "_view_name": "ProgressView",
            "style": "IPY_MODEL_a9dc1715731a499d9047ae14f75e3071",
            "_dom_classes": [],
            "description": "Dl Size...: 100%",
            "_model_name": "FloatProgressModel",
            "bar_style": "success",
            "max": 1,
            "_view_module": "@jupyter-widgets/controls",
            "_model_module_version": "1.5.0",
            "value": 1,
            "_view_count": null,
            "_view_module_version": "1.5.0",
            "orientation": "horizontal",
            "min": 0,
            "description_tooltip": null,
            "_model_module": "@jupyter-widgets/controls",
            "layout": "IPY_MODEL_7204e2245b2342a18e7d0eed98d60033"
          }
        },
        "a1ee2a23d8f94ea285964f81b9b554a7": {
          "model_module": "@jupyter-widgets/controls",
          "model_name": "HTMLModel",
          "state": {
            "_view_name": "HTMLView",
            "style": "IPY_MODEL_8938442695994ca8b6bfa1bb3ad37551",
            "_dom_classes": [],
            "description": "",
            "_model_name": "HTMLModel",
            "placeholder": "​",
            "_view_module": "@jupyter-widgets/controls",
            "_model_module_version": "1.5.0",
            "value": " 1501/1501 [00:39&lt;00:00, 37.87 MiB/s]",
            "_view_count": null,
            "_view_module_version": "1.5.0",
            "description_tooltip": null,
            "_model_module": "@jupyter-widgets/controls",
            "layout": "IPY_MODEL_100689dc841c4985824da7a2b897aa7d"
          }
        },
        "a9dc1715731a499d9047ae14f75e3071": {
          "model_module": "@jupyter-widgets/controls",
          "model_name": "ProgressStyleModel",
          "state": {
            "_view_name": "StyleView",
            "_model_name": "ProgressStyleModel",
            "description_width": "initial",
            "_view_module": "@jupyter-widgets/base",
            "_model_module_version": "1.5.0",
            "_view_count": null,
            "_view_module_version": "1.2.0",
            "bar_color": null,
            "_model_module": "@jupyter-widgets/controls"
          }
        },
        "7204e2245b2342a18e7d0eed98d60033": {
          "model_module": "@jupyter-widgets/base",
          "model_name": "LayoutModel",
          "state": {
            "_view_name": "LayoutView",
            "grid_template_rows": null,
            "right": null,
            "justify_content": null,
            "_view_module": "@jupyter-widgets/base",
            "overflow": null,
            "_model_module_version": "1.2.0",
            "_view_count": null,
            "flex_flow": null,
            "width": null,
            "min_width": null,
            "border": null,
            "align_items": null,
            "bottom": null,
            "_model_module": "@jupyter-widgets/base",
            "top": null,
            "grid_column": null,
            "overflow_y": null,
            "overflow_x": null,
            "grid_auto_flow": null,
            "grid_area": null,
            "grid_template_columns": null,
            "flex": null,
            "_model_name": "LayoutModel",
            "justify_items": null,
            "grid_row": null,
            "max_height": null,
            "align_content": null,
            "visibility": null,
            "align_self": null,
            "height": null,
            "min_height": null,
            "padding": null,
            "grid_auto_rows": null,
            "grid_gap": null,
            "max_width": null,
            "order": null,
            "_view_module_version": "1.2.0",
            "grid_template_areas": null,
            "object_position": null,
            "object_fit": null,
            "grid_auto_columns": null,
            "margin": null,
            "display": null,
            "left": null
          }
        },
        "8938442695994ca8b6bfa1bb3ad37551": {
          "model_module": "@jupyter-widgets/controls",
          "model_name": "DescriptionStyleModel",
          "state": {
            "_view_name": "StyleView",
            "_model_name": "DescriptionStyleModel",
            "description_width": "",
            "_view_module": "@jupyter-widgets/base",
            "_model_module_version": "1.5.0",
            "_view_count": null,
            "_view_module_version": "1.2.0",
            "_model_module": "@jupyter-widgets/controls"
          }
        },
        "100689dc841c4985824da7a2b897aa7d": {
          "model_module": "@jupyter-widgets/base",
          "model_name": "LayoutModel",
          "state": {
            "_view_name": "LayoutView",
            "grid_template_rows": null,
            "right": null,
            "justify_content": null,
            "_view_module": "@jupyter-widgets/base",
            "overflow": null,
            "_model_module_version": "1.2.0",
            "_view_count": null,
            "flex_flow": null,
            "width": null,
            "min_width": null,
            "border": null,
            "align_items": null,
            "bottom": null,
            "_model_module": "@jupyter-widgets/base",
            "top": null,
            "grid_column": null,
            "overflow_y": null,
            "overflow_x": null,
            "grid_auto_flow": null,
            "grid_area": null,
            "grid_template_columns": null,
            "flex": null,
            "_model_name": "LayoutModel",
            "justify_items": null,
            "grid_row": null,
            "max_height": null,
            "align_content": null,
            "visibility": null,
            "align_self": null,
            "height": null,
            "min_height": null,
            "padding": null,
            "grid_auto_rows": null,
            "grid_gap": null,
            "max_width": null,
            "order": null,
            "_view_module_version": "1.2.0",
            "grid_template_areas": null,
            "object_position": null,
            "object_fit": null,
            "grid_auto_columns": null,
            "margin": null,
            "display": null,
            "left": null
          }
        },
        "5f39b4cb869d479db3eb02f88ef799de": {
          "model_module": "@jupyter-widgets/controls",
          "model_name": "HBoxModel",
          "state": {
            "_view_name": "HBoxView",
            "_dom_classes": [],
            "_model_name": "HBoxModel",
            "_view_module": "@jupyter-widgets/controls",
            "_model_module_version": "1.5.0",
            "_view_count": null,
            "_view_module_version": "1.5.0",
            "box_style": "",
            "layout": "IPY_MODEL_f1bcb886596b413bbf3c96e793b67ff2",
            "_model_module": "@jupyter-widgets/controls",
            "children": [
              "IPY_MODEL_6c2a5d25709c46f9ab5750e563b6b3b1",
              "IPY_MODEL_86d91e7d62494a2ea487b58d186d6d6f"
            ]
          }
        },
        "f1bcb886596b413bbf3c96e793b67ff2": {
          "model_module": "@jupyter-widgets/base",
          "model_name": "LayoutModel",
          "state": {
            "_view_name": "LayoutView",
            "grid_template_rows": null,
            "right": null,
            "justify_content": null,
            "_view_module": "@jupyter-widgets/base",
            "overflow": null,
            "_model_module_version": "1.2.0",
            "_view_count": null,
            "flex_flow": null,
            "width": null,
            "min_width": null,
            "border": null,
            "align_items": null,
            "bottom": null,
            "_model_module": "@jupyter-widgets/base",
            "top": null,
            "grid_column": null,
            "overflow_y": null,
            "overflow_x": null,
            "grid_auto_flow": null,
            "grid_area": null,
            "grid_template_columns": null,
            "flex": null,
            "_model_name": "LayoutModel",
            "justify_items": null,
            "grid_row": null,
            "max_height": null,
            "align_content": null,
            "visibility": null,
            "align_self": null,
            "height": null,
            "min_height": null,
            "padding": null,
            "grid_auto_rows": null,
            "grid_gap": null,
            "max_width": null,
            "order": null,
            "_view_module_version": "1.2.0",
            "grid_template_areas": null,
            "object_position": null,
            "object_fit": null,
            "grid_auto_columns": null,
            "margin": null,
            "display": null,
            "left": null
          }
        },
        "6c2a5d25709c46f9ab5750e563b6b3b1": {
          "model_module": "@jupyter-widgets/controls",
          "model_name": "FloatProgressModel",
          "state": {
            "_view_name": "ProgressView",
            "style": "IPY_MODEL_93f150eb60a34a66b66e9a0b1f85fbcb",
            "_dom_classes": [],
            "description": "",
            "_model_name": "FloatProgressModel",
            "bar_style": "info",
            "max": 1,
            "_view_module": "@jupyter-widgets/controls",
            "_model_module_version": "1.5.0",
            "value": 1,
            "_view_count": null,
            "_view_module_version": "1.5.0",
            "orientation": "horizontal",
            "min": 0,
            "description_tooltip": null,
            "_model_module": "@jupyter-widgets/controls",
            "layout": "IPY_MODEL_e38080a4a003421896e63bf27fae1091"
          }
        },
        "86d91e7d62494a2ea487b58d186d6d6f": {
          "model_module": "@jupyter-widgets/controls",
          "model_name": "HTMLModel",
          "state": {
            "_view_name": "HTMLView",
            "style": "IPY_MODEL_2539c0e794a34705ab74e9ac40df25fb",
            "_dom_classes": [],
            "description": "",
            "_model_name": "HTMLModel",
            "placeholder": "​",
            "_view_module": "@jupyter-widgets/controls",
            "_model_module_version": "1.5.0",
            "value": " 73257/0 [00:49&lt;00:00, 1840.12 examples/s]",
            "_view_count": null,
            "_view_module_version": "1.5.0",
            "description_tooltip": null,
            "_model_module": "@jupyter-widgets/controls",
            "layout": "IPY_MODEL_4b097299a64745a79a89eeec95eca52f"
          }
        },
        "93f150eb60a34a66b66e9a0b1f85fbcb": {
          "model_module": "@jupyter-widgets/controls",
          "model_name": "ProgressStyleModel",
          "state": {
            "_view_name": "StyleView",
            "_model_name": "ProgressStyleModel",
            "description_width": "initial",
            "_view_module": "@jupyter-widgets/base",
            "_model_module_version": "1.5.0",
            "_view_count": null,
            "_view_module_version": "1.2.0",
            "bar_color": null,
            "_model_module": "@jupyter-widgets/controls"
          }
        },
        "e38080a4a003421896e63bf27fae1091": {
          "model_module": "@jupyter-widgets/base",
          "model_name": "LayoutModel",
          "state": {
            "_view_name": "LayoutView",
            "grid_template_rows": null,
            "right": null,
            "justify_content": null,
            "_view_module": "@jupyter-widgets/base",
            "overflow": null,
            "_model_module_version": "1.2.0",
            "_view_count": null,
            "flex_flow": null,
            "width": null,
            "min_width": null,
            "border": null,
            "align_items": null,
            "bottom": null,
            "_model_module": "@jupyter-widgets/base",
            "top": null,
            "grid_column": null,
            "overflow_y": null,
            "overflow_x": null,
            "grid_auto_flow": null,
            "grid_area": null,
            "grid_template_columns": null,
            "flex": null,
            "_model_name": "LayoutModel",
            "justify_items": null,
            "grid_row": null,
            "max_height": null,
            "align_content": null,
            "visibility": null,
            "align_self": null,
            "height": null,
            "min_height": null,
            "padding": null,
            "grid_auto_rows": null,
            "grid_gap": null,
            "max_width": null,
            "order": null,
            "_view_module_version": "1.2.0",
            "grid_template_areas": null,
            "object_position": null,
            "object_fit": null,
            "grid_auto_columns": null,
            "margin": null,
            "display": null,
            "left": null
          }
        },
        "2539c0e794a34705ab74e9ac40df25fb": {
          "model_module": "@jupyter-widgets/controls",
          "model_name": "DescriptionStyleModel",
          "state": {
            "_view_name": "StyleView",
            "_model_name": "DescriptionStyleModel",
            "description_width": "",
            "_view_module": "@jupyter-widgets/base",
            "_model_module_version": "1.5.0",
            "_view_count": null,
            "_view_module_version": "1.2.0",
            "_model_module": "@jupyter-widgets/controls"
          }
        },
        "4b097299a64745a79a89eeec95eca52f": {
          "model_module": "@jupyter-widgets/base",
          "model_name": "LayoutModel",
          "state": {
            "_view_name": "LayoutView",
            "grid_template_rows": null,
            "right": null,
            "justify_content": null,
            "_view_module": "@jupyter-widgets/base",
            "overflow": null,
            "_model_module_version": "1.2.0",
            "_view_count": null,
            "flex_flow": null,
            "width": null,
            "min_width": null,
            "border": null,
            "align_items": null,
            "bottom": null,
            "_model_module": "@jupyter-widgets/base",
            "top": null,
            "grid_column": null,
            "overflow_y": null,
            "overflow_x": null,
            "grid_auto_flow": null,
            "grid_area": null,
            "grid_template_columns": null,
            "flex": null,
            "_model_name": "LayoutModel",
            "justify_items": null,
            "grid_row": null,
            "max_height": null,
            "align_content": null,
            "visibility": null,
            "align_self": null,
            "height": null,
            "min_height": null,
            "padding": null,
            "grid_auto_rows": null,
            "grid_gap": null,
            "max_width": null,
            "order": null,
            "_view_module_version": "1.2.0",
            "grid_template_areas": null,
            "object_position": null,
            "object_fit": null,
            "grid_auto_columns": null,
            "margin": null,
            "display": null,
            "left": null
          }
        },
        "3cda7efcf6964e018e0a8ddac94b7a76": {
          "model_module": "@jupyter-widgets/controls",
          "model_name": "HBoxModel",
          "state": {
            "_view_name": "HBoxView",
            "_dom_classes": [],
            "_model_name": "HBoxModel",
            "_view_module": "@jupyter-widgets/controls",
            "_model_module_version": "1.5.0",
            "_view_count": null,
            "_view_module_version": "1.5.0",
            "box_style": "",
            "layout": "IPY_MODEL_afc57c174fe143129dc316aa2d32a942",
            "_model_module": "@jupyter-widgets/controls",
            "children": [
              "IPY_MODEL_2a799385d29b4ca8b1e7519d9760bdbc",
              "IPY_MODEL_7063241e9eec41189e70ee052d1ec5ff"
            ]
          }
        },
        "afc57c174fe143129dc316aa2d32a942": {
          "model_module": "@jupyter-widgets/base",
          "model_name": "LayoutModel",
          "state": {
            "_view_name": "LayoutView",
            "grid_template_rows": null,
            "right": null,
            "justify_content": null,
            "_view_module": "@jupyter-widgets/base",
            "overflow": null,
            "_model_module_version": "1.2.0",
            "_view_count": null,
            "flex_flow": null,
            "width": null,
            "min_width": null,
            "border": null,
            "align_items": null,
            "bottom": null,
            "_model_module": "@jupyter-widgets/base",
            "top": null,
            "grid_column": null,
            "overflow_y": null,
            "overflow_x": null,
            "grid_auto_flow": null,
            "grid_area": null,
            "grid_template_columns": null,
            "flex": null,
            "_model_name": "LayoutModel",
            "justify_items": null,
            "grid_row": null,
            "max_height": null,
            "align_content": null,
            "visibility": null,
            "align_self": null,
            "height": null,
            "min_height": null,
            "padding": null,
            "grid_auto_rows": null,
            "grid_gap": null,
            "max_width": null,
            "order": null,
            "_view_module_version": "1.2.0",
            "grid_template_areas": null,
            "object_position": null,
            "object_fit": null,
            "grid_auto_columns": null,
            "margin": null,
            "display": null,
            "left": null
          }
        },
        "2a799385d29b4ca8b1e7519d9760bdbc": {
          "model_module": "@jupyter-widgets/controls",
          "model_name": "FloatProgressModel",
          "state": {
            "_view_name": "ProgressView",
            "style": "IPY_MODEL_099fb43af5074224b83ebae387d5e9a7",
            "_dom_classes": [],
            "description": " 86%",
            "_model_name": "FloatProgressModel",
            "bar_style": "danger",
            "max": 73257,
            "_view_module": "@jupyter-widgets/controls",
            "_model_module_version": "1.5.0",
            "value": 63342,
            "_view_count": null,
            "_view_module_version": "1.5.0",
            "orientation": "horizontal",
            "min": 0,
            "description_tooltip": null,
            "_model_module": "@jupyter-widgets/controls",
            "layout": "IPY_MODEL_f99331eed4404342b2cf5bee0c0920ab"
          }
        },
        "7063241e9eec41189e70ee052d1ec5ff": {
          "model_module": "@jupyter-widgets/controls",
          "model_name": "HTMLModel",
          "state": {
            "_view_name": "HTMLView",
            "style": "IPY_MODEL_5e0e90f7fbc6475d8beb969e3e543288",
            "_dom_classes": [],
            "description": "",
            "_model_name": "HTMLModel",
            "placeholder": "​",
            "_view_module": "@jupyter-widgets/controls",
            "_model_module_version": "1.5.0",
            "value": " 63342/73257 [00:00&lt;05:53, 28.07 examples/s]",
            "_view_count": null,
            "_view_module_version": "1.5.0",
            "description_tooltip": null,
            "_model_module": "@jupyter-widgets/controls",
            "layout": "IPY_MODEL_5fa5b01b63754282806f7fc477bb474d"
          }
        },
        "099fb43af5074224b83ebae387d5e9a7": {
          "model_module": "@jupyter-widgets/controls",
          "model_name": "ProgressStyleModel",
          "state": {
            "_view_name": "StyleView",
            "_model_name": "ProgressStyleModel",
            "description_width": "initial",
            "_view_module": "@jupyter-widgets/base",
            "_model_module_version": "1.5.0",
            "_view_count": null,
            "_view_module_version": "1.2.0",
            "bar_color": null,
            "_model_module": "@jupyter-widgets/controls"
          }
        },
        "f99331eed4404342b2cf5bee0c0920ab": {
          "model_module": "@jupyter-widgets/base",
          "model_name": "LayoutModel",
          "state": {
            "_view_name": "LayoutView",
            "grid_template_rows": null,
            "right": null,
            "justify_content": null,
            "_view_module": "@jupyter-widgets/base",
            "overflow": null,
            "_model_module_version": "1.2.0",
            "_view_count": null,
            "flex_flow": null,
            "width": null,
            "min_width": null,
            "border": null,
            "align_items": null,
            "bottom": null,
            "_model_module": "@jupyter-widgets/base",
            "top": null,
            "grid_column": null,
            "overflow_y": null,
            "overflow_x": null,
            "grid_auto_flow": null,
            "grid_area": null,
            "grid_template_columns": null,
            "flex": null,
            "_model_name": "LayoutModel",
            "justify_items": null,
            "grid_row": null,
            "max_height": null,
            "align_content": null,
            "visibility": null,
            "align_self": null,
            "height": null,
            "min_height": null,
            "padding": null,
            "grid_auto_rows": null,
            "grid_gap": null,
            "max_width": null,
            "order": null,
            "_view_module_version": "1.2.0",
            "grid_template_areas": null,
            "object_position": null,
            "object_fit": null,
            "grid_auto_columns": null,
            "margin": null,
            "display": null,
            "left": null
          }
        },
        "5e0e90f7fbc6475d8beb969e3e543288": {
          "model_module": "@jupyter-widgets/controls",
          "model_name": "DescriptionStyleModel",
          "state": {
            "_view_name": "StyleView",
            "_model_name": "DescriptionStyleModel",
            "description_width": "",
            "_view_module": "@jupyter-widgets/base",
            "_model_module_version": "1.5.0",
            "_view_count": null,
            "_view_module_version": "1.2.0",
            "_model_module": "@jupyter-widgets/controls"
          }
        },
        "5fa5b01b63754282806f7fc477bb474d": {
          "model_module": "@jupyter-widgets/base",
          "model_name": "LayoutModel",
          "state": {
            "_view_name": "LayoutView",
            "grid_template_rows": null,
            "right": null,
            "justify_content": null,
            "_view_module": "@jupyter-widgets/base",
            "overflow": null,
            "_model_module_version": "1.2.0",
            "_view_count": null,
            "flex_flow": null,
            "width": null,
            "min_width": null,
            "border": null,
            "align_items": null,
            "bottom": null,
            "_model_module": "@jupyter-widgets/base",
            "top": null,
            "grid_column": null,
            "overflow_y": null,
            "overflow_x": null,
            "grid_auto_flow": null,
            "grid_area": null,
            "grid_template_columns": null,
            "flex": null,
            "_model_name": "LayoutModel",
            "justify_items": null,
            "grid_row": null,
            "max_height": null,
            "align_content": null,
            "visibility": null,
            "align_self": null,
            "height": null,
            "min_height": null,
            "padding": null,
            "grid_auto_rows": null,
            "grid_gap": null,
            "max_width": null,
            "order": null,
            "_view_module_version": "1.2.0",
            "grid_template_areas": null,
            "object_position": null,
            "object_fit": null,
            "grid_auto_columns": null,
            "margin": null,
            "display": null,
            "left": null
          }
        },
        "facc9bd8b88e4ff49ab4b9c4d65af117": {
          "model_module": "@jupyter-widgets/controls",
          "model_name": "HBoxModel",
          "state": {
            "_view_name": "HBoxView",
            "_dom_classes": [],
            "_model_name": "HBoxModel",
            "_view_module": "@jupyter-widgets/controls",
            "_model_module_version": "1.5.0",
            "_view_count": null,
            "_view_module_version": "1.5.0",
            "box_style": "",
            "layout": "IPY_MODEL_30047967561a4e168ecf2e70fccf685f",
            "_model_module": "@jupyter-widgets/controls",
            "children": [
              "IPY_MODEL_93252bd4579648498781e30a8abac0fd",
              "IPY_MODEL_5b56d53574524ab5b33586f14a5016d3"
            ]
          }
        },
        "30047967561a4e168ecf2e70fccf685f": {
          "model_module": "@jupyter-widgets/base",
          "model_name": "LayoutModel",
          "state": {
            "_view_name": "LayoutView",
            "grid_template_rows": null,
            "right": null,
            "justify_content": null,
            "_view_module": "@jupyter-widgets/base",
            "overflow": null,
            "_model_module_version": "1.2.0",
            "_view_count": null,
            "flex_flow": null,
            "width": null,
            "min_width": null,
            "border": null,
            "align_items": null,
            "bottom": null,
            "_model_module": "@jupyter-widgets/base",
            "top": null,
            "grid_column": null,
            "overflow_y": null,
            "overflow_x": null,
            "grid_auto_flow": null,
            "grid_area": null,
            "grid_template_columns": null,
            "flex": null,
            "_model_name": "LayoutModel",
            "justify_items": null,
            "grid_row": null,
            "max_height": null,
            "align_content": null,
            "visibility": null,
            "align_self": null,
            "height": null,
            "min_height": null,
            "padding": null,
            "grid_auto_rows": null,
            "grid_gap": null,
            "max_width": null,
            "order": null,
            "_view_module_version": "1.2.0",
            "grid_template_areas": null,
            "object_position": null,
            "object_fit": null,
            "grid_auto_columns": null,
            "margin": null,
            "display": null,
            "left": null
          }
        },
        "93252bd4579648498781e30a8abac0fd": {
          "model_module": "@jupyter-widgets/controls",
          "model_name": "FloatProgressModel",
          "state": {
            "_view_name": "ProgressView",
            "style": "IPY_MODEL_c5ea66da0c814ea79727b985f4262071",
            "_dom_classes": [],
            "description": "",
            "_model_name": "FloatProgressModel",
            "bar_style": "info",
            "max": 1,
            "_view_module": "@jupyter-widgets/controls",
            "_model_module_version": "1.5.0",
            "value": 1,
            "_view_count": null,
            "_view_module_version": "1.5.0",
            "orientation": "horizontal",
            "min": 0,
            "description_tooltip": null,
            "_model_module": "@jupyter-widgets/controls",
            "layout": "IPY_MODEL_57426a2b9a3545b4a720190e8475cdf1"
          }
        },
        "5b56d53574524ab5b33586f14a5016d3": {
          "model_module": "@jupyter-widgets/controls",
          "model_name": "HTMLModel",
          "state": {
            "_view_name": "HTMLView",
            "style": "IPY_MODEL_898826bbdc67456e9f5a93719c0e8545",
            "_dom_classes": [],
            "description": "",
            "_model_name": "HTMLModel",
            "placeholder": "​",
            "_view_module": "@jupyter-widgets/controls",
            "_model_module_version": "1.5.0",
            "value": " 26032/0 [00:15&lt;00:00, 1778.41 examples/s]",
            "_view_count": null,
            "_view_module_version": "1.5.0",
            "description_tooltip": null,
            "_model_module": "@jupyter-widgets/controls",
            "layout": "IPY_MODEL_8d3d3ee13bd34cba9ee30d4d5d382ec2"
          }
        },
        "c5ea66da0c814ea79727b985f4262071": {
          "model_module": "@jupyter-widgets/controls",
          "model_name": "ProgressStyleModel",
          "state": {
            "_view_name": "StyleView",
            "_model_name": "ProgressStyleModel",
            "description_width": "initial",
            "_view_module": "@jupyter-widgets/base",
            "_model_module_version": "1.5.0",
            "_view_count": null,
            "_view_module_version": "1.2.0",
            "bar_color": null,
            "_model_module": "@jupyter-widgets/controls"
          }
        },
        "57426a2b9a3545b4a720190e8475cdf1": {
          "model_module": "@jupyter-widgets/base",
          "model_name": "LayoutModel",
          "state": {
            "_view_name": "LayoutView",
            "grid_template_rows": null,
            "right": null,
            "justify_content": null,
            "_view_module": "@jupyter-widgets/base",
            "overflow": null,
            "_model_module_version": "1.2.0",
            "_view_count": null,
            "flex_flow": null,
            "width": null,
            "min_width": null,
            "border": null,
            "align_items": null,
            "bottom": null,
            "_model_module": "@jupyter-widgets/base",
            "top": null,
            "grid_column": null,
            "overflow_y": null,
            "overflow_x": null,
            "grid_auto_flow": null,
            "grid_area": null,
            "grid_template_columns": null,
            "flex": null,
            "_model_name": "LayoutModel",
            "justify_items": null,
            "grid_row": null,
            "max_height": null,
            "align_content": null,
            "visibility": null,
            "align_self": null,
            "height": null,
            "min_height": null,
            "padding": null,
            "grid_auto_rows": null,
            "grid_gap": null,
            "max_width": null,
            "order": null,
            "_view_module_version": "1.2.0",
            "grid_template_areas": null,
            "object_position": null,
            "object_fit": null,
            "grid_auto_columns": null,
            "margin": null,
            "display": null,
            "left": null
          }
        },
        "898826bbdc67456e9f5a93719c0e8545": {
          "model_module": "@jupyter-widgets/controls",
          "model_name": "DescriptionStyleModel",
          "state": {
            "_view_name": "StyleView",
            "_model_name": "DescriptionStyleModel",
            "description_width": "",
            "_view_module": "@jupyter-widgets/base",
            "_model_module_version": "1.5.0",
            "_view_count": null,
            "_view_module_version": "1.2.0",
            "_model_module": "@jupyter-widgets/controls"
          }
        },
        "8d3d3ee13bd34cba9ee30d4d5d382ec2": {
          "model_module": "@jupyter-widgets/base",
          "model_name": "LayoutModel",
          "state": {
            "_view_name": "LayoutView",
            "grid_template_rows": null,
            "right": null,
            "justify_content": null,
            "_view_module": "@jupyter-widgets/base",
            "overflow": null,
            "_model_module_version": "1.2.0",
            "_view_count": null,
            "flex_flow": null,
            "width": null,
            "min_width": null,
            "border": null,
            "align_items": null,
            "bottom": null,
            "_model_module": "@jupyter-widgets/base",
            "top": null,
            "grid_column": null,
            "overflow_y": null,
            "overflow_x": null,
            "grid_auto_flow": null,
            "grid_area": null,
            "grid_template_columns": null,
            "flex": null,
            "_model_name": "LayoutModel",
            "justify_items": null,
            "grid_row": null,
            "max_height": null,
            "align_content": null,
            "visibility": null,
            "align_self": null,
            "height": null,
            "min_height": null,
            "padding": null,
            "grid_auto_rows": null,
            "grid_gap": null,
            "max_width": null,
            "order": null,
            "_view_module_version": "1.2.0",
            "grid_template_areas": null,
            "object_position": null,
            "object_fit": null,
            "grid_auto_columns": null,
            "margin": null,
            "display": null,
            "left": null
          }
        },
        "ce474826cb0b44d08fcb72b4ff88cb90": {
          "model_module": "@jupyter-widgets/controls",
          "model_name": "HBoxModel",
          "state": {
            "_view_name": "HBoxView",
            "_dom_classes": [],
            "_model_name": "HBoxModel",
            "_view_module": "@jupyter-widgets/controls",
            "_model_module_version": "1.5.0",
            "_view_count": null,
            "_view_module_version": "1.5.0",
            "box_style": "",
            "layout": "IPY_MODEL_3ce2b6f5eb5b4b468af36888167b4a3c",
            "_model_module": "@jupyter-widgets/controls",
            "children": [
              "IPY_MODEL_0ac77841798b483aaec49283db3c3400",
              "IPY_MODEL_2b78aa45b61b4d9ebbfd97edf5e2126b"
            ]
          }
        },
        "3ce2b6f5eb5b4b468af36888167b4a3c": {
          "model_module": "@jupyter-widgets/base",
          "model_name": "LayoutModel",
          "state": {
            "_view_name": "LayoutView",
            "grid_template_rows": null,
            "right": null,
            "justify_content": null,
            "_view_module": "@jupyter-widgets/base",
            "overflow": null,
            "_model_module_version": "1.2.0",
            "_view_count": null,
            "flex_flow": null,
            "width": null,
            "min_width": null,
            "border": null,
            "align_items": null,
            "bottom": null,
            "_model_module": "@jupyter-widgets/base",
            "top": null,
            "grid_column": null,
            "overflow_y": null,
            "overflow_x": null,
            "grid_auto_flow": null,
            "grid_area": null,
            "grid_template_columns": null,
            "flex": null,
            "_model_name": "LayoutModel",
            "justify_items": null,
            "grid_row": null,
            "max_height": null,
            "align_content": null,
            "visibility": null,
            "align_self": null,
            "height": null,
            "min_height": null,
            "padding": null,
            "grid_auto_rows": null,
            "grid_gap": null,
            "max_width": null,
            "order": null,
            "_view_module_version": "1.2.0",
            "grid_template_areas": null,
            "object_position": null,
            "object_fit": null,
            "grid_auto_columns": null,
            "margin": null,
            "display": null,
            "left": null
          }
        },
        "0ac77841798b483aaec49283db3c3400": {
          "model_module": "@jupyter-widgets/controls",
          "model_name": "FloatProgressModel",
          "state": {
            "_view_name": "ProgressView",
            "style": "IPY_MODEL_a309acf182704536a30e501b4894c2cf",
            "_dom_classes": [],
            "description": " 39%",
            "_model_name": "FloatProgressModel",
            "bar_style": "danger",
            "max": 26032,
            "_view_module": "@jupyter-widgets/controls",
            "_model_module_version": "1.5.0",
            "value": 10202,
            "_view_count": null,
            "_view_module_version": "1.5.0",
            "orientation": "horizontal",
            "min": 0,
            "description_tooltip": null,
            "_model_module": "@jupyter-widgets/controls",
            "layout": "IPY_MODEL_facc646acba34dc3b8b93eb96706e158"
          }
        },
        "2b78aa45b61b4d9ebbfd97edf5e2126b": {
          "model_module": "@jupyter-widgets/controls",
          "model_name": "HTMLModel",
          "state": {
            "_view_name": "HTMLView",
            "style": "IPY_MODEL_b3901ea1629a47b4ba5fe8c8d259452e",
            "_dom_classes": [],
            "description": "",
            "_model_name": "HTMLModel",
            "placeholder": "​",
            "_view_module": "@jupyter-widgets/controls",
            "_model_module_version": "1.5.0",
            "value": " 10202/26032 [00:00&lt;00:00, 102019.37 examples/s]",
            "_view_count": null,
            "_view_module_version": "1.5.0",
            "description_tooltip": null,
            "_model_module": "@jupyter-widgets/controls",
            "layout": "IPY_MODEL_df618a66de9c484aa7629ee9af8ad7d5"
          }
        },
        "a309acf182704536a30e501b4894c2cf": {
          "model_module": "@jupyter-widgets/controls",
          "model_name": "ProgressStyleModel",
          "state": {
            "_view_name": "StyleView",
            "_model_name": "ProgressStyleModel",
            "description_width": "initial",
            "_view_module": "@jupyter-widgets/base",
            "_model_module_version": "1.5.0",
            "_view_count": null,
            "_view_module_version": "1.2.0",
            "bar_color": null,
            "_model_module": "@jupyter-widgets/controls"
          }
        },
        "facc646acba34dc3b8b93eb96706e158": {
          "model_module": "@jupyter-widgets/base",
          "model_name": "LayoutModel",
          "state": {
            "_view_name": "LayoutView",
            "grid_template_rows": null,
            "right": null,
            "justify_content": null,
            "_view_module": "@jupyter-widgets/base",
            "overflow": null,
            "_model_module_version": "1.2.0",
            "_view_count": null,
            "flex_flow": null,
            "width": null,
            "min_width": null,
            "border": null,
            "align_items": null,
            "bottom": null,
            "_model_module": "@jupyter-widgets/base",
            "top": null,
            "grid_column": null,
            "overflow_y": null,
            "overflow_x": null,
            "grid_auto_flow": null,
            "grid_area": null,
            "grid_template_columns": null,
            "flex": null,
            "_model_name": "LayoutModel",
            "justify_items": null,
            "grid_row": null,
            "max_height": null,
            "align_content": null,
            "visibility": null,
            "align_self": null,
            "height": null,
            "min_height": null,
            "padding": null,
            "grid_auto_rows": null,
            "grid_gap": null,
            "max_width": null,
            "order": null,
            "_view_module_version": "1.2.0",
            "grid_template_areas": null,
            "object_position": null,
            "object_fit": null,
            "grid_auto_columns": null,
            "margin": null,
            "display": null,
            "left": null
          }
        },
        "b3901ea1629a47b4ba5fe8c8d259452e": {
          "model_module": "@jupyter-widgets/controls",
          "model_name": "DescriptionStyleModel",
          "state": {
            "_view_name": "StyleView",
            "_model_name": "DescriptionStyleModel",
            "description_width": "",
            "_view_module": "@jupyter-widgets/base",
            "_model_module_version": "1.5.0",
            "_view_count": null,
            "_view_module_version": "1.2.0",
            "_model_module": "@jupyter-widgets/controls"
          }
        },
        "df618a66de9c484aa7629ee9af8ad7d5": {
          "model_module": "@jupyter-widgets/base",
          "model_name": "LayoutModel",
          "state": {
            "_view_name": "LayoutView",
            "grid_template_rows": null,
            "right": null,
            "justify_content": null,
            "_view_module": "@jupyter-widgets/base",
            "overflow": null,
            "_model_module_version": "1.2.0",
            "_view_count": null,
            "flex_flow": null,
            "width": null,
            "min_width": null,
            "border": null,
            "align_items": null,
            "bottom": null,
            "_model_module": "@jupyter-widgets/base",
            "top": null,
            "grid_column": null,
            "overflow_y": null,
            "overflow_x": null,
            "grid_auto_flow": null,
            "grid_area": null,
            "grid_template_columns": null,
            "flex": null,
            "_model_name": "LayoutModel",
            "justify_items": null,
            "grid_row": null,
            "max_height": null,
            "align_content": null,
            "visibility": null,
            "align_self": null,
            "height": null,
            "min_height": null,
            "padding": null,
            "grid_auto_rows": null,
            "grid_gap": null,
            "max_width": null,
            "order": null,
            "_view_module_version": "1.2.0",
            "grid_template_areas": null,
            "object_position": null,
            "object_fit": null,
            "grid_auto_columns": null,
            "margin": null,
            "display": null,
            "left": null
          }
        },
        "0f3df0620d7d4beb82cb47354e6d6b9a": {
          "model_module": "@jupyter-widgets/controls",
          "model_name": "HBoxModel",
          "state": {
            "_view_name": "HBoxView",
            "_dom_classes": [],
            "_model_name": "HBoxModel",
            "_view_module": "@jupyter-widgets/controls",
            "_model_module_version": "1.5.0",
            "_view_count": null,
            "_view_module_version": "1.5.0",
            "box_style": "",
            "layout": "IPY_MODEL_d2b26f882912457a9eb8cb938d45a803",
            "_model_module": "@jupyter-widgets/controls",
            "children": [
              "IPY_MODEL_fc7bdc116f404e26bc04f2cb1a1d26e1",
              "IPY_MODEL_df91c9fa8b0f4790959facb052f92065"
            ]
          }
        },
        "d2b26f882912457a9eb8cb938d45a803": {
          "model_module": "@jupyter-widgets/base",
          "model_name": "LayoutModel",
          "state": {
            "_view_name": "LayoutView",
            "grid_template_rows": null,
            "right": null,
            "justify_content": null,
            "_view_module": "@jupyter-widgets/base",
            "overflow": null,
            "_model_module_version": "1.2.0",
            "_view_count": null,
            "flex_flow": null,
            "width": null,
            "min_width": null,
            "border": null,
            "align_items": null,
            "bottom": null,
            "_model_module": "@jupyter-widgets/base",
            "top": null,
            "grid_column": null,
            "overflow_y": null,
            "overflow_x": null,
            "grid_auto_flow": null,
            "grid_area": null,
            "grid_template_columns": null,
            "flex": null,
            "_model_name": "LayoutModel",
            "justify_items": null,
            "grid_row": null,
            "max_height": null,
            "align_content": null,
            "visibility": null,
            "align_self": null,
            "height": null,
            "min_height": null,
            "padding": null,
            "grid_auto_rows": null,
            "grid_gap": null,
            "max_width": null,
            "order": null,
            "_view_module_version": "1.2.0",
            "grid_template_areas": null,
            "object_position": null,
            "object_fit": null,
            "grid_auto_columns": null,
            "margin": null,
            "display": null,
            "left": null
          }
        },
        "fc7bdc116f404e26bc04f2cb1a1d26e1": {
          "model_module": "@jupyter-widgets/controls",
          "model_name": "FloatProgressModel",
          "state": {
            "_view_name": "ProgressView",
            "style": "IPY_MODEL_3d99821b49e84a8ab176efe9e4876ba0",
            "_dom_classes": [],
            "description": "",
            "_model_name": "FloatProgressModel",
            "bar_style": "info",
            "max": 1,
            "_view_module": "@jupyter-widgets/controls",
            "_model_module_version": "1.5.0",
            "value": 1,
            "_view_count": null,
            "_view_module_version": "1.5.0",
            "orientation": "horizontal",
            "min": 0,
            "description_tooltip": null,
            "_model_module": "@jupyter-widgets/controls",
            "layout": "IPY_MODEL_52d6c12581744648ac9166af0a54f96f"
          }
        },
        "df91c9fa8b0f4790959facb052f92065": {
          "model_module": "@jupyter-widgets/controls",
          "model_name": "HTMLModel",
          "state": {
            "_view_name": "HTMLView",
            "style": "IPY_MODEL_6d4e0b9dc5ea4f948dcc193c3ae17aa1",
            "_dom_classes": [],
            "description": "",
            "_model_name": "HTMLModel",
            "placeholder": "​",
            "_view_module": "@jupyter-widgets/controls",
            "_model_module_version": "1.5.0",
            "value": " 531131/0 [04:57&lt;00:00, 1878.00 examples/s]",
            "_view_count": null,
            "_view_module_version": "1.5.0",
            "description_tooltip": null,
            "_model_module": "@jupyter-widgets/controls",
            "layout": "IPY_MODEL_d5bb0bb912424c2ba9a8fc3d4066193e"
          }
        },
        "3d99821b49e84a8ab176efe9e4876ba0": {
          "model_module": "@jupyter-widgets/controls",
          "model_name": "ProgressStyleModel",
          "state": {
            "_view_name": "StyleView",
            "_model_name": "ProgressStyleModel",
            "description_width": "initial",
            "_view_module": "@jupyter-widgets/base",
            "_model_module_version": "1.5.0",
            "_view_count": null,
            "_view_module_version": "1.2.0",
            "bar_color": null,
            "_model_module": "@jupyter-widgets/controls"
          }
        },
        "52d6c12581744648ac9166af0a54f96f": {
          "model_module": "@jupyter-widgets/base",
          "model_name": "LayoutModel",
          "state": {
            "_view_name": "LayoutView",
            "grid_template_rows": null,
            "right": null,
            "justify_content": null,
            "_view_module": "@jupyter-widgets/base",
            "overflow": null,
            "_model_module_version": "1.2.0",
            "_view_count": null,
            "flex_flow": null,
            "width": null,
            "min_width": null,
            "border": null,
            "align_items": null,
            "bottom": null,
            "_model_module": "@jupyter-widgets/base",
            "top": null,
            "grid_column": null,
            "overflow_y": null,
            "overflow_x": null,
            "grid_auto_flow": null,
            "grid_area": null,
            "grid_template_columns": null,
            "flex": null,
            "_model_name": "LayoutModel",
            "justify_items": null,
            "grid_row": null,
            "max_height": null,
            "align_content": null,
            "visibility": null,
            "align_self": null,
            "height": null,
            "min_height": null,
            "padding": null,
            "grid_auto_rows": null,
            "grid_gap": null,
            "max_width": null,
            "order": null,
            "_view_module_version": "1.2.0",
            "grid_template_areas": null,
            "object_position": null,
            "object_fit": null,
            "grid_auto_columns": null,
            "margin": null,
            "display": null,
            "left": null
          }
        },
        "6d4e0b9dc5ea4f948dcc193c3ae17aa1": {
          "model_module": "@jupyter-widgets/controls",
          "model_name": "DescriptionStyleModel",
          "state": {
            "_view_name": "StyleView",
            "_model_name": "DescriptionStyleModel",
            "description_width": "",
            "_view_module": "@jupyter-widgets/base",
            "_model_module_version": "1.5.0",
            "_view_count": null,
            "_view_module_version": "1.2.0",
            "_model_module": "@jupyter-widgets/controls"
          }
        },
        "d5bb0bb912424c2ba9a8fc3d4066193e": {
          "model_module": "@jupyter-widgets/base",
          "model_name": "LayoutModel",
          "state": {
            "_view_name": "LayoutView",
            "grid_template_rows": null,
            "right": null,
            "justify_content": null,
            "_view_module": "@jupyter-widgets/base",
            "overflow": null,
            "_model_module_version": "1.2.0",
            "_view_count": null,
            "flex_flow": null,
            "width": null,
            "min_width": null,
            "border": null,
            "align_items": null,
            "bottom": null,
            "_model_module": "@jupyter-widgets/base",
            "top": null,
            "grid_column": null,
            "overflow_y": null,
            "overflow_x": null,
            "grid_auto_flow": null,
            "grid_area": null,
            "grid_template_columns": null,
            "flex": null,
            "_model_name": "LayoutModel",
            "justify_items": null,
            "grid_row": null,
            "max_height": null,
            "align_content": null,
            "visibility": null,
            "align_self": null,
            "height": null,
            "min_height": null,
            "padding": null,
            "grid_auto_rows": null,
            "grid_gap": null,
            "max_width": null,
            "order": null,
            "_view_module_version": "1.2.0",
            "grid_template_areas": null,
            "object_position": null,
            "object_fit": null,
            "grid_auto_columns": null,
            "margin": null,
            "display": null,
            "left": null
          }
        },
        "95e2d73eb3e84e18af3f5ea31f4b6550": {
          "model_module": "@jupyter-widgets/controls",
          "model_name": "HBoxModel",
          "state": {
            "_view_name": "HBoxView",
            "_dom_classes": [],
            "_model_name": "HBoxModel",
            "_view_module": "@jupyter-widgets/controls",
            "_model_module_version": "1.5.0",
            "_view_count": null,
            "_view_module_version": "1.5.0",
            "box_style": "",
            "layout": "IPY_MODEL_4300070b76cd48c9b7160bf6b5e0a764",
            "_model_module": "@jupyter-widgets/controls",
            "children": [
              "IPY_MODEL_4e557c6a558542da9f61608dbe424736",
              "IPY_MODEL_294ac61d8b57443492dccf56c3283988"
            ]
          }
        },
        "4300070b76cd48c9b7160bf6b5e0a764": {
          "model_module": "@jupyter-widgets/base",
          "model_name": "LayoutModel",
          "state": {
            "_view_name": "LayoutView",
            "grid_template_rows": null,
            "right": null,
            "justify_content": null,
            "_view_module": "@jupyter-widgets/base",
            "overflow": null,
            "_model_module_version": "1.2.0",
            "_view_count": null,
            "flex_flow": null,
            "width": null,
            "min_width": null,
            "border": null,
            "align_items": null,
            "bottom": null,
            "_model_module": "@jupyter-widgets/base",
            "top": null,
            "grid_column": null,
            "overflow_y": null,
            "overflow_x": null,
            "grid_auto_flow": null,
            "grid_area": null,
            "grid_template_columns": null,
            "flex": null,
            "_model_name": "LayoutModel",
            "justify_items": null,
            "grid_row": null,
            "max_height": null,
            "align_content": null,
            "visibility": null,
            "align_self": null,
            "height": null,
            "min_height": null,
            "padding": null,
            "grid_auto_rows": null,
            "grid_gap": null,
            "max_width": null,
            "order": null,
            "_view_module_version": "1.2.0",
            "grid_template_areas": null,
            "object_position": null,
            "object_fit": null,
            "grid_auto_columns": null,
            "margin": null,
            "display": null,
            "left": null
          }
        },
        "4e557c6a558542da9f61608dbe424736": {
          "model_module": "@jupyter-widgets/controls",
          "model_name": "FloatProgressModel",
          "state": {
            "_view_name": "ProgressView",
            "style": "IPY_MODEL_95b10e922bfa4c0e84fd14c3e271e833",
            "_dom_classes": [],
            "description": " 99%",
            "_model_name": "FloatProgressModel",
            "bar_style": "danger",
            "max": 531131,
            "_view_module": "@jupyter-widgets/controls",
            "_model_module_version": "1.5.0",
            "value": 524364,
            "_view_count": null,
            "_view_module_version": "1.5.0",
            "orientation": "horizontal",
            "min": 0,
            "description_tooltip": null,
            "_model_module": "@jupyter-widgets/controls",
            "layout": "IPY_MODEL_504cab24550c42bbba49d1717f8c7b3e"
          }
        },
        "294ac61d8b57443492dccf56c3283988": {
          "model_module": "@jupyter-widgets/controls",
          "model_name": "HTMLModel",
          "state": {
            "_view_name": "HTMLView",
            "style": "IPY_MODEL_cc0490a7761a4911ab9b4aee0c748e7b",
            "_dom_classes": [],
            "description": "",
            "_model_name": "HTMLModel",
            "placeholder": "​",
            "_view_module": "@jupyter-widgets/controls",
            "_model_module_version": "1.5.0",
            "value": " 524364/531131 [00:04&lt;00:00, 52802.00 examples/s]",
            "_view_count": null,
            "_view_module_version": "1.5.0",
            "description_tooltip": null,
            "_model_module": "@jupyter-widgets/controls",
            "layout": "IPY_MODEL_cc3505113ec244f0ab71a307b5f04735"
          }
        },
        "95b10e922bfa4c0e84fd14c3e271e833": {
          "model_module": "@jupyter-widgets/controls",
          "model_name": "ProgressStyleModel",
          "state": {
            "_view_name": "StyleView",
            "_model_name": "ProgressStyleModel",
            "description_width": "initial",
            "_view_module": "@jupyter-widgets/base",
            "_model_module_version": "1.5.0",
            "_view_count": null,
            "_view_module_version": "1.2.0",
            "bar_color": null,
            "_model_module": "@jupyter-widgets/controls"
          }
        },
        "504cab24550c42bbba49d1717f8c7b3e": {
          "model_module": "@jupyter-widgets/base",
          "model_name": "LayoutModel",
          "state": {
            "_view_name": "LayoutView",
            "grid_template_rows": null,
            "right": null,
            "justify_content": null,
            "_view_module": "@jupyter-widgets/base",
            "overflow": null,
            "_model_module_version": "1.2.0",
            "_view_count": null,
            "flex_flow": null,
            "width": null,
            "min_width": null,
            "border": null,
            "align_items": null,
            "bottom": null,
            "_model_module": "@jupyter-widgets/base",
            "top": null,
            "grid_column": null,
            "overflow_y": null,
            "overflow_x": null,
            "grid_auto_flow": null,
            "grid_area": null,
            "grid_template_columns": null,
            "flex": null,
            "_model_name": "LayoutModel",
            "justify_items": null,
            "grid_row": null,
            "max_height": null,
            "align_content": null,
            "visibility": null,
            "align_self": null,
            "height": null,
            "min_height": null,
            "padding": null,
            "grid_auto_rows": null,
            "grid_gap": null,
            "max_width": null,
            "order": null,
            "_view_module_version": "1.2.0",
            "grid_template_areas": null,
            "object_position": null,
            "object_fit": null,
            "grid_auto_columns": null,
            "margin": null,
            "display": null,
            "left": null
          }
        },
        "cc0490a7761a4911ab9b4aee0c748e7b": {
          "model_module": "@jupyter-widgets/controls",
          "model_name": "DescriptionStyleModel",
          "state": {
            "_view_name": "StyleView",
            "_model_name": "DescriptionStyleModel",
            "description_width": "",
            "_view_module": "@jupyter-widgets/base",
            "_model_module_version": "1.5.0",
            "_view_count": null,
            "_view_module_version": "1.2.0",
            "_model_module": "@jupyter-widgets/controls"
          }
        },
        "cc3505113ec244f0ab71a307b5f04735": {
          "model_module": "@jupyter-widgets/base",
          "model_name": "LayoutModel",
          "state": {
            "_view_name": "LayoutView",
            "grid_template_rows": null,
            "right": null,
            "justify_content": null,
            "_view_module": "@jupyter-widgets/base",
            "overflow": null,
            "_model_module_version": "1.2.0",
            "_view_count": null,
            "flex_flow": null,
            "width": null,
            "min_width": null,
            "border": null,
            "align_items": null,
            "bottom": null,
            "_model_module": "@jupyter-widgets/base",
            "top": null,
            "grid_column": null,
            "overflow_y": null,
            "overflow_x": null,
            "grid_auto_flow": null,
            "grid_area": null,
            "grid_template_columns": null,
            "flex": null,
            "_model_name": "LayoutModel",
            "justify_items": null,
            "grid_row": null,
            "max_height": null,
            "align_content": null,
            "visibility": null,
            "align_self": null,
            "height": null,
            "min_height": null,
            "padding": null,
            "grid_auto_rows": null,
            "grid_gap": null,
            "max_width": null,
            "order": null,
            "_view_module_version": "1.2.0",
            "grid_template_areas": null,
            "object_position": null,
            "object_fit": null,
            "grid_auto_columns": null,
            "margin": null,
            "display": null,
            "left": null
          }
        }
      }
    }
  },
  "cells": [
    {
      "cell_type": "markdown",
      "metadata": {
        "id": "view-in-github",
        "colab_type": "text"
      },
      "source": [
        "<a href=\"https://colab.research.google.com/github/mvenouziou/Capstone_Projects/blob/main/SVHN_Image_Classification_Project.ipynb\" target=\"_parent\"><img src=\"https://colab.research.google.com/assets/colab-badge.svg\" alt=\"Open In Colab\"/></a>"
      ]
    },
    {
      "cell_type": "markdown",
      "metadata": {
        "id": "rffwkDWTz_Fo"
      },
      "source": [
        "# Capstone Project: \n",
        "\n",
        "## Develop an end-to-end workflow for building, training, validating, evaluating and saving CNN and MLP neural networks that classifies a real-world image into one of ten classes.\n",
        "\n",
        "<i>\n",
        "Dataset: Street View House Numbers (SVHN), [Netzer2011]\n",
        "</br>\n",
        " www.&#8203;tensorflow.org/datasets/&#8203;catalog/svhn_cropped\n",
        "</i>\n"
      ]
    },
    {
      "cell_type": "code",
      "metadata": {
        "id": "O3vI8jSIz_Fs"
      },
      "source": [
        "#### Load imports\n",
        "# tensorflow\n",
        "import tensorflow as tf\n",
        "import tensorflow_datasets as tfds\n",
        "\n",
        "# alt data formats\n",
        "import numpy as np\n",
        "import pandas as pd\n",
        "\n",
        "# tools for display / image viewer\n",
        "import matplotlib.pyplot as plt\n",
        "import PIL\n",
        "import PIL.Image"
      ],
      "execution_count": 1,
      "outputs": []
    },
    {
      "cell_type": "code",
      "metadata": {
        "id": "r8BHW8P_2wxw",
        "colab": {
          "base_uri": "https://localhost:8080/"
        },
        "outputId": "9bda07bd-856e-475c-8c11-356ee1a13bc7"
      },
      "source": [
        "# Connect storage for saving / loading models\n",
        "# (Google Drive:)\n",
        "from google.colab import drive\n",
        "drive.mount('/content/gdrive', force_remount=False)"
      ],
      "execution_count": 2,
      "outputs": [
        {
          "output_type": "stream",
          "text": [
            "Mounted at /content/gdrive\n"
          ],
          "name": "stdout"
        }
      ]
    },
    {
      "cell_type": "markdown",
      "metadata": {
        "id": "_Q1n_Ai2z_F3"
      },
      "source": [
        "## Load / Preprocess Dataset"
      ]
    },
    {
      "cell_type": "markdown",
      "metadata": {
        "id": "lTc_EgFgiwl_"
      },
      "source": [
        "##### Load Data from Tensorflow Servers"
      ]
    },
    {
      "cell_type": "code",
      "metadata": {
        "id": "YWdiz3n_z_Fy",
        "colab": {
          "base_uri": "https://localhost:8080/",
          "height": 363,
          "referenced_widgets": [
            "745d5a47c7d549c7bd2cda5fe1a07733",
            "72e292b649974330a0178400b2e4078a",
            "5044a2254a1045a7a42e5452a9711c5a",
            "fe7e872e9d9a4ab792c330b69841e627",
            "6bbe76fa0c734c919d874535f187c106",
            "af9a47e20c2549919bcba1ddfb0a7f93",
            "6fe2108124e14106bcb392f6fab8d353",
            "2be19a3cc9924214978cb5fa6179f712",
            "32985735ee3b4fff942fc681385be703",
            "f8f0c31f693245aeabb7520f5a13fbc1",
            "f682b044fe914e588589671587770232",
            "a1ee2a23d8f94ea285964f81b9b554a7",
            "a9dc1715731a499d9047ae14f75e3071",
            "7204e2245b2342a18e7d0eed98d60033",
            "8938442695994ca8b6bfa1bb3ad37551",
            "100689dc841c4985824da7a2b897aa7d",
            "5f39b4cb869d479db3eb02f88ef799de",
            "f1bcb886596b413bbf3c96e793b67ff2",
            "6c2a5d25709c46f9ab5750e563b6b3b1",
            "86d91e7d62494a2ea487b58d186d6d6f",
            "93f150eb60a34a66b66e9a0b1f85fbcb",
            "e38080a4a003421896e63bf27fae1091",
            "2539c0e794a34705ab74e9ac40df25fb",
            "4b097299a64745a79a89eeec95eca52f",
            "3cda7efcf6964e018e0a8ddac94b7a76",
            "afc57c174fe143129dc316aa2d32a942",
            "2a799385d29b4ca8b1e7519d9760bdbc",
            "7063241e9eec41189e70ee052d1ec5ff",
            "099fb43af5074224b83ebae387d5e9a7",
            "f99331eed4404342b2cf5bee0c0920ab",
            "5e0e90f7fbc6475d8beb969e3e543288",
            "5fa5b01b63754282806f7fc477bb474d",
            "facc9bd8b88e4ff49ab4b9c4d65af117",
            "30047967561a4e168ecf2e70fccf685f",
            "93252bd4579648498781e30a8abac0fd",
            "5b56d53574524ab5b33586f14a5016d3",
            "c5ea66da0c814ea79727b985f4262071",
            "57426a2b9a3545b4a720190e8475cdf1",
            "898826bbdc67456e9f5a93719c0e8545",
            "8d3d3ee13bd34cba9ee30d4d5d382ec2",
            "ce474826cb0b44d08fcb72b4ff88cb90",
            "3ce2b6f5eb5b4b468af36888167b4a3c",
            "0ac77841798b483aaec49283db3c3400",
            "2b78aa45b61b4d9ebbfd97edf5e2126b",
            "a309acf182704536a30e501b4894c2cf",
            "facc646acba34dc3b8b93eb96706e158",
            "b3901ea1629a47b4ba5fe8c8d259452e",
            "df618a66de9c484aa7629ee9af8ad7d5",
            "0f3df0620d7d4beb82cb47354e6d6b9a",
            "d2b26f882912457a9eb8cb938d45a803",
            "fc7bdc116f404e26bc04f2cb1a1d26e1",
            "df91c9fa8b0f4790959facb052f92065",
            "3d99821b49e84a8ab176efe9e4876ba0",
            "52d6c12581744648ac9166af0a54f96f",
            "6d4e0b9dc5ea4f948dcc193c3ae17aa1",
            "d5bb0bb912424c2ba9a8fc3d4066193e",
            "95e2d73eb3e84e18af3f5ea31f4b6550",
            "4300070b76cd48c9b7160bf6b5e0a764",
            "4e557c6a558542da9f61608dbe424736",
            "294ac61d8b57443492dccf56c3283988",
            "95b10e922bfa4c0e84fd14c3e271e833",
            "504cab24550c42bbba49d1717f8c7b3e",
            "cc0490a7761a4911ab9b4aee0c748e7b",
            "cc3505113ec244f0ab71a307b5f04735"
          ]
        },
        "outputId": "9b5d6c07-e0b9-4f92-bc4e-23f499416b99"
      },
      "source": [
        "# Create train, validation and test sets\n",
        "def load_data():\n",
        "\n",
        "    (train_ds, validation_ds, test_ds), info = \\\n",
        "        tfds.load('svhn_cropped', # choose dataset\n",
        "                split=['train', 'test[:50%]', 'test[-50%:]'],  # train, valid, test\n",
        "                shuffle_files=True,  # shuffles during training epochs\n",
        "                as_supervised=True,  # Returns tuple (img, label)\n",
        "                with_info=True  # metadata\n",
        "                )  \n",
        "        \n",
        "    return (train_ds, validation_ds, test_ds), info\n",
        "\n",
        "\n",
        "# load data\n",
        "(train_ds, validation_ds, test_ds), info = load_data()"
      ],
      "execution_count": 3,
      "outputs": [
        {
          "output_type": "stream",
          "text": [
            "\u001b[1mDownloading and preparing dataset svhn_cropped/3.0.0 (download: 1.47 GiB, generated: Unknown size, total: 1.47 GiB) to /root/tensorflow_datasets/svhn_cropped/3.0.0...\u001b[0m\n"
          ],
          "name": "stdout"
        },
        {
          "output_type": "display_data",
          "data": {
            "application/vnd.jupyter.widget-view+json": {
              "model_id": "745d5a47c7d549c7bd2cda5fe1a07733",
              "version_minor": 0,
              "version_major": 2
            },
            "text/plain": [
              "HBox(children=(FloatProgress(value=1.0, bar_style='info', description='Dl Completed...', max=1.0, style=Progre…"
            ]
          },
          "metadata": {
            "tags": []
          }
        },
        {
          "output_type": "display_data",
          "data": {
            "application/vnd.jupyter.widget-view+json": {
              "model_id": "32985735ee3b4fff942fc681385be703",
              "version_minor": 0,
              "version_major": 2
            },
            "text/plain": [
              "HBox(children=(FloatProgress(value=1.0, bar_style='info', description='Dl Size...', max=1.0, style=ProgressSty…"
            ]
          },
          "metadata": {
            "tags": []
          }
        },
        {
          "output_type": "stream",
          "text": [
            "\n",
            "\n",
            "\n",
            "\n"
          ],
          "name": "stdout"
        },
        {
          "output_type": "display_data",
          "data": {
            "application/vnd.jupyter.widget-view+json": {
              "model_id": "5f39b4cb869d479db3eb02f88ef799de",
              "version_minor": 0,
              "version_major": 2
            },
            "text/plain": [
              "HBox(children=(FloatProgress(value=1.0, bar_style='info', max=1.0), HTML(value='')))"
            ]
          },
          "metadata": {
            "tags": []
          }
        },
        {
          "output_type": "stream",
          "text": [
            "\rShuffling and writing examples to /root/tensorflow_datasets/svhn_cropped/3.0.0.incompleteF3QODR/svhn_cropped-train.tfrecord\n"
          ],
          "name": "stdout"
        },
        {
          "output_type": "display_data",
          "data": {
            "application/vnd.jupyter.widget-view+json": {
              "model_id": "3cda7efcf6964e018e0a8ddac94b7a76",
              "version_minor": 0,
              "version_major": 2
            },
            "text/plain": [
              "HBox(children=(FloatProgress(value=0.0, max=73257.0), HTML(value='')))"
            ]
          },
          "metadata": {
            "tags": []
          }
        },
        {
          "output_type": "stream",
          "text": [
            "\r"
          ],
          "name": "stdout"
        },
        {
          "output_type": "display_data",
          "data": {
            "application/vnd.jupyter.widget-view+json": {
              "model_id": "facc9bd8b88e4ff49ab4b9c4d65af117",
              "version_minor": 0,
              "version_major": 2
            },
            "text/plain": [
              "HBox(children=(FloatProgress(value=1.0, bar_style='info', max=1.0), HTML(value='')))"
            ]
          },
          "metadata": {
            "tags": []
          }
        },
        {
          "output_type": "stream",
          "text": [
            "\rShuffling and writing examples to /root/tensorflow_datasets/svhn_cropped/3.0.0.incompleteF3QODR/svhn_cropped-test.tfrecord\n"
          ],
          "name": "stdout"
        },
        {
          "output_type": "display_data",
          "data": {
            "application/vnd.jupyter.widget-view+json": {
              "model_id": "ce474826cb0b44d08fcb72b4ff88cb90",
              "version_minor": 0,
              "version_major": 2
            },
            "text/plain": [
              "HBox(children=(FloatProgress(value=0.0, max=26032.0), HTML(value='')))"
            ]
          },
          "metadata": {
            "tags": []
          }
        },
        {
          "output_type": "stream",
          "text": [
            "\r"
          ],
          "name": "stdout"
        },
        {
          "output_type": "display_data",
          "data": {
            "application/vnd.jupyter.widget-view+json": {
              "model_id": "0f3df0620d7d4beb82cb47354e6d6b9a",
              "version_minor": 0,
              "version_major": 2
            },
            "text/plain": [
              "HBox(children=(FloatProgress(value=1.0, bar_style='info', max=1.0), HTML(value='')))"
            ]
          },
          "metadata": {
            "tags": []
          }
        },
        {
          "output_type": "stream",
          "text": [
            "\rShuffling and writing examples to /root/tensorflow_datasets/svhn_cropped/3.0.0.incompleteF3QODR/svhn_cropped-extra.tfrecord\n"
          ],
          "name": "stdout"
        },
        {
          "output_type": "display_data",
          "data": {
            "application/vnd.jupyter.widget-view+json": {
              "model_id": "95e2d73eb3e84e18af3f5ea31f4b6550",
              "version_minor": 0,
              "version_major": 2
            },
            "text/plain": [
              "HBox(children=(FloatProgress(value=0.0, max=531131.0), HTML(value='')))"
            ]
          },
          "metadata": {
            "tags": []
          }
        },
        {
          "output_type": "stream",
          "text": [
            "\u001b[1mDataset svhn_cropped downloaded and prepared to /root/tensorflow_datasets/svhn_cropped/3.0.0. Subsequent calls will reuse this data.\u001b[0m\n",
            "\r"
          ],
          "name": "stdout"
        }
      ]
    },
    {
      "cell_type": "code",
      "metadata": {
        "colab": {
          "base_uri": "https://localhost:8080/"
        },
        "id": "-KjdssZxBFVR",
        "outputId": "f1bd3401-241c-4e9e-8160-ba45a767e3ac"
      },
      "source": [
        "# Dataset Overview:\r\n",
        "\r\n",
        "# train set: 73257 images, validation set: 13016 images, \r\n",
        "# test set: 13016 images\r\n",
        "# note: we are not using the 'extra' (computational speed)\r\n",
        "info"
      ],
      "execution_count": 4,
      "outputs": [
        {
          "output_type": "execute_result",
          "data": {
            "text/plain": [
              "tfds.core.DatasetInfo(\n",
              "    name='svhn_cropped',\n",
              "    version=3.0.0,\n",
              "    description='The Street View House Numbers (SVHN) Dataset is an image digit recognition dataset of over 600,000 digit images coming from real world data. Images are cropped to 32x32.',\n",
              "    homepage='http://ufldl.stanford.edu/housenumbers/',\n",
              "    features=FeaturesDict({\n",
              "        'image': Image(shape=(32, 32, 3), dtype=tf.uint8),\n",
              "        'label': ClassLabel(shape=(), dtype=tf.int64, num_classes=10),\n",
              "    }),\n",
              "    total_num_examples=630420,\n",
              "    splits={\n",
              "        'extra': 531131,\n",
              "        'test': 26032,\n",
              "        'train': 73257,\n",
              "    },\n",
              "    supervised_keys=('image', 'label'),\n",
              "    citation=\"\"\"@article{Netzer2011,\n",
              "    author = {Netzer, Yuval and Wang, Tao and Coates, Adam and Bissacco, Alessandro and Wu, Bo and Ng, Andrew Y},\n",
              "    booktitle = {Advances in Neural Information Processing Systems ({NIPS})},\n",
              "    title = {Reading Digits in Natural Images with Unsupervised Feature Learning},\n",
              "    year = {2011}\n",
              "    }\"\"\",\n",
              "    redistribution_info=,\n",
              ")"
            ]
          },
          "metadata": {
            "tags": []
          },
          "execution_count": 4
        }
      ]
    },
    {
      "cell_type": "markdown",
      "metadata": {
        "id": "K6SsoXM1jIpo"
      },
      "source": [
        "##### Examine some data points"
      ]
    },
    {
      "cell_type": "code",
      "metadata": {
        "id": "-WIH5hyXz_F4",
        "colab": {
          "base_uri": "https://localhost:8080/",
          "height": 534
        },
        "outputId": "99fe5ace-9e6f-45b0-dbed-83231a6ccdb4"
      },
      "source": [
        "# view 10 samples (color)\r\n",
        "fig = tfds.show_examples(train_ds.shuffle(10000).take(10), info)"
      ],
      "execution_count": 5,
      "outputs": [
        {
          "output_type": "display_data",
          "data": {
            "image/png": "[encoded data removed]",
            "text/plain": [
              "<Figure size 648x648 with 9 Axes>"
            ]
          },
          "metadata": {
            "tags": []
          }
        }
      ]
    },
    {
      "cell_type": "markdown",
      "metadata": {
        "id": "ZHtwLqZ5jOmh"
      },
      "source": [
        "##### Preprocessing Step"
      ]
    },
    {
      "cell_type": "code",
      "metadata": {
        "id": "UXYwWhHpz_GD"
      },
      "source": [
        "# scale image values and convert to grayscale\r\n",
        "# note: grayscale being used per project instructions\r\n",
        "\r\n",
        "def convert_to_grayscale_normalized(image, label, normalize=True):\r\n",
        "    grayscale_image= tf.math.reduce_mean(image, axis=-1, keepdims=True)\r\n",
        "    return tf.cast(grayscale_image, tf.float32) / 255.0, label\r\n",
        "\r\n",
        "def prep_data(dataset, shuffle=True):\r\n",
        "    dataset = dataset.map(convert_to_grayscale_normalized)\r\n",
        "    if shuffle:\r\n",
        "        dataset = dataset.shuffle(1000)\r\n",
        "    dataset = dataset.batch(64)\r\n",
        "    dataset = dataset.prefetch(tf.data.experimental.AUTOTUNE)\r\n",
        "    return dataset\r\n",
        "\r\n",
        "# See https://www.tensorflow.org/datasets/keras_example"
      ],
      "execution_count": 11,
      "outputs": []
    },
    {
      "cell_type": "code",
      "metadata": {
        "id": "aeAmDlXu2FAo"
      },
      "source": [
        "# Apply preprocessing to test / train / validation sets\r\n",
        "train_ds_prepared = prep_data(train_ds, shuffle=True)\r\n",
        "validation_ds_prepared = prep_data(validation_ds, shuffle=True)\r\n",
        "test_ds_prepared = prep_data(test_ds, shuffle=False)"
      ],
      "execution_count": 7,
      "outputs": []
    },
    {
      "cell_type": "code",
      "metadata": {
        "colab": {
          "base_uri": "https://localhost:8080/",
          "height": 534
        },
        "id": "-VVIlMbue3E7",
        "outputId": "dfcb3ed5-7edd-470b-c6bf-aa37e13d6c68"
      },
      "source": [
        "# view 10 samples (grayscale)\r\n",
        "def convert_gs(image, label):\r\n",
        "    return convert_to_grayscale_normalized(image, label, normalize=False)\r\n",
        "    \r\n",
        "gs_ds = train_ds.map(convert_gs)\r\n",
        "\r\n",
        "fig = tfds.show_examples(gs_ds.shuffle(10000).take(10), info)"
      ],
      "execution_count": 15,
      "outputs": [
        {
          "output_type": "display_data",
          "data": {
            "image/png": "[encoded data removed]",
            "text/plain": [
              "<Figure size 648x648 with 9 Axes>"
            ]
          },
          "metadata": {
            "tags": []
          }
        }
      ]
    },
    {
      "cell_type": "markdown",
      "metadata": {
        "id": "d0bfEcOHYIFH"
      },
      "source": [
        "## MLP and CNN Models"
      ]
    },
    {
      "cell_type": "markdown",
      "metadata": {
        "id": "Bg1FFj1whrdx"
      },
      "source": [
        "##### MLP Model Definition"
      ]
    },
    {
      "cell_type": "code",
      "metadata": {
        "id": "yJG9jWkTWZu8"
      },
      "source": [
        "# Multilayer Perceptron Model\r\n",
        "def create_MLP_model(show_summary=True):\r\n",
        "\r\n",
        "    from tensorflow.keras import Sequential \r\n",
        "    from tensorflow.keras.layers import Input, Dense, Flatten\r\n",
        "\r\n",
        "    model = Sequential([\r\n",
        "                Input(shape=(32, 32, 1)),\r\n",
        "                Flatten(),\r\n",
        "                Dense(units=100, activation='relu'),\r\n",
        "                Dense(units=100, activation='relu'),\r\n",
        "                Dense(units=100, activation='relu'),\r\n",
        "                Dense(units=10, activation='softmax'),  # output: 10 class labels\r\n",
        "            ])\r\n",
        "\r\n",
        "    if show_summary:\r\n",
        "        model.summary()\r\n",
        "\r\n",
        "    return model\r\n"
      ],
      "execution_count": 20,
      "outputs": []
    },
    {
      "cell_type": "markdown",
      "metadata": {
        "id": "EhAqBAnSjZU_"
      },
      "source": [
        "##### CNN Model Definition"
      ]
    },
    {
      "cell_type": "code",
      "metadata": {
        "id": "tVc7_JyZ34Rw"
      },
      "source": [
        "# Convolutional Neural Network Model\r\n",
        "def create_CNN_model(show_summary=True):\r\n",
        "\r\n",
        "    from tensorflow.keras import Sequential \r\n",
        "    from tensorflow.keras.layers import Input, Dense, Conv2D, Flatten\r\n",
        "    from tensorflow.keras.layers import MaxPool2D, BatchNormalization, Dropout\r\n",
        "\r\n",
        "    model = Sequential([\r\n",
        "                Input(shape=(32, 32, 1)),\r\n",
        "                Conv2D(filters=32, kernel_size=3, #strides=2,\r\n",
        "                       padding='valid', activation='relu'),\r\n",
        "                MaxPool2D(padding='same', strides=2),\r\n",
        "                BatchNormalization(),\r\n",
        "                Dropout(rate=.25),\r\n",
        "                Conv2D(filters=32, kernel_size=3, #strides=2,\r\n",
        "                       padding='valid', activation='relu'),\r\n",
        "                MaxPool2D(padding='same', strides=2),\r\n",
        "                BatchNormalization(),\r\n",
        "                Dropout(rate=.25),\r\n",
        "                Conv2D(filters=64, kernel_size=3, #strides=2,\r\n",
        "                       padding='valid', activation='relu'),\r\n",
        "                MaxPool2D(padding='same', strides=2),\r\n",
        "                Flatten(),\r\n",
        "                BatchNormalization(),\r\n",
        "                Dense(units=50, activation='relu'),\r\n",
        "                Dense(units=10, activation='softmax'),\r\n",
        "            ])\r\n",
        "\r\n",
        "    if show_summary:\r\n",
        "        model.summary()\r\n",
        "\r\n",
        "    # citation: placing Dropout layers before Conv2D layers\r\n",
        "    # (as opposed to after) based on ideas from preprint\r\n",
        "    # {Effective and Efficient Dropout for Deep Convolutional Neural Networks}.\r\n",
        "    # see bottom of document for BibTex citation info\r\n",
        "\r\n",
        "    return model"
      ],
      "execution_count": 93,
      "outputs": []
    },
    {
      "cell_type": "markdown",
      "metadata": {
        "id": "vnCoQhSQ27NL"
      },
      "source": [
        "##### Define Compile / Fit Framework"
      ]
    },
    {
      "cell_type": "code",
      "metadata": {
        "id": "rwlmRWx-2xHN"
      },
      "source": [
        "# Model production functions\r\n",
        "def compile_model(model):\r\n",
        "\r\n",
        "    from tensorflow.keras.metrics \\\r\n",
        "        import CategoricalCrossentropy, SparseTopKCategoricalAccuracy\r\n",
        "    from tensorflow.keras.losses import SparseCategoricalCrossentropy\r\n",
        "\r\n",
        "    model.compile(optimizer='rmsprop', loss=SparseCategoricalCrossentropy(),\r\n",
        "                metrics=['accuracy', SparseTopKCategoricalAccuracy(k=3)],\r\n",
        "                )\r\n",
        "\r\n",
        "    return None\r\n",
        "\r\n",
        "\r\n",
        "def fit_model(model, train_ds, valid_ds, num_epochs, save_file_name):\r\n",
        "\r\n",
        "    from tensorflow.keras.callbacks import ModelCheckpoint, EarlyStopping\r\n",
        "    \r\n",
        "    filepath = '/content/gdrive/MyDrive/Colab Notebooks/saved_models'\r\n",
        "    checkpoint = ModelCheckpoint(filepath=filepath + '/' + save_file_name,\r\n",
        "                                 save_weights_only=True,\r\n",
        "                                 monitor='val_accuracy',\r\n",
        "                                 mode='max',\r\n",
        "                                 save_best_only=True,\r\n",
        "                )\r\n",
        "\r\n",
        "    early_stopping = EarlyStopping(monitor='val_accuracy', min_delta=.001, \r\n",
        "                                   patience=5, verbose=0,\r\n",
        "                                   )\r\n",
        "\r\n",
        "    history = model.fit(train_ds,\r\n",
        "                        batch_size=128,\r\n",
        "                        epochs=num_epochs,\r\n",
        "                        validation_data=valid_ds,\r\n",
        "                        callbacks=[checkpoint, early_stopping],\r\n",
        "                        )\r\n",
        "\r\n",
        "    return history"
      ],
      "execution_count": 87,
      "outputs": []
    },
    {
      "cell_type": "markdown",
      "metadata": {
        "id": "89gaRd2NhQzW"
      },
      "source": [
        "##### Training: MLP Model"
      ]
    },
    {
      "cell_type": "code",
      "metadata": {
        "colab": {
          "base_uri": "https://localhost:8080/"
        },
        "id": "RZ4fc2nEOH1S",
        "outputId": "f07d146d-a4ea-4dbb-979f-12e1cd206cef"
      },
      "source": [
        "# train MLP Model\r\n",
        "MLP_model = create_MLP_model(show_summary=True)\r\n",
        "compile_model(MLP_model)\r\n",
        "mlp_history = fit_model(MLP_model, train_ds_prepared, validation_ds_prepared,\r\n",
        "                    num_epochs=30, save_file_name='capstone_model_MLP')"
      ],
      "execution_count": 95,
      "outputs": [
        {
          "output_type": "stream",
          "text": [
            "Model: \"sequential_29\"\n",
            "_________________________________________________________________\n",
            "Layer (type)                 Output Shape              Param #   \n",
            "=================================================================\n",
            "flatten_29 (Flatten)         (None, 1024)              0         \n",
            "_________________________________________________________________\n",
            "dense_64 (Dense)             (None, 100)               102500    \n",
            "_________________________________________________________________\n",
            "dense_65 (Dense)             (None, 100)               10100     \n",
            "_________________________________________________________________\n",
            "dense_66 (Dense)             (None, 100)               10100     \n",
            "_________________________________________________________________\n",
            "dense_67 (Dense)             (None, 10)                1010      \n",
            "=================================================================\n",
            "Total params: 123,710\n",
            "Trainable params: 123,710\n",
            "Non-trainable params: 0\n",
            "_________________________________________________________________\n",
            "Epoch 1/30\n",
            "1145/1145 [==============================] - 14s 12ms/step - loss: 2.1923 - accuracy: 0.2031 - sparse_top_k_categorical_accuracy: 0.4641 - val_loss: 1.6881 - val_accuracy: 0.4332 - val_sparse_top_k_categorical_accuracy: 0.7025\n",
            "Epoch 2/30\n",
            "1145/1145 [==============================] - 14s 12ms/step - loss: 1.6574 - accuracy: 0.4298 - sparse_top_k_categorical_accuracy: 0.7020 - val_loss: 1.5442 - val_accuracy: 0.4984 - val_sparse_top_k_categorical_accuracy: 0.7396\n",
            "Epoch 3/30\n",
            "1145/1145 [==============================] - 14s 12ms/step - loss: 1.4108 - accuracy: 0.5328 - sparse_top_k_categorical_accuracy: 0.7759 - val_loss: 1.5284 - val_accuracy: 0.4998 - val_sparse_top_k_categorical_accuracy: 0.7538\n",
            "Epoch 4/30\n",
            "1145/1145 [==============================] - 13s 12ms/step - loss: 1.2965 - accuracy: 0.5767 - sparse_top_k_categorical_accuracy: 0.8054 - val_loss: 1.3557 - val_accuracy: 0.5665 - val_sparse_top_k_categorical_accuracy: 0.7980\n",
            "Epoch 5/30\n",
            "1145/1145 [==============================] - 13s 12ms/step - loss: 1.2291 - accuracy: 0.6021 - sparse_top_k_categorical_accuracy: 0.8200 - val_loss: 1.2656 - val_accuracy: 0.5989 - val_sparse_top_k_categorical_accuracy: 0.8222\n",
            "Epoch 6/30\n",
            "1145/1145 [==============================] - 13s 12ms/step - loss: 1.1780 - accuracy: 0.6201 - sparse_top_k_categorical_accuracy: 0.8337 - val_loss: 1.2742 - val_accuracy: 0.5976 - val_sparse_top_k_categorical_accuracy: 0.8265\n",
            "Epoch 7/30\n",
            "1145/1145 [==============================] - 13s 12ms/step - loss: 1.1278 - accuracy: 0.6424 - sparse_top_k_categorical_accuracy: 0.8451 - val_loss: 1.3432 - val_accuracy: 0.5838 - val_sparse_top_k_categorical_accuracy: 0.8065\n",
            "Epoch 8/30\n",
            "1145/1145 [==============================] - 13s 12ms/step - loss: 1.0902 - accuracy: 0.6560 - sparse_top_k_categorical_accuracy: 0.8513 - val_loss: 1.3125 - val_accuracy: 0.5917 - val_sparse_top_k_categorical_accuracy: 0.8152\n",
            "Epoch 9/30\n",
            "1145/1145 [==============================] - 14s 12ms/step - loss: 1.0535 - accuracy: 0.6705 - sparse_top_k_categorical_accuracy: 0.8599 - val_loss: 1.1281 - val_accuracy: 0.6541 - val_sparse_top_k_categorical_accuracy: 0.8499\n",
            "Epoch 10/30\n",
            "1145/1145 [==============================] - 13s 12ms/step - loss: 1.0385 - accuracy: 0.6755 - sparse_top_k_categorical_accuracy: 0.8621 - val_loss: 1.1031 - val_accuracy: 0.6623 - val_sparse_top_k_categorical_accuracy: 0.8536\n",
            "Epoch 11/30\n",
            "1145/1145 [==============================] - 13s 11ms/step - loss: 1.0263 - accuracy: 0.6787 - sparse_top_k_categorical_accuracy: 0.8639 - val_loss: 1.0842 - val_accuracy: 0.6715 - val_sparse_top_k_categorical_accuracy: 0.8590\n",
            "Epoch 12/30\n",
            "1145/1145 [==============================] - 13s 12ms/step - loss: 1.0104 - accuracy: 0.6822 - sparse_top_k_categorical_accuracy: 0.8676 - val_loss: 1.2509 - val_accuracy: 0.6199 - val_sparse_top_k_categorical_accuracy: 0.8285\n",
            "Epoch 13/30\n",
            "1145/1145 [==============================] - 13s 11ms/step - loss: 0.9993 - accuracy: 0.6843 - sparse_top_k_categorical_accuracy: 0.8687 - val_loss: 1.2990 - val_accuracy: 0.5943 - val_sparse_top_k_categorical_accuracy: 0.8218\n",
            "Epoch 14/30\n",
            "1145/1145 [==============================] - 14s 12ms/step - loss: 0.9896 - accuracy: 0.6893 - sparse_top_k_categorical_accuracy: 0.8704 - val_loss: 1.0942 - val_accuracy: 0.6688 - val_sparse_top_k_categorical_accuracy: 0.8604\n",
            "Epoch 15/30\n",
            "1145/1145 [==============================] - 13s 12ms/step - loss: 0.9852 - accuracy: 0.6917 - sparse_top_k_categorical_accuracy: 0.8711 - val_loss: 1.1489 - val_accuracy: 0.6547 - val_sparse_top_k_categorical_accuracy: 0.8474\n",
            "Epoch 16/30\n",
            "1145/1145 [==============================] - 13s 11ms/step - loss: 0.9758 - accuracy: 0.6944 - sparse_top_k_categorical_accuracy: 0.8734 - val_loss: 1.2743 - val_accuracy: 0.6185 - val_sparse_top_k_categorical_accuracy: 0.8264\n"
          ],
          "name": "stdout"
        }
      ]
    },
    {
      "cell_type": "markdown",
      "metadata": {
        "id": "nz1msVyWiAK8"
      },
      "source": [
        "##### Training: CNN Model"
      ]
    },
    {
      "cell_type": "code",
      "metadata": {
        "id": "yk2mH3Npz_Gh",
        "colab": {
          "base_uri": "https://localhost:8080/"
        },
        "outputId": "9bfcb120-e434-4b78-ffc0-28e41da395a5"
      },
      "source": [
        "# train CNN Model\r\n",
        "CNN_model = create_CNN_model(show_summary=True)\r\n",
        "compile_model(CNN_model)\r\n",
        "cnn_history = fit_model(CNN_model, train_ds_prepared, validation_ds_prepared,\r\n",
        "                    num_epochs=30, save_file_name='capstone_model_CNN')"
      ],
      "execution_count": 94,
      "outputs": [
        {
          "output_type": "stream",
          "text": [
            "Model: \"sequential_28\"\n",
            "_________________________________________________________________\n",
            "Layer (type)                 Output Shape              Param #   \n",
            "=================================================================\n",
            "conv2d_76 (Conv2D)           (None, 30, 30, 32)        320       \n",
            "_________________________________________________________________\n",
            "max_pooling2d_54 (MaxPooling (None, 15, 15, 32)        0         \n",
            "_________________________________________________________________\n",
            "batch_normalization_31 (Batc (None, 15, 15, 32)        128       \n",
            "_________________________________________________________________\n",
            "dropout_27 (Dropout)         (None, 15, 15, 32)        0         \n",
            "_________________________________________________________________\n",
            "conv2d_77 (Conv2D)           (None, 13, 13, 32)        9248      \n",
            "_________________________________________________________________\n",
            "max_pooling2d_55 (MaxPooling (None, 7, 7, 32)          0         \n",
            "_________________________________________________________________\n",
            "batch_normalization_32 (Batc (None, 7, 7, 32)          128       \n",
            "_________________________________________________________________\n",
            "dropout_28 (Dropout)         (None, 7, 7, 32)          0         \n",
            "_________________________________________________________________\n",
            "conv2d_78 (Conv2D)           (None, 5, 5, 64)          18496     \n",
            "_________________________________________________________________\n",
            "max_pooling2d_56 (MaxPooling (None, 3, 3, 64)          0         \n",
            "_________________________________________________________________\n",
            "flatten_28 (Flatten)         (None, 576)               0         \n",
            "_________________________________________________________________\n",
            "batch_normalization_33 (Batc (None, 576)               2304      \n",
            "_________________________________________________________________\n",
            "dense_62 (Dense)             (None, 50)                28850     \n",
            "_________________________________________________________________\n",
            "dense_63 (Dense)             (None, 10)                510       \n",
            "=================================================================\n",
            "Total params: 59,984\n",
            "Trainable params: 58,704\n",
            "Non-trainable params: 1,280\n",
            "_________________________________________________________________\n",
            "Epoch 1/30\n",
            "1145/1145 [==============================] - 17s 14ms/step - loss: 1.2903 - accuracy: 0.5745 - sparse_top_k_categorical_accuracy: 0.7687 - val_loss: 0.4758 - val_accuracy: 0.8547 - val_sparse_top_k_categorical_accuracy: 0.9588\n",
            "Epoch 2/30\n",
            "1145/1145 [==============================] - 16s 14ms/step - loss: 0.4915 - accuracy: 0.8515 - sparse_top_k_categorical_accuracy: 0.9527 - val_loss: 0.4239 - val_accuracy: 0.8715 - val_sparse_top_k_categorical_accuracy: 0.9631\n",
            "Epoch 3/30\n",
            "1145/1145 [==============================] - 16s 14ms/step - loss: 0.4155 - accuracy: 0.8744 - sparse_top_k_categorical_accuracy: 0.9615 - val_loss: 0.3868 - val_accuracy: 0.8878 - val_sparse_top_k_categorical_accuracy: 0.9690\n",
            "Epoch 4/30\n",
            "1145/1145 [==============================] - 16s 14ms/step - loss: 0.3798 - accuracy: 0.8848 - sparse_top_k_categorical_accuracy: 0.9676 - val_loss: 0.3854 - val_accuracy: 0.8874 - val_sparse_top_k_categorical_accuracy: 0.9674\n",
            "Epoch 5/30\n",
            "1145/1145 [==============================] - 16s 14ms/step - loss: 0.3543 - accuracy: 0.8924 - sparse_top_k_categorical_accuracy: 0.9693 - val_loss: 0.3732 - val_accuracy: 0.8914 - val_sparse_top_k_categorical_accuracy: 0.9690\n",
            "Epoch 6/30\n",
            "1145/1145 [==============================] - 16s 14ms/step - loss: 0.3358 - accuracy: 0.8977 - sparse_top_k_categorical_accuracy: 0.9728 - val_loss: 0.3860 - val_accuracy: 0.8853 - val_sparse_top_k_categorical_accuracy: 0.9690\n",
            "Epoch 7/30\n",
            "1145/1145 [==============================] - 16s 14ms/step - loss: 0.3224 - accuracy: 0.9014 - sparse_top_k_categorical_accuracy: 0.9757 - val_loss: 0.3649 - val_accuracy: 0.8941 - val_sparse_top_k_categorical_accuracy: 0.9714\n",
            "Epoch 8/30\n",
            "1145/1145 [==============================] - 16s 14ms/step - loss: 0.3142 - accuracy: 0.9034 - sparse_top_k_categorical_accuracy: 0.9756 - val_loss: 0.3418 - val_accuracy: 0.9043 - val_sparse_top_k_categorical_accuracy: 0.9729\n",
            "Epoch 9/30\n",
            "1145/1145 [==============================] - 16s 14ms/step - loss: 0.3022 - accuracy: 0.9091 - sparse_top_k_categorical_accuracy: 0.9766 - val_loss: 0.3824 - val_accuracy: 0.8874 - val_sparse_top_k_categorical_accuracy: 0.9717\n",
            "Epoch 10/30\n",
            "1145/1145 [==============================] - 16s 14ms/step - loss: 0.2999 - accuracy: 0.9096 - sparse_top_k_categorical_accuracy: 0.9761 - val_loss: 0.3196 - val_accuracy: 0.9114 - val_sparse_top_k_categorical_accuracy: 0.9762\n",
            "Epoch 11/30\n",
            "1145/1145 [==============================] - 16s 14ms/step - loss: 0.2969 - accuracy: 0.9125 - sparse_top_k_categorical_accuracy: 0.9768 - val_loss: 0.3319 - val_accuracy: 0.9047 - val_sparse_top_k_categorical_accuracy: 0.9741\n",
            "Epoch 12/30\n",
            "1145/1145 [==============================] - 16s 14ms/step - loss: 0.2844 - accuracy: 0.9139 - sparse_top_k_categorical_accuracy: 0.9781 - val_loss: 0.3253 - val_accuracy: 0.9123 - val_sparse_top_k_categorical_accuracy: 0.9743\n",
            "Epoch 13/30\n",
            "1145/1145 [==============================] - 16s 14ms/step - loss: 0.2850 - accuracy: 0.9156 - sparse_top_k_categorical_accuracy: 0.9790 - val_loss: 0.3451 - val_accuracy: 0.9043 - val_sparse_top_k_categorical_accuracy: 0.9744\n",
            "Epoch 14/30\n",
            "1145/1145 [==============================] - 16s 14ms/step - loss: 0.2776 - accuracy: 0.9179 - sparse_top_k_categorical_accuracy: 0.9793 - val_loss: 0.3106 - val_accuracy: 0.9140 - val_sparse_top_k_categorical_accuracy: 0.9776\n",
            "Epoch 15/30\n",
            "1145/1145 [==============================] - 16s 14ms/step - loss: 0.2734 - accuracy: 0.9178 - sparse_top_k_categorical_accuracy: 0.9792 - val_loss: 0.3736 - val_accuracy: 0.8916 - val_sparse_top_k_categorical_accuracy: 0.9697\n",
            "Epoch 16/30\n",
            "1145/1145 [==============================] - 16s 14ms/step - loss: 0.2719 - accuracy: 0.9192 - sparse_top_k_categorical_accuracy: 0.9804 - val_loss: 0.3274 - val_accuracy: 0.9073 - val_sparse_top_k_categorical_accuracy: 0.9733\n",
            "Epoch 17/30\n",
            "1145/1145 [==============================] - 16s 13ms/step - loss: 0.2642 - accuracy: 0.9202 - sparse_top_k_categorical_accuracy: 0.9813 - val_loss: 0.3336 - val_accuracy: 0.9121 - val_sparse_top_k_categorical_accuracy: 0.9747\n",
            "Epoch 18/30\n",
            "1145/1145 [==============================] - 16s 13ms/step - loss: 0.2683 - accuracy: 0.9193 - sparse_top_k_categorical_accuracy: 0.9814 - val_loss: 0.3273 - val_accuracy: 0.9136 - val_sparse_top_k_categorical_accuracy: 0.9762\n",
            "Epoch 19/30\n",
            "1145/1145 [==============================] - 16s 14ms/step - loss: 0.2609 - accuracy: 0.9216 - sparse_top_k_categorical_accuracy: 0.9827 - val_loss: 0.3176 - val_accuracy: 0.9156 - val_sparse_top_k_categorical_accuracy: 0.9762\n",
            "Epoch 20/30\n",
            "1145/1145 [==============================] - 16s 14ms/step - loss: 0.2554 - accuracy: 0.9236 - sparse_top_k_categorical_accuracy: 0.9829 - val_loss: 0.3469 - val_accuracy: 0.9045 - val_sparse_top_k_categorical_accuracy: 0.9724\n",
            "Epoch 21/30\n",
            "1145/1145 [==============================] - 16s 14ms/step - loss: 0.2564 - accuracy: 0.9222 - sparse_top_k_categorical_accuracy: 0.9825 - val_loss: 0.3391 - val_accuracy: 0.9073 - val_sparse_top_k_categorical_accuracy: 0.9759\n",
            "Epoch 22/30\n",
            "1145/1145 [==============================] - 16s 14ms/step - loss: 0.2515 - accuracy: 0.9254 - sparse_top_k_categorical_accuracy: 0.9829 - val_loss: 0.3661 - val_accuracy: 0.8946 - val_sparse_top_k_categorical_accuracy: 0.9698\n",
            "Epoch 23/30\n",
            "1145/1145 [==============================] - 16s 14ms/step - loss: 0.2500 - accuracy: 0.9249 - sparse_top_k_categorical_accuracy: 0.9835 - val_loss: 0.3354 - val_accuracy: 0.9123 - val_sparse_top_k_categorical_accuracy: 0.9766\n",
            "Epoch 24/30\n",
            "1145/1145 [==============================] - 16s 14ms/step - loss: 0.2546 - accuracy: 0.9230 - sparse_top_k_categorical_accuracy: 0.9820 - val_loss: 0.3314 - val_accuracy: 0.9131 - val_sparse_top_k_categorical_accuracy: 0.9766\n"
          ],
          "name": "stdout"
        }
      ]
    },
    {
      "cell_type": "markdown",
      "metadata": {
        "id": "oiUJGYQIiJL6"
      },
      "source": [
        "## Evaluate Performance"
      ]
    },
    {
      "cell_type": "markdown",
      "metadata": {
        "id": "n2y8JMovjkxj"
      },
      "source": [
        "##### Overview"
      ]
    },
    {
      "cell_type": "markdown",
      "metadata": {
        "id": "0PuqcRra94Jy"
      },
      "source": [
        "The CNN achieves substantially better results (91.17%) on the test set than MLP (61.02%)"
      ]
    },
    {
      "cell_type": "code",
      "metadata": {
        "id": "8yUPWbFCz_G8",
        "colab": {
          "base_uri": "https://localhost:8080/"
        },
        "outputId": "3e6a6b81-e5ad-4217-ea03-30b69b6af6d9"
      },
      "source": [
        "# MLP Model Accuracy\r\n",
        "MLP_model.evaluate(test_ds_prepared)"
      ],
      "execution_count": 97,
      "outputs": [
        {
          "output_type": "stream",
          "text": [
            "204/204 [==============================] - 2s 10ms/step - loss: 1.3165 - accuracy: 0.6102 - sparse_top_k_categorical_accuracy: 0.8152\n"
          ],
          "name": "stdout"
        },
        {
          "output_type": "execute_result",
          "data": {
            "text/plain": [
              "[1.3165003061294556, 0.6102489233016968, 0.8152273893356323]"
            ]
          },
          "metadata": {
            "tags": []
          },
          "execution_count": 97
        }
      ]
    },
    {
      "cell_type": "code",
      "metadata": {
        "id": "XMYYWs0oz_G5",
        "colab": {
          "base_uri": "https://localhost:8080/"
        },
        "outputId": "d0e76d53-c43f-46ca-b7b1-3be14630ea5f"
      },
      "source": [
        "# CNN Model Accuracy\r\n",
        "CNN_model.evaluate(test_ds_prepared)"
      ],
      "execution_count": 98,
      "outputs": [
        {
          "output_type": "stream",
          "text": [
            "204/204 [==============================] - 2s 11ms/step - loss: 0.3464 - accuracy: 0.9117 - sparse_top_k_categorical_accuracy: 0.9753\n"
          ],
          "name": "stdout"
        },
        {
          "output_type": "execute_result",
          "data": {
            "text/plain": [
              "[0.346358984708786, 0.9117240309715271, 0.9752612113952637]"
            ]
          },
          "metadata": {
            "tags": []
          },
          "execution_count": 98
        }
      ]
    },
    {
      "cell_type": "markdown",
      "metadata": {
        "id": "XXLY-RBSiSwM"
      },
      "source": [
        "##### MLP Training Progress"
      ]
    },
    {
      "cell_type": "code",
      "metadata": {
        "colab": {
          "base_uri": "https://localhost:8080/",
          "height": 538
        },
        "id": "jlAmPYPec5Fy",
        "outputId": "5a7724c4-cc2e-41ff-fb9f-a4789caa1e60"
      },
      "source": [
        "pd.DataFrame(mlp_history.history).plot(\r\n",
        "    title='MLP Model: Performance Throughout Training',\r\n",
        "    xlabel='epoch',\r\n",
        "    ylabel='rate',\r\n",
        "    subplots=True,\r\n",
        "    sharex=True,\r\n",
        "    grid=True,\r\n",
        "    layout=(2, 3),\r\n",
        "    figsize=(15,6)\r\n",
        ")"
      ],
      "execution_count": 99,
      "outputs": [
        {
          "output_type": "execute_result",
          "data": {
            "text/plain": [
              "array([[<matplotlib.axes._subplots.AxesSubplot object at 0x7fc3b51efc50>,\n",
              "        <matplotlib.axes._subplots.AxesSubplot object at 0x7fc3bf0d5c88>,\n",
              "        <matplotlib.axes._subplots.AxesSubplot object at 0x7fc3bf5028d0>],\n",
              "       [<matplotlib.axes._subplots.AxesSubplot object at 0x7fc3b51c77b8>,\n",
              "        <matplotlib.axes._subplots.AxesSubplot object at 0x7fc420356940>,\n",
              "        <matplotlib.axes._subplots.AxesSubplot object at 0x7fc3c61257f0>]],\n",
              "      dtype=object)"
            ]
          },
          "metadata": {
            "tags": []
          },
          "execution_count": 99
        },
        {
          "output_type": "display_data",
          "data": {
            "image/png": "[encoded data removed]",
            "text/plain": [
              "<Figure size 1080x432 with 6 Axes>"
            ]
          },
          "metadata": {
            "tags": [],
            "needs_background": "light"
          }
        }
      ]
    },
    {
      "cell_type": "markdown",
      "metadata": {
        "id": "ROF7FqmLidvC"
      },
      "source": [
        "##### CNN Training Performance"
      ]
    },
    {
      "cell_type": "code",
      "metadata": {
        "colab": {
          "base_uri": "https://localhost:8080/",
          "height": 533
        },
        "id": "QwD5kAUSfwA2",
        "outputId": "c1f193e3-fe85-43e0-c15d-89a2fb3ddc9b"
      },
      "source": [
        "pd.DataFrame(cnn_history.history).plot(\r\n",
        "    title='CNN Model: Performance Throughout Training',\r\n",
        "    xlabel='epoch',\r\n",
        "    ylabel='rate',\r\n",
        "    subplots=True,\r\n",
        "    sharex=True,\r\n",
        "    grid=True,\r\n",
        "    layout=(2, 3),\r\n",
        "    figsize=(15,6)\r\n",
        ")"
      ],
      "execution_count": 100,
      "outputs": [
        {
          "output_type": "execute_result",
          "data": {
            "text/plain": [
              "array([[<matplotlib.axes._subplots.AxesSubplot object at 0x7fc3b20090b8>,\n",
              "        <matplotlib.axes._subplots.AxesSubplot object at 0x7fc3bfeb6ef0>,\n",
              "        <matplotlib.axes._subplots.AxesSubplot object at 0x7fc3b52d6e80>],\n",
              "       [<matplotlib.axes._subplots.AxesSubplot object at 0x7fc3be04ecc0>,\n",
              "        <matplotlib.axes._subplots.AxesSubplot object at 0x7fc3be251f28>,\n",
              "        <matplotlib.axes._subplots.AxesSubplot object at 0x7fc3be26c6a0>]],\n",
              "      dtype=object)"
            ]
          },
          "metadata": {
            "tags": []
          },
          "execution_count": 100
        },
        {
          "output_type": "display_data",
          "data": {
            "image/png": "[encoded data removed]",
            "text/plain": [
              "<Figure size 1080x432 with 6 Axes>"
            ]
          },
          "metadata": {
            "tags": [],
            "needs_background": "light"
          }
        }
      ]
    },
    {
      "cell_type": "markdown",
      "metadata": {
        "id": "3iBYFPWUz_G4"
      },
      "source": [
        "## Examine model predictions\n",
        "View predictions from several samples"
      ]
    },
    {
      "cell_type": "markdown",
      "metadata": {
        "id": "X2vSII2Jl6M-"
      },
      "source": [
        "##### Load model (if needed)"
      ]
    },
    {
      "cell_type": "code",
      "metadata": {
        "colab": {
          "base_uri": "https://localhost:8080/"
        },
        "id": "irZWDkFXL8Rx",
        "outputId": "b003a258-a340-4159-d43e-4027d36078fa"
      },
      "source": [
        "# (If needed:) Reinitialize model and load saved weights\r\n",
        "CNN_model = create_CNN_model(show_summary=False)\r\n",
        "compile_model(CNN_model)\r\n",
        "MLP_model = create_MLP_model(show_summary=False)\r\n",
        "compile_model(MLP_model)\r\n",
        "\r\n",
        "filepath = '/content/gdrive/MyDrive/Colab Notebooks/saved_models'\r\n",
        "CNN_model.load_weights(filepath + '/capstone_model_CNN')\r\n",
        "MLP_model.load_weights(filepath + '/capstone_model_MLP')"
      ],
      "execution_count": 101,
      "outputs": [
        {
          "output_type": "execute_result",
          "data": {
            "text/plain": [
              "<tensorflow.python.training.tracking.util.CheckpointLoadStatus at 0x7fc3b4d417b8>"
            ]
          },
          "metadata": {
            "tags": []
          },
          "execution_count": 101
        }
      ]
    },
    {
      "cell_type": "markdown",
      "metadata": {
        "id": "yji3E1K1mABn"
      },
      "source": [
        "##### Select data points"
      ]
    },
    {
      "cell_type": "code",
      "metadata": {
        "id": "W48syko0z_G-"
      },
      "source": [
        "# Examine predictions from a small subsample:\r\n",
        "# get 5 samples\r\n",
        "small_test_sample = test_ds.take(5)\r\n",
        "small_test_sample_prepared = prep_data(small_test_sample, shuffle=False)\r\n",
        "\r\n",
        "# make model predictions\r\n",
        "MLP_predictions = pd.DataFrame(MLP_model.predict(small_test_sample_prepared))\r\n",
        "CNN_predictions = pd.DataFrame(CNN_model.predict(small_test_sample_prepared))"
      ],
      "execution_count": 102,
      "outputs": []
    },
    {
      "cell_type": "code",
      "metadata": {
        "id": "Jmj6hLX4j0V5"
      },
      "source": [
        "# unpack images for display\r\n",
        "i = -1\r\n",
        "sample_images = dict()\r\n",
        "for image, info in small_test_sample:\r\n",
        "    i+=1\r\n",
        "    sample_images[f'image {i}'] = PIL.Image.fromarray(image.numpy()[:,:,0])\r\n",
        "    sample_images[f'info {i}'] = info"
      ],
      "execution_count": 103,
      "outputs": []
    },
    {
      "cell_type": "code",
      "metadata": {
        "id": "d-l2n1tYmBqj"
      },
      "source": [
        "# helper function for comparing MLP and CNN predictions to actual value\r\n",
        "def compare_predictions(image_num, mlp, cnn):\r\n",
        "\r\n",
        "    # display image\r\n",
        "    display(sample_images[f'image {image_num}'])\r\n",
        "\r\n",
        "    # create dummy data to show actual value\r\n",
        "    correct = np.zeros(10)\r\n",
        "    correct[sample_images[f'info {image_num}'].numpy()] = np.log(2)\r\n",
        "\r\n",
        "    # create dataframe with CNN, MLP and actual values\r\n",
        "    temp_df = pd.DataFrame({'CNN': np.log(1+cnn.iloc[image_num]),\r\n",
        "                            'MLP': np.log(1+mlp.iloc[image_num]),\r\n",
        "                            'Actual': correct})\r\n",
        "    \r\n",
        "    # create bar plot\r\n",
        "    ax = temp_df.plot.bar()\r\n",
        "    ax.set_title(\"Model Comparisons\")\r\n",
        "    ax.set_xlabel('Predictions')\r\n",
        "    ax.set_ylabel('Probability (1 + log x)')\r\n",
        "    plt.plot\r\n",
        "\r\n",
        "    return ax"
      ],
      "execution_count": 104,
      "outputs": []
    },
    {
      "cell_type": "markdown",
      "metadata": {
        "id": "brkxvTKYmLxZ"
      },
      "source": [
        "##### Show prediction comparisons for each of the 5 samples"
      ]
    },
    {
      "cell_type": "code",
      "metadata": {
        "colab": {
          "base_uri": "https://localhost:8080/",
          "height": 342
        },
        "id": "hrVIR85mKPHt",
        "outputId": "edefbcd5-3954-4ebc-ea8e-57dfb6c7f3ff"
      },
      "source": [
        "compare_predictions(image_num=0, mlp=MLP_predictions, cnn=CNN_predictions)"
      ],
      "execution_count": 105,
      "outputs": [
        {
          "output_type": "display_data",
          "data": {
            "image/png": "[encoded data removed]",
            "text/plain": [
              "<PIL.Image.Image image mode=L size=32x32 at 0x7FC3B4D59748>"
            ]
          },
          "metadata": {
            "tags": []
          }
        },
        {
          "output_type": "execute_result",
          "data": {
            "text/plain": [
              "<matplotlib.axes._subplots.AxesSubplot at 0x7fc3b43f5828>"
            ]
          },
          "metadata": {
            "tags": []
          },
          "execution_count": 105
        },
        {
          "output_type": "display_data",
          "data": {
            "image/png": "[encoded data removed]",
            "text/plain": [
              "<Figure size 432x288 with 1 Axes>"
            ]
          },
          "metadata": {
            "tags": [],
            "needs_background": "light"
          }
        }
      ]
    },
    {
      "cell_type": "code",
      "metadata": {
        "colab": {
          "base_uri": "https://localhost:8080/",
          "height": 342
        },
        "id": "KuOA2oPMQpkG",
        "outputId": "9d25fbd9-60ee-4e64-e46f-b2077ccd520c"
      },
      "source": [
        "compare_predictions(image_num=1, mlp=MLP_predictions, cnn=CNN_predictions)"
      ],
      "execution_count": 106,
      "outputs": [
        {
          "output_type": "display_data",
          "data": {
            "image/png": "[encoded data removed]",
            "text/plain": [
              "<PIL.Image.Image image mode=L size=32x32 at 0x7FC3B4D59F28>"
            ]
          },
          "metadata": {
            "tags": []
          }
        },
        {
          "output_type": "execute_result",
          "data": {
            "text/plain": [
              "<matplotlib.axes._subplots.AxesSubplot at 0x7fc3b41ea278>"
            ]
          },
          "metadata": {
            "tags": []
          },
          "execution_count": 106
        },
        {
          "output_type": "display_data",
          "data": {
            "image/png": "[encoded data removed]",
            "text/plain": [
              "<Figure size 432x288 with 1 Axes>"
            ]
          },
          "metadata": {
            "tags": [],
            "needs_background": "light"
          }
        }
      ]
    },
    {
      "cell_type": "code",
      "metadata": {
        "colab": {
          "base_uri": "https://localhost:8080/",
          "height": 342
        },
        "id": "SPdfwgelQrVs",
        "outputId": "87e11193-2d30-4105-c999-48d0c619af71"
      },
      "source": [
        "compare_predictions(image_num=2, mlp=MLP_predictions, cnn=CNN_predictions)"
      ],
      "execution_count": 107,
      "outputs": [
        {
          "output_type": "display_data",
          "data": {
            "image/png": "[encoded data removed]",
            "text/plain": [
              "<PIL.Image.Image image mode=L size=32x32 at 0x7FC3B4D5FE80>"
            ]
          },
          "metadata": {
            "tags": []
          }
        },
        {
          "output_type": "execute_result",
          "data": {
            "text/plain": [
              "<matplotlib.axes._subplots.AxesSubplot at 0x7fc3bfe15da0>"
            ]
          },
          "metadata": {
            "tags": []
          },
          "execution_count": 107
        },
        {
          "output_type": "display_data",
          "data": {
            "image/png": "[encoded data removed]",
            "text/plain": [
              "<Figure size 432x288 with 1 Axes>"
            ]
          },
          "metadata": {
            "tags": [],
            "needs_background": "light"
          }
        }
      ]
    },
    {
      "cell_type": "code",
      "metadata": {
        "colab": {
          "base_uri": "https://localhost:8080/",
          "height": 342
        },
        "id": "L15dsurVQtdz",
        "outputId": "07150803-fd2f-488b-e0f4-d04a64360072"
      },
      "source": [
        "compare_predictions(image_num=3, mlp=MLP_predictions, cnn=CNN_predictions)"
      ],
      "execution_count": 108,
      "outputs": [
        {
          "output_type": "display_data",
          "data": {
            "image/png": "[encoded data removed]",
            "text/plain": [
              "<PIL.Image.Image image mode=L size=32x32 at 0x7FC3B4D5F710>"
            ]
          },
          "metadata": {
            "tags": []
          }
        },
        {
          "output_type": "execute_result",
          "data": {
            "text/plain": [
              "<matplotlib.axes._subplots.AxesSubplot at 0x7fc3b4d490f0>"
            ]
          },
          "metadata": {
            "tags": []
          },
          "execution_count": 108
        },
        {
          "output_type": "display_data",
          "data": {
            "image/png": "[encoded data removed]",
            "text/plain": [
              "<Figure size 432x288 with 1 Axes>"
            ]
          },
          "metadata": {
            "tags": [],
            "needs_background": "light"
          }
        }
      ]
    },
    {
      "cell_type": "code",
      "metadata": {
        "colab": {
          "base_uri": "https://localhost:8080/",
          "height": 342
        },
        "id": "gFPNppFSQwNH",
        "outputId": "931e82af-7923-41d4-c88b-ac21e96493bf"
      },
      "source": [
        "compare_predictions(image_num=4, mlp=MLP_predictions, cnn=CNN_predictions)"
      ],
      "execution_count": 109,
      "outputs": [
        {
          "output_type": "display_data",
          "data": {
            "image/png": "[encoded data removed]",
            "text/plain": [
              "<PIL.Image.Image image mode=L size=32x32 at 0x7FC3B4D5F908>"
            ]
          },
          "metadata": {
            "tags": []
          }
        },
        {
          "output_type": "execute_result",
          "data": {
            "text/plain": [
              "<matplotlib.axes._subplots.AxesSubplot at 0x7fc3bec1c4a8>"
            ]
          },
          "metadata": {
            "tags": []
          },
          "execution_count": 109
        },
        {
          "output_type": "display_data",
          "data": {
            "image/png": "[encoded data removed]",
            "text/plain": [
              "<Figure size 432x288 with 1 Axes>"
            ]
          },
          "metadata": {
            "tags": [],
            "needs_background": "light"
          }
        }
      ]
    },
    {
      "cell_type": "markdown",
      "metadata": {
        "id": "Anx93x8PmQ09"
      },
      "source": [
        "#### Works Cited"
      ]
    },
    {
      "cell_type": "code",
      "metadata": {
        "id": "pi-UCm8-ybSP"
      },
      "source": [
        "# Dataset Created by:\r\n",
        "\r\n",
        "# @article{Netzer2011,\r\n",
        "# author = {Netzer, Yuval and Wang, Tao and Coates, Adam and Bissacco, Alessandro and Wu, Bo and Ng, Andrew Y},\r\n",
        "# booktitle = {Advances in Neural Information Processing Systems ({NIPS})},\r\n",
        "# title = {Reading Digits in Natural Images with Unsupervised Feature Learning},\r\n",
        "# year = {2011}\r\n",
        "# }"
      ],
      "execution_count": 110,
      "outputs": []
    },
    {
      "cell_type": "code",
      "metadata": {
        "id": "ZDfdzQxa82Z7"
      },
      "source": [
        "# Ideas for CNN Architecture influenced by:\r\n",
        "\r\n",
        "# @article{DBLP:journals/corr/abs-1904-03392,\r\n",
        "#  author    = {Shaofeng Cai and\r\n",
        "#               Jinyang Gao and\r\n",
        "#               Meihui Zhang and\r\n",
        "#               Wei Wang and\r\n",
        "#               Gang Chen and\r\n",
        "#               Beng Chin Ooi},\r\n",
        "#  title     = {Effective and Efficient Dropout for Deep Convolutional Neural Networks},\r\n",
        "#  journal   = {CoRR},\r\n",
        "#  volume    = {abs/1904.03392},\r\n",
        "#  year      = {2019},\r\n",
        "#  url       = {http://arxiv.org/abs/1904.03392},\r\n",
        "#  archivePrefix = {arXiv},\r\n",
        "#  eprint    = {1904.03392},\r\n",
        "#  timestamp = {Mon, 09 Dec 2019 15:43:45 +0100},\r\n",
        "#  biburl    = {https://dblp.org/rec/journals/corr/abs-1904-03392.bib},\r\n",
        "#  bibsource = {dblp computer science bibliography, https://dblp.org}\r\n",
        "#}"
      ],
      "execution_count": 111,
      "outputs": []
    }
  ]
}